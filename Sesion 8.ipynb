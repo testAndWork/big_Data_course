{
 "cells": [
  {
   "cell_type": "markdown",
   "id": "9c8c537c",
   "metadata": {},
   "source": [
    "# <span style=\"color:darkblue\">Módulo 1 - Introducción a la programación con Python </span>\n",
    "\n",
    "## <span style=\"color:darkblue\">Sesión 8 - Funciones en Python</span>\n",
    "\n",
    "### <span style=\"color:darkblue\">Duración estimada:\t3 horas</span>\n"
   ]
  },
  {
   "cell_type": "markdown",
   "id": "42a8be22",
   "metadata": {},
   "source": [
    "## <span style=\"color:darkblue\"> Tabla de contenidos:</span>\n",
    " \n",
    "    1- Bienvenida\n",
    "    \n",
    "    2- Asistencia\n",
    "    \n",
    "    3- Dudas de la Clase anterior\n",
    "    \n",
    "    4- Control de Lectura\n",
    "    \n",
    "    5- Objetivo\n",
    "    \n",
    "    6- Introducción\n",
    "    \n",
    "    7- Aprendamos\n",
    "\n",
    "    8- Crear una función\n",
    "    \n",
    "    9- Llamar a una función\t\n",
    "    \n",
    "    10- Argumentos\t\n",
    "    \n",
    "    11- Argumentos arbitrarios, *args\t\n",
    "    \n",
    "    12- Argumentos de palabras clave\t\n",
    "    \n",
    "    13- Argumentos de palabras clave arbitrarias, **kwargs\t\n",
    "    \n",
    "    14- Valor de parámetro predeterminado\t\n",
    "    \n",
    "    15- Valores devueltos\t\n",
    "    \n",
    "    16- La declaración de pase\t\n",
    "    \n",
    "    17- Recursividad\t\n",
    "    \n",
    "    18- Lambda en Python\t\n",
    "    \n",
    "    20- ¿Por qué utilizar las funciones de Lambda?\t\n",
    "    \n",
    "    21- Aplicando Conocimientos\t\n",
    "\n",
    "    22- Retroalimentación\n",
    "    \n",
    "    23- Asistencia\n"
   ]
  },
  {
   "cell_type": "markdown",
   "id": "51ae1b4d",
   "metadata": {},
   "source": [
    "## <span style=\"color:darkred\">Objetivo:</span>\n",
    "\n",
    "Comprender como se encapsula un conjunto de instrucciones en una unidad de código reutilizable y modular que puede ser invocada desde cualquier parte de un programa.\n",
    "\n",
    "### <span style=\"color:darkred\">Recursos</span>\n",
    "\n",
    "•\tSesión 8 de Curso de Python\n",
    "\n",
    "•\tComputadora con Python instalado\n",
    "\n",
    "•\tVisual Studio Code instalado\n",
    "\n",
    "\n",
    "\n",
    "\n",
    "### <span style=\"color:darkred\">Introducción:</span>\n",
    "\n",
    "Las funciones en Python permiten definir un bloque de código que se puede ejecutar en cualquier momento del programa simplemente llamando a la función por su nombre. Esto es útil porque:\n",
    "\n",
    "**•\tEvita la repetición de código:** Si se necesita realizar una tarea en varias partes de un programa, en lugar de escribir el mismo código varias veces, se puede definir una función que realice esa tarea y llamarla cada vez que se necesite.\n",
    "\n",
    "**•\tFacilita la comprensión y el mantenimiento del código:** Las funciones permiten dividir un programa complejo en partes más pequeñas y manejables, cada una con su propia responsabilidad. Esto hace que el código sea más fácil de entender, mantener y modificar en el futuro.\n",
    "\n",
    "**•\tPromueve la reutilización de código:** Las funciones se pueden usar en diferentes programas y proyectos, lo que ayuda a reducir el tiempo de desarrollo y mejorar la eficiencia.\n",
    "\n",
    "**•\tMejora la legibilidad del código:** Al utilizar funciones, el código se puede escribir de una manera más clara y concisa, lo que lo hace más fácil de leer y entender para otros programadores.\n",
    "\n",
    "\n",
    "### <span style=\"color:darkred\">Aprendamos </span>\n",
    "\n",
    "Una función es un bloque de código que solo se ejecuta cuando se le llama. Puede pasar datos, conocidos como parámetros, a una función. Una función puede devolver datos como resultado."
   ]
  },
  {
   "cell_type": "markdown",
   "id": "dae5ab9c",
   "metadata": {},
   "source": [
    "## <span style=\"color:darkred\">Crear una función</span>\n",
    "\n",
    "Las funciones son bloques de código reutilizable en Python que realizan una tarea específica. \n",
    "\n",
    "Permiten agrupar una serie de instrucciones en una única unidad lógica que puede ser invocada en cualquier lugar del programa. \n",
    "\n",
    "\n",
    "Las funciones son esenciales en la programación ya que promueven la modularidad y la reutilización de código, lo que facilita el mantenimiento y la organización del programa.\n",
    "\n",
    "Para definir una función en Python, se utiliza la palabra clave def, seguida del nombre de la función y paréntesis que pueden contener parámetros. Aquí tienes un ejemplo básico de una función:\n",
    "\n",
    "En Python, una función se define usando la palabra clave `def`:"
   ]
  },
  {
   "cell_type": "code",
   "execution_count": 1,
   "id": "48b078a7",
   "metadata": {},
   "outputs": [],
   "source": [
    "def my_function():\n",
    "    print('Hola MUndo!!')"
   ]
  },
  {
   "cell_type": "markdown",
   "id": "21c3cfa1",
   "metadata": {},
   "source": [
    "### <span style=\"color:darkred\">Llamar a una función</span>\n",
    "\n",
    "Para llamar a una función, use el nombre de la función seguido de paréntesis:"
   ]
  },
  {
   "cell_type": "code",
   "execution_count": 2,
   "id": "5e841b24",
   "metadata": {},
   "outputs": [
    {
     "name": "stdout",
     "output_type": "stream",
     "text": [
      "Hola MUndo!!\n"
     ]
    }
   ],
   "source": [
    "my_function()"
   ]
  },
  {
   "cell_type": "code",
   "execution_count": 4,
   "id": "f9c4a436",
   "metadata": {},
   "outputs": [
    {
     "name": "stdout",
     "output_type": "stream",
     "text": [
      "Saludos como han estado!!\n",
      "Saludos como han estado!!\n",
      "None\n"
     ]
    }
   ],
   "source": [
    "def saludar():\n",
    "    print('Saludos como han estado!!')\n",
    "\n",
    "saludar()\n",
    "\n",
    "print(saludar())"
   ]
  },
  {
   "cell_type": "markdown",
   "id": "76037a41",
   "metadata": {},
   "source": [
    "### <span style=\"color:darkred\">Argumentos</span>\n",
    "\n",
    "La información se puede pasar a funciones como argumentos.\n",
    "Los argumentos se especifican después del nombre de la función, entre paréntesis. Puede agregar tantos argumentos como desee, simplemente sepárelos con una coma.\n",
    "\n",
    "El siguiente ejemplo tiene una función con un argumento (fname). Cuando se llama a la función, pasamos un nombre, que se usa dentro de la función para imprimir el nombre completo:"
   ]
  },
  {
   "cell_type": "code",
   "execution_count": 5,
   "id": "e2f7f2c7",
   "metadata": {},
   "outputs": [
    {
     "name": "stdout",
     "output_type": "stream",
     "text": [
      "HOla buenos días John !!!!\n"
     ]
    }
   ],
   "source": [
    "def saludar(name):\n",
    "    print('HOla buenos días',name, '!!!!')\n",
    "\n",
    "saludar('John')"
   ]
  },
  {
   "cell_type": "code",
   "execution_count": 8,
   "id": "92042de2",
   "metadata": {},
   "outputs": [
    {
     "name": "stdout",
     "output_type": "stream",
     "text": [
      "La suma es:  7\n"
     ]
    }
   ],
   "source": [
    "def sumar(x, y):\n",
    "    suma = x + y\n",
    "    return suma\n",
    "\n",
    "result = sumar(3,4)\n",
    "\n",
    "print('La suma es: ', result)"
   ]
  },
  {
   "cell_type": "code",
   "execution_count": 14,
   "id": "59ecc07b",
   "metadata": {},
   "outputs": [
    {
     "name": "stdout",
     "output_type": "stream",
     "text": [
      "La suma es:  7\n"
     ]
    }
   ],
   "source": [
    "def sumar(x, y):\n",
    "    return x + y\n",
    "\n",
    "result_int = sumar(3,4)\n",
    "\n",
    "print('La suma es: ', result_int)"
   ]
  },
  {
   "cell_type": "code",
   "execution_count": 15,
   "id": "2e17bc3c",
   "metadata": {},
   "outputs": [
    {
     "data": {
      "text/plain": [
       "35.56536"
      ]
     },
     "execution_count": 15,
     "metadata": {},
     "output_type": "execute_result"
    }
   ],
   "source": [
    "result_float = sumar(10.2,25.36536)\n",
    "result_float"
   ]
  },
  {
   "cell_type": "code",
   "execution_count": 16,
   "id": "0c586c61",
   "metadata": {},
   "outputs": [
    {
     "data": {
      "text/plain": [
       "(1+3j)"
      ]
     },
     "execution_count": 16,
     "metadata": {},
     "output_type": "execute_result"
    }
   ],
   "source": [
    "result_complex = sumar(1+1j,2j)\n",
    "result_complex"
   ]
  },
  {
   "cell_type": "code",
   "execution_count": 18,
   "id": "6ea8e3fe",
   "metadata": {},
   "outputs": [
    {
     "name": "stdout",
     "output_type": "stream",
     "text": [
      "Digite el valor 1 4\n",
      "Digite el valor 2 5.0\n"
     ]
    },
    {
     "data": {
      "text/plain": [
       "9.0"
      ]
     },
     "execution_count": 18,
     "metadata": {},
     "output_type": "execute_result"
    }
   ],
   "source": [
    "a = int(input('Digite el valor 1 '))\n",
    "b = float(input('Digite el valor 2 '))\n",
    "result_mix = sumar(a,b)\n",
    "result_mix"
   ]
  },
  {
   "cell_type": "markdown",
   "id": "59655985",
   "metadata": {},
   "source": [
    "Los argumentos a menudo se reducen a `args` en la documentación de Python."
   ]
  },
  {
   "cell_type": "markdown",
   "id": "76faa5e7",
   "metadata": {},
   "source": [
    "### <span style=\"color:darkred\">¿Parámetros o argumentos?</span>\n",
    "\n",
    "Los términos parámetro y argumento se pueden usar para lo mismo: información que se pasa a una función.\n",
    "\n",
    "Desde la perspectiva de una función:\n",
    "\n",
    "**Un parámetro** es la variable que aparece entre paréntesis en la definición de la función.\n",
    "\n",
    "**Un argumento** es el valor que se envía a la función cuando se llama.\n",
    "\n",
    "\n",
    "### Parámetros:\n",
    "\n",
    "    Los parámetros son nombres de variables que se definen en la declaración de una función.\n",
    "    \n",
    "    Actúan como marcadores de posición para los valores que se pasarán a la función cuando sea llamada.\n",
    "    \n",
    "    Los parámetros se definen dentro de los paréntesis en la declaración de la función.\n",
    "    \n",
    "    Pueden ser considerados como las \"expectativas\" de la función sobre los valores que necesita para operar.\n",
    "    \n",
    "### Argumentos:\n",
    "\n",
    "    Los argumentos son los valores reales que se pasan a la función cuando esta es llamada.\n",
    "    \n",
    "    Los argumentos se colocan entre los paréntesis cuando se llama a la función.\n",
    "    \n",
    "    Los argumentos son los datos concretos que se utilizan para completar los parámetros de la función.\n",
    "    \n",
    "\n",
    "### <span style=\"color:darkred\">Número de argumentos</span>\n",
    "\n",
    "Por defecto, una función debe llamarse con el número correcto de argumentos. Lo que significa que, si su función espera 2 argumentos, debe llamar a la función con 2 argumentos, ni más ni menos."
   ]
  },
  {
   "cell_type": "code",
   "execution_count": 20,
   "id": "3f42dabe",
   "metadata": {},
   "outputs": [
    {
     "name": "stdout",
     "output_type": "stream",
     "text": [
      "Digite el valor 1 3\n",
      "Digite el valor 2 4\n"
     ]
    },
    {
     "data": {
      "text/plain": [
       "str"
      ]
     },
     "execution_count": 20,
     "metadata": {},
     "output_type": "execute_result"
    }
   ],
   "source": [
    "a = input('Digite el valor 1 ')\n",
    "b = input('Digite el valor 2 ')\n",
    "result_mix = sumar(a,b)\n",
    "type(result_mix)"
   ]
  },
  {
   "cell_type": "code",
   "execution_count": 21,
   "id": "ab1eff8c",
   "metadata": {},
   "outputs": [
    {
     "name": "stdout",
     "output_type": "stream",
     "text": [
      "John Doe Hilton\n"
     ]
    }
   ],
   "source": [
    "# parametros: fname, sname, lname\n",
    "\n",
    "def my_function(fname, sname, lname):\n",
    "    print(fname +' '+sname+' '+lname)\n",
    "\n",
    "# argumentos> 'John','Doe', 'Hilton'\n",
    "\n",
    "my_function('John','Doe', 'Hilton')\n",
    "    "
   ]
  },
  {
   "cell_type": "markdown",
   "id": "4e02e0a7",
   "metadata": {},
   "source": [
    "En este ejemplo, nombre es el parámetro de la función `saludar`, y cuando llamamos a `saludar(\"Juan\")`, \"Juan\" es el argumento que se pasa a la función."
   ]
  },
  {
   "cell_type": "code",
   "execution_count": 22,
   "id": "ecdb8b75",
   "metadata": {},
   "outputs": [
    {
     "name": "stdout",
     "output_type": "stream",
     "text": [
      "HOla buenos días John !!!!\n"
     ]
    }
   ],
   "source": [
    "#name es un parametro\n",
    "def saludar(name):\n",
    "    print('HOla buenos días',name, '!!!!')\n",
    "\n",
    "# John es un argumento\n",
    "saludar('John')"
   ]
  },
  {
   "cell_type": "markdown",
   "id": "3844ccc8",
   "metadata": {},
   "source": [
    "En este ejemplo, la función suma espera dos parámetros (a y b), y al llamarla con suma(5, 3), proporcionamos dos argumentos (5 y 3)."
   ]
  },
  {
   "cell_type": "code",
   "execution_count": 23,
   "id": "72e6d781",
   "metadata": {},
   "outputs": [
    {
     "name": "stdout",
     "output_type": "stream",
     "text": [
      "La suma es:  8\n"
     ]
    }
   ],
   "source": [
    "def sumar(x, y):\n",
    "    return x + y\n",
    "\n",
    "result_int = sumar(5,3)\n",
    "\n",
    "print('La suma es: ', result_int)"
   ]
  },
  {
   "cell_type": "markdown",
   "id": "7063f142",
   "metadata": {},
   "source": [
    "Si intenta llamar a la función con 1 o 3 argumentos, obtendrá un error, en el ejemplo de a continuación Esta función espera 2 argumentos, pero solo obtiene 1:"
   ]
  },
  {
   "cell_type": "code",
   "execution_count": 24,
   "id": "770ee06b",
   "metadata": {},
   "outputs": [
    {
     "ename": "TypeError",
     "evalue": "sumar() missing 1 required positional argument: 'y'",
     "output_type": "error",
     "traceback": [
      "\u001b[0;31m---------------------------------------------------------------------------\u001b[0m",
      "\u001b[0;31mTypeError\u001b[0m                                 Traceback (most recent call last)",
      "Input \u001b[0;32mIn [24]\u001b[0m, in \u001b[0;36m<cell line: 1>\u001b[0;34m()\u001b[0m\n\u001b[0;32m----> 1\u001b[0m \u001b[43msumar\u001b[49m\u001b[43m(\u001b[49m\u001b[38;5;241;43m3\u001b[39;49m\u001b[43m)\u001b[49m\n",
      "\u001b[0;31mTypeError\u001b[0m: sumar() missing 1 required positional argument: 'y'"
     ]
    }
   ],
   "source": [
    "sumar(3)"
   ]
  },
  {
   "cell_type": "markdown",
   "id": "f06b5c8f",
   "metadata": {},
   "source": [
    "### Algunos ejemplos"
   ]
  },
  {
   "cell_type": "code",
   "execution_count": 25,
   "id": "67d108fd",
   "metadata": {},
   "outputs": [
    {
     "data": {
      "text/plain": [
       "20"
      ]
     },
     "execution_count": 25,
     "metadata": {},
     "output_type": "execute_result"
    }
   ],
   "source": [
    "# Funcion que calcule el area de un rectánulo.\n",
    "\n",
    "def area_rectangulo(base,altura):\n",
    "    return base * altura\n",
    "\n",
    "area = area_rectangulo(4,5)\n",
    "area"
   ]
  },
  {
   "cell_type": "code",
   "execution_count": 30,
   "id": "0e9c61ff",
   "metadata": {},
   "outputs": [
    {
     "name": "stdout",
     "output_type": "stream",
     "text": [
      "1\n",
      "3\n",
      "r\n",
      "Saludos\n"
     ]
    }
   ],
   "source": [
    "def imprimir_lista(lista):\n",
    "    for it in lista:\n",
    "        print(it)\n",
    "\n",
    "lst = [1,3,'r', 'Saludos']\n",
    "\n",
    "imprimir_lista(lst)"
   ]
  },
  {
   "cell_type": "code",
   "execution_count": 32,
   "id": "21c90ed9",
   "metadata": {},
   "outputs": [
    {
     "name": "stdout",
     "output_type": "stream",
     "text": [
      "4\n",
      "5\n",
      "6\n",
      "7\n",
      "8\n",
      "9\n",
      "10\n",
      "11\n",
      "12\n",
      "13\n",
      "14\n",
      "15\n",
      "16\n",
      "17\n",
      "18\n",
      "19\n",
      "20\n"
     ]
    }
   ],
   "source": [
    "lst = list(range(1,101))\n",
    "\n",
    "sub_lst = lst[3:20]\n",
    "\n",
    "imprimir_lista(sub_lst)"
   ]
  },
  {
   "cell_type": "code",
   "execution_count": 33,
   "id": "ab9db5e1",
   "metadata": {},
   "outputs": [
    {
     "name": "stdout",
     "output_type": "stream",
     "text": [
      "5\n",
      "10\n",
      "15\n",
      "20\n",
      "25\n",
      "30\n",
      "35\n",
      "40\n",
      "45\n",
      "50\n",
      "55\n",
      "60\n",
      "65\n",
      "70\n",
      "75\n",
      "80\n",
      "85\n",
      "90\n",
      "95\n",
      "100\n"
     ]
    }
   ],
   "source": [
    "lst = list(range(1,101))\n",
    "lst_mod5 = [num for num in lst if num %5 == 0]\n",
    "\n",
    "imprimir_lista(lst_mod5)"
   ]
  },
  {
   "cell_type": "code",
   "execution_count": null,
   "id": "99605b8a",
   "metadata": {},
   "outputs": [],
   "source": []
  },
  {
   "cell_type": "markdown",
   "id": "5a1e1cdb",
   "metadata": {},
   "source": [
    "### <span style=\"color:darkred\">Argumentos arbitrarios, `*args`</span>\n",
    "\n",
    "Si no sabe cuántos argumentos se pasarán a su función, agregue un `*antes` del nombre del parámetro en la definición de la función.\n",
    "\n",
    "De esta manera, la función recibirá una tupla de argumentos y podrá acceder a los elementos en consecuencia, por ejemplo: \n",
    "\n",
    "    Si se desconoce el número de argumentos, agregue un *antes del nombre del parámetro:\n"
   ]
  },
  {
   "cell_type": "code",
   "execution_count": 37,
   "id": "4ceb264e",
   "metadata": {},
   "outputs": [
    {
     "name": "stdout",
     "output_type": "stream",
     "text": [
      "El nombre es Pablo\n"
     ]
    }
   ],
   "source": [
    "def my_function(*args):\n",
    "    print('El nombre es '+ args[2])\n",
    "\n",
    "my_function('Juan', 'Mario', 'Pablo')"
   ]
  },
  {
   "cell_type": "code",
   "execution_count": 38,
   "id": "b641c5d8",
   "metadata": {},
   "outputs": [
    {
     "name": "stdout",
     "output_type": "stream",
     "text": [
      "El nombre es Juan\n",
      "El nombre es Mario\n",
      "El nombre es Pablo\n"
     ]
    }
   ],
   "source": [
    "def my_function(*nombre):\n",
    "    print('El nombre es '+ nombre[0])\n",
    "    print('El nombre es '+ nombre[1])\n",
    "    print('El nombre es '+ nombre[2])\n",
    "\n",
    "my_function('Juan', 'Mario', 'Pablo')"
   ]
  },
  {
   "cell_type": "code",
   "execution_count": 39,
   "id": "e5bfb17a",
   "metadata": {},
   "outputs": [
    {
     "name": "stdout",
     "output_type": "stream",
     "text": [
      "El nombre es Juan\n",
      "El nombre es Mario\n",
      "El nombre es Pablo\n"
     ]
    }
   ],
   "source": [
    "def my_function(*nombre):\n",
    "    for it in nombre:\n",
    "        print('El nombre es '+ it)\n",
    "\n",
    "my_function('Juan', 'Mario', 'Pablo')"
   ]
  },
  {
   "cell_type": "code",
   "execution_count": 40,
   "id": "af63585e",
   "metadata": {},
   "outputs": [
    {
     "name": "stdout",
     "output_type": "stream",
     "text": [
      "El nombre es Juan\n",
      "El nombre es Mario\n",
      "El nombre es Pablo\n",
      "El nombre es MAria\n",
      "El nombre es John\n",
      "El nombre es Manuel\n"
     ]
    }
   ],
   "source": [
    "my_function('Juan', 'Mario', 'Pablo','MAria','John','Manuel')"
   ]
  },
  {
   "cell_type": "markdown",
   "id": "fe7a8637",
   "metadata": {},
   "source": [
    "En este ejemplo, la función `imprimir_argumentos` acepta cualquier número de argumentos y los imprime uno por uno. \n",
    "\n",
    "Cuando llamamos a la función con `imprimir_argumentos(\"Hola\", \"Mundo\", 1, 2, 3)`, los argumentos se agrupan en una tupla args y la función los recorre y los imprime."
   ]
  },
  {
   "cell_type": "code",
   "execution_count": 43,
   "id": "75b2a33a",
   "metadata": {},
   "outputs": [
    {
     "name": "stdout",
     "output_type": "stream",
     "text": [
      "1\n",
      "2\n",
      "3\n",
      "Hola\n",
      "Mundo\n",
      "['a', 'b']\n",
      "{'nombre': 'Juan Pérez', 'edad': 30, 'profesión': 'ingeniero', 'hobbies': ['deporte', 'lectura', 'cocina']}\n"
     ]
    }
   ],
   "source": [
    "def imprimir_argumentos(*args):\n",
    "    for arg in args:\n",
    "        print(arg)\n",
    "        \n",
    "imprimir_argumentos(1,2,3, 'Hola', 'Mundo',['a','b'], {\n",
    "    \"nombre\": \"Juan Pérez\",\n",
    "    \"edad\": 30,\n",
    "    \"profesión\": \"ingeniero\",\n",
    "    \"hobbies\": [\"deporte\", \"lectura\", \"cocina\"]\n",
    "})"
   ]
  },
  {
   "cell_type": "markdown",
   "id": "06cd76c7",
   "metadata": {},
   "source": [
    "Otro uso común de *args es cuando se desea pasar una lista (u otra colección) como argumentos individuales a una función:\n",
    "\n",
    "En este caso, al utilizar *numeros al llamar a la función, estamos desempaquetando la lista y pasando sus elementos como argumentos individuales a la función suma.\n",
    "\n",
    "El uso de *args permite una flexibilidad considerable en el diseño de funciones que pueden manejar diferentes cantidades de argumentos de manera eficiente."
   ]
  },
  {
   "cell_type": "code",
   "execution_count": 46,
   "id": "2c92e224",
   "metadata": {},
   "outputs": [
    {
     "name": "stdout",
     "output_type": "stream",
     "text": [
      "7.9\n"
     ]
    }
   ],
   "source": [
    "def promedio_notas(*notas):\n",
    "    total_notas = 0\n",
    "    for nota in notas:\n",
    "        total_notas += float(nota)\n",
    "    promedio = total_notas/len(notas)\n",
    "    return promedio\n",
    "\n",
    "listado_notas = [8,9,7.0,5.9,9.5]\n",
    "\n",
    "promedio_final = promedio_notas(*listado_notas)\n",
    "\n",
    "print(round(promedio_final,1))\n",
    "    "
   ]
  },
  {
   "cell_type": "code",
   "execution_count": 50,
   "id": "69705609",
   "metadata": {},
   "outputs": [
    {
     "name": "stdout",
     "output_type": "stream",
     "text": [
      "7.9\n"
     ]
    }
   ],
   "source": [
    "def promedio_notas(*notas):\n",
    "    promedio =  sum(notas)  /len(notas)\n",
    "    return promedio\n",
    "\n",
    "listado_notas = [8,9,7.0,5.9,9.5]\n",
    "\n",
    "promedio_final = promedio_notas(*listado_notas)\n",
    "\n",
    "print(round(promedio_final,1))"
   ]
  },
  {
   "cell_type": "markdown",
   "id": "0de87397",
   "metadata": {},
   "source": [
    "Aquí, la función `concatenar` toma una tupla de frutas como argumentos y utiliza el método `join()` para unir las frutas en una cadena."
   ]
  },
  {
   "cell_type": "code",
   "execution_count": 54,
   "id": "69252b32",
   "metadata": {},
   "outputs": [
    {
     "data": {
      "text/plain": [
       "'sandia mango jocote'"
      ]
     },
     "execution_count": 54,
     "metadata": {},
     "output_type": "execute_result"
    }
   ],
   "source": [
    "def concatenar(*args):\n",
    "    return ' '.join(args)\n",
    "\n",
    "frutas = ['sandia', 'mango', 'jocote']\n",
    "\n",
    "mix_frutas = concatenar(*frutas)\n",
    "mix_frutas"
   ]
  },
  {
   "cell_type": "markdown",
   "id": "a1951e11",
   "metadata": {},
   "source": [
    "La función `media_aritmetica` calcula la media aritmética de una serie de números utilizando los argumentos pasados y luego devuelve el resultado."
   ]
  },
  {
   "cell_type": "code",
   "execution_count": 56,
   "id": "75d42829",
   "metadata": {},
   "outputs": [
    {
     "data": {
      "text/plain": [
       "7.88"
      ]
     },
     "execution_count": 56,
     "metadata": {},
     "output_type": "execute_result"
    }
   ],
   "source": [
    "def media_aritmetica(*args):\n",
    "    total    = sum(args)\n",
    "    cantidad = len(args)\n",
    "    media    = total / cantidad\n",
    "    return media\n",
    "\n",
    "listado = [8,9,7.0,5.9,9.5]\n",
    "\n",
    "promedio_final = media_aritmetica(*listado)\n",
    "promedio_final"
   ]
  },
  {
   "cell_type": "markdown",
   "id": "e30afd5e",
   "metadata": {},
   "source": [
    "Esta función producto calcula el producto de una lista de números pasados como argumentos.\n",
    "\n",
    "$$\\prod args(i)$$"
   ]
  },
  {
   "cell_type": "code",
   "execution_count": 57,
   "id": "67681bdf",
   "metadata": {},
   "outputs": [
    {
     "data": {
      "text/plain": [
       "40320"
      ]
     },
     "execution_count": 57,
     "metadata": {},
     "output_type": "execute_result"
    }
   ],
   "source": [
    "def productoria(*args):\n",
    "    producto = 1\n",
    "    for it in args:\n",
    "        producto *= it\n",
    "    return producto\n",
    "\n",
    "numeros = list(range(1,9))\n",
    "\n",
    "multiplicacion = productoria(*numeros)\n",
    "multiplicacion"
   ]
  },
  {
   "cell_type": "markdown",
   "id": "a87612e3",
   "metadata": {},
   "source": [
    "Los argumentos arbitrarios a menudo se abrevian a `*args` en la documentación de Python.\n",
    "\n",
    "### <span style=\"color:darkred\">Argumentos de palabras clave</span>\n",
    "\n",
    "También puede enviar argumentos con la sintaxis clave = valor. De esta manera el orden de los argumentos no importa.\n"
   ]
  },
  {
   "cell_type": "code",
   "execution_count": 59,
   "id": "f6592a74",
   "metadata": {},
   "outputs": [
    {
     "name": "stdout",
     "output_type": "stream",
     "text": [
      "JOhn Juan María\n"
     ]
    }
   ],
   "source": [
    "def my_function(fname1, fname2, fname3):\n",
    "    print(fname1 +' '+ fname2+' '+fname3)\n",
    "\n",
    "my_function(fname1 = 'JOhn', fname2 = 'Juan', fname3 = 'María')"
   ]
  },
  {
   "cell_type": "markdown",
   "id": "2a1a05b8",
   "metadata": {},
   "source": [
    "En este caso, la función generar_informe acepta tres argumentos de palabras clave, lo que facilita identificar qué valor se refiere a qué parte del informe."
   ]
  },
  {
   "cell_type": "code",
   "execution_count": 60,
   "id": "990fb607",
   "metadata": {},
   "outputs": [
    {
     "name": "stdout",
     "output_type": "stream",
     "text": [
      "JOhn Juan María\n"
     ]
    }
   ],
   "source": [
    "def my_function(fname1, fname2, fname3= 'Lopez'):\n",
    "    print(fname1 +' '+ fname2+' '+fname3)\n",
    "\n",
    "my_function(fname1 = 'JOhn', fname2 = 'Juan', fname3 = 'María')"
   ]
  },
  {
   "cell_type": "markdown",
   "id": "470ed723",
   "metadata": {},
   "source": [
    "Esta función configurar_usuario utiliza argumentos de palabras clave para crear un diccionario que almacena la información del usuario. Esto facilita entender qué valor se asigna a cada clave en el diccionario."
   ]
  },
  {
   "cell_type": "code",
   "execution_count": 61,
   "id": "8e6402be",
   "metadata": {},
   "outputs": [
    {
     "name": "stdout",
     "output_type": "stream",
     "text": [
      "JOhn Juan Lopez\n"
     ]
    }
   ],
   "source": [
    "def my_function(fname1, fname2, fname3= 'Lopez'):\n",
    "    print(fname1 +' '+ fname2+' '+fname3)\n",
    "\n",
    "my_function(fname1 = 'JOhn', fname2 = 'Juan')"
   ]
  },
  {
   "cell_type": "markdown",
   "id": "881919b7",
   "metadata": {},
   "source": [
    "La frase Argumentos de palabras clave a menudo se abrevia como kwargs en la documentación de Python.\n",
    "\n",
    "### <span style=\"color:darkred\">Argumentos de palabras clave arbitrarias, `**kwargs`</span> \n",
    "\n",
    "Si no sabe cuántos argumentos de palabras clave se pasarán a su función, agregue dos asteriscos: `**antes` del nombre del parámetro en la definición de la función.\n",
    "\n",
    "De esta forma, la función recibirá un diccionario de argumentos y podrá acceder a los elementos en consecuencia, por ejemplo, si se desconoce el número de argumentos de palabras clave, agregue un doble `**antes` del nombre del parámetro:"
   ]
  },
  {
   "cell_type": "code",
   "execution_count": 62,
   "id": "d97c08a8",
   "metadata": {},
   "outputs": [
    {
     "name": "stdout",
     "output_type": "stream",
     "text": [
      "El ultimo nombre es María\n"
     ]
    }
   ],
   "source": [
    "def my_function( **kid ):\n",
    "    print('El ultimo nombre es '+ kid['mname'])\n",
    "\n",
    "my_function(fname = 'Juan',mname = 'María', lname = 'Pablo')"
   ]
  },
  {
   "cell_type": "code",
   "execution_count": 63,
   "id": "10fe08eb",
   "metadata": {},
   "outputs": [
    {
     "name": "stdout",
     "output_type": "stream",
     "text": [
      "El ultimo nombre es María\n",
      "El apellido es Pablo\n"
     ]
    }
   ],
   "source": [
    "def my_function( **kid ):\n",
    "    print('El ultimo nombre es '+ kid['mname'])\n",
    "    print('El apellido es '+ kid['lname'])\n",
    "\n",
    "my_function(fname = 'Juan',mname = 'María', lname = 'Pablo')"
   ]
  },
  {
   "cell_type": "markdown",
   "id": "32bc8258",
   "metadata": {},
   "source": [
    "En este caso, al utilizar **datos al llamar a la función, estamos pasando los elementos del diccionario como argumentos de palabras clave a la función `mostrar_informacion`."
   ]
  },
  {
   "cell_type": "code",
   "execution_count": 67,
   "id": "47bf7f37",
   "metadata": {},
   "outputs": [
    {
     "name": "stdout",
     "output_type": "stream",
     "text": [
      "Nombre :  Ana\n",
      "Edad es:  30\n"
     ]
    }
   ],
   "source": [
    "def mostrar_informacion(**kwargs):\n",
    "    if 'nombre' in kwargs:\n",
    "        print('Nombre : ', kwargs['nombre'])\n",
    "    if 'edad' in kwargs:\n",
    "        print('Edad es: ', kwargs['edad'])\n",
    "\n",
    "datos = {\n",
    "    'nombre': 'Ana',\n",
    "    'edad'  : 30,\n",
    "    'ciudad': 'Madrid'\n",
    "}\n",
    "\n",
    "mostrar_informacion(**datos)"
   ]
  },
  {
   "cell_type": "markdown",
   "id": "a7fc2374",
   "metadata": {},
   "source": [
    "En este ejemplo, la función `crear_perfil` toma argumentos de palabras clave y crea un diccionario de perfil de usuario."
   ]
  },
  {
   "cell_type": "code",
   "execution_count": 70,
   "id": "b515d793",
   "metadata": {},
   "outputs": [
    {
     "data": {
      "text/plain": [
       "{'nombre': 'Ana', 'edad': 28, 'ciudad': 'San Salvador'}"
      ]
     },
     "execution_count": 70,
     "metadata": {},
     "output_type": "execute_result"
    }
   ],
   "source": [
    "def crear_perfil(**kwargs):\n",
    "    perfil = {}\n",
    "    \n",
    "    for clave, valor in kwargs.items():\n",
    "        #'Clave' : 'Valor'\n",
    "        perfil[clave] = valor\n",
    "    return perfil\n",
    "\n",
    "usuario = crear_perfil(nombre = 'Ana', edad = 28, ciudad = 'San Salvador')\n",
    "usuario"
   ]
  },
  {
   "cell_type": "markdown",
   "id": "0c9c0695",
   "metadata": {},
   "source": [
    "Los argumentos Keywords arbitrarios a menudo se reducen a `**kwargs` en la documentación de Python.\n",
    "\n",
    "#### <span style=\"color:darkred\">Valor de parámetro predeterminado</span> \n",
    "\n",
    "El siguiente ejemplo muestra cómo utilizar un valor de parámetro predeterminado. Si llamamos a la función sin argumento, usa el valor predeterminado:"
   ]
  },
  {
   "cell_type": "code",
   "execution_count": 73,
   "id": "c969d3c4",
   "metadata": {},
   "outputs": [
    {
     "name": "stdout",
     "output_type": "stream",
     "text": [
      "Zant Juan Lopez\n",
      "Zant Pan Lopez\n"
     ]
    }
   ],
   "source": [
    "def my_function(fname1 = 'Zant', fname2 = 'Pan', fname3= 'Lopez'):\n",
    "    print(fname1 +' '+ fname2+' '+fname3)\n",
    "\n",
    "my_function( fname2 = 'Juan')\n",
    "my_function( )"
   ]
  },
  {
   "cell_type": "markdown",
   "id": "3be7ea84",
   "metadata": {},
   "source": [
    "\n",
    "#### <span style=\"color:darkred\">Valores devueltos</span>\n",
    "\n",
    "Para permitir que una función devuelva un valor, use la return declaración:\n",
    "\n"
   ]
  },
  {
   "cell_type": "code",
   "execution_count": 74,
   "id": "0a96fa14",
   "metadata": {},
   "outputs": [
    {
     "data": {
      "text/plain": [
       "8"
      ]
     },
     "execution_count": 74,
     "metadata": {},
     "output_type": "execute_result"
    }
   ],
   "source": [
    "def function(x):\n",
    "    return 2*x\n",
    "\n",
    "function(4)"
   ]
  },
  {
   "cell_type": "markdown",
   "id": "c9035437",
   "metadata": {},
   "source": [
    "#### <span style=\"color:darkred\">La declaración de pase</span> \n",
    "\n",
    "Las definiciones function no pueden estar vacías, pero si por algún motivo tiene una definición function sin contenido, introdúzcala en la declaración pass para evitar que se produzca un error."
   ]
  },
  {
   "cell_type": "code",
   "execution_count": 75,
   "id": "3d3a9fb7",
   "metadata": {},
   "outputs": [],
   "source": [
    "def my_function():\n",
    "    pass\n",
    "    "
   ]
  },
  {
   "cell_type": "markdown",
   "id": "0d971d2f",
   "metadata": {},
   "source": [
    "#### <span style=\"color:darkred\">Recursividad</span> \n",
    "\n",
    "Python también acepta la función recursiva, lo que significa que una función definida puede llamarse a sí misma.\n",
    "    \n",
    "La recursividad es un concepto matemático y de programación común. Significa que una función se llama a sí misma. Esto tiene la ventaja de que puede recorrer los datos para llegar a un resultado.\n",
    "\n",
    "El desarrollador debe tener mucho cuidado con la recursividad, ya que puede ser bastante fácil escribir una función que nunca termina, o una que usa cantidades excesivas de memoria o potencia del procesador. \n",
    "\n",
    "Sin embargo, cuando se escribe correctamente, la recursión puede ser un enfoque de programación muy eficiente y matemáticamente elegante.\n",
    "\n",
    "En este ejemplo, `tri_recursion()` es una función que hemos definido para llamarse a sí misma (\"recursión\"). Usamos la variable k como los datos, que decrementa ( -1 ) cada vez que recursamos. La recursión termina cuando la condición no es mayor que 0 (es decir, cuando es 0).\n",
    "\n",
    "Para un nuevo desarrollador, puede tomar algún tiempo averiguar cómo funciona exactamente esto, la mejor manera de averiguarlo es probándolo y modificándolo.\n",
    "\n",
    "\n",
    "Una función recursiva se compone de dos partes principales:\n",
    "\n",
    "    Caso Base: Es el punto de terminación de la recursión. Es un caso simple que se resuelve directamente sin hacer llamadas adicionales a la función.\n",
    "\n",
    "    Caso Recursivo: Es donde la función se llama a sí misma para resolver un problema más pequeño y similar al problema original. Esta llamada recursiva debe llevar al caso base para que la recursión no sea infinita."
   ]
  },
  {
   "cell_type": "markdown",
   "id": "7da6c0de",
   "metadata": {},
   "source": [
    "En este ejemplo, la función factorial se llama a sí misma con un número más pequeño en cada iteración hasta que se alcanza el caso base (factorial de 0), y luego se calcula el resultado acumulado."
   ]
  },
  {
   "cell_type": "markdown",
   "id": "e0a7a7ae",
   "metadata": {},
   "source": [
    "### Factorial de un Número\n",
    "\n",
    "$$ n! = n\\times(n-1)\\times(n-2)\\times...\\times2 \\times 1$$\n",
    "\n",
    "$0! = 1$\n",
    "\n",
    "$1! = 1$"
   ]
  },
  {
   "cell_type": "code",
   "execution_count": 79,
   "id": "ac0bac84",
   "metadata": {},
   "outputs": [
    {
     "data": {
      "text/plain": [
       "120"
      ]
     },
     "execution_count": 79,
     "metadata": {},
     "output_type": "execute_result"
    }
   ],
   "source": [
    "# FActorial no recursivo\n",
    "\n",
    "def factorial_no_recursivo(n):\n",
    "    result = 1\n",
    "    for it in range(1,n+1):\n",
    "        result *= it\n",
    "    return result\n",
    "\n",
    "n = 5\n",
    "factorial_no_recursivo(n)"
   ]
  },
  {
   "cell_type": "code",
   "execution_count": 80,
   "id": "0dda0fbd",
   "metadata": {},
   "outputs": [
    {
     "data": {
      "text/plain": [
       "120"
      ]
     },
     "execution_count": 80,
     "metadata": {},
     "output_type": "execute_result"
    }
   ],
   "source": [
    "def factorial_recursivo(n):\n",
    "    if n == 0:\n",
    "        return 1\n",
    "    else:\n",
    "        return n * factorial_recursivo(n-1)\n",
    "\n",
    "n = 5\n",
    "\n",
    "factorial_recursivo(n)"
   ]
  },
  {
   "cell_type": "code",
   "execution_count": 89,
   "id": "a4cc190b",
   "metadata": {},
   "outputs": [
    {
     "data": {
      "text/plain": [
       "36"
      ]
     },
     "execution_count": 89,
     "metadata": {},
     "output_type": "execute_result"
    }
   ],
   "source": [
    "def suma_no_recursiva(n):\n",
    "    suma = 0\n",
    "    for it in range(1,n+1):\n",
    "        suma += it\n",
    "    return suma\n",
    "\n",
    "n = 8\n",
    "suma_no_recursiva(n)"
   ]
  },
  {
   "cell_type": "code",
   "execution_count": 88,
   "id": "6812e8f4",
   "metadata": {},
   "outputs": [
    {
     "data": {
      "text/plain": [
       "36"
      ]
     },
     "execution_count": 88,
     "metadata": {},
     "output_type": "execute_result"
    }
   ],
   "source": [
    "def suma_recursiva(n):\n",
    "    if n == 1:\n",
    "        return 1\n",
    "    else:\n",
    "        return n + suma_recursiva(n-1)\n",
    "    \n",
    "n = 8\n",
    "suma_recursiva(n)"
   ]
  },
  {
   "cell_type": "markdown",
   "id": "22a59c3e",
   "metadata": {},
   "source": [
    "### <span style=\"color:darkred\">Lambda en Python</span> \n",
    "\n",
    "Una función lambda es una pequeña función anónima. Una función lambda puede tomar cualquier cantidad de argumentos, pero solo puede tener una expresión.\n",
    "\n",
    "`Sintaxis`\n",
    "\n",
    "`lambda arguments : expression`\n",
    "    \n",
    "Se ejecuta la expresión y se devuelve el resultado, por ejemplo: \n",
    "\n",
    "Agregue 10 al argumento a y devuelva el resultado"
   ]
  },
  {
   "cell_type": "code",
   "execution_count": 91,
   "id": "f54797e9",
   "metadata": {},
   "outputs": [
    {
     "data": {
      "text/plain": [
       "12"
      ]
     },
     "execution_count": 91,
     "metadata": {},
     "output_type": "execute_result"
    }
   ],
   "source": [
    "x = lambda a : a + 10\n",
    "\n",
    "x(2)"
   ]
  },
  {
   "cell_type": "markdown",
   "id": "4bcec78a",
   "metadata": {},
   "source": [
    "Dada la función $f(x) = x^2+2x+3$, evalue f(3)"
   ]
  },
  {
   "cell_type": "code",
   "execution_count": 92,
   "id": "641ffa2b",
   "metadata": {},
   "outputs": [
    {
     "data": {
      "text/plain": [
       "18"
      ]
     },
     "execution_count": 92,
     "metadata": {},
     "output_type": "execute_result"
    }
   ],
   "source": [
    "f = lambda x : x**2 + 2*x + 3\n",
    "f(3)"
   ]
  },
  {
   "cell_type": "markdown",
   "id": "3bc3d21f",
   "metadata": {},
   "source": [
    "Las funciones Lambda pueden tomar cualquier cantidad de argumentos, por ejemplo: Multiplique argumento a con argumento b y devuelva el resultado:"
   ]
  },
  {
   "cell_type": "code",
   "execution_count": 93,
   "id": "1575f89a",
   "metadata": {},
   "outputs": [
    {
     "data": {
      "text/plain": [
       "12"
      ]
     },
     "execution_count": 93,
     "metadata": {},
     "output_type": "execute_result"
    }
   ],
   "source": [
    "h = lambda x , y : x*y\n",
    "\n",
    "h(3,4)"
   ]
  },
  {
   "cell_type": "markdown",
   "id": "9bbdc54f",
   "metadata": {},
   "source": [
    "Resumir argumento a, b y c y devolver el resultado:"
   ]
  },
  {
   "cell_type": "code",
   "execution_count": 94,
   "id": "28874468",
   "metadata": {},
   "outputs": [
    {
     "data": {
      "text/plain": [
       "14"
      ]
     },
     "execution_count": 94,
     "metadata": {},
     "output_type": "execute_result"
    }
   ],
   "source": [
    "f = lambda x, y, z : x + y + z\n",
    "f(5,6,3)"
   ]
  },
  {
   "cell_type": "code",
   "execution_count": null,
   "id": "c298e6bc",
   "metadata": {},
   "outputs": [],
   "source": []
  },
  {
   "cell_type": "markdown",
   "id": "5dcbcdb7",
   "metadata": {},
   "source": [
    "### <span style=\"color:darkred\">¿Por qué utilizar las funciones de Lambda?</span> \n",
    "\n",
    "El poder de lambda se muestra mejor cuando los usa como una función anónima dentro de otra función.\n",
    "\n",
    "Digamos que tiene una definición de función que toma un argumento, y ese argumento se multiplicará con un número desconocido:\n",
    "\n",
    "Las funciones lambda en Python son funciones anónimas y pequeñas que se utilizan para crear funciones simples en una sola línea de código. Aunque las funciones lambda tienen limitaciones en comparación con las funciones definidas con def, todavía tienen varios casos de uso y ventajas:\n",
    "\n",
    "    Sintaxis Concisa: Las funciones lambda tienen una sintaxis muy concisa, lo que las hace adecuadas para definir funciones pequeñas y simples en una sola línea.\n",
    "\n",
    "    Expresiones Cortas: Las funciones lambda son útiles cuando se necesita una función que realice una única operación o expresión matemática.\n",
    "\n",
    "    Funciones de Primera Clase: En Python, las funciones son objetos de primera clase, lo que significa que se pueden pasar como argumentos a otras funciones. Las funciones lambda son convenientes para esto, ya que se pueden definir inmediatamente donde se necesitan.\n",
    "\n",
    "    Funciones de Alta Orden: Las funciones lambda son útiles en combinación con funciones de orden superior, como map(), filter() y sorted(), donde se requiere una función simple para aplicar a una secuencia de elementos.\n",
    "\n",
    "    Reducción de Código: En algunos casos, las funciones lambda pueden reducir la cantidad de código necesario en comparación con la definición de una función completa usando def.\n",
    "\n",
    "    Legibilidad: Las funciones lambda son útiles cuando la función es simple y su nombre no es crítico para la legibilidad del código.\n",
    "\n",
    "    Funciones Anónimas: Las funciones lambda son funciones anónimas, lo que significa que no es necesario asignarles un nombre. Esto es útil cuando se necesita una función temporal y no es necesario reutilizarla en otros lugares.\n",
    "\n",
    "Sin embargo, es importante tener en cuenta que las funciones lambda tienen limitaciones. No pueden contener múltiples expresiones o declaraciones, no pueden tener docstrings (cadenas de documentación) y su uso excesivo en situaciones complejas puede dificultar la legibilidad del código."
   ]
  },
  {
   "cell_type": "code",
   "execution_count": 95,
   "id": "b4cf163d",
   "metadata": {},
   "outputs": [],
   "source": [
    "def myfunc(n):\n",
    "    return lambda a: a*n"
   ]
  },
  {
   "cell_type": "markdown",
   "id": "c311f317",
   "metadata": {},
   "source": [
    "Use esa definición de función para hacer una función que siempre duplique el número que envía:"
   ]
  },
  {
   "cell_type": "code",
   "execution_count": 98,
   "id": "2ec6d101",
   "metadata": {},
   "outputs": [
    {
     "data": {
      "text/plain": [
       "6"
      ]
     },
     "execution_count": 98,
     "metadata": {},
     "output_type": "execute_result"
    }
   ],
   "source": [
    "# asigando la funcion lambda a my doubler\n",
    "mydoubler = myfunc(2)\n",
    "mydoubler(3)"
   ]
  },
  {
   "cell_type": "markdown",
   "id": "60dd8cd8",
   "metadata": {},
   "source": [
    "O use la misma definición de función para hacer una función que siempre triplique el número que envía:"
   ]
  },
  {
   "cell_type": "code",
   "execution_count": 99,
   "id": "0b8f1068",
   "metadata": {},
   "outputs": [
    {
     "data": {
      "text/plain": [
       "12"
      ]
     },
     "execution_count": 99,
     "metadata": {},
     "output_type": "execute_result"
    }
   ],
   "source": [
    "my_tripler = myfunc(3)\n",
    "my_tripler(4)"
   ]
  },
  {
   "cell_type": "markdown",
   "id": "6654443e",
   "metadata": {},
   "source": [
    "O use la misma definición de función para hacer ambas funciones, en el mismo programa:"
   ]
  },
  {
   "cell_type": "code",
   "execution_count": 100,
   "id": "668f93e7",
   "metadata": {},
   "outputs": [
    {
     "data": {
      "text/plain": [
       "(10, 6)"
      ]
     },
     "execution_count": 100,
     "metadata": {},
     "output_type": "execute_result"
    }
   ],
   "source": [
    "mydoubler = myfunc(2)\n",
    "my_tripler = myfunc(3)\n",
    "mydoubler(5), my_tripler(2)"
   ]
  },
  {
   "cell_type": "markdown",
   "id": "55ef75a8",
   "metadata": {},
   "source": [
    "### Ejemplos de uso de Función Lambda"
   ]
  },
  {
   "cell_type": "markdown",
   "id": "1e2cd78f",
   "metadata": {},
   "source": [
    "Utilice funciones lambda cuando se requiera una función anónima durante un breve período de tiempo."
   ]
  },
  {
   "cell_type": "code",
   "execution_count": 102,
   "id": "e3f752b1",
   "metadata": {},
   "outputs": [
    {
     "data": {
      "text/plain": [
       "[1234, 5678, 9012, 3456, 7890]"
      ]
     },
     "execution_count": 102,
     "metadata": {},
     "output_type": "execute_result"
    }
   ],
   "source": [
    "def filtered_even(*id_matricula):\n",
    "    return filter(lambda x: x % 2 == 0, id_matricula)\n",
    "\n",
    "id_tablillas = [ 1234 , 5678,9012,3456,7890,2345,6789,6123,4567,8901]\n",
    "tablillas_pares = filtered_even(*id_tablillas)\n",
    "list(tablillas_pares)"
   ]
  },
  {
   "cell_type": "code",
   "execution_count": 104,
   "id": "5b440806",
   "metadata": {},
   "outputs": [
    {
     "data": {
      "text/plain": [
       "'elbisrever res ed arebed anedac atsE'"
      ]
     },
     "execution_count": 104,
     "metadata": {},
     "output_type": "execute_result"
    }
   ],
   "source": [
    "reverse = lambda cadena : cadena[::-1]\n",
    "\n",
    "al_reves = reverse('Esta cadena debera de ser reversible')\n",
    "al_reves"
   ]
  },
  {
   "cell_type": "code",
   "execution_count": 105,
   "id": "d41ed285",
   "metadata": {},
   "outputs": [
    {
     "data": {
      "text/plain": [
       "'anona'"
      ]
     },
     "execution_count": 105,
     "metadata": {},
     "output_type": "execute_result"
    }
   ],
   "source": [
    "reverse('anona')"
   ]
  },
  {
   "cell_type": "code",
   "execution_count": 106,
   "id": "86d75853",
   "metadata": {},
   "outputs": [
    {
     "data": {
      "text/plain": [
       "'zyxwvutsrqponmlkjihgfedcba'"
      ]
     },
     "execution_count": 106,
     "metadata": {},
     "output_type": "execute_result"
    }
   ],
   "source": [
    "reverse('abcdefghijklmnopqrstuvwxyz')"
   ]
  },
  {
   "cell_type": "code",
   "execution_count": 107,
   "id": "ca0125ab",
   "metadata": {},
   "outputs": [
    {
     "data": {
      "text/plain": [
       "[2, 4, 6, 8, 10, 12, 14, 16]"
      ]
     },
     "execution_count": 107,
     "metadata": {},
     "output_type": "execute_result"
    }
   ],
   "source": [
    "#FUncion lambda que genera cadenas de nuemeros pares\n",
    "even_secuence = lambda n : [ i for i in range(2, 2*n+1,2)]\n",
    "\n",
    "even_secuence(8)"
   ]
  },
  {
   "cell_type": "code",
   "execution_count": 108,
   "id": "5b6af860",
   "metadata": {},
   "outputs": [
    {
     "data": {
      "text/plain": [
       "[2, 4, 6, 8, 10, 12, 14, 16, 18, 20]"
      ]
     },
     "execution_count": 108,
     "metadata": {},
     "output_type": "execute_result"
    }
   ],
   "source": [
    "n = 10\n",
    "even_secuence(n)"
   ]
  },
  {
   "cell_type": "code",
   "execution_count": 111,
   "id": "93467e0b",
   "metadata": {},
   "outputs": [
    {
     "data": {
      "text/plain": [
       "[(2, 9), (2, 0), (3, 5), (6, 7)]"
      ]
     },
     "execution_count": 111,
     "metadata": {},
     "output_type": "execute_result"
    }
   ],
   "source": [
    "#ordenando tuplas por el segundo elemento\n",
    "\n",
    "datos = [(6,7),(3,5),(2,9),(2,0)]\n",
    "\n",
    "ordenar = sorted(datos, key = lambda x : x[0])\n",
    "\n",
    "ordenar"
   ]
  },
  {
   "cell_type": "markdown",
   "id": "50c545d0",
   "metadata": {},
   "source": [
    "### <span style=\"color:darkorange\">Aplicando Conocimientos</span>  \n",
    "\n",
    "1.\tSuma de dos números:\n",
    "\n",
    "Escribe una función llamada suma que tome dos números como argumentos y devuelva su suma. Luego, escribe un programa que pida al usuario dos números, los pase a la función suma y muestre el resultado.\n",
    "\n",
    "2.\tCalcular el área de un triángulo:\n",
    "\n",
    "Escribe una función llamada area_triangulo que tome la base y la altura de un triángulo como argumentos y devuelva su área. Luego, escribe un programa que pida al usuario la base y la altura de un triángulo, pase estos valores a la función area_triangulo y muestre el resultado.\n",
    "\n",
    "3.\tConvertir grados Celsius a Fahrenheit:\n",
    "\n",
    "Escribe una función llamada celsius_a_fahrenheit que tome una temperatura en grados Celsius como argumento y la convierta a grados Fahrenheit. \n",
    "\n",
    "La fórmula para convertir grados Celsius a Fahrenheit es F = (9/5 * C) + 32. Luego, escribe un programa que pida al usuario una temperatura en grados Celsius, pase este valor a la función celsius_a_fahrenheit y muestre el resultado.\n",
    "\n"
   ]
  }
 ],
 "metadata": {
  "kernelspec": {
   "display_name": "Python 3 (ipykernel)",
   "language": "python",
   "name": "python3"
  },
  "language_info": {
   "codemirror_mode": {
    "name": "ipython",
    "version": 3
   },
   "file_extension": ".py",
   "mimetype": "text/x-python",
   "name": "python",
   "nbconvert_exporter": "python",
   "pygments_lexer": "ipython3",
   "version": "3.9.12"
  }
 },
 "nbformat": 4,
 "nbformat_minor": 5
}
