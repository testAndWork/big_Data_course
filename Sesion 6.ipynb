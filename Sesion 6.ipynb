{
 "cells": [
  {
   "cell_type": "markdown",
   "id": "9c8c537c",
   "metadata": {},
   "source": [
    "\n",
    "\n",
    "# <span style=\"color:darkblue\">Módulo 1 - Introducción a la programación con Python </span>\n",
    "\n",
    "## <span style=\"color:darkblue\">Sesión: 6 - Estructuras de Decisión</span>\n",
    "\n",
    "### <span style=\"color:darkblue\">Duración estimada:\t3 horas</span>\n"
   ]
  },
  {
   "cell_type": "markdown",
   "id": "42a8be22",
   "metadata": {},
   "source": [
    "## <span style=\"color:darkblue\"> Tabla de contenidos:\n",
    " \n",
    "    1- Bienvenida\n",
    "    \n",
    "    2- Asistencia\n",
    "    \n",
    "    3- Dudas de la Clase anterior\n",
    "    \n",
    "    4- Control de Lectura\n",
    "    \n",
    "    5- Objetivo\n",
    "    \n",
    "    6- Introducción\n",
    "    \n",
    "    7- Sentencia `if`\n",
    "    \n",
    "    8- Sangria\n",
    "    \n",
    "    9- Sentencia `elif`\n",
    "    \n",
    "    10-Sentencia `else`\n",
    "    \n",
    "    12-Sentencia `if` corta o abreviada\n",
    "    \n",
    "    13-Sentencia `else if` abreviada\n",
    "    \n",
    "    14- Operador Lógico AND\n",
    "    \n",
    "    15- Operador Lógico OR\n",
    "    \n",
    "    16- Operador Lógico NOT\n",
    "    \n",
    "    17- Sentencia `if` anidados\n",
    "    \n",
    "    18- Declaracion pass\n",
    "    \n",
    "    19- Asistencia\n",
    "    \n",
    "    20 - Tarea\n",
    "</span>"
   ]
  },
  {
   "cell_type": "markdown",
   "id": "51ae1b4d",
   "metadata": {},
   "source": [
    "### <span style=\"color:darkred\">Objetivo:</span>\n",
    "\n",
    "Poder crear programas que puedan tomar decisiones basadas en condiciones. Las estructuras de decisión son herramientas fundamentales en la programación, ya que permiten que los programas realicen tareas diferentes según las condiciones que se cumplan. \n",
    "\n",
    "### <span style=\"color:darkred\">Recursos</span>\n",
    "\n",
    "•\tSesión 6 de Curso de Python\n",
    "\n",
    "•\tAcceso a internet\n",
    "\n",
    "•\tPython Instalado en computadora\n",
    "\n",
    "•\tVisual Studio Code\n",
    "\n",
    "### <span style=\"color:darkred\">Introducción:</span>\n",
    "\n",
    "Python es un lenguaje de programación de alto nivel, diseñado para ser fácil de aprender y entender. Una de las características más importantes de Python son las estructuras de decisión, que permiten que los programas tomen decisiones basadas en condiciones específicas. \n",
    "\n",
    "Estas estructuras de decisión son herramientas fundamentales en Python y son utilizadas por programadores de todo el mundo.\n",
    "\n",
    "Aprender a utilizar las estructuras de decisión en Python puede ser muy útil para una amplia gama de aplicaciones. \n",
    "\n",
    "Desde la automatización de tareas cotidianas hasta el análisis de datos y la inteligencia artificial, las estructuras de decisión en Python pueden ayudarte a crear programas más eficientes y efectivos. \n",
    "\n",
    "###  <span style=\"color:darkred\">Sentencias `If`</span>\n",
    "\n",
    "Python admite las condiciones lógicas habituales de las matemáticas:\n",
    "\n",
    "\n",
    "<table> <thead> <tr> <th>Operador</th> <th>Significado</th> </tr> </thead> <tbody> <tr> <td>a == b</td> <td>Es igual a</td> </tr> <tr> <td>a != b</td> <td>No es igual a</td> </tr> <tr> <td>a < b</td> <td>Menos que</td> </tr> <tr> <td>a <= b</td> <td>Menor o igual que</td> </tr> <tr> <td>a > b</td> <td>Mayor que</td> </tr> <tr> <td>a >= b</td> <td>Mayor o igual que</td> </tr> </tbody> </table>\n",
    "\n",
    "\n",
    "Estas condiciones se pueden usar de varias maneras, más comúnmente en \"sentencias if\" y bucles.\n",
    "\n",
    "Una \"sentencia if\" se escribe utilizando la palabra clave if .\n",
    "\n",
    "<img src=\"./images/05.png\">\n",
    "\n",
    "\n",
    "### SIntaxis :\n",
    "\n",
    "```\n",
    "if(condicion):\n",
    "    proceso\n",
    "```"
   ]
  },
  {
   "cell_type": "code",
   "execution_count": 2,
   "id": "dff872cf",
   "metadata": {},
   "outputs": [
    {
     "name": "stdout",
     "output_type": "stream",
     "text": [
      "Digite el Número a virificar6\n",
      "EL numero es par\n"
     ]
    }
   ],
   "source": [
    "#verificar si un numero es múltiplo de 2\n",
    "numero = int(input('Digite el Número a verificar: '))\n",
    "\n",
    "if numero % 2 == 0:\n",
    "    print('EL numero es par')"
   ]
  },
  {
   "cell_type": "code",
   "execution_count": 4,
   "id": "0d3f970a",
   "metadata": {},
   "outputs": [
    {
     "name": "stdout",
     "output_type": "stream",
     "text": [
      "Digite la contraseña: acceso123\n",
      "Clave COrrecta\n"
     ]
    }
   ],
   "source": [
    "#verificar una contraseña\n",
    "\n",
    "clave = input('Digite la contraseña: ')\n",
    "\n",
    "if clave == 'acceso123':\n",
    "    print('Clave Correcta')"
   ]
  },
  {
   "cell_type": "markdown",
   "id": "52ef36f4",
   "metadata": {},
   "source": []
  },
  {
   "cell_type": "markdown",
   "id": "832fb1da",
   "metadata": {},
   "source": [
    "### <span style=\"color:darkred\">Sangría</span>\n",
    "\n",
    "Python se basa en la sangría (espacio en blanco al comienzo de una línea) para definir el alcance en el código. Otros lenguajes de programación a menudo usan corchetes para este propósito.\n"
   ]
  },
  {
   "cell_type": "code",
   "execution_count": 5,
   "id": "07c8b46f",
   "metadata": {},
   "outputs": [
    {
     "ename": "IndentationError",
     "evalue": "expected an indented block (928913865.py, line 6)",
     "output_type": "error",
     "traceback": [
      "\u001b[0;36m  Input \u001b[0;32mIn [5]\u001b[0;36m\u001b[0m\n\u001b[0;31m    print('Clave Correcta')\u001b[0m\n\u001b[0m    ^\u001b[0m\n\u001b[0;31mIndentationError\u001b[0m\u001b[0;31m:\u001b[0m expected an indented block\n"
     ]
    }
   ],
   "source": [
    "#verificar una contraseña\n",
    "\n",
    "clave = input('Digite la contraseña: ')\n",
    "\n",
    "if clave == 'acceso123':\n",
    "print('Clave Correcta')"
   ]
  },
  {
   "cell_type": "markdown",
   "id": "d242ac26",
   "metadata": {},
   "source": [
    "###   <span style=\"color:darkred\">Sentencia `elif`</span>\n",
    "\n",
    "La palabra clave elif es la forma en que Python dice `\"si las condiciones anteriores no fueron ciertas, intente con esta condición\".`"
   ]
  },
  {
   "cell_type": "code",
   "execution_count": 9,
   "id": "2cbf0b59",
   "metadata": {},
   "outputs": [
    {
     "name": "stdout",
     "output_type": "stream",
     "text": [
      "Los numeros son Iguales\n"
     ]
    }
   ],
   "source": [
    "x = 3\n",
    "y = 3\n",
    "\n",
    "if x > y:\n",
    "    print('El numero mayor es x =',x)\n",
    "\n",
    "elif x == y:\n",
    "    print('Los numeros son Iguales')"
   ]
  },
  {
   "cell_type": "markdown",
   "id": "fefee5e6",
   "metadata": {},
   "source": [
    "###   <span style=\"color:darkred\">Sentencia `else`</span>\n",
    "También puede tener un else sin el elif:"
   ]
  },
  {
   "cell_type": "code",
   "execution_count": 12,
   "id": "2c4f0f7e",
   "metadata": {},
   "outputs": [
    {
     "name": "stdout",
     "output_type": "stream",
     "text": [
      "El numero mayor es x = 7\n"
     ]
    }
   ],
   "source": [
    "x = 7\n",
    "y = 4\n",
    "\n",
    "if x > y:\n",
    "    print('El numero mayor es x =',x)\n",
    "\n",
    "elif x == y:\n",
    "    print('Los numeros son Iguales')\n",
    "\n",
    "else:\n",
    "    print('El número mayor es y = ',y)"
   ]
  },
  {
   "cell_type": "code",
   "execution_count": 11,
   "id": "0949298a",
   "metadata": {},
   "outputs": [
    {
     "name": "stdout",
     "output_type": "stream",
     "text": [
      "El número mayor es y =  4\n"
     ]
    }
   ],
   "source": [
    "if x > y:\n",
    "    print('El numero mayor es x =',x)\n",
    "\n",
    "else:\n",
    "    print('El número mayor es y = ',y)"
   ]
  },
  {
   "cell_type": "code",
   "execution_count": 19,
   "id": "41ee78fe",
   "metadata": {},
   "outputs": [
    {
     "name": "stdout",
     "output_type": "stream",
     "text": [
      "No se\n"
     ]
    }
   ],
   "source": [
    "numero = 6\n",
    "x = False\n",
    "\n",
    "if x == True:\n",
    "    if numero > 0:\n",
    "        print('El numero es positivo')\n",
    "\n",
    "    elif numero < 0:\n",
    "        print('El numero es Negativo')\n",
    "\n",
    "    elif numero == 0:\n",
    "        print('el numero es cero')\n",
    "\n",
    "    else: \n",
    "        print('no es un numero')\n",
    "    \n",
    "else:\n",
    "    print('No se')"
   ]
  },
  {
   "cell_type": "markdown",
   "id": "06b6a1c6",
   "metadata": {},
   "source": [
    "### <span style=\"color:darkred\">Resumen del uso de `if`, `elif` y `else`</span>\n",
    "\n",
    "\n",
    "#### `if`: \n",
    "La sentencia `if` se utiliza para ejecutar un bloque de código si una condición dada es verdadera (True). Si la condición es cierta, el bloque de código indentado después del if se ejecutará. Si la condición es falsa (False), el bloque no se ejecutará.\n",
    "\n",
    "#### `elif`: \n",
    "La sentencia `elif` (abreviatura de \"else if\") se utiliza para evaluar condiciones adicionales si la condición anterior al `if` o al `elif` resulta falsa.\n",
    "\n",
    "<span style=\"color:darkgreen\">_Puedes tener múltiples bloques `elif` después de un `if` y antes de un posible `else`_.</span>\n",
    "\n",
    "#### `else`: \n",
    "La sentencia else se utiliza para ejecutar un bloque de código si ninguna de las condiciones anteriores (en el `if` y `elif`) es verdadera. \n",
    "\n",
    "<span style=\"color:darkgreen\">_Es una especie de \"opción por defecto\" en caso de que ninguna de las condiciones anteriores se cumpla_.</span>"
   ]
  },
  {
   "cell_type": "markdown",
   "id": "1d98f19a",
   "metadata": {},
   "source": [
    "## <span style=\"color:darkorange\">Abreviaciones de las Sentencias</span>\n",
    "\n",
    "### <span style=\"color:darkblue\">Sentencia `if` corta o abreviada</span>\n",
    "\n",
    "Si solo tiene una declaración para ejecutar, puede colocarla en la misma línea que la declaración `if`."
   ]
  },
  {
   "cell_type": "code",
   "execution_count": 25,
   "id": "c6f8182e",
   "metadata": {},
   "outputs": [
    {
     "name": "stdout",
     "output_type": "stream",
     "text": [
      "A es positivo\n"
     ]
    }
   ],
   "source": [
    "a = 3\n",
    "\n",
    "if a > 0:\n",
    "    print('A es positivo')\n",
    "else:\n",
    "    print('A es negativo')"
   ]
  },
  {
   "cell_type": "code",
   "execution_count": 26,
   "id": "622460f2",
   "metadata": {},
   "outputs": [
    {
     "name": "stdout",
     "output_type": "stream",
     "text": [
      "A es positivo\n"
     ]
    }
   ],
   "source": [
    "print('A es positivo')if a > 0 else print('A es negativo')"
   ]
  },
  {
   "cell_type": "markdown",
   "id": "a5ffaee7",
   "metadata": {},
   "source": [
    "### <span style=\"color:darkblue\">Sentencia `else` `if` abreviada</span>\n",
    "\n",
    "Si solo tiene una declaración para ejecutar, una para `if` y otra para `else`, puede ponerlas todas en la misma línea:\n",
    "\n",
    "### syntax\n",
    "\n",
    "code `if` condition `else` code\n"
   ]
  },
  {
   "cell_type": "code",
   "execution_count": 27,
   "id": "825517be",
   "metadata": {},
   "outputs": [
    {
     "name": "stdout",
     "output_type": "stream",
     "text": [
      "A es menor que b\n"
     ]
    }
   ],
   "source": [
    "a = 3\n",
    "\n",
    "b = 4\n",
    "\n",
    "if a > b:\n",
    "    print('A es mayor que b')\n",
    "else:\n",
    "    print('A es menor que b')"
   ]
  },
  {
   "cell_type": "code",
   "execution_count": 28,
   "id": "3e535d77",
   "metadata": {},
   "outputs": [
    {
     "name": "stdout",
     "output_type": "stream",
     "text": [
      "A es menor que b\n"
     ]
    }
   ],
   "source": [
    "print('A es mayor que b') if a > b else print('A es menor que b')"
   ]
  },
  {
   "cell_type": "markdown",
   "id": "e8e896a1",
   "metadata": {},
   "source": [
    "Esta técnica se conoce como **Operadores Ternarios** o **Expresiones Condicionales.**\n",
    "\n",
    "También puede tener varias declaraciones `else` en la misma línea:"
   ]
  },
  {
   "cell_type": "code",
   "execution_count": 34,
   "id": "09ab464f",
   "metadata": {},
   "outputs": [],
   "source": [
    "a , b = 4, 4"
   ]
  },
  {
   "cell_type": "code",
   "execution_count": 36,
   "id": "6f9deef5",
   "metadata": {},
   "outputs": [
    {
     "name": "stdout",
     "output_type": "stream",
     "text": [
      "A y B son iguales\n"
     ]
    }
   ],
   "source": [
    "print('A es mayor que b') if a > b else print('A y B son iguales') if a == b else print('B es mayor que A ')"
   ]
  },
  {
   "cell_type": "code",
   "execution_count": 39,
   "id": "9a6e2fd4",
   "metadata": {},
   "outputs": [
    {
     "name": "stdout",
     "output_type": "stream",
     "text": [
      "El numero 5 es impar \n"
     ]
    }
   ],
   "source": [
    "\"\"\"\n",
    "VErificar si un numero es par , si es par que imprima\n",
    "\"El numero es par\"\n",
    "en caso contrario que imprima que el numero es impar\n",
    "\"\"\"\n",
    "numero = 5\n",
    "\n",
    "print(f'El numero {numero} es par') if numero %2 == 0 else print(f'El numero {numero} es impar ')"
   ]
  },
  {
   "cell_type": "markdown",
   "id": "36162c46",
   "metadata": {},
   "source": [
    "### Ejemplo:\n",
    "Calcular el descuento de una compra tomando en cuenta su precio , si el precio es mayor o igual a 100 recibe un  descuento del 15% sino del 10 %"
   ]
  },
  {
   "cell_type": "code",
   "execution_count": 46,
   "id": "3a271659",
   "metadata": {},
   "outputs": [
    {
     "name": "stdout",
     "output_type": "stream",
     "text": [
      "La compra total es: 72.10\n"
     ]
    }
   ],
   "source": [
    "compra = 80.11\n",
    "\n",
    "if compra >= 100:\n",
    "    descuento = 0.15\n",
    "    total_compra = compra-compra*descuento\n",
    "    print(f'La compra total es: {total_compra:.2f}')\n",
    "else:\n",
    "    descuento = 0.10\n",
    "    total_compra = compra-compra*descuento\n",
    "    print(f'La compra total es: {total_compra:.2f}')\n"
   ]
  },
  {
   "cell_type": "code",
   "execution_count": 45,
   "id": "7cc0ab96",
   "metadata": {},
   "outputs": [
    {
     "name": "stdout",
     "output_type": "stream",
     "text": [
      "La compra total es:  72.10\n"
     ]
    }
   ],
   "source": [
    "descuento = 0.15 if compra >= 100 else 0.1\n",
    "total_compra = compra-compra*descuento\n",
    "print(f'La compra total es: {total_compra: .2f}')"
   ]
  },
  {
   "cell_type": "markdown",
   "id": "6aec274e",
   "metadata": {},
   "source": [
    "### Ejemplo 2:\n",
    "Calcular salario de un empleado\n",
    "\n",
    "\n",
    "$ 10,000 -> 30% de impuestos\n",
    "\n",
    "$  5,000 -> 20% de impuestos\n",
    "\n",
    "menos de lo anterior 10%"
   ]
  },
  {
   "cell_type": "code",
   "execution_count": 51,
   "id": "b45afd95",
   "metadata": {},
   "outputs": [
    {
     "name": "stdout",
     "output_type": "stream",
     "text": [
      "Digite el sueldo del empleado: 7000\n",
      "El sueldo es 5600.0\n"
     ]
    }
   ],
   "source": [
    "sueldo = float(input('Digite el sueldo del empleado: '))\n",
    "\n",
    "impuesto = 0.3 if sueldo  > 10000 else 0.2 if sueldo > 5000 else 0.1\n",
    "\n",
    "sueldo_neto = sueldo - sueldo*impuesto\n",
    "\n",
    "print(f'El sueldo es {sueldo_neto}')"
   ]
  },
  {
   "cell_type": "markdown",
   "id": "3e55f747",
   "metadata": {},
   "source": [
    "### <span style=\"color:darkred\">Operador Lógico AND</span>\n",
    "\n",
    "La palabra clave and es un operador lógico y se usa para combinar sentencias condicionales:\n",
    "\n",
    "Prueba si a es mayor que b, Y si c es mayor que a:"
   ]
  },
  {
   "cell_type": "code",
   "execution_count": 56,
   "id": "9aec2ca7",
   "metadata": {},
   "outputs": [
    {
     "name": "stdout",
     "output_type": "stream",
     "text": [
      " no se cumple alguna\n"
     ]
    }
   ],
   "source": [
    "a = 4\n",
    "b = 5\n",
    "c = 1\n",
    "\n",
    "if a < c and b < c:\n",
    "    print('Se cumplen ambas condiciones')\n",
    "else:\n",
    "    print(' no se cumple alguna')\n"
   ]
  },
  {
   "cell_type": "code",
   "execution_count": 59,
   "id": "da376b42",
   "metadata": {},
   "outputs": [
    {
     "name": "stdout",
     "output_type": "stream",
     "text": [
      "Digite la nota del estudiante: 0\n",
      "Nota es cero\n"
     ]
    }
   ],
   "source": [
    "nota = float(input('Digite la nota del estudiante: '))\n",
    "\n",
    "if nota > 0 and nota <=10:\n",
    "    print('Nota valida')\n",
    "elif nota == 0:\n",
    "    print('Nota es cero')\n",
    "else: \n",
    "    print('La nota es inválida')"
   ]
  },
  {
   "cell_type": "markdown",
   "id": "20dfe3d1",
   "metadata": {},
   "source": [
    "### Problema:\n",
    "    verificar si el valor dado es un numero par y entero positivo,\n",
    "    impar y entero positivo, valor es cero , valor es negativo"
   ]
  },
  {
   "cell_type": "code",
   "execution_count": 62,
   "id": "ae52f1d7",
   "metadata": {},
   "outputs": [
    {
     "name": "stdout",
     "output_type": "stream",
     "text": [
      "Digite el numero a verificar: 0\n",
      "El valor es cero\n"
     ]
    }
   ],
   "source": [
    "valor = int(input('Digite el numero a verificar: '))\n",
    "\n",
    "if valor % 2 == 0 and valor > 0:\n",
    "    print(' EL numero es positivo y par')\n",
    "elif valor % 2 != 0 and valor > 0:\n",
    "    print(' EL numero es positivo e impar')\n",
    "elif valor == 0:\n",
    "    print('El valor es cero')\n",
    "else:\n",
    "    print('El numero es negativo')"
   ]
  },
  {
   "cell_type": "markdown",
   "id": "43513380",
   "metadata": {},
   "source": [
    "### <span style=\"color:darkred\">Operador Lógico OR</span>\n",
    "\n",
    "La palabra clave or es un operador lógico y se usa para combinar declaraciones condicionales:\n",
    "\n",
    "Prueba si a es mayor que b, O si a es mayor que c:\n"
   ]
  },
  {
   "cell_type": "code",
   "execution_count": 66,
   "id": "c0a4f621",
   "metadata": {},
   "outputs": [
    {
     "name": "stdout",
     "output_type": "stream",
     "text": [
      "Se cumplen alguna condición\n"
     ]
    }
   ],
   "source": [
    "a = 4\n",
    "b = 5\n",
    "c = 1\n",
    "\n",
    "if a < c or b > c:\n",
    "    print('Se cumplen alguna condición')\n",
    "else:\n",
    "    print(' no se cumple alguna')\n"
   ]
  },
  {
   "cell_type": "code",
   "execution_count": 70,
   "id": "ea5134a1",
   "metadata": {},
   "outputs": [
    {
     "name": "stdout",
     "output_type": "stream",
     "text": [
      "Digite el año: 2023\n",
      "False\n"
     ]
    }
   ],
   "source": [
    "#verificar si un año es biciesto\n",
    "#1. Que el año sea divisible entre 4 y no es multiplo de 100\n",
    "#2. Que el año sea divisible entre 400\n",
    "\n",
    "anio_bisiesto = int(input('Digite el año: '))\n",
    "\n",
    "anio_bisiesto = True if(anio_bisiesto % 4 == 0 and anio_bisiesto % 100!= 0) or anio_bisiesto % 400 == 0 else False\n",
    "print(anio_bisiesto)\n"
   ]
  },
  {
   "cell_type": "code",
   "execution_count": 74,
   "id": "3ca0796d",
   "metadata": {},
   "outputs": [
    {
     "name": "stdout",
     "output_type": "stream",
     "text": [
      "El triangulo es escaleno\n"
     ]
    }
   ],
   "source": [
    "# Clasificar un triángulo \n",
    "#(Equilatero -> tres lados iguales)\n",
    "#(Isósceles -> dos lados iguales )\n",
    "#(Escaleno -> no tiene lados iguales)\n",
    "\n",
    "lado1 = 4\n",
    "lado2 = 2\n",
    "lado3 = 3\n",
    "\n",
    "if lado1 == lado2 == lado3:\n",
    "    print('El triangulo es equilátero')\n",
    "elif lado1 == lado2 or lado1 == lado3 or lado2 == lado3:\n",
    "    print('Es un triangulo isósceles')\n",
    "else:\n",
    "    print('El triangulo es escaleno')"
   ]
  },
  {
   "cell_type": "markdown",
   "id": "5aadb476",
   "metadata": {},
   "source": [
    "### <span style=\"color:darkred\">Operador Lógico NOT</span>\n",
    "\n",
    "La palabra clave not es un operador lógico y se utiliza para invertir el resultado de la declaración condicional:\n",
    "\n",
    "Prueba si a NO es mayor que b:\n"
   ]
  },
  {
   "cell_type": "code",
   "execution_count": 75,
   "id": "487fe433",
   "metadata": {},
   "outputs": [
    {
     "data": {
      "text/plain": [
       "False"
      ]
     },
     "execution_count": 75,
     "metadata": {},
     "output_type": "execute_result"
    }
   ],
   "source": [
    "a = True\n",
    "\n",
    "not a"
   ]
  },
  {
   "cell_type": "code",
   "execution_count": 76,
   "id": "28939dc6",
   "metadata": {},
   "outputs": [
    {
     "data": {
      "text/plain": [
       "True"
      ]
     },
     "execution_count": 76,
     "metadata": {},
     "output_type": "execute_result"
    }
   ],
   "source": [
    "b = False\n",
    "\n",
    "not b"
   ]
  },
  {
   "cell_type": "code",
   "execution_count": 79,
   "id": "64366ad8",
   "metadata": {},
   "outputs": [
    {
     "name": "stdout",
     "output_type": "stream",
     "text": [
      "False\n",
      "x no es mayor que y\n"
     ]
    }
   ],
   "source": [
    "x = 8\n",
    "y = 10\n",
    "\n",
    "print(x > y)\n",
    "\n",
    "if not x > y:\n",
    "    print('x no es mayor que y')\n",
    "    \n"
   ]
  },
  {
   "cell_type": "markdown",
   "id": "c4efffe7",
   "metadata": {},
   "source": [
    "### <span style=\"color:darkgreen\">Sentencia if anidados</span>\n",
    "\n",
    "Puede tener declaraciones if dentro declaraciones if de, esto se llama declaraciones anidadas if."
   ]
  },
  {
   "cell_type": "code",
   "execution_count": 81,
   "id": "d158c4a3",
   "metadata": {},
   "outputs": [
    {
     "name": "stdout",
     "output_type": "stream",
     "text": [
      " Es negativo\n"
     ]
    }
   ],
   "source": [
    "a = -1\n",
    "\n",
    "if a > 0:\n",
    "    if a % 2 == 0: \n",
    "        print(' Es par y positivo')\n",
    "    else:\n",
    "        print(' Es impar y positivo')\n",
    "elif a == 0:\n",
    "    print('el numero es cero')\n",
    "else:\n",
    "    print(' Es negativo')"
   ]
  },
  {
   "cell_type": "markdown",
   "id": "b58c9dbc",
   "metadata": {},
   "source": [
    "### <span style=\"color:darkgreen\">Declaración Pass</span>\n",
    "\n",
    "Las declaraciones `if` no pueden estar vacías, pero si por alguna razón tiene una declaración `if` sin contenido, introdúzcala pass para evitar errores. \n",
    "\n",
    "La declaración `pass` se utiliza como un marcador de posición cuando necesitas tener una estructura sintáctica válida en un bloque de código, pero no deseas ejecutar ninguna acción en ese momento. \n",
    "\n",
    "Es especialmente útil en situaciones como cuando estás diseñando una función, clase o bucle y aún no has implementado el contenido, pero deseas evitar errores de sintaxis."
   ]
  },
  {
   "cell_type": "code",
   "execution_count": 90,
   "id": "0f2a58b9",
   "metadata": {},
   "outputs": [
    {
     "name": "stdout",
     "output_type": "stream",
     "text": [
      "Finalizó\n"
     ]
    }
   ],
   "source": [
    "condicional_principal = False\n",
    "condicional_alternativa = True\n",
    "\n",
    "if condicional_principal:\n",
    "    pass\n",
    "    \n",
    "elif condicional_alternativa:\n",
    "    pass\n",
    "else:\n",
    "    pass\n",
    "\n",
    "print('Finalizó')"
   ]
  },
  {
   "cell_type": "markdown",
   "id": "4aef0c22",
   "metadata": {},
   "source": [
    "### Práctica:\n",
    "\n",
    "Compara los valores de mi_edad y tu_edad usando if ... else. ¿Quién es mayor (yo o tú)? Utiliza input(\"Ingresa tu edad: \") para obtener la edad como entrada. Puedes usar una condición anidada para imprimir 'año' para una diferencia de edad de 1 año, 'años' para diferencias mayores, y un texto personalizado si mi_edad = tu_edad."
   ]
  },
  {
   "cell_type": "code",
   "execution_count": 52,
   "id": "b8f9121b",
   "metadata": {},
   "outputs": [
    {
     "name": "stdout",
     "output_type": "stream",
     "text": [
      "Ingrese tu edad: 78\n",
      "cual es mi edad?: 54\n",
      "Es mayor que yo\n"
     ]
    }
   ],
   "source": [
    "EdadPorDefecto = int(input('Ingrese tu edad: '))\n",
    "miEdad = int(input(\"cual es mi edad?: \"))\n",
    "\n",
    "if miEdad > EdadPorDefecto:\n",
    "    print('Yo soy mayor que tu')\n",
    "    edad = miEdad - EdadPorDefecto\n",
    "    if edad == 1:\n",
    "        print(f'La diferencia de años es: {edad}')\n",
    "    elif edad > 1:\n",
    "        print(f'La diferencia de años es: {edad}')\n",
    "\n",
    "elif miEdad < EdadPorDefecto:\n",
    "    print('Es mayor que yo')\n",
    "elif miEdad == EdadPorDefecto:\n",
    "    print('Tenemos la misma edad')"
   ]
  },
  {
   "cell_type": "code",
   "execution_count": 91,
   "id": "70a5ccc6",
   "metadata": {},
   "outputs": [
    {
     "name": "stdout",
     "output_type": "stream",
     "text": [
      "Ingresa tu nombreJose\n",
      "Ingresa tu edad34\n",
      "Ingresa tu nombrejohn\n",
      "Ingresa tu edad56\n",
      "Tu eres uhna persona menorjohn,con : 56 años\n"
     ]
    }
   ],
   "source": [
    "Diferencia=1\n",
    "persona1=str(input(\"Ingresa tu nombre\"))\n",
    "edadPersona1=int(input(\"Ingresa tu edad\"))\n",
    "persona2=str(input(\"Ingresa tu nombre\"))\n",
    "edadPersona2=int(input(\"Ingresa tu edad\"))\n",
    "if edadPersona1>edadPersona2:\n",
    "    print(f\"Tu eres uhna persona mayor{persona1},con : {edadPersona1} años\")\n",
    "elif edadPersona1<edadPersona2:\n",
    "    print(f\"Tu eres uhna persona menor{persona2},con : {edadPersona2} años\")"
   ]
  },
  {
   "cell_type": "code",
   "execution_count": 92,
   "id": "160ebbe4",
   "metadata": {},
   "outputs": [
    {
     "name": "stdout",
     "output_type": "stream",
     "text": [
      "Ingresar mi edad: 34\n",
      "Ingresa la edad de la otra persona: 67\n",
      "La otra persona es mayor que yo por 33 años.\n"
     ]
    }
   ],
   "source": [
    "mi_edad = int(input(\"Ingresar mi edad: \"))\n",
    "\n",
    "\n",
    "tu_edad = int(input(\"Ingresa la edad de la otra persona: \"))\n",
    "\n",
    "\n",
    "if mi_edad < tu_edad:\n",
    "    diferencia = tu_edad - mi_edad\n",
    "    if diferencia == 1:\n",
    "        print(\"La otra persona es mayor que yo por 1 año.\")\n",
    "    else:\n",
    "        print(\"La otra persona es mayor que yo por\", diferencia, \"años.\")\n",
    "elif mi_edad > tu_edad:\n",
    "    diferencia = mi_edad - tu_edad\n",
    "    if diferencia == 1:\n",
    "        print(\"Yo soy mayor que la otra persona por 1 año.\")\n",
    "    else:\n",
    "        print(\"Yo soy mayor que la otra persona por\", diferencia, \"años.\")\n",
    "else:\n",
    "    print(\"Tenemos la misma edad.\")"
   ]
  },
  {
   "cell_type": "markdown",
   "id": "1b2befc6",
   "metadata": {},
   "source": [
    "### <span style=\"color:darkorange\">Aplicando Conocimientos</span>\n",
    "\n",
    "1.\tEscribe un programa en Python que solicite al usuario ingresar un número entero y determine si es positivo, negativo o cero utilizando una estructura de decisión if-elif-else.\n",
    "\n",
    "2.\tEscribe un programa en Python que solicite al usuario ingresar un número entero y determine si es par, impar y si es divisible por 3 utilizando estructuras de decisión anidadas.\n",
    "\n",
    "3.\tEscribe un programa en Python que solicite al usuario ingresar una letra y determine si es una vocal o una consonante.\n",
    "\n",
    "4. Obtener la entrada del usuario usando input(\"Ingresa tu edad: \"). Si el usuario tiene 18 años o más, dar el siguiente mensaje: Eres lo suficientemente mayor para conducir. Si es menor de 18, dar el siguiente mensaje indicando cuántos años faltan. \n",
    "\n",
    "5. Compara los valores de mi_edad y tu_edad usando if ... else. ¿Quién es mayor (yo o tú)? Utiliza input(\"Ingresa tu edad: \") para obtener la edad como entrada. Puedes usar una condición anidada para imprimir 'año' para una diferencia de edad de 1 año, 'años' para diferencias mayores, y un texto personalizado si mi_edad = tu_edad.\n",
    "\n",
    "### Soluciones:"
   ]
  },
  {
   "cell_type": "code",
   "execution_count": null,
   "id": "6e03f226",
   "metadata": {},
   "outputs": [],
   "source": []
  }
 ],
 "metadata": {
  "kernelspec": {
   "display_name": "Python 3 (ipykernel)",
   "language": "python",
   "name": "python3"
  },
  "language_info": {
   "codemirror_mode": {
    "name": "ipython",
    "version": 3
   },
   "file_extension": ".py",
   "mimetype": "text/x-python",
   "name": "python",
   "nbconvert_exporter": "python",
   "pygments_lexer": "ipython3",
   "version": "3.9.12"
  }
 },
 "nbformat": 4,
 "nbformat_minor": 5
}
