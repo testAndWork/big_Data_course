{
 "cells": [
  {
   "cell_type": "markdown",
   "id": "9c8c537c",
   "metadata": {},
   "source": [
    "# <span style=\"color:darkblue\">Módulo 1 - Introducción a la programación con Python </span>\n",
    "\n",
    "## <span style=\"color:darkblue\">Sesión 5-Colecciones de datos</span>\n",
    "\n",
    "### <span style=\"color:darkblue\">Duración estimada:\t3 horas</span>\n"
   ]
  },
  {
   "cell_type": "markdown",
   "id": "42a8be22",
   "metadata": {},
   "source": [
    "## <span style=\"color:darkblue\"> Tabla de contenidos:</span>\n",
    " \n",
    "    1- Bienvenida\n",
    "    \n",
    "    2- Asistencia\n",
    "    \n",
    "    3- Dudas de la Clase anterior\n",
    "    \n",
    "    4- Control de Lectura\n",
    "    \n",
    "    5- Objetivo\n",
    "    \n",
    "    6- Introducción\n",
    "    \n",
    "    7- Qué es una matriz\n",
    "    \n",
    "    8- Comparativa entre colecciones de datos\n",
    "    \n",
    "    9- Listas en Python - list\n",
    "    \n",
    "    10- Longitud de la Lista \n",
    "    \n",
    "    11- Agregar elementos a una lista\n",
    "    \n",
    "    12- Elementos de la lista - Tipos de datos\n",
    "\n",
    "    13- Tuplas en Python - tuple\n",
    "\n",
    "    14- Longitud de la tupla\n",
    "    \n",
    "    15- Crear tupla con un elemento\t\n",
    "   \n",
    "    16- Conjuntos en Python - set\t\n",
    "\n",
    "    17- Obtener la longitud de un conjunto\t\n",
    "\n",
    "    18- Diccionario en Python – Dictionary\t\n",
    "\n",
    "    19- Diccionarios anidados\t\n",
    "    \n",
    "    20- Los constructores de las colecciones\n",
    "    \n",
    "    21 - Retroalimentación\n",
    "    \n",
    "    22 - Asistencia\n"
   ]
  },
  {
   "cell_type": "markdown",
   "id": "51ae1b4d",
   "metadata": {},
   "source": [
    "## <span style=\"color:darkred\">Objetivo:</span>\n",
    "\n",
    "Comprender como Python proporciona una manera flexible y eficiente de almacenar y manipular conjuntos de datos en diferentes formatos y estructuras. Estas colecciones de datos incluyen tipos de datos como listas, tuplas, diccionarios y conjuntos, cada uno con sus propias características y funcionalidades.\n",
    "\n",
    "### <span style=\"color:darkred\">Recursos</span>\n",
    "\n",
    "•\tSesión 5 de Curso de Python\n",
    "\n",
    "•\tComputadora con Python instalado\n",
    "\n",
    "•\tVisual Studio Code instalado\n",
    "\n",
    "\n",
    "\n",
    "### <span style=\"color:darkred\">Introducción:</span>\n",
    "\n",
    "Las colecciones de datos son un aspecto fundamental de la programación y la ciencia de datos en Python. Python ofrece una variedad de tipos de datos integrados, como listas, tuplas, diccionarios y conjuntos, que permiten a los desarrolladores y analistas de datos almacenar y manipular conjuntos de datos en diferentes formatos y estructuras. \n",
    "\n",
    "El conocimiento y la comprensión de estas colecciones de datos es esencial para cualquier persona que trabaje con Python, ya que son una herramienta fundamental para la manipulación eficiente y flexible de datos en muchas aplicaciones, desde la programación básica hasta el análisis avanzado de datos. \n",
    "\n",
    "En esta guía, exploraremos las diferentes colecciones de datos en Python, sus características y funcionalidades, y cómo se pueden utilizar para mejorar la eficiencia del código y la capacidad de análisis de datos.\n",
    "\n",
    "### <span style=\"color:darkred\">Aprendamos </span>\n",
    "\n",
    "Python no tiene soporte integrado para arreglos, pero en su lugar se pueden usar listas de Python. Las matrices se utilizan para almacenar múltiples valores en una sola variable."
   ]
  },
  {
   "cell_type": "markdown",
   "id": "6bc551e5",
   "metadata": {},
   "source": [
    "\n"
   ]
  },
  {
   "cell_type": "markdown",
   "id": "dae5ab9c",
   "metadata": {},
   "source": [
    "## <span style=\"color:darkred\">¿Qué es una matriz?</span>\n",
    "\n",
    "Una matriz es una variable especial que puede contener más de un valor a la vez.\n",
    "\n",
    "Si tiene una lista de elementos (una lista de nombres de automóviles, por ejemplo), almacenar los automóviles en variables individuales podría tener este aspecto:\n",
    "```\n",
    "car1 = \"Ford\"\n",
    "car2 = \"Volvo\"\n",
    "car3 = \"BMW\"\n",
    "```\n",
    "\n",
    "Sin embargo, ¿qué sucede si desea recorrer los autos y encontrar uno específico? ¿Y si no tuvieras 3 coches, sino 300?\n",
    "\n",
    "**¡La solución es una matriz!**\n",
    "\n",
    "Una matriz puede contener muchos valores bajo un solo nombre y puede acceder a los valores haciendo referencia a un número de índice.\n",
    "\n",
    "**Cree una arrglo que contenga nombres de automóviles:**\n",
    "\n",
    "```\n",
    "cars = [\"Ford\", \"Volvo\", \"BMW\"]\n",
    "```\n",
    "\n",
    "## <span style=\"color:darkred\">Comparativa entre colecciones de datos</span>\n",
    "\n",
    "En Python existen diferentes tipos de colecciones y cada una de ellas poseen diferentes características y la elección depende de cual utilizar en una situación dependen bastante de ellas, a continuación, tenemos una tabla comparativa: \n",
    "\n",
    "<table>\n",
    "  <tr>\n",
    "    <th>COLECCIÓN</th> \n",
    "    <th>ORDENADA</th>\n",
    "    <th>MUTABLE</th>\n",
    "    <th>ÚNICA</th>\n",
    "    <th>ACCESO POR ÍNDICE</th>\n",
    "    <th>ACCESO POR CLAVE</th>\n",
    "  </tr>\n",
    "  <tr>\n",
    "    <td>LISTA</td>\n",
    "    <td>Sí</td>\n",
    "    <td>Sí</td> \n",
    "    <td>No</td>\n",
    "    <td>Sí</td>\n",
    "    <td>No</td>\n",
    "  </tr>\n",
    "  <tr>\n",
    "    <td>TUPLA</td>\n",
    "    <td>Sí</td>\n",
    "    <td>No</td>\n",
    "    <td>No</td>\n",
    "    <td>Sí</td> \n",
    "    <td>No</td>\n",
    "  </tr>  \n",
    "  <tr>\n",
    "    <td>SET</td>\n",
    "    <td>No</td>\n",
    "    <td>Sí</td>\n",
    "    <td>Sí</td>\n",
    "    <td>No</td>\n",
    "    <td>No</td>\n",
    "  </tr>\n",
    "  <tr>    \n",
    "    <td>DICCIONARIO</td>\n",
    "    <td>No</td>\n",
    "    <td>Sí</td>\n",
    "    <td>No</td>\n",
    "    <td>No</td>\n",
    "    <td>Sí</td>\n",
    "  </tr>\n",
    "</table>\n",
    "\n",
    "\n",
    "\n",
    "\n",
    "<ul> <li> <strong>Ordenada:</strong> indica si la colección mantiene el orden de los elementos. </li> <li> <strong>Mutable:</strong> indica si la colección puede ser modificada después de creada. </li> <li> <strong>Única:</strong> indica si la colección permite elementos duplicados. </li> <li> <strong>Acceso por índice:</strong> indica si los elementos pueden ser accedidos por su posición en la colección. </li> <li> <strong>Acceso por clave:</strong> indica si los elementos pueden ser accedidos por una clave asignada a cada elemento en la colección. </li> </ul>\n",
    "\n",
    "Es importante tener en cuenta estas diferencias al elegir la colección adecuada para una tarea determinada. Por ejemplo, si se necesita una colección de elementos ordenados y modificables, una lista sería la mejor opción. Si se necesita una colección de elementos únicos y no importa el orden, un set sería más adecuado. Si se necesita una colección de pares clave-valor, un diccionario sería la mejor opción, y si se necesita una colección de elementos ordenados, pero no modificables, una tupla sería la mejor opción.\n",
    "\n",
    "## <span style=\"color:darkred\">Listas en Python - `list[]` </span>\n",
    "\n",
    "Las listas se utilizan para almacenar varios elementos en una sola variable. Las listas se crean usando corchetes:\n"
   ]
  },
  {
   "cell_type": "code",
   "execution_count": 1,
   "id": "76ffc30a",
   "metadata": {},
   "outputs": [
    {
     "name": "stdout",
     "output_type": "stream",
     "text": [
      "['apple', 'banana', 'cherry']\n"
     ]
    }
   ],
   "source": [
    "thislist = [\"apple\", \"banana\", \"cherry\"]\n",
    "print (thislist)"
   ]
  },
  {
   "cell_type": "markdown",
   "id": "21c3cfa1",
   "metadata": {},
   "source": [
    "## <span style=\"color:darkred\">Características principales</span>\n",
    "\n",
    "### <span style=\"color:darkred\">Elementos de la lista:</span>\n",
    "\n",
    "    Los elementos de la lista están ordenados, se pueden cambiar y permiten valores duplicados. Los elementos de la lista están indexados, el primer elemento tiene índice [0], el segundo elemento tiene índice [1], etc.\n",
    "\n",
    "### <span style=\"color:darkred\">Ordenado: </span>\n",
    "    \n",
    "    Cuando decimos que las listas están ordenadas, significa que los elementos tienen un orden definido y ese orden no cambiará. Si agrega nuevos elementos a una lista, los nuevos elementos se colocarán al final de la lista.\n",
    "\n",
    "### <span style=\"color:darkblue\">Nota:</span>\n",
    "\n",
    "    Hay algunos métodos de lista que cambiarán el orden, pero en general: el orden de los elementos no cambiará.\n",
    "\n",
    "### <span style=\"color:darkred\">Cambiable:</span>\n",
    "\n",
    "    La lista se puede cambiar, lo que significa que podemos cambiar, agregar y eliminar elementos en una lista después de que se haya creado.\n",
    "    \n",
    "### <span style=\"color:darkred\">Permitir duplicados:</span>\n",
    "\n",
    "    Dado que las listas están indexadas, las listas pueden tener elementos con el mismo valor\n",
    "\n",
    "### <span style=\"color:darkred\">Longitud de la lista</span>\n",
    "\n",
    "Para determinar cuántos elementos tiene una lista, use la función len():\n",
    "\n",
    "Imprime el número de artículos en la lista:"
   ]
  },
  {
   "cell_type": "code",
   "execution_count": 2,
   "id": "427ab86e",
   "metadata": {},
   "outputs": [
    {
     "data": {
      "text/plain": [
       "3"
      ]
     },
     "execution_count": 2,
     "metadata": {},
     "output_type": "execute_result"
    }
   ],
   "source": [
    "thislist = ['banana', 'cherry', 'apple']\n",
    "len(thislist)"
   ]
  },
  {
   "cell_type": "code",
   "execution_count": 5,
   "id": "7a84be5f",
   "metadata": {},
   "outputs": [
    {
     "name": "stdout",
     "output_type": "stream",
     "text": [
      "['Tomate', 'Papa', 'coliflor', 'zanahoria', 'cebolla']\n"
     ]
    }
   ],
   "source": [
    "vegetable_list = ['Tomate', 'Papa', 'coliflor','zanahoria', 'cebolla']\n",
    "len(vegetable_list)\n",
    "print(vegetable_list)"
   ]
  },
  {
   "cell_type": "code",
   "execution_count": 8,
   "id": "d17b98ce",
   "metadata": {},
   "outputs": [
    {
     "data": {
      "text/plain": [
       "60000"
      ]
     },
     "execution_count": 8,
     "metadata": {},
     "output_type": "execute_result"
    }
   ],
   "source": [
    "paises_CA = [\n",
    "    'El Salvador', 'Guatemala', 'Honduras', 'Nicaragua', 'CostaRica',\n",
    "    'Panamá', 'Belice'\n",
    "]\n",
    "\n",
    "ventas_paises = [ 20000, 30000, 40000, 20000, 60000, 15000]\n",
    "\n",
    "max(ventas_paises)"
   ]
  },
  {
   "cell_type": "markdown",
   "id": "ab7a57d6",
   "metadata": {},
   "source": [
    "### <span style=\"color:darkred\">Agregar elementos a una lista</span>\n",
    "\n",
    "Para agregar un elemento al final de la lista, use el método `append()` :\n"
   ]
  },
  {
   "cell_type": "code",
   "execution_count": 9,
   "id": "92829f2d",
   "metadata": {},
   "outputs": [
    {
     "name": "stdout",
     "output_type": "stream",
     "text": [
      "['banana', 'cherry', 'apple']\n"
     ]
    }
   ],
   "source": [
    "print(thislist )"
   ]
  },
  {
   "cell_type": "code",
   "execution_count": 12,
   "id": "351966c4",
   "metadata": {},
   "outputs": [
    {
     "data": {
      "text/plain": [
       "['banana', 'cherry', 'apple', 'melon', 'melon', 'sandia']"
      ]
     },
     "execution_count": 12,
     "metadata": {},
     "output_type": "execute_result"
    }
   ],
   "source": [
    "thislist.append('sandia')\n",
    "thislist"
   ]
  },
  {
   "cell_type": "code",
   "execution_count": 13,
   "id": "2c0cf19d",
   "metadata": {},
   "outputs": [
    {
     "name": "stdout",
     "output_type": "stream",
     "text": [
      "[]\n"
     ]
    }
   ],
   "source": [
    "empty_list = []\n",
    "print(empty_list)"
   ]
  },
  {
   "cell_type": "code",
   "execution_count": 14,
   "id": "8cb006dc",
   "metadata": {},
   "outputs": [],
   "source": [
    "empty_list.append('elemento1')"
   ]
  },
  {
   "cell_type": "code",
   "execution_count": 15,
   "id": "a3668496",
   "metadata": {},
   "outputs": [
    {
     "data": {
      "text/plain": [
       "['elemento1']"
      ]
     },
     "execution_count": 15,
     "metadata": {},
     "output_type": "execute_result"
    }
   ],
   "source": [
    "empty_list"
   ]
  },
  {
   "cell_type": "code",
   "execution_count": 16,
   "id": "ffb944c7",
   "metadata": {},
   "outputs": [
    {
     "data": {
      "text/plain": [
       "['elemento1', 'elemento2']"
      ]
     },
     "execution_count": 16,
     "metadata": {},
     "output_type": "execute_result"
    }
   ],
   "source": [
    "empty_list.append('elemento2')\n",
    "empty_list"
   ]
  },
  {
   "cell_type": "markdown",
   "id": "76faa5e7",
   "metadata": {},
   "source": [
    "### <span style=\"color:darkred\">Elementos de la lista - Tipos de datos</span>\n",
    "\n",
    "Los elementos de la lista pueden ser de cualquier tipo de datos, por ejemplo, tipos de datos de **cadena, int y booleanos:**\n",
    "\n",
    "#### Ejemplos:"
   ]
  },
  {
   "cell_type": "code",
   "execution_count": 19,
   "id": "c3be09ed",
   "metadata": {},
   "outputs": [
    {
     "name": "stdout",
     "output_type": "stream",
     "text": [
      "<class 'list'>\n",
      "<class 'int'>\n"
     ]
    }
   ],
   "source": [
    "list_int = [1, 2, 3, 4, 5, 6]\n",
    "print(type(list_int))\n",
    "print(type(list_int[3]))"
   ]
  },
  {
   "cell_type": "code",
   "execution_count": 21,
   "id": "90874618",
   "metadata": {},
   "outputs": [
    {
     "name": "stdout",
     "output_type": "stream",
     "text": [
      "<class 'list'>\n",
      "<class 'float'>\n"
     ]
    }
   ],
   "source": [
    "list_float = [1.2 , 0.4, 3.14, 5.7878]\n",
    "print(type(list_float))\n",
    "print(type(list_float[3]))"
   ]
  },
  {
   "cell_type": "code",
   "execution_count": 24,
   "id": "c2183a03",
   "metadata": {},
   "outputs": [
    {
     "name": "stdout",
     "output_type": "stream",
     "text": [
      "<class 'list'>\n",
      "<class 'bool'>\n"
     ]
    }
   ],
   "source": [
    "list_bool = [ True, False, True, False]\n",
    "print(type(list_bool))\n",
    "print(type(list_bool[3]))"
   ]
  },
  {
   "cell_type": "code",
   "execution_count": 25,
   "id": "9f4aa5a6",
   "metadata": {},
   "outputs": [
    {
     "name": "stdout",
     "output_type": "stream",
     "text": [
      "<class 'list'>\n",
      "<class 'str'>\n"
     ]
    }
   ],
   "source": [
    "list_str = ['a', 'b', 'c', 'd']\n",
    "print(type(list_str))\n",
    "print(type(list_str[3]))"
   ]
  },
  {
   "cell_type": "code",
   "execution_count": 27,
   "id": "564c036b",
   "metadata": {},
   "outputs": [
    {
     "name": "stdout",
     "output_type": "stream",
     "text": [
      "<class 'list'>\n"
     ]
    }
   ],
   "source": [
    "list_type = [ 'Hola', 4, 5.76, True] \n",
    "print(type(list_type))"
   ]
  },
  {
   "cell_type": "code",
   "execution_count": 33,
   "id": "93f0122b",
   "metadata": {},
   "outputs": [
    {
     "name": "stdout",
     "output_type": "stream",
     "text": [
      "4\n"
     ]
    }
   ],
   "source": [
    "print(len(list_type))"
   ]
  },
  {
   "cell_type": "code",
   "execution_count": 34,
   "id": "0973e7b7",
   "metadata": {},
   "outputs": [
    {
     "name": "stdout",
     "output_type": "stream",
     "text": [
      "Hola\n",
      "4\n",
      "True\n"
     ]
    }
   ],
   "source": [
    "print(list_type[0])\n",
    "print(list_type[1])\n",
    "print(list_type[3])"
   ]
  },
  {
   "cell_type": "code",
   "execution_count": 35,
   "id": "cc3ddbcf",
   "metadata": {},
   "outputs": [
    {
     "name": "stdout",
     "output_type": "stream",
     "text": [
      "<class 'str'>\n",
      "<class 'int'>\n",
      "<class 'bool'>\n"
     ]
    }
   ],
   "source": [
    "print(type(list_type[0]))\n",
    "print(type(list_type[1]))\n",
    "print(type(list_type[3]))"
   ]
  },
  {
   "cell_type": "code",
   "execution_count": 37,
   "id": "afb5ce88",
   "metadata": {},
   "outputs": [
    {
     "data": {
      "text/plain": [
       "[[1, 2, 3], [4, 5, 6], [7, 8, 9]]"
      ]
     },
     "execution_count": 37,
     "metadata": {},
     "output_type": "execute_result"
    }
   ],
   "source": [
    "ls_in_ls = [[1,2,3],[4,5,6],[7,8,9]]\n",
    "ls_in_ls"
   ]
  },
  {
   "cell_type": "code",
   "execution_count": 40,
   "id": "f15af4b0",
   "metadata": {},
   "outputs": [
    {
     "data": {
      "text/plain": [
       "6"
      ]
     },
     "execution_count": 40,
     "metadata": {},
     "output_type": "execute_result"
    }
   ],
   "source": [
    "ls_in_ls[1][1]"
   ]
  },
  {
   "cell_type": "code",
   "execution_count": 41,
   "id": "61455e85",
   "metadata": {},
   "outputs": [
    {
     "data": {
      "text/plain": [
       "9"
      ]
     },
     "execution_count": 41,
     "metadata": {},
     "output_type": "execute_result"
    }
   ],
   "source": [
    "max(ls_in_ls[2])"
   ]
  },
  {
   "cell_type": "code",
   "execution_count": 43,
   "id": "b56943e4",
   "metadata": {},
   "outputs": [
    {
     "data": {
      "text/plain": [
       "['John Doe',\n",
       " 43,\n",
       " {'Pais': 'El Salvador', 'Ciudad': ' San Salvador'},\n",
       " [1, 2, 3, 4]]"
      ]
     },
     "execution_count": 43,
     "metadata": {},
     "output_type": "execute_result"
    }
   ],
   "source": [
    "person_info = ['John Doe', 43, \n",
    "               {'Pais':'El Salvador',\n",
    "                'Ciudad':' San Salvador'},\n",
    "               [1, 2, 3, 4]\n",
    "              ]\n",
    "person_info"
   ]
  },
  {
   "cell_type": "markdown",
   "id": "2c2a0d7e",
   "metadata": {},
   "source": [
    "Una lista puede contener diferentes tipos de datos, por ejemplo, una lista con cadenas, enteros y valores booleanos: "
   ]
  },
  {
   "cell_type": "markdown",
   "id": "d02697dd",
   "metadata": {},
   "source": [
    "### Accesando a los elementos de una Lista con índices positivos"
   ]
  },
  {
   "cell_type": "code",
   "execution_count": 45,
   "id": "dc4f0df6",
   "metadata": {},
   "outputs": [
    {
     "name": "stdout",
     "output_type": "stream",
     "text": [
      "4\n"
     ]
    }
   ],
   "source": [
    "print(len(person_info))"
   ]
  },
  {
   "cell_type": "code",
   "execution_count": 47,
   "id": "b99fd394",
   "metadata": {},
   "outputs": [
    {
     "name": "stdout",
     "output_type": "stream",
     "text": [
      "{'Pais': 'El Salvador', 'Ciudad': ' San Salvador'}\n",
      "43\n",
      "[1, 2, 3, 4]\n"
     ]
    }
   ],
   "source": [
    "print(person_info[2])\n",
    "print(person_info[1])\n",
    "print(person_info[3])"
   ]
  },
  {
   "cell_type": "markdown",
   "id": "5a58b7a3",
   "metadata": {},
   "source": [
    "### Accesando a los elementos de una Lista con índices negativos\n"
   ]
  },
  {
   "cell_type": "code",
   "execution_count": 50,
   "id": "2d718d87",
   "metadata": {},
   "outputs": [
    {
     "name": "stdout",
     "output_type": "stream",
     "text": [
      "[1, 2, 3, 4]\n",
      "43\n",
      "[[1, 2, 3, 4], {'Pais': 'El Salvador', 'Ciudad': ' San Salvador'}, 43, 'John Doe']\n"
     ]
    }
   ],
   "source": [
    "print(person_info[-1])\n",
    "print(person_info[-3])\n",
    "print(person_info[::-1])"
   ]
  },
  {
   "cell_type": "markdown",
   "id": "9d8a6cee",
   "metadata": {},
   "source": [
    "### Desempacando elementos de una lista"
   ]
  },
  {
   "cell_type": "code",
   "execution_count": 53,
   "id": "10050c21",
   "metadata": {},
   "outputs": [
    {
     "name": "stdout",
     "output_type": "stream",
     "text": [
      "item1\n",
      "item2\n",
      "['item4', 'item5']\n"
     ]
    }
   ],
   "source": [
    "lista_item = ['item1', 'item2', 'item3','item4', 'item5']\n",
    "\n",
    "first_item , second_item, third_item, *rest = lista_item\n",
    "\n",
    "print(first_item)\n",
    "print(second_item)\n",
    "print(rest)"
   ]
  },
  {
   "cell_type": "code",
   "execution_count": 56,
   "id": "720b10fd",
   "metadata": {},
   "outputs": [
    {
     "name": "stdout",
     "output_type": "stream",
     "text": [
      "['pina', 'melon', 'sandia']\n",
      "papaya\n",
      "jocote\n"
     ]
    }
   ],
   "source": [
    "frutas = ['papaya', 'jocote', 'pina', 'melon', 'sandia']\n",
    "\n",
    "fruta1, fruta2, *sobra = frutas\n",
    "print(sobra)\n",
    "print(fruta1)\n",
    "print(fruta2)"
   ]
  },
  {
   "cell_type": "code",
   "execution_count": 57,
   "id": "29db4b22",
   "metadata": {},
   "outputs": [
    {
     "name": "stdout",
     "output_type": "stream",
     "text": [
      "1\n",
      "12\n",
      "13\n",
      "[2, 3, 4, 5, 6, 7, 8, 9, 10, 11]\n"
     ]
    }
   ],
   "source": [
    "numTest = [1,2,3,4,5,6,7,8,9,10,11,12,13]\n",
    "\n",
    "n1, *n_centro, n_penultimo, n_ultimo = numTest\n",
    "\n",
    "print(n1)\n",
    "print(n_penultimo)\n",
    "print(n_ultimo)\n",
    "print(n_centro)\n"
   ]
  },
  {
   "cell_type": "code",
   "execution_count": 61,
   "id": "d6db3fd2",
   "metadata": {},
   "outputs": [
    {
     "name": "stdout",
     "output_type": "stream",
     "text": [
      "['apellido', 'edad', 'queja']\n",
      "ubicacion\n"
     ]
    }
   ],
   "source": [
    "info_problema = ['nombre', 'apellido', 'edad', 'queja', 'ubicacion']\n",
    "\n",
    "c1, *columnas, cf = info_problema\n",
    "\n",
    "print(columnas)\n",
    "print(cf)"
   ]
  },
  {
   "cell_type": "markdown",
   "id": "5526178e",
   "metadata": {},
   "source": [
    "### Slicing elementos de una lista\n",
    "\n",
    "Indexación positiva: Podemos especificar un rango de índices positivos al especificar el inicio, final y paso. El valor de retorno será una nueva lista. (valores predeterminados para inicio = 0, final = len(lst) - 1 (último elemento), paso = 1)"
   ]
  },
  {
   "cell_type": "code",
   "execution_count": 63,
   "id": "82912280",
   "metadata": {},
   "outputs": [
    {
     "data": {
      "text/plain": [
       "['item1', 'item2', 'item3']"
      ]
     },
     "execution_count": 63,
     "metadata": {},
     "output_type": "execute_result"
    }
   ],
   "source": [
    "lista_item = ['item1', 'item2', 'item3','item4', 'item5']\n",
    "\n",
    "sub_lista = lista_item[0:3]\n",
    "sub_lista\n"
   ]
  },
  {
   "cell_type": "markdown",
   "id": "c86491f2",
   "metadata": {},
   "source": [
    "Indexación negativa: Podemos especificar un rango de índices negativos al indicar el inicio, fin y paso, y el valor de retorno será una nueva lista."
   ]
  },
  {
   "cell_type": "code",
   "execution_count": 64,
   "id": "3294b14f",
   "metadata": {},
   "outputs": [
    {
     "data": {
      "text/plain": [
       "['item3', 'item4']"
      ]
     },
     "execution_count": 64,
     "metadata": {},
     "output_type": "execute_result"
    }
   ],
   "source": [
    "lista_item = ['item1', 'item2', 'item3','item4', 'item5']\n",
    "\n",
    "sub_lista = lista_item[-3:-1]\n",
    "sub_lista\n"
   ]
  },
  {
   "cell_type": "markdown",
   "id": "71476511",
   "metadata": {},
   "source": [
    "### Agregar elementos a las listas en cualquier posición"
   ]
  },
  {
   "cell_type": "code",
   "execution_count": 66,
   "id": "271c3d59",
   "metadata": {},
   "outputs": [
    {
     "data": {
      "text/plain": [
       "['item1', 'item2', 'item3', 'no es un item', 'item5', 'item6']"
      ]
     },
     "execution_count": 66,
     "metadata": {},
     "output_type": "execute_result"
    }
   ],
   "source": [
    "lista_item = ['item1', 'item2', 'item3','item4', 'item5', 'item6']\n",
    "\n",
    "lista_item[3] = 'no es un item' \n",
    "lista_item"
   ]
  },
  {
   "cell_type": "markdown",
   "id": "4f7f6586",
   "metadata": {},
   "source": [
    "### Buscar elementos en una lista"
   ]
  },
  {
   "cell_type": "code",
   "execution_count": 67,
   "id": "5f133f30",
   "metadata": {},
   "outputs": [],
   "source": [
    "lista_item = ['item1', 'item2', 'item3','item4', 'item5']"
   ]
  },
  {
   "cell_type": "code",
   "execution_count": 68,
   "id": "9b814d9f",
   "metadata": {},
   "outputs": [
    {
     "data": {
      "text/plain": [
       "True"
      ]
     },
     "execution_count": 68,
     "metadata": {},
     "output_type": "execute_result"
    }
   ],
   "source": [
    "'item3' in lista_item"
   ]
  },
  {
   "cell_type": "code",
   "execution_count": 69,
   "id": "41a7725b",
   "metadata": {},
   "outputs": [
    {
     "data": {
      "text/plain": [
       "False"
      ]
     },
     "execution_count": 69,
     "metadata": {},
     "output_type": "execute_result"
    }
   ],
   "source": [
    "'item6' in lista_item"
   ]
  },
  {
   "cell_type": "code",
   "execution_count": 71,
   "id": "947ac231",
   "metadata": {},
   "outputs": [],
   "source": [
    "lista_item.append('item2')\n"
   ]
  },
  {
   "cell_type": "code",
   "execution_count": 77,
   "id": "6f3cd822",
   "metadata": {},
   "outputs": [
    {
     "name": "stdout",
     "output_type": "stream",
     "text": [
      "['item1', 'item2', 'item3', 'item4', 'item5', 'item2', 'item2']\n"
     ]
    },
    {
     "data": {
      "text/plain": [
       "True"
      ]
     },
     "execution_count": 77,
     "metadata": {},
     "output_type": "execute_result"
    }
   ],
   "source": [
    "print(lista_item)\n",
    "'item2' in lista_item"
   ]
  },
  {
   "cell_type": "markdown",
   "id": "6fa2c919",
   "metadata": {},
   "source": [
    "### Insertar elementos en una lista\n",
    "\n",
    "El metodo `insert()` , iinserta elementos en una lista en un determinado índice.\n",
    "\n",
    "`Sintaxis:`\n",
    "\n",
    "```list.insert(index, element)```\n"
   ]
  },
  {
   "cell_type": "code",
   "execution_count": 87,
   "id": "11f9b0ca",
   "metadata": {},
   "outputs": [
    {
     "data": {
      "text/plain": [
       "['item1', 'item2', 'item 2.5', 'item3', 'item4', 'item5']"
      ]
     },
     "execution_count": 87,
     "metadata": {},
     "output_type": "execute_result"
    }
   ],
   "source": [
    "lista_item = ['item1', 'item2', 'item3','item4', 'item5']\n",
    "\n",
    "lista_item.insert(2,'item 2.5')\n",
    "lista_item"
   ]
  },
  {
   "cell_type": "markdown",
   "id": "a69088a7",
   "metadata": {},
   "source": [
    "### Eliminar elementos en una lista\n",
    "\n",
    "Para eliminar un elemento en específico en una lista utilizamos el método `remove()`:\n",
    "\n",
    "`Sintaxis:`\n",
    "\n",
    "`list.remove(elemento)`"
   ]
  },
  {
   "cell_type": "code",
   "execution_count": 88,
   "id": "cd262f4c",
   "metadata": {},
   "outputs": [
    {
     "name": "stdout",
     "output_type": "stream",
     "text": [
      "['item1', 'item2', 'item 2.5', 'item3', 'item4', 'item5']\n"
     ]
    }
   ],
   "source": [
    "print(lista_item)"
   ]
  },
  {
   "cell_type": "code",
   "execution_count": 89,
   "id": "58148bae",
   "metadata": {},
   "outputs": [
    {
     "data": {
      "text/plain": [
       "['item1', 'item2', 'item3', 'item4', 'item5']"
      ]
     },
     "execution_count": 89,
     "metadata": {},
     "output_type": "execute_result"
    }
   ],
   "source": [
    "lista_item.remove('item 2.5')\n",
    "lista_item"
   ]
  },
  {
   "cell_type": "markdown",
   "id": "8d6344d3",
   "metadata": {},
   "source": [
    "### Eliminar elementos en una lista utilizando el método `pop( )`\n",
    "\n",
    "Para eliminar un elemento en un índice especifico  de una lista utilizamos el método `pop()`:\n",
    "\n",
    "`Sintaxis:`\n",
    "\n",
    "`list.pop(index)`"
   ]
  },
  {
   "cell_type": "code",
   "execution_count": 90,
   "id": "dfc9d394",
   "metadata": {},
   "outputs": [
    {
     "data": {
      "text/plain": [
       "['item1', 'item2', 'item3', 'item4', 'item5']"
      ]
     },
     "execution_count": 90,
     "metadata": {},
     "output_type": "execute_result"
    }
   ],
   "source": [
    "lista_item"
   ]
  },
  {
   "cell_type": "code",
   "execution_count": 91,
   "id": "43b02c78",
   "metadata": {},
   "outputs": [
    {
     "data": {
      "text/plain": [
       "['item1', 'item2', 'item4', 'item5']"
      ]
     },
     "execution_count": 91,
     "metadata": {},
     "output_type": "execute_result"
    }
   ],
   "source": [
    "lista_item.pop(2)\n",
    "lista_item"
   ]
  },
  {
   "cell_type": "markdown",
   "id": "71efdec9",
   "metadata": {},
   "source": [
    "### Eliminar elementos en una lista utilizando `del( )`\n",
    "\n",
    "Para eliminar un elemento en específico, un grupo en especifico o toda la lista en una lista utilizamos el método `del()`:\n",
    "\n",
    "`Sintaxis:`\n",
    "\n",
    "- `del list[index]`\n",
    "\n",
    "- `del list`\n",
    "\n",
    "- `del list[a:b]`"
   ]
  },
  {
   "cell_type": "code",
   "execution_count": 92,
   "id": "02d251d7",
   "metadata": {},
   "outputs": [
    {
     "data": {
      "text/plain": [
       "['item1', 'item2', 'item4', 'item5']"
      ]
     },
     "execution_count": 92,
     "metadata": {},
     "output_type": "execute_result"
    }
   ],
   "source": [
    "lista_item = ['item1', 'item2', 'item3','item4', 'item5']"
   ]
  },
  {
   "cell_type": "code",
   "execution_count": 93,
   "id": "02d1ec03",
   "metadata": {},
   "outputs": [],
   "source": [
    "del lista_item[0]"
   ]
  },
  {
   "cell_type": "code",
   "execution_count": 94,
   "id": "0254ac27",
   "metadata": {},
   "outputs": [
    {
     "data": {
      "text/plain": [
       "['item2', 'item4', 'item5']"
      ]
     },
     "execution_count": 94,
     "metadata": {},
     "output_type": "execute_result"
    }
   ],
   "source": [
    "lista_item"
   ]
  },
  {
   "cell_type": "code",
   "execution_count": 97,
   "id": "0fa88e04",
   "metadata": {},
   "outputs": [],
   "source": [
    "lista_item = ['item1', 'item2', 'item3','item4', 'item5']\n",
    "del lista_item[1:4]"
   ]
  },
  {
   "cell_type": "code",
   "execution_count": 98,
   "id": "ea52e10e",
   "metadata": {},
   "outputs": [
    {
     "data": {
      "text/plain": [
       "['item1', 'item5']"
      ]
     },
     "execution_count": 98,
     "metadata": {},
     "output_type": "execute_result"
    }
   ],
   "source": [
    "lista_item"
   ]
  },
  {
   "cell_type": "code",
   "execution_count": 102,
   "id": "366e3dbc",
   "metadata": {},
   "outputs": [
    {
     "data": {
      "text/plain": [
       "['item1', 'item2', 'item3', 'item4', 'item5']"
      ]
     },
     "execution_count": 102,
     "metadata": {},
     "output_type": "execute_result"
    }
   ],
   "source": [
    "lista_item = ['item1', 'item2', 'item3','item4', 'item5']\n",
    "lista_item"
   ]
  },
  {
   "cell_type": "code",
   "execution_count": 103,
   "id": "40209236",
   "metadata": {},
   "outputs": [],
   "source": [
    "del lista_item"
   ]
  },
  {
   "cell_type": "code",
   "execution_count": 104,
   "id": "c63d0518",
   "metadata": {},
   "outputs": [
    {
     "ename": "NameError",
     "evalue": "name 'lista_item' is not defined",
     "output_type": "error",
     "traceback": [
      "\u001b[0;31m---------------------------------------------------------------------------\u001b[0m",
      "\u001b[0;31mNameError\u001b[0m                                 Traceback (most recent call last)",
      "Input \u001b[0;32mIn [104]\u001b[0m, in \u001b[0;36m<cell line: 1>\u001b[0;34m()\u001b[0m\n\u001b[0;32m----> 1\u001b[0m \u001b[43mlista_item\u001b[49m\n",
      "\u001b[0;31mNameError\u001b[0m: name 'lista_item' is not defined"
     ]
    }
   ],
   "source": [
    "lista_item"
   ]
  },
  {
   "cell_type": "markdown",
   "id": "da575a66",
   "metadata": {},
   "source": [
    "### Limpiar items de listas\n",
    "\n",
    "El método `clear()` limpia elementos en una lista.\n",
    "\n",
    "```\n",
    "Sintaxis:\n",
    "```\n",
    "`list.clear()\n",
    "`"
   ]
  },
  {
   "cell_type": "code",
   "execution_count": 105,
   "id": "16b3965d",
   "metadata": {},
   "outputs": [
    {
     "data": {
      "text/plain": [
       "['item1', 'item2', 'item3', 'item4', 'item5']"
      ]
     },
     "execution_count": 105,
     "metadata": {},
     "output_type": "execute_result"
    }
   ],
   "source": [
    "lista_item = ['item1', 'item2', 'item3','item4', 'item5']\n",
    "lista_item"
   ]
  },
  {
   "cell_type": "code",
   "execution_count": 107,
   "id": "43b0dd27",
   "metadata": {},
   "outputs": [
    {
     "data": {
      "text/plain": [
       "[]"
      ]
     },
     "execution_count": 107,
     "metadata": {},
     "output_type": "execute_result"
    }
   ],
   "source": [
    "lista_item.clear()\n",
    "lista_item"
   ]
  },
  {
   "cell_type": "markdown",
   "id": "928231fe",
   "metadata": {},
   "source": [
    "### Como copiar una lista.\n",
    "\n",
    "`Sintaxis`\n",
    "\n",
    "`listNew = list.copy()`"
   ]
  },
  {
   "cell_type": "code",
   "execution_count": 109,
   "id": "33bd31e9",
   "metadata": {},
   "outputs": [
    {
     "data": {
      "text/plain": [
       "['item1', 'item2', 'item3', 'item4', 'item5']"
      ]
     },
     "execution_count": 109,
     "metadata": {},
     "output_type": "execute_result"
    }
   ],
   "source": [
    "lista_item = ['item1', 'item2', 'item3','item4', 'item5']\n",
    "\n",
    "newlist = lista_item.copy()\n",
    "newlist"
   ]
  },
  {
   "cell_type": "markdown",
   "id": "4c217033",
   "metadata": {},
   "source": [
    "### Unir listas \n",
    "\n",
    "utilizamo el operador de concatenacion `( + )`"
   ]
  },
  {
   "cell_type": "code",
   "execution_count": 110,
   "id": "76662bb6",
   "metadata": {},
   "outputs": [
    {
     "data": {
      "text/plain": [
       "['item1',\n",
       " 'item2',\n",
       " 'item3',\n",
       " 'item4',\n",
       " 'item5',\n",
       " 'item6',\n",
       " 'item7',\n",
       " 'item8',\n",
       " 'item9',\n",
       " 'item10']"
      ]
     },
     "execution_count": 110,
     "metadata": {},
     "output_type": "execute_result"
    }
   ],
   "source": [
    "lista_item1 = ['item1', 'item2', 'item3','item4', 'item5']\n",
    "lista_item2 = ['item6', 'item7', 'item8','item9', 'item10']\n",
    "list_concatenada = lista_item1 + lista_item2\n",
    "list_concatenada"
   ]
  },
  {
   "cell_type": "markdown",
   "id": "408d4e27",
   "metadata": {},
   "source": [
    "Utilizando el método `extend()` para unir listas\n",
    "\n",
    "`Sintaxis:`\n",
    "\n",
    "`list1.extend(list2)`"
   ]
  },
  {
   "cell_type": "code",
   "execution_count": 111,
   "id": "0a0bd74e",
   "metadata": {},
   "outputs": [
    {
     "data": {
      "text/plain": [
       "['item1',\n",
       " 'item2',\n",
       " 'item3',\n",
       " 'item4',\n",
       " 'item5',\n",
       " 'item6',\n",
       " 'item7',\n",
       " 'item8',\n",
       " 'item9',\n",
       " 'item10']"
      ]
     },
     "execution_count": 111,
     "metadata": {},
     "output_type": "execute_result"
    }
   ],
   "source": [
    "lista_item1.extend(lista_item2)\n",
    "\n",
    "lista_item1"
   ]
  },
  {
   "cell_type": "markdown",
   "id": "a14f5abd",
   "metadata": {},
   "source": [
    "### Contando elmentos en uns lista\n",
    "Utilizando el método `extend()` para unir listas\n",
    "\n",
    "`Sintaxis:`\n",
    "\n",
    "`list.count(item)`"
   ]
  },
  {
   "cell_type": "code",
   "execution_count": 115,
   "id": "2b3ad17e",
   "metadata": {},
   "outputs": [],
   "source": [
    "lista_item1.append('item2')"
   ]
  },
  {
   "cell_type": "code",
   "execution_count": 116,
   "id": "e6836d67",
   "metadata": {},
   "outputs": [
    {
     "data": {
      "text/plain": [
       "['item1',\n",
       " 'item2',\n",
       " 'item3',\n",
       " 'item4',\n",
       " 'item5',\n",
       " 'item6',\n",
       " 'item7',\n",
       " 'item8',\n",
       " 'item9',\n",
       " 'item10',\n",
       " 'item2',\n",
       " 'item2',\n",
       " 'item2',\n",
       " 'item2']"
      ]
     },
     "execution_count": 116,
     "metadata": {},
     "output_type": "execute_result"
    }
   ],
   "source": [
    "lista_item1"
   ]
  },
  {
   "cell_type": "code",
   "execution_count": 117,
   "id": "6f75933d",
   "metadata": {},
   "outputs": [
    {
     "data": {
      "text/plain": [
       "5"
      ]
     },
     "execution_count": 117,
     "metadata": {},
     "output_type": "execute_result"
    }
   ],
   "source": [
    "lista_item1.count('item2')"
   ]
  },
  {
   "cell_type": "markdown",
   "id": "8d4081d6",
   "metadata": {},
   "source": [
    "### Buscar elementos en una lista\n",
    "\n",
    "Utilizando el método \n",
    "\n",
    "`Sintaxis:`\n",
    "\n",
    "`list.index(item)`"
   ]
  },
  {
   "cell_type": "code",
   "execution_count": 119,
   "id": "e26f6c8c",
   "metadata": {},
   "outputs": [
    {
     "data": {
      "text/plain": [
       "4"
      ]
     },
     "execution_count": 119,
     "metadata": {},
     "output_type": "execute_result"
    }
   ],
   "source": [
    "lista_item1.index('item5')"
   ]
  },
  {
   "cell_type": "markdown",
   "id": "61b3d897",
   "metadata": {},
   "source": [
    "### Reversing elemento una lista\n",
    "\n",
    "Utilizando el método \n",
    "\n",
    "`Sintaxis:`\n",
    "\n",
    "`list.reverse()`"
   ]
  },
  {
   "cell_type": "code",
   "execution_count": 120,
   "id": "f23dc8b5",
   "metadata": {},
   "outputs": [],
   "source": [
    "lista_item1.reverse()"
   ]
  },
  {
   "cell_type": "code",
   "execution_count": 121,
   "id": "9c3ee178",
   "metadata": {},
   "outputs": [
    {
     "data": {
      "text/plain": [
       "['item2',\n",
       " 'item2',\n",
       " 'item2',\n",
       " 'item2',\n",
       " 'item10',\n",
       " 'item9',\n",
       " 'item8',\n",
       " 'item7',\n",
       " 'item6',\n",
       " 'item5',\n",
       " 'item4',\n",
       " 'item3',\n",
       " 'item2',\n",
       " 'item1']"
      ]
     },
     "execution_count": 121,
     "metadata": {},
     "output_type": "execute_result"
    }
   ],
   "source": [
    "lista_item1"
   ]
  },
  {
   "cell_type": "markdown",
   "id": "5d160d3a",
   "metadata": {},
   "source": [
    "### Ordenar elementos en una lista\n",
    "\n",
    "Para ordenar listas, podemos utilizar el método `sort()` o las funciones integradas `sorted()`. \n",
    "\n",
    "El método `sort()` reorganiza los elementos de la lista en orden ascendente y modifica la lista original. Si se proporciona un argumento reverse igual a verdadero al método `sort()`, ordenará la lista en orden descendente.\n",
    "\n",
    "`Sintaxis:`\n",
    "\n",
    "`# Ascendente modificando la lista  original`\n",
    "\n",
    "`lst.sort() `\n",
    "\n",
    "`# Descendente modificando la lista original`\n",
    "\n",
    "`lst.sort(reverse=True)`"
   ]
  },
  {
   "cell_type": "code",
   "execution_count": 125,
   "id": "87c8e3f4",
   "metadata": {},
   "outputs": [],
   "source": [
    "edades = [22, 19, 24, 35, 26, 24, 25, 24, 10, 32]"
   ]
  },
  {
   "cell_type": "code",
   "execution_count": 123,
   "id": "71fc3c83",
   "metadata": {},
   "outputs": [],
   "source": [
    "edades.sort()"
   ]
  },
  {
   "cell_type": "code",
   "execution_count": 124,
   "id": "ff529c8e",
   "metadata": {},
   "outputs": [
    {
     "data": {
      "text/plain": [
       "[10, 19, 22, 24, 24, 24, 25, 26, 32, 35]"
      ]
     },
     "execution_count": 124,
     "metadata": {},
     "output_type": "execute_result"
    }
   ],
   "source": [
    "edades"
   ]
  },
  {
   "cell_type": "code",
   "execution_count": 126,
   "id": "d19ab7bd",
   "metadata": {},
   "outputs": [],
   "source": [
    "edades.sort(reverse = True)"
   ]
  },
  {
   "cell_type": "code",
   "execution_count": 127,
   "id": "7bdc1b59",
   "metadata": {},
   "outputs": [
    {
     "data": {
      "text/plain": [
       "[35, 32, 26, 25, 24, 24, 24, 22, 19, 10]"
      ]
     },
     "execution_count": 127,
     "metadata": {},
     "output_type": "execute_result"
    }
   ],
   "source": [
    "edades"
   ]
  },
  {
   "cell_type": "markdown",
   "id": "30e5d8a4",
   "metadata": {},
   "source": [
    "### <span style=\"color:darkred\">Tuplas en Python - tuples</span>\n",
    "\n",
    "Las tuplas se utilizan para almacenar varios elementos en una sola variable al igual que las listas. \n",
    "\n",
    "Una tupla es una colección ordenada e inmutable. Las tuplas se escriben con paréntesis. \n",
    "\n",
    "Crear una tupla:"
   ]
  },
  {
   "cell_type": "markdown",
   "id": "8aadc764",
   "metadata": {},
   "source": [
    "### <span style=\"color:darkred\">Características principales</span>\n",
    "\n",
    "#### <span style=\"color:darkred\">Elementos de tupla:</span>\n",
    "\n",
    "    Los elementos de tupla están ordenados, no se pueden modificar y permiten valores duplicados. Los elementos de tupla están indexados, el primer elemento tiene índice [0], el segundo elemento tiene índice [1], etc.\n",
    "\n",
    "#### <span style=\"color:darkred\">Ordenado:</span> \n",
    "\n",
    "    Cuando decimos que las tuplas están ordenadas, significa que los elementos tienen un orden definido y ese orden no cambiará.\n",
    "\n",
    "#### <span style=\"color:darkred\">Inmutable:</span> \n",
    "\n",
    "    Las tuplas no se pueden cambiar, lo que significa que no podemos cambiar, agregar o eliminar elementos después de que se haya creado la tupla.\n",
    "\n",
    "#### <span style=\"color:darkred\">Permitir duplicados</span> \n",
    "\n",
    "    Dado que las tuplas están indexadas, pueden tener elementos con el mismo valor.\n",
    "    \n",
    "### <span style=\"color:darkred\">Longitud de la tupla</span> \n",
    "Para determinar cuántos elementos tiene una tupla, use la función `len()`:\n"
   ]
  },
  {
   "cell_type": "code",
   "execution_count": 128,
   "id": "6a5f4176",
   "metadata": {},
   "outputs": [
    {
     "name": "stdout",
     "output_type": "stream",
     "text": [
      "3\n"
     ]
    }
   ],
   "source": [
    "thistuple = (\"apple\", \"banana\", \"cherry\")\n",
    "print (len(thistuple))"
   ]
  },
  {
   "cell_type": "markdown",
   "id": "7696a6f9",
   "metadata": {},
   "source": [
    "### <span style=\"color:darkred\">Crear tupla con un elemento</span> \n",
    "\n",
    "Para crear una tupla con un solo elemento, debe agregar una coma después del elemento; de lo contrario, Python no lo reconocerá como una tupla."
   ]
  },
  {
   "cell_type": "code",
   "execution_count": 130,
   "id": "040a570a",
   "metadata": {},
   "outputs": [
    {
     "data": {
      "text/plain": [
       "(3, 5, 2)"
      ]
     },
     "execution_count": 130,
     "metadata": {},
     "output_type": "execute_result"
    }
   ],
   "source": [
    "tuple_1 = (3,5,2)\n",
    "tuple_1"
   ]
  },
  {
   "cell_type": "code",
   "execution_count": 132,
   "id": "7db51b9c",
   "metadata": {},
   "outputs": [
    {
     "data": {
      "text/plain": [
       "tuple"
      ]
     },
     "execution_count": 132,
     "metadata": {},
     "output_type": "execute_result"
    }
   ],
   "source": [
    "tuple_2 = (3,)\n",
    "type(tuple_2)"
   ]
  },
  {
   "cell_type": "code",
   "execution_count": 134,
   "id": "e1dee910",
   "metadata": {},
   "outputs": [
    {
     "data": {
      "text/plain": [
       "int"
      ]
     },
     "execution_count": 134,
     "metadata": {},
     "output_type": "execute_result"
    }
   ],
   "source": [
    "not_tuple = (2)\n",
    "type(not_tuple)"
   ]
  },
  {
   "cell_type": "code",
   "execution_count": 135,
   "id": "af5284e8",
   "metadata": {},
   "outputs": [
    {
     "data": {
      "text/plain": [
       "('item2',\n",
       " 'item2',\n",
       " 'item2',\n",
       " 'item2',\n",
       " 'item10',\n",
       " 'item9',\n",
       " 'item8',\n",
       " 'item7',\n",
       " 'item6',\n",
       " 'item5',\n",
       " 'item4',\n",
       " 'item3',\n",
       " 'item2',\n",
       " 'item1')"
      ]
     },
     "execution_count": 135,
     "metadata": {},
     "output_type": "execute_result"
    }
   ],
   "source": [
    "tuple_item = tuple(lista_item1)\n",
    "tuple_item"
   ]
  },
  {
   "cell_type": "code",
   "execution_count": 137,
   "id": "ba28533c",
   "metadata": {},
   "outputs": [
    {
     "data": {
      "text/plain": [
       "'item8'"
      ]
     },
     "execution_count": 137,
     "metadata": {},
     "output_type": "execute_result"
    }
   ],
   "source": [
    "tuple_item[6]"
   ]
  },
  {
   "cell_type": "code",
   "execution_count": 138,
   "id": "0ba804e3",
   "metadata": {},
   "outputs": [
    {
     "data": {
      "text/plain": [
       "'item6'"
      ]
     },
     "execution_count": 138,
     "metadata": {},
     "output_type": "execute_result"
    }
   ],
   "source": [
    "tuple_item[-6]"
   ]
  },
  {
   "cell_type": "markdown",
   "id": "e0224004",
   "metadata": {},
   "source": [
    "### Slicing en la Tuplas"
   ]
  },
  {
   "cell_type": "code",
   "execution_count": 139,
   "id": "d811330e",
   "metadata": {},
   "outputs": [],
   "source": [
    "new_tuple = tuple_item[5:9]"
   ]
  },
  {
   "cell_type": "code",
   "execution_count": 140,
   "id": "0085e0c4",
   "metadata": {},
   "outputs": [
    {
     "data": {
      "text/plain": [
       "('item9', 'item8', 'item7', 'item6')"
      ]
     },
     "execution_count": 140,
     "metadata": {},
     "output_type": "execute_result"
    }
   ],
   "source": [
    "new_tuple"
   ]
  },
  {
   "cell_type": "markdown",
   "id": "b844a633",
   "metadata": {},
   "source": [
    "### Cambiando Tuplas a Listas"
   ]
  },
  {
   "cell_type": "code",
   "execution_count": 141,
   "id": "5ff38d03",
   "metadata": {},
   "outputs": [],
   "source": [
    "new_list = list(new_tuple)"
   ]
  },
  {
   "cell_type": "code",
   "execution_count": 142,
   "id": "a68e1b3a",
   "metadata": {},
   "outputs": [
    {
     "data": {
      "text/plain": [
       "list"
      ]
     },
     "execution_count": 142,
     "metadata": {},
     "output_type": "execute_result"
    }
   ],
   "source": [
    "type(new_list)"
   ]
  },
  {
   "cell_type": "code",
   "execution_count": 143,
   "id": "a4eb9fb6",
   "metadata": {},
   "outputs": [],
   "source": [
    "new_list.append('item5')\n",
    "new_list.append('item4')\n",
    "new_list.append('item2')"
   ]
  },
  {
   "cell_type": "code",
   "execution_count": 144,
   "id": "7b9ee5b5",
   "metadata": {},
   "outputs": [
    {
     "data": {
      "text/plain": [
       "['item9', 'item8', 'item7', 'item6', 'item5', 'item4', 'item2']"
      ]
     },
     "execution_count": 144,
     "metadata": {},
     "output_type": "execute_result"
    }
   ],
   "source": [
    "new_list"
   ]
  },
  {
   "cell_type": "code",
   "execution_count": 145,
   "id": "aba39af2",
   "metadata": {},
   "outputs": [],
   "source": [
    "new_tuple = tuple(new_list)"
   ]
  },
  {
   "cell_type": "code",
   "execution_count": 146,
   "id": "d40464ec",
   "metadata": {},
   "outputs": [
    {
     "data": {
      "text/plain": [
       "('item9', 'item8', 'item7', 'item6', 'item5', 'item4', 'item2')"
      ]
     },
     "execution_count": 146,
     "metadata": {},
     "output_type": "execute_result"
    }
   ],
   "source": [
    "new_tuple"
   ]
  },
  {
   "cell_type": "markdown",
   "id": "c98cfaa7",
   "metadata": {},
   "source": [
    "### Búsquedas en Tuplas"
   ]
  },
  {
   "cell_type": "code",
   "execution_count": 147,
   "id": "1a3af93d",
   "metadata": {},
   "outputs": [
    {
     "data": {
      "text/plain": [
       "True"
      ]
     },
     "execution_count": 147,
     "metadata": {},
     "output_type": "execute_result"
    }
   ],
   "source": [
    "'item7' in new_tuple"
   ]
  },
  {
   "cell_type": "markdown",
   "id": "b4fbe229",
   "metadata": {},
   "source": [
    "### Unir Tuplas `+`"
   ]
  },
  {
   "cell_type": "code",
   "execution_count": 148,
   "id": "daa9e7fb",
   "metadata": {},
   "outputs": [],
   "source": [
    "join_tpl = new_tuple + tuple_item"
   ]
  },
  {
   "cell_type": "code",
   "execution_count": 149,
   "id": "1ceb60f1",
   "metadata": {},
   "outputs": [
    {
     "data": {
      "text/plain": [
       "('item9',\n",
       " 'item8',\n",
       " 'item7',\n",
       " 'item6',\n",
       " 'item5',\n",
       " 'item4',\n",
       " 'item2',\n",
       " 'item2',\n",
       " 'item2',\n",
       " 'item2',\n",
       " 'item2',\n",
       " 'item10',\n",
       " 'item9',\n",
       " 'item8',\n",
       " 'item7',\n",
       " 'item6',\n",
       " 'item5',\n",
       " 'item4',\n",
       " 'item3',\n",
       " 'item2',\n",
       " 'item1')"
      ]
     },
     "execution_count": 149,
     "metadata": {},
     "output_type": "execute_result"
    }
   ],
   "source": [
    "join_tpl"
   ]
  },
  {
   "cell_type": "markdown",
   "id": "7a4f0ca4",
   "metadata": {},
   "source": [
    "### Borrar Tuplas"
   ]
  },
  {
   "cell_type": "code",
   "execution_count": 150,
   "id": "3b62c3f1",
   "metadata": {},
   "outputs": [
    {
     "ename": "NameError",
     "evalue": "name 'join_tpl' is not defined",
     "output_type": "error",
     "traceback": [
      "\u001b[0;31m---------------------------------------------------------------------------\u001b[0m",
      "\u001b[0;31mNameError\u001b[0m                                 Traceback (most recent call last)",
      "Input \u001b[0;32mIn [150]\u001b[0m, in \u001b[0;36m<cell line: 3>\u001b[0;34m()\u001b[0m\n\u001b[1;32m      1\u001b[0m \u001b[38;5;28;01mdel\u001b[39;00m join_tpl\n\u001b[0;32m----> 3\u001b[0m \u001b[38;5;28mprint\u001b[39m(\u001b[43mjoin_tpl\u001b[49m)\n",
      "\u001b[0;31mNameError\u001b[0m: name 'join_tpl' is not defined"
     ]
    }
   ],
   "source": [
    "del join_tpl\n",
    "\n",
    "print(join_tpl)"
   ]
  },
  {
   "cell_type": "markdown",
   "id": "8af9c28a",
   "metadata": {},
   "source": [
    "\n",
    "#### <span style=\"color:darkred\">Conjuntos en Python - `set`</span> \n",
    "\n",
    "Los conjuntos se utilizan para almacenar varios elementos en una sola variable. Un conjunto es una colección desordenada, inmutable* y no indexada. \n",
    "\n",
    "Los elementos establecidos no se pueden modificar, pero puede eliminar elementos y agregar elementos nuevos. Los conjuntos se escriben con llaves."
   ]
  },
  {
   "cell_type": "code",
   "execution_count": 151,
   "id": "181b9887",
   "metadata": {},
   "outputs": [
    {
     "name": "stdout",
     "output_type": "stream",
     "text": [
      "{'apple', 'cherry', 'banana'}\n"
     ]
    }
   ],
   "source": [
    "thisset = {\"apple\", \"banana\", \"cherry\"}\n",
    "print(thisset)"
   ]
  },
  {
   "cell_type": "markdown",
   "id": "9ef7c636",
   "metadata": {},
   "source": [
    "Los conjuntos no están ordenados, por lo que no puede estar seguro en qué orden aparecerán los elementos.\n",
    "\n",
    "### <span style=\"color:darkred\">Características principales</span>\n",
    "\n",
    "#### <span style=\"color:darkred\">Establecer elementos:</span>\n",
    "\n",
    "    Los elementos establecidos no están ordenados, no se pueden modificar y no permiten valores duplicados.\n",
    "\n",
    "#### <span style=\"color:darkred\">Desordenado:</span> \n",
    "\n",
    "    desordenado significa que los elementos de un conjunto no tienen un orden definido.\n",
    "    \n",
    "    Los elementos establecidos pueden aparecer en un orden diferente cada vez que los usa y no se puede hacer referencia a ellos por índice o clave.\n",
    "\n",
    "\n",
    "#### <span style=\"color:darkred\">Mutable:</span> \n",
    "\n",
    "    Los elementos del conjunto se pueden cambiar, lo que significa que podemos cambiar los elementos después de que se haya creado el conjunto. \n",
    "    \n",
    "    Una vez que se crea un conjunto, no puede cambiar sus elementos, pero puede eliminar elementos y agregar elementos nuevos.\n",
    "\n",
    "#### <span style=\"color:darkred\">No se permiten duplicados</span> \n",
    "\n",
    "    los conjuntos no pueden tener dos artículos con el mismo valor.\n",
    "    \n",
    "#### <span style=\"color:darkorange\">Nota</span>  \n",
    "\n",
    "Los valores `True` y `1` se consideran el mismo valor en conjuntos y se tratan como duplicados.\n",
    "\n",
    " \n",
    "### <span style=\"color:darkred\">Obtener la longitud de un conjunto</span> \n",
    "\n",
    "Para determinar cuántos elementos tiene un set, use la función `len()`:"
   ]
  },
  {
   "cell_type": "code",
   "execution_count": 152,
   "id": "ed01ad7f",
   "metadata": {},
   "outputs": [
    {
     "data": {
      "text/plain": [
       "{'a', 'e', 'i', 'o', 'u'}"
      ]
     },
     "execution_count": 152,
     "metadata": {},
     "output_type": "execute_result"
    }
   ],
   "source": [
    "vocales_set = {'a','e', 'i','o', 'u','i','o', 'u','i','o', 'u','i','o', 'u'}\n",
    "vocales_set"
   ]
  },
  {
   "cell_type": "code",
   "execution_count": 153,
   "id": "d801fe39",
   "metadata": {},
   "outputs": [
    {
     "data": {
      "text/plain": [
       "5"
      ]
     },
     "execution_count": 153,
     "metadata": {},
     "output_type": "execute_result"
    }
   ],
   "source": [
    "len(vocales_set)"
   ]
  },
  {
   "cell_type": "markdown",
   "id": "e1a55f21",
   "metadata": {},
   "source": [
    "### Agregar elemento en los 'set'\n",
    "\n",
    "Usando el metodo  `set.add(item)` se agrega un elemento, si desea agregar varios utilice `set.update(item1, item2, item3...)`"
   ]
  },
  {
   "cell_type": "code",
   "execution_count": 156,
   "id": "94eb66da",
   "metadata": {},
   "outputs": [
    {
     "data": {
      "text/plain": [
       "{'a', 'e', 'f', 'i', 'o', 'u'}"
      ]
     },
     "execution_count": 156,
     "metadata": {},
     "output_type": "execute_result"
    }
   ],
   "source": [
    "vocales_set.add('f')\n",
    "vocales_set"
   ]
  },
  {
   "cell_type": "markdown",
   "id": "424416b5",
   "metadata": {},
   "source": [
    "### Eliminar elementos en un set \n",
    "\n",
    "utilizan `set.remove()`, `set.pop()` elimina aleatoriamente un elemento del `set`.\n",
    "\n",
    "\n"
   ]
  },
  {
   "cell_type": "code",
   "execution_count": 157,
   "id": "c8f7b7a8",
   "metadata": {},
   "outputs": [],
   "source": [
    "vocales_set.remove('f')"
   ]
  },
  {
   "cell_type": "code",
   "execution_count": 158,
   "id": "f92a8583",
   "metadata": {},
   "outputs": [
    {
     "data": {
      "text/plain": [
       "{'a', 'e', 'i', 'o', 'u'}"
      ]
     },
     "execution_count": 158,
     "metadata": {},
     "output_type": "execute_result"
    }
   ],
   "source": [
    "vocales_set"
   ]
  },
  {
   "cell_type": "code",
   "execution_count": 159,
   "id": "7025b2aa",
   "metadata": {},
   "outputs": [
    {
     "data": {
      "text/plain": [
       "{'a', 'e', 'i', 'u'}"
      ]
     },
     "execution_count": 159,
     "metadata": {},
     "output_type": "execute_result"
    }
   ],
   "source": [
    "vocales_set.pop()\n",
    "vocales_set"
   ]
  },
  {
   "cell_type": "markdown",
   "id": "af75de90",
   "metadata": {},
   "source": [
    "### Unión de conjuntos `union( )`"
   ]
  },
  {
   "cell_type": "code",
   "execution_count": 160,
   "id": "a0bef2dd",
   "metadata": {},
   "outputs": [
    {
     "data": {
      "text/plain": [
       "{1, 2, 3, 4, 5, 6, 8, 9}"
      ]
     },
     "execution_count": 160,
     "metadata": {},
     "output_type": "execute_result"
    }
   ],
   "source": [
    "set1 = {1,2,3,4,5}\n",
    "set2 = {2,6,9,8}\n",
    "\n",
    "\n",
    "set3 = set1.union(set2)\n",
    "\n",
    "set3"
   ]
  },
  {
   "cell_type": "markdown",
   "id": "26380022",
   "metadata": {},
   "source": [
    "### COnvertir listas a conjuntos"
   ]
  },
  {
   "cell_type": "code",
   "execution_count": 161,
   "id": "3f1b8d60",
   "metadata": {},
   "outputs": [
    {
     "data": {
      "text/plain": [
       "{1, 2, 3, 4, 5, 6, 'r', 't', 'y'}"
      ]
     },
     "execution_count": 161,
     "metadata": {},
     "output_type": "execute_result"
    }
   ],
   "source": [
    "listaSet = [1,2,3,4,1,1,2,3,4,5,6,5,'t','y','r','t','y','r']\n",
    "\n",
    "setConvert = set(listaSet)\n",
    "\n",
    "setConvert"
   ]
  },
  {
   "cell_type": "markdown",
   "id": "568dfd22",
   "metadata": {},
   "source": [
    "### interseccion de Conjuntos"
   ]
  },
  {
   "cell_type": "code",
   "execution_count": 162,
   "id": "a6ae1d54",
   "metadata": {},
   "outputs": [
    {
     "data": {
      "text/plain": [
       "{2}"
      ]
     },
     "execution_count": 162,
     "metadata": {},
     "output_type": "execute_result"
    }
   ],
   "source": [
    "set1 = {1,2,3,4,5}\n",
    "set2 = {2,6,9,8}\n",
    "\n",
    "\n",
    "set3 = set1.intersection(set2)\n",
    "\n",
    "set3"
   ]
  },
  {
   "cell_type": "markdown",
   "id": "8c310e33",
   "metadata": {},
   "source": [
    "### Diferencia Simetrica en conjuntos"
   ]
  },
  {
   "cell_type": "code",
   "execution_count": 163,
   "id": "4de2c9e2",
   "metadata": {},
   "outputs": [
    {
     "data": {
      "text/plain": [
       "{1, 3, 4, 5, 6, 8, 9}"
      ]
     },
     "execution_count": 163,
     "metadata": {},
     "output_type": "execute_result"
    }
   ],
   "source": [
    "set1 = {1,2,3,4,5}\n",
    "set2 = {2,6,9,8}\n",
    "\n",
    "\n",
    "set3 = set1.symmetric_difference(set2)\n",
    "\n",
    "set3"
   ]
  },
  {
   "cell_type": "markdown",
   "id": "8cad9efb",
   "metadata": {},
   "source": [
    "### <span style=\"color:darkred\">Diccionario en Python – Dictionary</span> \n",
    "\n",
    "Los diccionarios se utilizan para almacenar valores de datos en pares clave:valor. Un diccionario es una colección ordenada*, modificable y que no admite duplicados. \n",
    "\n",
    "Los diccionarios se escriben con llaves y tienen claves y valores:"
   ]
  },
  {
   "cell_type": "code",
   "execution_count": 164,
   "id": "3b2bff2c",
   "metadata": {},
   "outputs": [
    {
     "name": "stdout",
     "output_type": "stream",
     "text": [
      "{'brand': 'Ford', 'model': 'Mustang', 'year': 1964}\n"
     ]
    }
   ],
   "source": [
    "thisdict = {\n",
    "\"brand\": \"Ford\",\n",
    "\"model\": 'Mustang',\n",
    "\"year\": 1964\n",
    "}\n",
    "print(thisdict)"
   ]
  },
  {
   "cell_type": "code",
   "execution_count": 166,
   "id": "b62ce2e1",
   "metadata": {},
   "outputs": [
    {
     "data": {
      "text/plain": [
       "{}"
      ]
     },
     "execution_count": 166,
     "metadata": {},
     "output_type": "execute_result"
    }
   ],
   "source": [
    "emptydict = {}\n",
    "emptydict"
   ]
  },
  {
   "cell_type": "markdown",
   "id": "956ab1b8",
   "metadata": {},
   "source": [
    "### <span style=\"color:darkred\">Características principales</span>\n",
    "\n",
    "#### <span style=\"color:darkred\">Elementos del diccionario:</span>\n",
    "\n",
    "    Los elementos del diccionario están ordenados, se pueden modificar y no permiten duplicados. Los elementos del diccionario se presentan en pares clave:valor y se puede hacer referencia a ellos mediante el nombre de la clave.\n",
    "    \n",
    "#### <span style=\"color:darkred\">¿Ordenado o Desordenado?:</span> \n",
    "\n",
    "    Cuando decimos que los diccionarios están ordenados, significa que los elementos tienen un orden definido y ese orden no cambiará. Desordenado significa que los elementos no tienen un orden definido, no puede hacer referencia a un elemento mediante el uso de un índice.\n",
    "\n",
    "#### <span style=\"color:darkred\">Cambiable:</span> \n",
    "\n",
    "    Los diccionarios se pueden cambiar, lo que significa que podemos cambiar, agregar o eliminar elementos después de que se haya creado el diccionario.\n",
    "\n",
    "#### <span style=\"color:darkred\">No se permiten duplicados</span> \n",
    "\n",
    "    los diccionarios no pueden tener dos elementos con la misma clave\n",
    "\n",
    "### <span style=\"color:darkred\">Diccionarios anidados</span> \n",
    "\n",
    "Un diccionario puede contener diccionarios, esto se llama diccionarios anidados, por ejemplo: \n",
    "\n",
    "Cree un diccionario que contenga tres diccionarios:"
   ]
  },
  {
   "cell_type": "code",
   "execution_count": 167,
   "id": "98b4d53a",
   "metadata": {},
   "outputs": [
    {
     "data": {
      "text/plain": [
       "{'childl': {'name': 'Emil', 'year': 2004},\n",
       " 'child2': {'name': 'Tobias', 'year': 2007},\n",
       " 'child3': {'name': 'Linus', 'year': 2011}}"
      ]
     },
     "execution_count": 167,
     "metadata": {},
     "output_type": "execute_result"
    }
   ],
   "source": [
    "myfamily = {\n",
    "    \"childl\" : {\n",
    "    \"name\" : \"Emil\",\n",
    "    \"year\": 2004\n",
    "    },\n",
    "    \"child2\" : {\n",
    "    \"name\" : \"Tobias\",\n",
    "    \"year\" : 2007\n",
    "    },\n",
    "    \"child3\" : {\n",
    "    \"name\" : \"Linus\",\n",
    "    \"year\" : 2011\n",
    "    }\n",
    "}\n",
    "\n",
    "myfamily"
   ]
  },
  {
   "cell_type": "code",
   "execution_count": 168,
   "id": "fde30591",
   "metadata": {},
   "outputs": [
    {
     "data": {
      "text/plain": [
       "{'name': 'Linus', 'year': 2011}"
      ]
     },
     "execution_count": 168,
     "metadata": {},
     "output_type": "execute_result"
    }
   ],
   "source": [
    "myfamily['child3']"
   ]
  },
  {
   "cell_type": "code",
   "execution_count": 172,
   "id": "21de4fcb",
   "metadata": {},
   "outputs": [],
   "source": [
    "person = {\n",
    "    'first_name':'Asabeneh',\n",
    "    'last_name':'Yetayeh',\n",
    "    'age':25,\n",
    "    'country':'Finland',\n",
    "    'is_marred':True,\n",
    "    'skills':['JavaScript', 'React', 'Node', 'MongoDB', 'Python'],\n",
    "    'address':{\n",
    "        'street':'Space street',\n",
    "        'zipcode':'02210'\n",
    "    }\n",
    "    }"
   ]
  },
  {
   "cell_type": "code",
   "execution_count": 173,
   "id": "77a42246",
   "metadata": {},
   "outputs": [
    {
     "data": {
      "text/plain": [
       "25"
      ]
     },
     "execution_count": 173,
     "metadata": {},
     "output_type": "execute_result"
    }
   ],
   "source": [
    "person['age']"
   ]
  },
  {
   "cell_type": "code",
   "execution_count": 175,
   "id": "d3112e84",
   "metadata": {},
   "outputs": [
    {
     "data": {
      "text/plain": [
       "{'first_name': 'Asabeneh',\n",
       " 'last_name': 'Yetayeh',\n",
       " 'age': 25,\n",
       " 'country': 'Finland',\n",
       " 'is_marred': True,\n",
       " 'skills': ['JavaScript', 'React', 'Node', 'MongoDB', 'Python'],\n",
       " 'address': {'street': 'Space street', 'zipcode': '02210'},\n",
       " 'City': 'Inventada'}"
      ]
     },
     "execution_count": 175,
     "metadata": {},
     "output_type": "execute_result"
    }
   ],
   "source": [
    "person['City'] = 'Inventada' \n",
    "person"
   ]
  },
  {
   "cell_type": "code",
   "execution_count": 177,
   "id": "f03718f6",
   "metadata": {},
   "outputs": [
    {
     "data": {
      "text/plain": [
       "{'first_name': 'Asabeneh',\n",
       " 'last_name': 'Yetayeh',\n",
       " 'age': 25,\n",
       " 'country': 'Finland',\n",
       " 'is_marred': True,\n",
       " 'skills': ['JavaScript',\n",
       "  'React',\n",
       "  'Node',\n",
       "  'MongoDB',\n",
       "  'Python',\n",
       "  'domir',\n",
       "  'domir'],\n",
       " 'address': {'street': 'Space street', 'zipcode': '02210'},\n",
       " 'City': 'Inventada'}"
      ]
     },
     "execution_count": 177,
     "metadata": {},
     "output_type": "execute_result"
    }
   ],
   "source": [
    "person['skills'].append('domir')\n",
    "person"
   ]
  },
  {
   "cell_type": "code",
   "execution_count": 178,
   "id": "f661408a",
   "metadata": {},
   "outputs": [
    {
     "data": {
      "text/plain": [
       "{'first_name': 'Asabeneh',\n",
       " 'last_name': 'Yetayeh',\n",
       " 'age': 25,\n",
       " 'country': 'Finland',\n",
       " 'is_marred': True,\n",
       " 'skills': ['JavaScript',\n",
       "  'React',\n",
       "  'Node',\n",
       "  'MongoDB',\n",
       "  'Python',\n",
       "  'domir',\n",
       "  'domir'],\n",
       " 'address': {'street': 'Space street', 'zipcode': '02210'},\n",
       " 'City': 'Inventada',\n",
       " 'lista': ['uno ', 'dos ', 'tres']}"
      ]
     },
     "execution_count": 178,
     "metadata": {},
     "output_type": "execute_result"
    }
   ],
   "source": [
    "person['lista'] =['uno ', 'dos ', 'tres' ]\n",
    "person"
   ]
  },
  {
   "cell_type": "code",
   "execution_count": 179,
   "id": "a63119fd",
   "metadata": {},
   "outputs": [
    {
     "data": {
      "text/plain": [
       "True"
      ]
     },
     "execution_count": 179,
     "metadata": {},
     "output_type": "execute_result"
    }
   ],
   "source": [
    "'address' in person"
   ]
  },
  {
   "cell_type": "code",
   "execution_count": 180,
   "id": "16783fd0",
   "metadata": {},
   "outputs": [
    {
     "data": {
      "text/plain": [
       "{'street': 'Space street', 'zipcode': '02210'}"
      ]
     },
     "execution_count": 180,
     "metadata": {},
     "output_type": "execute_result"
    }
   ],
   "source": [
    "person.pop('address')"
   ]
  },
  {
   "cell_type": "code",
   "execution_count": 181,
   "id": "88683937",
   "metadata": {},
   "outputs": [
    {
     "data": {
      "text/plain": [
       "{'first_name': 'Asabeneh',\n",
       " 'last_name': 'Yetayeh',\n",
       " 'age': 25,\n",
       " 'country': 'Finland',\n",
       " 'is_marred': True,\n",
       " 'skills': ['JavaScript',\n",
       "  'React',\n",
       "  'Node',\n",
       "  'MongoDB',\n",
       "  'Python',\n",
       "  'domir',\n",
       "  'domir'],\n",
       " 'City': 'Inventada',\n",
       " 'lista': ['uno ', 'dos ', 'tres']}"
      ]
     },
     "execution_count": 181,
     "metadata": {},
     "output_type": "execute_result"
    }
   ],
   "source": [
    "person"
   ]
  },
  {
   "cell_type": "code",
   "execution_count": 182,
   "id": "6a8d9dc5",
   "metadata": {},
   "outputs": [
    {
     "ename": "NameError",
     "evalue": "name 'person' is not defined",
     "output_type": "error",
     "traceback": [
      "\u001b[0;31m---------------------------------------------------------------------------\u001b[0m",
      "\u001b[0;31mNameError\u001b[0m                                 Traceback (most recent call last)",
      "Input \u001b[0;32mIn [182]\u001b[0m, in \u001b[0;36m<cell line: 2>\u001b[0;34m()\u001b[0m\n\u001b[1;32m      1\u001b[0m \u001b[38;5;28;01mdel\u001b[39;00m person\n\u001b[0;32m----> 2\u001b[0m \u001b[43mperson\u001b[49m\n",
      "\u001b[0;31mNameError\u001b[0m: name 'person' is not defined"
     ]
    }
   ],
   "source": [
    "del person\n",
    "person"
   ]
  },
  {
   "cell_type": "markdown",
   "id": "dd5d424b",
   "metadata": {},
   "source": [
    "\n",
    "### <span style=\"color:darkred\">Los constructores de las colecciones</span> \n",
    "\n",
    "Los **constructores** son métodos especiales que se ejecutan automáticamente cuando se crea una nueva instancia de una clase.\n",
    "\n",
    "\n",
    "#### <span style=\"color:darkblue\">Listas</span> \n",
    "\n",
    "También es posible usar el constructor `list()` al crear una nueva lista.\n"
   ]
  },
  {
   "cell_type": "code",
   "execution_count": 21,
   "id": "7612a93f",
   "metadata": {},
   "outputs": [
    {
     "name": "stdout",
     "output_type": "stream",
     "text": [
      "['apple', 'banana', 'cherry']\n"
     ]
    }
   ],
   "source": [
    "thislist = list((\"apple\", \"banana\", \"cherry\")) # note the double round-brackets\n",
    "print(thislist)"
   ]
  },
  {
   "cell_type": "markdown",
   "id": "82c0b486",
   "metadata": {},
   "source": [
    "A diferencia de crear una lista normal acá podemos compartir una `tupla` que se caracteriza por tener los elementos dentro de paréntesis y es convertido a lista si esta cumple las características de esta. \n",
    "\n",
    "#### <span style=\"color:darkblue\">Tuplas</span> \n",
    "\n",
    "También es posible usar el constructor tuple() para hacer una tupla."
   ]
  },
  {
   "cell_type": "code",
   "execution_count": 22,
   "id": "741c8592",
   "metadata": {},
   "outputs": [
    {
     "name": "stdout",
     "output_type": "stream",
     "text": [
      "('apple', 'banana', 'cherry')\n"
     ]
    }
   ],
   "source": [
    "thistuple = tuple ((\"apple\", \"banana\", \"cherry\")) # note the double round-brackets\n",
    "print(thistuple)"
   ]
  },
  {
   "cell_type": "markdown",
   "id": "184c8f6c",
   "metadata": {},
   "source": [
    "#### <span style=\"color:darkblue\">Conjuntos</span> \n",
    "\n",
    "También es posible usar el constructor `set()` para hacer un conjunto."
   ]
  },
  {
   "cell_type": "code",
   "execution_count": 24,
   "id": "51c288a8",
   "metadata": {},
   "outputs": [
    {
     "name": "stdout",
     "output_type": "stream",
     "text": [
      "{'cherry', 'apple', 'banana'}\n"
     ]
    }
   ],
   "source": [
    "thisset = set((\"apple\",  \"banana\",  \"cherry\")) # note the double round-brackets\n",
    "print(thisset)"
   ]
  },
  {
   "cell_type": "markdown",
   "id": "c1cc63cb",
   "metadata": {},
   "source": [
    "#### <span style=\"color:darkblue\">Diccionarios</span> \n",
    "\n",
    "También es posible usar el constructor `dict()` para hacer un diccionario."
   ]
  },
  {
   "cell_type": "code",
   "execution_count": 26,
   "id": "c518bc47",
   "metadata": {},
   "outputs": [
    {
     "name": "stdout",
     "output_type": "stream",
     "text": [
      "{'name': 'John', 'age': 36, 'country': 'Norway'}\n"
     ]
    }
   ],
   "source": [
    "thisdict = dict (name = \"John\", age = 36, country = \"Norway\")\n",
    "print(thisdict)"
   ]
  },
  {
   "cell_type": "markdown",
   "id": "bf99011e",
   "metadata": {},
   "source": [
    "\n",
    "#### <span style=\"color:darkred\">Aplicando Conocimientos</span> \n",
    "\n",
    "1.\tUtilizar una lista para añadir y eliminar elementos en un bucle repetitivo: "
   ]
  },
  {
   "cell_type": "markdown",
   "id": "91cc29b3",
   "metadata": {},
   "source": [
    "Este ejemplo crea una lista vacía y luego le pide al usuario que ingrese elementos uno por uno, añadiéndolos a la lista con el método `append()`.\n",
    "\n",
    "Una vez que el usuario ingresa \"fin\", el bucle se detiene y la lista completa se imprime en pantalla.\n",
    "\n",
    "Luego, se elimina el último elemento de la lista con el método `pop()`, y se imprime la lista actualizada.\n",
    "\n",
    "2. Utilizar un diccionario como una base de datos\n"
   ]
  },
  {
   "cell_type": "markdown",
   "id": "7ea89d86",
   "metadata": {},
   "source": [
    "Este ejemplo utiliza un diccionario para almacenar datos de usuarios, donde cada usuario es una clave que apunta a otro diccionario que contiene los datos de ese usuario (en este caso, su edad y su ciudad).\n",
    "\n",
    "El ejemplo agrega algunos usuarios a la base de datos y luego imprime la base de datos completa en pantalla.\n",
    "\n",
    "Luego, modifica los datos de un usuario existente (en este caso, Juan cambia de tener 25 años a tener 27) y vuelve a imprimir la base de datos actualizada.\n",
    "\n",
    "3. Utilizar un set para variables de sistema como ejemplo\n"
   ]
  },
  {
   "cell_type": "markdown",
   "id": "0e0588a1",
   "metadata": {},
   "source": [
    "\n",
    "#### <span style=\"color:darkred\">Permitir duplicados</span> "
   ]
  },
  {
   "cell_type": "markdown",
   "id": "8ac5145d",
   "metadata": {},
   "source": [
    "\n",
    "#### <span style=\"color:darkred\">Permitir duplicados</span> "
   ]
  },
  {
   "cell_type": "markdown",
   "id": "301e49fe",
   "metadata": {},
   "source": [
    "\n",
    "#### <span style=\"color:darkred\">Permitir duplicados</span> "
   ]
  }
 ],
 "metadata": {
  "kernelspec": {
   "display_name": "Python 3 (ipykernel)",
   "language": "python",
   "name": "python3"
  },
  "language_info": {
   "codemirror_mode": {
    "name": "ipython",
    "version": 3
   },
   "file_extension": ".py",
   "mimetype": "text/x-python",
   "name": "python",
   "nbconvert_exporter": "python",
   "pygments_lexer": "ipython3",
   "version": "3.9.12"
  }
 },
 "nbformat": 4,
 "nbformat_minor": 5
}
