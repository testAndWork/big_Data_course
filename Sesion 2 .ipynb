{
 "cells": [
  {
   "cell_type": "markdown",
   "id": "9c8c537c",
   "metadata": {},
   "source": [
    "\n",
    "\n",
    "# <span style=\"color:darkblue\">Módulo 1 - Introducción a la programación con Python </span>\n",
    "\n",
    "## <span style=\"color:darkblue\">Sesión:\tSesión 2 - Características generales de Python Sintaxis</span>\n",
    "\n",
    "### <span style=\"color:darkblue\">Duración estimada:\t3 horas</span>\n"
   ]
  },
  {
   "cell_type": "markdown",
   "id": "42a8be22",
   "metadata": {},
   "source": [
    "## <span style=\"color:darkblue\"> Tabla de contenidos:\n",
    " \n",
    "    1- Bienvenida\n",
    "    \n",
    "    2- Asistencia\n",
    "    \n",
    "    3- Dudas de la Clase anterior\n",
    "    \n",
    "    4- Control de Lectura\n",
    "    \n",
    "    5- Objetivo\n",
    "    \n",
    "    6- Introducción\n",
    "    \n",
    "    7- Funciones Integradas\n",
    "    \n",
    "    8- Variables \n",
    "    \n",
    "    9- Control de lectura\n",
    "    \n",
    "    10-Función Print()\n",
    "    \n",
    "    12-Control de lectura\n",
    "    \n",
    "    13- Comentarios\n",
    "    \n",
    "    14-Asistencia\n",
    "    \n",
    "    15 - Tarea\n",
    "</span>"
   ]
  },
  {
   "cell_type": "markdown",
   "id": "51ae1b4d",
   "metadata": {},
   "source": [
    "## Objetivo:\n",
    "Comprender las reglas y convenciones que se utilizan para escribir programas del lenguaje de programación de Python, aprender estas características generales de Python te ayudará a escribir código Python de manera más efectiva y a comprender mejor los programas Python escritos por otros programadores.\n",
    "\n",
    "### Recursos\n",
    "\n",
    "•\tSesión 2 de Curso de Python\n",
    "\n",
    "•\tAcceso a internet\n",
    "\n",
    "•\tPython Instalado en computadora\n",
    "\n",
    "•\tVisual Studio Code\n",
    "\n",
    "### Introducción:\n",
    "Es importante comprender algunas de las características generales de la sintaxis de Python para poder dominarlo en primer lugar, Python utiliza la indentación para definir bloques de código, lo que significa que la forma en que se estructura el código es crucial para su correcta ejecución. \n",
    "\n",
    "Además, Python tiene una gran cantidad de tipos de datos incorporados, como números, cadenas de texto y listas, lo que lo hace versátil y adecuado para una amplia variedad de aplicaciones.\n",
    "\n",
    "Otras características importantes incluyen el uso de estructuras de control de flujo como if/else y bucles for/while, el uso de funciones para organizar y reutilizar el código, y el uso de módulos para importar funcionalidad de otros archivos de Python. \n",
    "\n",
    "Por último, Python tiene una sólida gestión de excepciones, lo que permite manejar errores y problemas de manera efectiva en tiempo de ejecución.\n",
    "\n",
    "### La línea de comandos de Python\n",
    "\n",
    "Para probar una pequeña cantidad de código en python, a veces es más rápido y fácil no escribir el código en un archivo. Esto es posible porque Python se puede ejecutar como una línea de comando.\n",
    "\n",
    "Escriba lo siguiente en la línea de comandos:\n",
    "\n",
    "<img src=\"./images/01.png\" alt=\"\">\n",
    "\n",
    "Que escribirá \"¡Hola, mundo!\" en la línea de comando:\n",
    "\n",
    "<img src=\"./images/02.png\" alt=\"\">\n",
    "\n",
    "Esa es una forma fácil de trabajar código rápido de Python desde la consola. Recordemos que en nuestro curso trabajaremos con Visual Studio Code y debido a ello tendremos en cuenta el tener una carpeta donde almacenaremos nuestro código. \n"
   ]
  },
  {
   "cell_type": "code",
   "execution_count": 2,
   "id": "97854f4a-9eff-4a93-adaa-e0080bb4080b",
   "metadata": {},
   "outputs": [
    {
     "data": {
      "text/plain": [
       "6"
      ]
     },
     "execution_count": 2,
     "metadata": {},
     "output_type": "execute_result"
    }
   ],
   "source": [
    "#funcion integrada para calcular el maximo\n",
    "\n",
    "result = max(4, 5, 6)\n",
    "result"
   ]
  },
  {
   "cell_type": "code",
   "execution_count": 6,
   "id": "d5979c26-2b0d-4000-abda-d6321dd9d12a",
   "metadata": {},
   "outputs": [
    {
     "data": {
      "text/plain": [
       "23.0"
      ]
     },
     "execution_count": 6,
     "metadata": {},
     "output_type": "execute_result"
    }
   ],
   "source": [
    "result = 137/6\n",
    "round(result, 0)"
   ]
  },
  {
   "cell_type": "code",
   "execution_count": 8,
   "id": "c5acfc9e-8bfc-4989-a2a6-485435e7e77d",
   "metadata": {},
   "outputs": [
    {
     "data": {
      "text/plain": [
       "4"
      ]
     },
     "execution_count": 8,
     "metadata": {},
     "output_type": "execute_result"
    }
   ],
   "source": [
    "result = min(4,5,6,7)\n",
    "result"
   ]
  },
  {
   "cell_type": "markdown",
   "id": "a50ce0e9",
   "metadata": {},
   "source": [
    "### <span style=\"color:darkred\">Python como calculadora</span>"
   ]
  },
  {
   "cell_type": "code",
   "execution_count": 9,
   "id": "e6989410",
   "metadata": {},
   "outputs": [
    {
     "data": {
      "text/plain": [
       "8"
      ]
     },
     "execution_count": 9,
     "metadata": {},
     "output_type": "execute_result"
    }
   ],
   "source": [
    "3 + 5"
   ]
  },
  {
   "cell_type": "code",
   "execution_count": 10,
   "id": "4da465a5",
   "metadata": {},
   "outputs": [
    {
     "data": {
      "text/plain": [
       "20"
      ]
     },
     "execution_count": 10,
     "metadata": {},
     "output_type": "execute_result"
    }
   ],
   "source": [
    "4*5"
   ]
  },
  {
   "cell_type": "markdown",
   "id": "9fc000a2",
   "metadata": {},
   "source": [
    "Potencia de un número $3^2$"
   ]
  },
  {
   "cell_type": "code",
   "execution_count": 11,
   "id": "e9a25859",
   "metadata": {},
   "outputs": [
    {
     "data": {
      "text/plain": [
       "9"
      ]
     },
     "execution_count": 11,
     "metadata": {},
     "output_type": "execute_result"
    }
   ],
   "source": [
    "3**2"
   ]
  },
  {
   "cell_type": "markdown",
   "id": "c6f89686",
   "metadata": {},
   "source": [
    "Division y nos muestra el cociente"
   ]
  },
  {
   "cell_type": "code",
   "execution_count": 20,
   "id": "8a694558",
   "metadata": {},
   "outputs": [
    {
     "data": {
      "text/plain": [
       "1"
      ]
     },
     "execution_count": 20,
     "metadata": {},
     "output_type": "execute_result"
    }
   ],
   "source": [
    "8 // 5"
   ]
  },
  {
   "cell_type": "markdown",
   "id": "8e2d3ea0",
   "metadata": {},
   "source": [
    "División para que nos muestre el residuo"
   ]
  },
  {
   "cell_type": "code",
   "execution_count": 15,
   "id": "cfcd4645",
   "metadata": {},
   "outputs": [
    {
     "data": {
      "text/plain": [
       "3"
      ]
     },
     "execution_count": 15,
     "metadata": {},
     "output_type": "execute_result"
    }
   ],
   "source": [
    "8 % 5"
   ]
  },
  {
   "cell_type": "markdown",
   "id": "dd213d0c",
   "metadata": {},
   "source": [
    "Calculando muchas operaciones simultaneas"
   ]
  },
  {
   "cell_type": "code",
   "execution_count": 19,
   "id": "98ef633b",
   "metadata": {},
   "outputs": [
    {
     "data": {
      "text/plain": [
       "-27.0"
      ]
     },
     "execution_count": 19,
     "metadata": {},
     "output_type": "execute_result"
    }
   ],
   "source": [
    "1 + 2 -5 * 30 / 5"
   ]
  },
  {
   "cell_type": "code",
   "execution_count": 21,
   "id": "bfe10820",
   "metadata": {},
   "outputs": [],
   "source": [
    "def sumar(a,b):\n",
    "    return a+b"
   ]
  },
  {
   "cell_type": "code",
   "execution_count": 22,
   "id": "75771b9e",
   "metadata": {},
   "outputs": [
    {
     "data": {
      "text/plain": [
       "8"
      ]
     },
     "execution_count": 22,
     "metadata": {},
     "output_type": "execute_result"
    }
   ],
   "source": [
    "sumar(3,5)"
   ]
  },
  {
   "cell_type": "markdown",
   "id": "832fb1da",
   "metadata": {},
   "source": [
    "### <span style=\"color:darkred\">Built-in Functions - Funciones Integradas</span>\n",
    "\n",
    "En Python tenemos muchas funciones integradas. Las funciones integradas están disponibles globalmente para que las uses sin importar módulos ni ninguna configuración adicional. Algunas de las funciones integradas más comunes son:\n",
    "\n",
    "```print(), len(), type(), int(), float(), str(), input(), list(), dict(), min(), max(), sum(), sorted(), open(), file(), help(), and dir().```\n",
    "\n",
    "<img src=\"./images/04.png\" alt=\"\">"
   ]
  },
  {
   "cell_type": "code",
   "execution_count": 25,
   "id": "f303ce22-431c-41f0-8a49-d7aa1d7e2935",
   "metadata": {},
   "outputs": [
    {
     "name": "stdout",
     "output_type": "stream",
     "text": [
      "Hello, world!\n",
      "Hello, world!\n"
     ]
    },
    {
     "data": {
      "text/plain": [
       "13"
      ]
     },
     "execution_count": 25,
     "metadata": {},
     "output_type": "execute_result"
    }
   ],
   "source": [
    "print('Hello, world!')\n",
    "print(\"Hello, world!\")\n",
    "\n",
    "len(\"Hello, world!\") # Empieza a contar asi index [0, 1, 2, 3, ... , 13]"
   ]
  },
  {
   "cell_type": "code",
   "execution_count": 26,
   "id": "2eac64b0",
   "metadata": {},
   "outputs": [
    {
     "data": {
      "text/plain": [
       "str"
      ]
     },
     "execution_count": 26,
     "metadata": {},
     "output_type": "execute_result"
    }
   ],
   "source": [
    "type(\"Hello, world!\")"
   ]
  },
  {
   "cell_type": "code",
   "execution_count": 27,
   "id": "61bef419",
   "metadata": {},
   "outputs": [
    {
     "data": {
      "text/plain": [
       "10"
      ]
     },
     "execution_count": 27,
     "metadata": {},
     "output_type": "execute_result"
    }
   ],
   "source": [
    "10"
   ]
  },
  {
   "cell_type": "code",
   "execution_count": 28,
   "id": "a155e06c",
   "metadata": {},
   "outputs": [
    {
     "data": {
      "text/plain": [
       "'10'"
      ]
     },
     "execution_count": 28,
     "metadata": {},
     "output_type": "execute_result"
    }
   ],
   "source": [
    "str(10)"
   ]
  },
  {
   "cell_type": "code",
   "execution_count": 29,
   "id": "e1ba386e",
   "metadata": {},
   "outputs": [
    {
     "data": {
      "text/plain": [
       "10.0"
      ]
     },
     "execution_count": 29,
     "metadata": {},
     "output_type": "execute_result"
    }
   ],
   "source": [
    "float(10)"
   ]
  },
  {
   "cell_type": "code",
   "execution_count": 30,
   "id": "5a182a45",
   "metadata": {},
   "outputs": [
    {
     "name": "stdout",
     "output_type": "stream",
     "text": [
      "Escribe aca la cadena de caracteres a capturaresta es una prueba de captura de texto\n"
     ]
    },
    {
     "data": {
      "text/plain": [
       "'esta es una prueba de captura de texto'"
      ]
     },
     "execution_count": 30,
     "metadata": {},
     "output_type": "execute_result"
    }
   ],
   "source": [
    "input('Escribe aca la cadena de caracteres a capturar')"
   ]
  },
  {
   "cell_type": "code",
   "execution_count": 32,
   "id": "4a382344",
   "metadata": {},
   "outputs": [
    {
     "name": "stdout",
     "output_type": "stream",
     "text": [
      "Escribe un numero: 34\n",
      "<class 'str'>\n",
      "34\n"
     ]
    }
   ],
   "source": [
    "numero = input('Escribe un numero: ')\n",
    "\n",
    "print(type(numero))\n",
    "print(numero)"
   ]
  },
  {
   "cell_type": "code",
   "execution_count": 33,
   "id": "abf8b7a0",
   "metadata": {},
   "outputs": [
    {
     "name": "stdout",
     "output_type": "stream",
     "text": [
      "Escribe un numero: 34\n",
      "<class 'int'>\n",
      "34\n"
     ]
    }
   ],
   "source": [
    "numero = int(input('Escribe un numero: '))\n",
    "\n",
    "print(type(numero))\n",
    "print(numero)"
   ]
  },
  {
   "cell_type": "code",
   "execution_count": 34,
   "id": "e3288c2e",
   "metadata": {},
   "outputs": [
    {
     "name": "stdout",
     "output_type": "stream",
     "text": [
      "Escribe un numero: 34\n",
      "<class 'float'>\n",
      "34.0\n"
     ]
    }
   ],
   "source": [
    "numero = float(input('Escribe un numero: '))\n",
    "\n",
    "print(type(numero))\n",
    "print(numero)"
   ]
  },
  {
   "cell_type": "code",
   "execution_count": 35,
   "id": "c2933b2f",
   "metadata": {},
   "outputs": [
    {
     "name": "stdout",
     "output_type": "stream",
     "text": [
      "Help on built-in function print in module builtins:\n",
      "\n",
      "print(...)\n",
      "    print(value, ..., sep=' ', end='\\n', file=sys.stdout, flush=False)\n",
      "    \n",
      "    Prints the values to a stream, or to sys.stdout by default.\n",
      "    Optional keyword arguments:\n",
      "    file:  a file-like object (stream); defaults to the current sys.stdout.\n",
      "    sep:   string inserted between values, default a space.\n",
      "    end:   string appended after the last value, default a newline.\n",
      "    flush: whether to forcibly flush the stream.\n",
      "\n"
     ]
    }
   ],
   "source": [
    "help(print)"
   ]
  },
  {
   "cell_type": "code",
   "execution_count": 36,
   "id": "4cef69a2",
   "metadata": {},
   "outputs": [
    {
     "name": "stdout",
     "output_type": "stream",
     "text": [
      "Help on class int in module builtins:\n",
      "\n",
      "class int(object)\n",
      " |  int([x]) -> integer\n",
      " |  int(x, base=10) -> integer\n",
      " |  \n",
      " |  Convert a number or string to an integer, or return 0 if no arguments\n",
      " |  are given.  If x is a number, return x.__int__().  For floating point\n",
      " |  numbers, this truncates towards zero.\n",
      " |  \n",
      " |  If x is not a number or if base is given, then x must be a string,\n",
      " |  bytes, or bytearray instance representing an integer literal in the\n",
      " |  given base.  The literal can be preceded by '+' or '-' and be surrounded\n",
      " |  by whitespace.  The base defaults to 10.  Valid bases are 0 and 2-36.\n",
      " |  Base 0 means to interpret the base from the string as an integer literal.\n",
      " |  >>> int('0b100', base=0)\n",
      " |  4\n",
      " |  \n",
      " |  Built-in subclasses:\n",
      " |      bool\n",
      " |  \n",
      " |  Methods defined here:\n",
      " |  \n",
      " |  __abs__(self, /)\n",
      " |      abs(self)\n",
      " |  \n",
      " |  __add__(self, value, /)\n",
      " |      Return self+value.\n",
      " |  \n",
      " |  __and__(self, value, /)\n",
      " |      Return self&value.\n",
      " |  \n",
      " |  __bool__(self, /)\n",
      " |      True if self else False\n",
      " |  \n",
      " |  __ceil__(...)\n",
      " |      Ceiling of an Integral returns itself.\n",
      " |  \n",
      " |  __divmod__(self, value, /)\n",
      " |      Return divmod(self, value).\n",
      " |  \n",
      " |  __eq__(self, value, /)\n",
      " |      Return self==value.\n",
      " |  \n",
      " |  __float__(self, /)\n",
      " |      float(self)\n",
      " |  \n",
      " |  __floor__(...)\n",
      " |      Flooring an Integral returns itself.\n",
      " |  \n",
      " |  __floordiv__(self, value, /)\n",
      " |      Return self//value.\n",
      " |  \n",
      " |  __format__(self, format_spec, /)\n",
      " |      Default object formatter.\n",
      " |  \n",
      " |  __ge__(self, value, /)\n",
      " |      Return self>=value.\n",
      " |  \n",
      " |  __getattribute__(self, name, /)\n",
      " |      Return getattr(self, name).\n",
      " |  \n",
      " |  __getnewargs__(self, /)\n",
      " |  \n",
      " |  __gt__(self, value, /)\n",
      " |      Return self>value.\n",
      " |  \n",
      " |  __hash__(self, /)\n",
      " |      Return hash(self).\n",
      " |  \n",
      " |  __index__(self, /)\n",
      " |      Return self converted to an integer, if self is suitable for use as an index into a list.\n",
      " |  \n",
      " |  __int__(self, /)\n",
      " |      int(self)\n",
      " |  \n",
      " |  __invert__(self, /)\n",
      " |      ~self\n",
      " |  \n",
      " |  __le__(self, value, /)\n",
      " |      Return self<=value.\n",
      " |  \n",
      " |  __lshift__(self, value, /)\n",
      " |      Return self<<value.\n",
      " |  \n",
      " |  __lt__(self, value, /)\n",
      " |      Return self<value.\n",
      " |  \n",
      " |  __mod__(self, value, /)\n",
      " |      Return self%value.\n",
      " |  \n",
      " |  __mul__(self, value, /)\n",
      " |      Return self*value.\n",
      " |  \n",
      " |  __ne__(self, value, /)\n",
      " |      Return self!=value.\n",
      " |  \n",
      " |  __neg__(self, /)\n",
      " |      -self\n",
      " |  \n",
      " |  __or__(self, value, /)\n",
      " |      Return self|value.\n",
      " |  \n",
      " |  __pos__(self, /)\n",
      " |      +self\n",
      " |  \n",
      " |  __pow__(self, value, mod=None, /)\n",
      " |      Return pow(self, value, mod).\n",
      " |  \n",
      " |  __radd__(self, value, /)\n",
      " |      Return value+self.\n",
      " |  \n",
      " |  __rand__(self, value, /)\n",
      " |      Return value&self.\n",
      " |  \n",
      " |  __rdivmod__(self, value, /)\n",
      " |      Return divmod(value, self).\n",
      " |  \n",
      " |  __repr__(self, /)\n",
      " |      Return repr(self).\n",
      " |  \n",
      " |  __rfloordiv__(self, value, /)\n",
      " |      Return value//self.\n",
      " |  \n",
      " |  __rlshift__(self, value, /)\n",
      " |      Return value<<self.\n",
      " |  \n",
      " |  __rmod__(self, value, /)\n",
      " |      Return value%self.\n",
      " |  \n",
      " |  __rmul__(self, value, /)\n",
      " |      Return value*self.\n",
      " |  \n",
      " |  __ror__(self, value, /)\n",
      " |      Return value|self.\n",
      " |  \n",
      " |  __round__(...)\n",
      " |      Rounding an Integral returns itself.\n",
      " |      Rounding with an ndigits argument also returns an integer.\n",
      " |  \n",
      " |  __rpow__(self, value, mod=None, /)\n",
      " |      Return pow(value, self, mod).\n",
      " |  \n",
      " |  __rrshift__(self, value, /)\n",
      " |      Return value>>self.\n",
      " |  \n",
      " |  __rshift__(self, value, /)\n",
      " |      Return self>>value.\n",
      " |  \n",
      " |  __rsub__(self, value, /)\n",
      " |      Return value-self.\n",
      " |  \n",
      " |  __rtruediv__(self, value, /)\n",
      " |      Return value/self.\n",
      " |  \n",
      " |  __rxor__(self, value, /)\n",
      " |      Return value^self.\n",
      " |  \n",
      " |  __sizeof__(self, /)\n",
      " |      Returns size in memory, in bytes.\n",
      " |  \n",
      " |  __sub__(self, value, /)\n",
      " |      Return self-value.\n",
      " |  \n",
      " |  __truediv__(self, value, /)\n",
      " |      Return self/value.\n",
      " |  \n",
      " |  __trunc__(...)\n",
      " |      Truncating an Integral returns itself.\n",
      " |  \n",
      " |  __xor__(self, value, /)\n",
      " |      Return self^value.\n",
      " |  \n",
      " |  as_integer_ratio(self, /)\n",
      " |      Return integer ratio.\n",
      " |      \n",
      " |      Return a pair of integers, whose ratio is exactly equal to the original int\n",
      " |      and with a positive denominator.\n",
      " |      \n",
      " |      >>> (10).as_integer_ratio()\n",
      " |      (10, 1)\n",
      " |      >>> (-10).as_integer_ratio()\n",
      " |      (-10, 1)\n",
      " |      >>> (0).as_integer_ratio()\n",
      " |      (0, 1)\n",
      " |  \n",
      " |  bit_length(self, /)\n",
      " |      Number of bits necessary to represent self in binary.\n",
      " |      \n",
      " |      >>> bin(37)\n",
      " |      '0b100101'\n",
      " |      >>> (37).bit_length()\n",
      " |      6\n",
      " |  \n",
      " |  conjugate(...)\n",
      " |      Returns self, the complex conjugate of any int.\n",
      " |  \n",
      " |  to_bytes(self, /, length, byteorder, *, signed=False)\n",
      " |      Return an array of bytes representing an integer.\n",
      " |      \n",
      " |      length\n",
      " |        Length of bytes object to use.  An OverflowError is raised if the\n",
      " |        integer is not representable with the given number of bytes.\n",
      " |      byteorder\n",
      " |        The byte order used to represent the integer.  If byteorder is 'big',\n",
      " |        the most significant byte is at the beginning of the byte array.  If\n",
      " |        byteorder is 'little', the most significant byte is at the end of the\n",
      " |        byte array.  To request the native byte order of the host system, use\n",
      " |        `sys.byteorder' as the byte order value.\n",
      " |      signed\n",
      " |        Determines whether two's complement is used to represent the integer.\n",
      " |        If signed is False and a negative integer is given, an OverflowError\n",
      " |        is raised.\n",
      " |  \n",
      " |  ----------------------------------------------------------------------\n",
      " |  Class methods defined here:\n",
      " |  \n",
      " |  from_bytes(bytes, byteorder, *, signed=False) from builtins.type\n",
      " |      Return the integer represented by the given array of bytes.\n",
      " |      \n",
      " |      bytes\n",
      " |        Holds the array of bytes to convert.  The argument must either\n",
      " |        support the buffer protocol or be an iterable object producing bytes.\n",
      " |        Bytes and bytearray are examples of built-in objects that support the\n",
      " |        buffer protocol.\n",
      " |      byteorder\n",
      " |        The byte order used to represent the integer.  If byteorder is 'big',\n",
      " |        the most significant byte is at the beginning of the byte array.  If\n",
      " |        byteorder is 'little', the most significant byte is at the end of the\n",
      " |        byte array.  To request the native byte order of the host system, use\n",
      " |        `sys.byteorder' as the byte order value.\n",
      " |      signed\n",
      " |        Indicates whether two's complement is used to represent the integer.\n",
      " |  \n",
      " |  ----------------------------------------------------------------------\n",
      " |  Static methods defined here:\n",
      " |  \n",
      " |  __new__(*args, **kwargs) from builtins.type\n",
      " |      Create and return a new object.  See help(type) for accurate signature.\n",
      " |  \n",
      " |  ----------------------------------------------------------------------\n",
      " |  Data descriptors defined here:\n",
      " |  \n",
      " |  denominator\n",
      " |      the denominator of a rational number in lowest terms\n",
      " |  \n",
      " |  imag\n",
      " |      the imaginary part of a complex number\n",
      " |  \n",
      " |  numerator\n",
      " |      the numerator of a rational number in lowest terms\n",
      " |  \n",
      " |  real\n",
      " |      the real part of a complex number\n",
      "\n"
     ]
    }
   ],
   "source": [
    "help(int)"
   ]
  },
  {
   "cell_type": "markdown",
   "id": "065d6c15",
   "metadata": {},
   "source": [
    "### Práctica: (3 minutos)\n",
    "\n",
    "1- Definir una variable `nombre` que guarde el nombre de ustedes, `edad` que almacene la edad.\n",
    "\n",
    "2- Imprimir `print('Mi nombre es', nombre, 'y mi edad es :',edad)`\n",
    "\n",
    "3- encuentre la longitud de la variable `nombre`.\n"
   ]
  },
  {
   "cell_type": "code",
   "execution_count": 37,
   "id": "0cc8d9c5-ac8e-49df-838c-71622730fbf0",
   "metadata": {},
   "outputs": [
    {
     "name": "stdout",
     "output_type": "stream",
     "text": [
      "Mi Nombre es:  José Fuentes y mi edad es:  38\n"
     ]
    }
   ],
   "source": [
    "nombre = 'José Fuentes'\n",
    "edad   = 38\n",
    "\n",
    "print('Mi Nombre es: ',nombre,'y mi edad es: ',edad)"
   ]
  },
  {
   "cell_type": "code",
   "execution_count": 39,
   "id": "3f8182d6",
   "metadata": {},
   "outputs": [
    {
     "name": "stdout",
     "output_type": "stream",
     "text": [
      "Hola buenos días,es un gusto saludarlos\n"
     ]
    }
   ],
   "source": [
    "string1 = 'Hola buenos días'\n",
    "stgMed  = ','\n",
    "string2 = 'es un gusto saludarlos'\n",
    "\n",
    "concatenada = string1 + stgMed + string2\n",
    "\n",
    "print(concatenada)"
   ]
  },
  {
   "cell_type": "markdown",
   "id": "5269b73c",
   "metadata": {},
   "source": [
    "Las características principales que Python tiene son las siguientes: \n",
    "\n",
    "<img src=\"./images/03.png\" alt=\"\">"
   ]
  },
  {
   "cell_type": "markdown",
   "id": "28920e03",
   "metadata": {},
   "source": [
    "\n",
    "\n"
   ]
  },
  {
   "cell_type": "code",
   "execution_count": 40,
   "id": "e9d60e8c-c34f-4f68-a28e-8b3ef6b9a7f9",
   "metadata": {},
   "outputs": [
    {
     "name": "stdout",
     "output_type": "stream",
     "text": [
      "Esta es una prueba de identación 7\n"
     ]
    }
   ],
   "source": [
    "if True:\n",
    "    print('Esta es una prueba de identación',3 + 4)"
   ]
  },
  {
   "cell_type": "code",
   "execution_count": 41,
   "id": "feebc9dc",
   "metadata": {},
   "outputs": [
    {
     "ename": "IndentationError",
     "evalue": "expected an indented block (113113059.py, line 2)",
     "output_type": "error",
     "traceback": [
      "\u001b[0;36m  Input \u001b[0;32mIn [41]\u001b[0;36m\u001b[0m\n\u001b[0;31m    print('Esta es una prueba de identación',3 + 4)\u001b[0m\n\u001b[0m    ^\u001b[0m\n\u001b[0;31mIndentationError\u001b[0m\u001b[0;31m:\u001b[0m expected an indented block\n"
     ]
    }
   ],
   "source": [
    "if True:\n",
    "print('Esta es una prueba de identación',3 + 4)"
   ]
  },
  {
   "cell_type": "code",
   "execution_count": 43,
   "id": "a5dece2b",
   "metadata": {},
   "outputs": [
    {
     "name": "stdout",
     "output_type": "stream",
     "text": [
      "el numero es menor que 4\n"
     ]
    }
   ],
   "source": [
    "value = 3\n",
    "\n",
    "if value > 4:\n",
    "    print('El numero es mayor que 4')\n",
    "    \n",
    "    if value % 2 == 0:\n",
    "        print('el numero es par')\n",
    "    \n",
    "    else:\n",
    "        print('el numero es impar')\n",
    "else:\n",
    "    print('el numero es menor que 4')"
   ]
  },
  {
   "cell_type": "markdown",
   "id": "d242ac26",
   "metadata": {},
   "source": [
    "###   <span style=\"color:darkred\">Comentarios</span>\n",
    "\n",
    "Se pueden añadir comentarios en el código de Python utilizando el símbolo \"#\" al comienzo de una línea. Los comentarios son útiles para explicar el propósito de un código y hacerlo más fácil de entender.\n",
    "\n",
    "Los objetivos principales de los comentarios son los siguientes:\n",
    "\n",
    "   * Los comentarios se pueden usar para explicar el código de Python.\n",
    "   * Los comentarios se pueden utilizar para hacer que el código sea más legible.\n",
    "   * Los comentarios se pueden usar para evitar la ejecución al probar el código\n",
    "\n",
    "Los comentarios comienzan con un # y Python representará el resto de la línea como un comentario:\n",
    "\n",
    "### <span style=\"color:darkblue\">Comentarios por línea</span>"
   ]
  },
  {
   "cell_type": "code",
   "execution_count": 46,
   "id": "196ece48-5637-424e-85db-541b6e9859d3",
   "metadata": {},
   "outputs": [
    {
     "name": "stdout",
     "output_type": "stream",
     "text": [
      "hola Mundo\n"
     ]
    }
   ],
   "source": [
    "# This is a comment\n",
    "\n",
    "print('hola Mundo')"
   ]
  },
  {
   "cell_type": "code",
   "execution_count": 48,
   "id": "47620c9c",
   "metadata": {},
   "outputs": [
    {
     "name": "stdout",
     "output_type": "stream",
     "text": [
      "hola Mundo\n"
     ]
    }
   ],
   "source": [
    "print('hola Mundo')\n",
    "#this is a comment"
   ]
  },
  {
   "cell_type": "markdown",
   "id": "5a9020c0",
   "metadata": {},
   "source": [
    "En este caso el texto “This is a comment” se traducirá como comentario y no se tomará en cuenta para la ejecución de código de Python. \n",
    "\n",
    "Los comentarios se pueden colocar al final de una línea y Python ignorará el resto de la línea:\n"
   ]
  },
  {
   "cell_type": "code",
   "execution_count": 47,
   "id": "740dfe4c",
   "metadata": {},
   "outputs": [
    {
     "name": "stdout",
     "output_type": "stream",
     "text": [
      "hola Mundo\n"
     ]
    }
   ],
   "source": [
    "print('hola Mundo') # this is a comment"
   ]
  },
  {
   "cell_type": "markdown",
   "id": "fefee5e6",
   "metadata": {},
   "source": [
    "Un comentario no tiene que ser texto que explique el código, también se puede usar para evitar que Python ejecute código:"
   ]
  },
  {
   "cell_type": "code",
   "execution_count": 50,
   "id": "a8456801-cd28-4533-b58c-38ca7c5e9a9d",
   "metadata": {},
   "outputs": [
    {
     "name": "stdout",
     "output_type": "stream",
     "text": [
      "Hola, Juan!\n"
     ]
    }
   ],
   "source": [
    "#Esta funccion saluda a alguin dado su nombre\n",
    "\n",
    "def saludar(nombre):\n",
    "    #Esta funccion saluda a alguin dado su nombre\n",
    "    mensaje = 'Hola, ' + nombre + '!'\n",
    "    print(mensaje)\n",
    "    \n",
    "saludar('Juan')\n",
    "    "
   ]
  },
  {
   "cell_type": "markdown",
   "id": "1d98f19a",
   "metadata": {},
   "source": [
    "### <span style=\"color:darkblue\">Comentarios multilínea</span>\n",
    "\n",
    "Python realmente no tiene una sintaxis para comentarios de varias líneas.\n",
    "\n",
    "Para agregar un comentario de varias líneas, puede insertar un #para cada línea:"
   ]
  },
  {
   "cell_type": "code",
   "execution_count": 51,
   "id": "b749e88c-6554-4254-9386-7e3b9a0b5a10",
   "metadata": {},
   "outputs": [
    {
     "name": "stdout",
     "output_type": "stream",
     "text": [
      "Hola mundo\n"
     ]
    }
   ],
   "source": [
    "#  linea 1: Este es un comentario multilinea\n",
    "#  linea 2:Los comentarios inline proporcionan descripciones\n",
    "#  linea 3: breves de variables y operaciones sencillas, y se escriben \n",
    "#  linea 4: en la misma línea que la sentencia del códig\n",
    "print('Hola mundo')"
   ]
  },
  {
   "cell_type": "markdown",
   "id": "32f0c20e",
   "metadata": {},
   "source": [
    "O, no del todo como se pretendía, puede usar una cadena de varias líneas.\n",
    "\n",
    "Dado que Python ignorará los literales de cadena que no están asignados a una variable, puede agregar una cadena de varias líneas (comillas triples) en su código y colocar su comentario dentro de ella:\n"
   ]
  },
  {
   "cell_type": "code",
   "execution_count": 53,
   "id": "7f57a423",
   "metadata": {},
   "outputs": [
    {
     "name": "stdout",
     "output_type": "stream",
     "text": [
      "hola mundo\n"
     ]
    }
   ],
   "source": [
    "\"\"\" pueden escribir lo que quieran aca\"\"\"\n",
    "print('hola mundo')"
   ]
  },
  {
   "cell_type": "code",
   "execution_count": 54,
   "id": "99a57d3d-29ea-413f-9127-7a6c7990d2c3",
   "metadata": {},
   "outputs": [
    {
     "name": "stdout",
     "output_type": "stream",
     "text": [
      "hola Mundo\n"
     ]
    }
   ],
   "source": [
    "\"\"\"Dado que Python ignorará los literales de cadena \n",
    "que no están asignados a una variable, \n",
    "puede agregar una cadena de varias líneas \n",
    "(comillas triples) en su código y colocar su \n",
    "comentario dentro de ella:\"\"\"\n",
    "print('hola Mundo')"
   ]
  },
  {
   "cell_type": "code",
   "execution_count": 56,
   "id": "05fe9369",
   "metadata": {},
   "outputs": [
    {
     "name": "stdout",
     "output_type": "stream",
     "text": [
      "Hola, Juan!\n"
     ]
    }
   ],
   "source": [
    "def saludar(nombre):\n",
    "    \"\"\"Esta es una funcio que da un saludo a alguien \n",
    "    si se le intruce el nombre del quieren saludar\n",
    "    Quedo claro.\"\"\"\n",
    "    mensaje = 'Hola, ' + nombre + '!'\n",
    "    print(mensaje)\n",
    "    \n",
    "saludar('Juan')"
   ]
  },
  {
   "cell_type": "markdown",
   "id": "032d7cae",
   "metadata": {},
   "source": [
    "### <span style=\"color:darkred\">Variables</span>\n",
    "\n",
    "Python no requiere declaraciones de variables. \n",
    "\n",
    "Una variable se crea simplemente asignando un valor a un nombre. \n",
    "\n",
    "Las variables pueden contener cualquier tipo de datos, incluyendo **números, cadenas de texto y objetos complejos.**\n",
    "\n",
    "<span style=\"color:darkgreen\">Una variable se crea en el momento en que le asigna un valor por primera vez. </span>"
   ]
  },
  {
   "cell_type": "code",
   "execution_count": 57,
   "id": "bf0accfa-fd2c-4d90-a077-be819654cf51",
   "metadata": {},
   "outputs": [
    {
     "name": "stdout",
     "output_type": "stream",
     "text": [
      "5\n"
     ]
    }
   ],
   "source": [
    "#definamos una variable\n",
    "x = 5\n",
    "\n",
    "print(x)"
   ]
  },
  {
   "cell_type": "code",
   "execution_count": 58,
   "id": "cd6e46b9",
   "metadata": {},
   "outputs": [
    {
     "name": "stdout",
     "output_type": "stream",
     "text": [
      "34.45456\n"
     ]
    }
   ],
   "source": [
    "x = 34.45456\n",
    "\n",
    "print(x)"
   ]
  },
  {
   "cell_type": "code",
   "execution_count": 60,
   "id": "34f0f07a",
   "metadata": {},
   "outputs": [
    {
     "name": "stdout",
     "output_type": "stream",
     "text": [
      "Hola, mundo\n"
     ]
    }
   ],
   "source": [
    "x = 'Hola, mundo'\n",
    "\n",
    "print(x)"
   ]
  },
  {
   "cell_type": "code",
   "execution_count": 62,
   "id": "12452e94",
   "metadata": {},
   "outputs": [],
   "source": [
    "y = 'John Doe'\n",
    "x = 4"
   ]
  },
  {
   "cell_type": "code",
   "execution_count": 63,
   "id": "d79f9805",
   "metadata": {},
   "outputs": [
    {
     "data": {
      "text/plain": [
       "'John DoeJohn DoeJohn DoeJohn Doe'"
      ]
     },
     "execution_count": 63,
     "metadata": {},
     "output_type": "execute_result"
    }
   ],
   "source": [
    "x * y "
   ]
  },
  {
   "cell_type": "code",
   "execution_count": 64,
   "id": "d8967863",
   "metadata": {},
   "outputs": [
    {
     "data": {
      "text/plain": [
       "'John DoeJohn DoeJohn DoeJohn DoeJohn Doe'"
      ]
     },
     "execution_count": 64,
     "metadata": {},
     "output_type": "execute_result"
    }
   ],
   "source": [
    "5*y"
   ]
  },
  {
   "cell_type": "code",
   "execution_count": 71,
   "id": "2f21d8b5",
   "metadata": {},
   "outputs": [
    {
     "name": "stdout",
     "output_type": "stream",
     "text": [
      "************************\n",
      "****BIENVENIDOS*********\n",
      "************************\n"
     ]
    }
   ],
   "source": [
    "print('************************')\n",
    "print('****BIENVENIDOS*********')\n",
    "print('************************')"
   ]
  },
  {
   "cell_type": "code",
   "execution_count": 68,
   "id": "1d02bd93",
   "metadata": {},
   "outputs": [
    {
     "name": "stdout",
     "output_type": "stream",
     "text": [
      "*********************\n",
      "*****BIENVENIDOS*****\n",
      "*********************\n"
     ]
    }
   ],
   "source": [
    "print(21*'*')\n",
    "print(5*'*'+'BIENVENIDOS'+5*'*')\n",
    "print(21*'*')"
   ]
  },
  {
   "cell_type": "code",
   "execution_count": 74,
   "id": "6b77fcd3",
   "metadata": {},
   "outputs": [
    {
     "data": {
      "text/plain": [
       "9"
      ]
     },
     "execution_count": 74,
     "metadata": {},
     "output_type": "execute_result"
    }
   ],
   "source": [
    "x = 'john'\n",
    "x = 3\n",
    "3*x"
   ]
  },
  {
   "cell_type": "markdown",
   "id": "a5ffaee7",
   "metadata": {},
   "source": [
    "### <span style=\"color:darkblue\">Nombres de variables</span>\n",
    "\n",
    "Una variable puede tener un nombre corto (como x e y) o un nombre más descriptivo (edad, nombre del coche, volumen_total). Reglas para las variables de Python:\n",
    "\n",
    "* Un nombre de variable debe comenzar con una letra o el carácter de subrayado\n",
    "\n",
    "* Un nombre de variable no puede comenzar con un número\n",
    "\n",
    "* Un nombre de variable solo puede contener caracteres alfanuméricos y guiones bajos (Az, 0-9 y _)\n",
    "\n",
    "* Los nombres de las variables distinguen entre mayúsculas y minúsculas (edad, Edad y EDAD son tres variables diferentes)\n",
    "\n",
    "* Un nombre de variable no puede ser ninguna de las palabras clave de Python.\n",
    "\n",
    "Ejemplos de nombres de variables aceptables: "
   ]
  },
  {
   "cell_type": "markdown",
   "id": "e8e896a1",
   "metadata": {},
   "source": [
    "Imprimamos algunas para verificar:"
   ]
  },
  {
   "cell_type": "code",
   "execution_count": 76,
   "id": "3be80fd8-6ec0-44c5-b422-366eaa4c1710",
   "metadata": {},
   "outputs": [
    {
     "data": {
      "text/plain": [
       "3"
      ]
     },
     "execution_count": 76,
     "metadata": {},
     "output_type": "execute_result"
    }
   ],
   "source": [
    "myvar = 3\n",
    "myvar"
   ]
  },
  {
   "cell_type": "code",
   "execution_count": 77,
   "id": "620c9a2e",
   "metadata": {},
   "outputs": [
    {
     "data": {
      "text/plain": [
       "4"
      ]
     },
     "execution_count": 77,
     "metadata": {},
     "output_type": "execute_result"
    }
   ],
   "source": [
    "MYVAR = 4\n",
    "MYVAR"
   ]
  },
  {
   "cell_type": "code",
   "execution_count": 78,
   "id": "d26e39ef",
   "metadata": {},
   "outputs": [
    {
     "data": {
      "text/plain": [
       "7"
      ]
     },
     "execution_count": 78,
     "metadata": {},
     "output_type": "execute_result"
    }
   ],
   "source": [
    "myVar2 = 7\n",
    "myVar2"
   ]
  },
  {
   "cell_type": "code",
   "execution_count": 79,
   "id": "6315d0c6",
   "metadata": {},
   "outputs": [
    {
     "data": {
      "text/plain": [
       "9"
      ]
     },
     "execution_count": 79,
     "metadata": {},
     "output_type": "execute_result"
    }
   ],
   "source": [
    "_myvar = 9\n",
    "_myvar"
   ]
  },
  {
   "cell_type": "code",
   "execution_count": 81,
   "id": "f836efb8",
   "metadata": {},
   "outputs": [
    {
     "data": {
      "text/plain": [
       "8"
      ]
     },
     "execution_count": 81,
     "metadata": {},
     "output_type": "execute_result"
    }
   ],
   "source": [
    "my___var = 8\n",
    "my___var"
   ]
  },
  {
   "cell_type": "markdown",
   "id": "d77d3a5f",
   "metadata": {},
   "source": [
    "Ejemplos de nombres de variables no aceptados:"
   ]
  },
  {
   "cell_type": "code",
   "execution_count": 82,
   "id": "62a84302-6ed1-4ad4-8283-a9e70be896e8",
   "metadata": {},
   "outputs": [
    {
     "ename": "SyntaxError",
     "evalue": "invalid syntax (3414335678.py, line 1)",
     "output_type": "error",
     "traceback": [
      "\u001b[0;36m  Input \u001b[0;32mIn [82]\u001b[0;36m\u001b[0m\n\u001b[0;31m    my var = 9\u001b[0m\n\u001b[0m       ^\u001b[0m\n\u001b[0;31mSyntaxError\u001b[0m\u001b[0;31m:\u001b[0m invalid syntax\n"
     ]
    }
   ],
   "source": [
    "my var = 9"
   ]
  },
  {
   "cell_type": "code",
   "execution_count": 84,
   "id": "c25b2a08",
   "metadata": {},
   "outputs": [
    {
     "ename": "SyntaxError",
     "evalue": "cannot assign to operator (587289563.py, line 1)",
     "output_type": "error",
     "traceback": [
      "\u001b[0;36m  Input \u001b[0;32mIn [84]\u001b[0;36m\u001b[0m\n\u001b[0;31m    my-var = 9\u001b[0m\n\u001b[0m    ^\u001b[0m\n\u001b[0;31mSyntaxError\u001b[0m\u001b[0;31m:\u001b[0m cannot assign to operator\n"
     ]
    }
   ],
   "source": [
    "my-var = 9"
   ]
  },
  {
   "cell_type": "code",
   "execution_count": 85,
   "id": "990709ba",
   "metadata": {},
   "outputs": [
    {
     "ename": "SyntaxError",
     "evalue": "invalid syntax (2597150215.py, line 1)",
     "output_type": "error",
     "traceback": [
      "\u001b[0;36m  Input \u001b[0;32mIn [85]\u001b[0;36m\u001b[0m\n\u001b[0;31m    4myvar = 0\u001b[0m\n\u001b[0m     ^\u001b[0m\n\u001b[0;31mSyntaxError\u001b[0m\u001b[0;31m:\u001b[0m invalid syntax\n"
     ]
    }
   ],
   "source": [
    "4myvar = 0"
   ]
  },
  {
   "cell_type": "markdown",
   "id": "3e55f747",
   "metadata": {},
   "source": [
    "### <span style=\"color:darkblue\">Nombres de variables de varias palabras</span>\n",
    "\n",
    "Los nombres de variables con más de una palabra pueden ser difíciles de leer.\n",
    "Hay varias técnicas que puede utilizar para hacerlos más legibles:\n"
   ]
  },
  {
   "cell_type": "markdown",
   "id": "c4efffe7",
   "metadata": {},
   "source": [
    "### <span style=\"color:darkgreen\">Camel Case:</span>\n",
    "\n",
    "Se utiliza para nombrar variables en la programación donde las palabras deben estar conectadas pero aún se desea distinguir claramente las palabras individuales. \n",
    "\n",
    "Por ejemplo, en variables de programación en lenguajes como Java y JavaScript.\n",
    "\n",
    "### Definición: \n",
    "    \n",
    "        En Camel Case, cada palabra comienza con una letra mayúscula, excepto la primera palabra que comienza en minúscula. No se utilizan espacios ni caracteres especiales entre palabras.\n",
    "        \n",
    "### Ejemplo: \n",
    "\n",
    "```\n",
    "    miVariableEjemplo\n",
    "\n",
    "    nombreUsuario\n",
    "    \n",
    "    calcularImpuesto\n",
    "```"
   ]
  },
  {
   "cell_type": "markdown",
   "id": "b58c9dbc",
   "metadata": {},
   "source": [
    "### <span style=\"color:darkgreen\">Pascal Case:</span>\n",
    "\n",
    " En nombres de clases y tipos de datos, como en la programación orientada a objetos. Se utiliza para nombrar clases, estructuras y tipos de datos en lenguajes como C# y Python.\n",
    "\n",
    "### Definición: \n",
    "    \n",
    "         Similar a Camel Case, pero la primera letra de cada palabra se coloca en mayúscula.\n",
    "        \n",
    "### Ejemplo: \n",
    "\n",
    "```\n",
    "    MiVariableEjemplo\n",
    "\n",
    "    NombreUsuario\n",
    "    \n",
    "    CrearUsuario\n",
    "```"
   ]
  },
  {
   "cell_type": "markdown",
   "id": "1b2befc6",
   "metadata": {},
   "source": [
    "### <span style=\"color:darkgreen\">Snake Case:</span>\n",
    "\n",
    "Se utiliza para nombrar variables o funciones en lenguajes que son sensibles a las mayúsculas y minúsculas y que no admiten espacios en los nombres, como Python y Ruby.\n",
    "\n",
    "### Definición: \n",
    "    \n",
    "          Las palabras están separadas por guiones bajos (subrayados). Se usan solo letras minúsculas.\n",
    "        \n",
    "### Ejemplo: \n",
    "\n",
    "```\n",
    "    numero_de_telefono\n",
    "\n",
    "    cantidad_de_productos\n",
    "    \n",
    "    mi_variable_ejemplo\n",
    "```"
   ]
  },
  {
   "cell_type": "markdown",
   "id": "55457900",
   "metadata": {},
   "source": [
    "### <span style=\"color:darkgreen\">Lower Case:</span>\n",
    "\n",
    " Se usa para nombrar variables o identificadores generales en muchos lenguajes de programación.\n",
    "\n",
    "### Definición: \n",
    "    \n",
    "          Todas las letras están en minúscula.\n",
    "        \n",
    "### Ejemplo: \n",
    "\n",
    "```\n",
    "    mivariableejemplo\n",
    "\n",
    "    cantidaddeproductos\n",
    "    \n",
    "    nombre\n",
    "```"
   ]
  },
  {
   "cell_type": "markdown",
   "id": "343c4d14",
   "metadata": {},
   "source": [
    "### <span style=\"color:darkgreen\">Upper Case:</span>\n",
    "\n",
    "Se usa para nombrar constantes en mayúsculas. Por ejemplo, en matemáticas, el número Pi se representa en mayúsculas para indicar que es una constante.\n",
    "\n",
    "### Definición: \n",
    "    \n",
    "          Todas las letras están en mayúscula.\n",
    "        \n",
    "### Ejemplo: \n",
    "\n",
    "```\n",
    "    PI\n",
    "\n",
    "    MAXIMO_VALOR\n",
    "    \n",
    "    MIVARIABLEEJEMPLO\n",
    "```"
   ]
  },
  {
   "cell_type": "markdown",
   "id": "1b04711a",
   "metadata": {},
   "source": [
    "### <span style=\"color:darkblue\">Muchos valores para múltiples variables</span>\n",
    "\n",
    "Python le permite asignar valores a múltiples variables en una línea:"
   ]
  },
  {
   "cell_type": "code",
   "execution_count": 86,
   "id": "1de4d689-d819-42eb-8085-d6be1b83cdc8",
   "metadata": {},
   "outputs": [
    {
     "name": "stdout",
     "output_type": "stream",
     "text": [
      "2\n",
      "naranja\n",
      "3.1416\n"
     ]
    }
   ],
   "source": [
    "m = 2\n",
    "y = 'naranja'\n",
    "z = 3.1416\n",
    "\n",
    "print(m)\n",
    "print(y)\n",
    "print(z)"
   ]
  },
  {
   "cell_type": "code",
   "execution_count": 87,
   "id": "e3fa56f3",
   "metadata": {},
   "outputs": [
    {
     "name": "stdout",
     "output_type": "stream",
     "text": [
      "2\n",
      "Naranja\n",
      "3.12416\n"
     ]
    }
   ],
   "source": [
    "m, y, z = 2, 'Naranja', 3.12416\n",
    "\n",
    "print(m)\n",
    "print(y)\n",
    "print(z)"
   ]
  },
  {
   "cell_type": "code",
   "execution_count": 88,
   "id": "27784f80",
   "metadata": {},
   "outputs": [
    {
     "name": "stdout",
     "output_type": "stream",
     "text": [
      "3 Naranja 3.12416\n"
     ]
    }
   ],
   "source": [
    "print(x,y,z)"
   ]
  },
  {
   "cell_type": "code",
   "execution_count": 91,
   "id": "1fc6f185",
   "metadata": {},
   "outputs": [
    {
     "name": "stdout",
     "output_type": "stream",
     "text": [
      "3 \n",
      "\n",
      "\t Naranja \t 3.12416\n"
     ]
    }
   ],
   "source": [
    "print(x,'\\n\\n\\t',y,'\\t',z)"
   ]
  },
  {
   "cell_type": "markdown",
   "id": "c7320906",
   "metadata": {},
   "source": [
    "### <span style=\"color:darkblue\">Un valor para múltiples variables</span>\n",
    "\n",
    "Y puede asignar el mismo valor a múltiples variables en una línea:"
   ]
  },
  {
   "cell_type": "code",
   "execution_count": 97,
   "id": "b4070f9f-befc-45e2-babe-b26e35c0851b",
   "metadata": {},
   "outputs": [
    {
     "name": "stdout",
     "output_type": "stream",
     "text": [
      "hola, mundohola, mundohola, mundo hola, mundohola, mundohola, mundo hola, mundohola, mundohola, mundo\n"
     ]
    }
   ],
   "source": [
    "x= y = z = 3*'hola, mundo'\n",
    "print(x, y, z)"
   ]
  },
  {
   "cell_type": "markdown",
   "id": "12e17087",
   "metadata": {},
   "source": [
    "### <span style=\"color:darkblue\">Salida de una variable</span>\n",
    "\n",
    "La función `print()` de Python se usa a menudo para generar variables.\n"
   ]
  },
  {
   "cell_type": "code",
   "execution_count": 99,
   "id": "616300e7-9ae1-456f-97b4-301337b02f41",
   "metadata": {},
   "outputs": [
    {
     "name": "stdout",
     "output_type": "stream",
     "text": [
      "Python es muy sencillo y potente para la programación\n"
     ]
    }
   ],
   "source": [
    "x = 'Python es muy sencillo y potente para la programación'\n",
    "print(x)"
   ]
  },
  {
   "cell_type": "markdown",
   "id": "edd55714",
   "metadata": {},
   "source": [
    "En la función `print()`, genera múltiples variables, separadas por una coma:"
   ]
  },
  {
   "cell_type": "code",
   "execution_count": 101,
   "id": "db9f3794-88e0-45e7-977c-2595c00b225c",
   "metadata": {},
   "outputs": [
    {
     "name": "stdout",
     "output_type": "stream",
     "text": [
      "Python es muy sencillo y potente para la programación\n"
     ]
    }
   ],
   "source": [
    "x = 'Python es' \n",
    "y = 'muy sencillo y potente' \n",
    "z = 'para la programación'\n",
    "\n",
    "print(x, y, z)\n"
   ]
  },
  {
   "cell_type": "markdown",
   "id": "cb8f88ce",
   "metadata": {},
   "source": [
    "También puede usar el **operador +** para generar múltiples variables:"
   ]
  },
  {
   "cell_type": "code",
   "execution_count": 103,
   "id": "764989a1-1ce5-4e21-b494-069e5992cee7",
   "metadata": {},
   "outputs": [
    {
     "name": "stdout",
     "output_type": "stream",
     "text": [
      "Python esmuy sencillo y potente para la programación\n"
     ]
    }
   ],
   "source": [
    "x = 'Python es' \n",
    "y = 'muy sencillo y potente ' \n",
    "z = 'para la programación'\n",
    "\n",
    "print(x + y + z)\n"
   ]
  },
  {
   "cell_type": "markdown",
   "id": "141b343a",
   "metadata": {},
   "source": [
    "Para números, el carácter **+** funciona como un operador matemático:"
   ]
  },
  {
   "cell_type": "code",
   "execution_count": 109,
   "id": "16365441-13f8-4efd-91ea-652fe2ca737d",
   "metadata": {},
   "outputs": [
    {
     "name": "stdout",
     "output_type": "stream",
     "text": [
      "3 4 5\n",
      "12\n",
      "La suma es  12\n",
      "La multiplicacion es:  60\n"
     ]
    }
   ],
   "source": [
    "a, b, c, = 3, 4, 5\n",
    "\n",
    "print(a, b, c)\n",
    "\n",
    "print(a + b + c)\n",
    "\n",
    "print('La suma es ',a + b + c)\n",
    "print('La multiplicacion es: ', a * b * c)"
   ]
  },
  {
   "cell_type": "markdown",
   "id": "dea44968",
   "metadata": {},
   "source": [
    "En la función `print()`, cuando intenta combinar una cadena y un número con el operador +, Python le dará un error:"
   ]
  },
  {
   "cell_type": "code",
   "execution_count": 110,
   "id": "a5102386",
   "metadata": {},
   "outputs": [
    {
     "ename": "TypeError",
     "evalue": "unsupported operand type(s) for +: 'int' and 'str'",
     "output_type": "error",
     "traceback": [
      "\u001b[0;31m---------------------------------------------------------------------------\u001b[0m",
      "\u001b[0;31mTypeError\u001b[0m                                 Traceback (most recent call last)",
      "Input \u001b[0;32mIn [110]\u001b[0m, in \u001b[0;36m<cell line: 3>\u001b[0;34m()\u001b[0m\n\u001b[1;32m      1\u001b[0m m, y, z \u001b[38;5;241m=\u001b[39m \u001b[38;5;241m2\u001b[39m, \u001b[38;5;124m'\u001b[39m\u001b[38;5;124mNaranja\u001b[39m\u001b[38;5;124m'\u001b[39m, \u001b[38;5;241m3.12416\u001b[39m\n\u001b[0;32m----> 3\u001b[0m \u001b[38;5;28mprint\u001b[39m(\u001b[43mm\u001b[49m\u001b[43m \u001b[49m\u001b[38;5;241;43m+\u001b[39;49m\u001b[43m \u001b[49m\u001b[43my\u001b[49m \u001b[38;5;241m+\u001b[39m z)\n",
      "\u001b[0;31mTypeError\u001b[0m: unsupported operand type(s) for +: 'int' and 'str'"
     ]
    }
   ],
   "source": [
    "m, y, z = 2, 'Naranja', 3.12416\n",
    "\n",
    "print(m + y + z)"
   ]
  },
  {
   "cell_type": "markdown",
   "id": "ce242acd",
   "metadata": {},
   "source": [
    "La mejor manera de generar múltiples variables en la función `print()` es separarlas con comas, que incluso admiten diferentes tipos de datos:"
   ]
  },
  {
   "cell_type": "code",
   "execution_count": 111,
   "id": "e5e910d6-e63f-4cdc-81d7-db6a412dbba9",
   "metadata": {},
   "outputs": [
    {
     "name": "stdout",
     "output_type": "stream",
     "text": [
      "9.12416\n"
     ]
    }
   ],
   "source": [
    "m, y, z = 2, 4, 3.12416\n",
    "\n",
    "print(m + y + z)"
   ]
  },
  {
   "cell_type": "code",
   "execution_count": 113,
   "id": "e6a2c0a8",
   "metadata": {},
   "outputs": [
    {
     "name": "stdout",
     "output_type": "stream",
     "text": [
      "Mi nombre es: Juan Francisco y mi apellido es :  Lopez funes\n"
     ]
    }
   ],
   "source": [
    "nombre   = 'Juan Francisco '\n",
    "apellido = 'Lopez funes'\n",
    "\n",
    "print('Mi nombre es: '+ nombre + 'y mi apellido es : ', apellido)"
   ]
  },
  {
   "cell_type": "markdown",
   "id": "fe9b6ed1",
   "metadata": {},
   "source": [
    "### Formato de cadena f-string"
   ]
  },
  {
   "cell_type": "code",
   "execution_count": 122,
   "id": "6ba89724-486b-4f96-bec9-d4aab75a20dd",
   "metadata": {},
   "outputs": [
    {
     "name": "stdout",
     "output_type": "stream",
     "text": [
      "Nombre de empleado: Juan \n",
      " Apellido del Empleado: Funes \n",
      " y su salario es :  1046.32\n"
     ]
    }
   ],
   "source": [
    "nombre   = 'Juan'\n",
    "apellido = 'Funes'\n",
    "edad     = 37\n",
    "horasT   = 44\n",
    "pagoHora = 23.78\n",
    "\n",
    "sueldoSemana = horasT * pagoHora\n",
    "\n",
    "print(f'Nombre de empleado: {nombre} \\n Apellido del Empleado: {apellido} \\n y su salario es : {sueldoSemana : .2f }')"
   ]
  },
  {
   "cell_type": "code",
   "execution_count": 132,
   "id": "791941fb",
   "metadata": {},
   "outputs": [
    {
     "name": "stdout",
     "output_type": "stream",
     "text": [
      "Nombre: Juan apellido: Funes Salario: 1046.32\n"
     ]
    }
   ],
   "source": [
    "print('Nombre: %s apellido: %s Salario: %.2f'%(nombre, apellido, sueldoSemana))"
   ]
  },
  {
   "cell_type": "code",
   "execution_count": 133,
   "id": "ee74a37b",
   "metadata": {},
   "outputs": [],
   "source": [
    "lista_name = [' Juan', 'Mario', 'Luis', 'Iris']"
   ]
  },
  {
   "cell_type": "code",
   "execution_count": 134,
   "id": "16f2fe64",
   "metadata": {},
   "outputs": [
    {
     "name": "stdout",
     "output_type": "stream",
     "text": [
      "[' Juan', 'Mario', 'Luis', 'Iris']\n"
     ]
    }
   ],
   "source": [
    "print(lista_name)"
   ]
  },
  {
   "cell_type": "code",
   "execution_count": 135,
   "id": "1a1aa281",
   "metadata": {},
   "outputs": [
    {
     "name": "stdout",
     "output_type": "stream",
     "text": [
      " Juan\n"
     ]
    }
   ],
   "source": [
    "print(lista_name[0])"
   ]
  },
  {
   "cell_type": "code",
   "execution_count": 136,
   "id": "e34262a6",
   "metadata": {},
   "outputs": [
    {
     "name": "stdout",
     "output_type": "stream",
     "text": [
      "Mario\n"
     ]
    }
   ],
   "source": [
    "print(lista_name[1])"
   ]
  },
  {
   "cell_type": "code",
   "execution_count": 137,
   "id": "d7b64c7d",
   "metadata": {},
   "outputs": [
    {
     "name": "stdout",
     "output_type": "stream",
     "text": [
      "Luis\n"
     ]
    }
   ],
   "source": [
    "print(lista_name[2])"
   ]
  },
  {
   "cell_type": "code",
   "execution_count": 138,
   "id": "82953c1d",
   "metadata": {},
   "outputs": [
    {
     "name": "stdout",
     "output_type": "stream",
     "text": [
      "Mario\n"
     ]
    }
   ],
   "source": [
    "print(lista_name[-3])"
   ]
  },
  {
   "cell_type": "markdown",
   "id": "facf92ba",
   "metadata": {},
   "source": [
    "### <span style=\"color:darkred\">Tipos de datos</span>\n",
    "\n",
    "Python es un lenguaje de programación orientado a objetos, lo que significa que todo en Python es un objeto se convierte en tipos de datos. \n",
    "\n",
    "Existen varios tipos de datos incorporados que se utilizan para almacenar diferentes tipos de información. Algunos de los tipos de datos más comunes en Python son los siguientes:\n",
    "\n",
    "#### Números\n",
    "\n",
    "En Python, hay tres tipos de números: enteros (int), números de punto flotante (float) y números complejos (complex). Los enteros son números enteros sin decimales, como 42. \n",
    "\n",
    "Los números de punto flotante son números con decimales, como 3.14. \n",
    "\n",
    "Los números complejos son números con una parte real y una parte imaginaria, como 2 + 3j.\n",
    "\n",
    "#### Cadenas de texto\n",
    "\n",
    "Las cadenas de texto (str) se utilizan para almacenar texto y se definen entre comillas simples o dobles. Por ejemplo, “Hola, ¡mundo!\" es una cadena de texto en Python.\n",
    "\n",
    "#### Listas\n",
    "\n",
    "Las listas (list) se utilizan para almacenar una colección ordenada de elementos y se definen entre corchetes. Por ejemplo, [1, 2, 3, 4] es una lista en Python.\n",
    "\n",
    "#### Tuplas\n",
    "\n",
    "Las tuplas (tuple) son similares a las listas, pero son inmutables, lo que significa que no se pueden modificar después de su creación. \n",
    "\n",
    "Las tuplas se definen entre paréntesis. Por ejemplo, (1, 2, 3, 4) es una tupla en Python.\n",
    "\n",
    "#### Diccionarios\n",
    "\n",
    "Los diccionarios (dict) se utilizan para almacenar una colección de pares clave-valor y se definen entre llaves. Por ejemplo, {\"nombre\": \"Juan\", \"edad\": 30} es un diccionario en Python.\n",
    "\n",
    "#### Conjuntos\n",
    "\n",
    "Los conjuntos (set) se utilizan para almacenar una colección de elementos únicos y se definen entre llaves. Por ejemplo, {1, 2, 3, 4} es un conjunto en Python.\n",
    "\n",
    "\n",
    "### Tipos de datos al declarar\n",
    "\n",
    "AL declarar una variable no es necesario indicar ningún tipo en particular, e incluso pueden cambiar de tipo después de que se hayan establecido."
   ]
  },
  {
   "cell_type": "code",
   "execution_count": 140,
   "id": "28ca58a9-c8c2-4f15-bef5-8b43485b13c9",
   "metadata": {},
   "outputs": [
    {
     "data": {
      "text/plain": [
       "4"
      ]
     },
     "execution_count": 140,
     "metadata": {},
     "output_type": "execute_result"
    }
   ],
   "source": [
    "dato_entero = 4\n",
    "dato_entero"
   ]
  },
  {
   "cell_type": "code",
   "execution_count": 141,
   "id": "9b826c9f",
   "metadata": {},
   "outputs": [
    {
     "data": {
      "text/plain": [
       "5.783478"
      ]
     },
     "execution_count": 141,
     "metadata": {},
     "output_type": "execute_result"
    }
   ],
   "source": [
    "dato_flotante = 5.783478\n",
    "dato_flotante"
   ]
  },
  {
   "cell_type": "markdown",
   "id": "be088984",
   "metadata": {},
   "source": [
    "Un número complejo o imaginario es de la forma $$a + bj$$"
   ]
  },
  {
   "cell_type": "code",
   "execution_count": 143,
   "id": "81c55c65",
   "metadata": {},
   "outputs": [
    {
     "data": {
      "text/plain": [
       "complex"
      ]
     },
     "execution_count": 143,
     "metadata": {},
     "output_type": "execute_result"
    }
   ],
   "source": [
    "complejo = 5 + 4j\n",
    "type(complejo)"
   ]
  },
  {
   "cell_type": "code",
   "execution_count": 147,
   "id": "1c9c9714",
   "metadata": {},
   "outputs": [
    {
     "data": {
      "text/plain": [
       "complex"
      ]
     },
     "execution_count": 147,
     "metadata": {},
     "output_type": "execute_result"
    }
   ],
   "source": [
    "complejo_num = 3 + 0j\n",
    "type(complejo_num)"
   ]
  },
  {
   "cell_type": "code",
   "execution_count": 150,
   "id": "5378f57b",
   "metadata": {},
   "outputs": [
    {
     "name": "stdout",
     "output_type": "stream",
     "text": [
      "<class 'bool'>\n",
      "True\n"
     ]
    }
   ],
   "source": [
    "print(type(1 < 5))\n",
    "print(1 < 5)"
   ]
  },
  {
   "cell_type": "code",
   "execution_count": 151,
   "id": "2bff2c1c",
   "metadata": {},
   "outputs": [
    {
     "name": "stdout",
     "output_type": "stream",
     "text": [
      "<class 'bool'>\n",
      "False\n"
     ]
    }
   ],
   "source": [
    "print(type(10 < 5))\n",
    "print(10 < 5)"
   ]
  },
  {
   "cell_type": "markdown",
   "id": "50c32700",
   "metadata": {},
   "source": [
    "Los tipos de variable también pueden indicarse por medio de funciones que y así especificar literalmente el tipo de variable que queremos almacenar esto podrá generar una conversión de ser necesario."
   ]
  },
  {
   "cell_type": "code",
   "execution_count": null,
   "id": "a5049e47",
   "metadata": {},
   "outputs": [],
   "source": []
  },
  {
   "cell_type": "markdown",
   "id": "cd86e518",
   "metadata": {},
   "source": [
    "Si el valor no coincide con una conversión correcta generará un error por ejemplo cambiar letras a enteras que no pueden ser cambiados. "
   ]
  },
  {
   "cell_type": "markdown",
   "id": "55ba11a8",
   "metadata": {},
   "source": [
    "## Aplicando Conocimientos\n",
    "\n",
    "### Ejercicio de aplicación:\n",
    "\n",
    "-\tCrea un archivo de Python en donde almacenaremos información personal, esta información debe ir con el tipo de dato correspondiente. \n",
    "Variables a crear:\n",
    "    \n",
    "o\tNombres\n",
    "\n",
    "o\tPrimerApellido\n",
    "\n",
    "o\tSegundoApellido\n",
    "\n",
    "o\tEdad\n",
    "\n",
    "o\tNacionalidad\n",
    "\n",
    "o\tSexo\n"
   ]
  },
  {
   "cell_type": "code",
   "execution_count": null,
   "id": "e95266b8",
   "metadata": {},
   "outputs": [],
   "source": []
  }
 ],
 "metadata": {
  "kernelspec": {
   "display_name": "Python 3 (ipykernel)",
   "language": "python",
   "name": "python3"
  },
  "language_info": {
   "codemirror_mode": {
    "name": "ipython",
    "version": 3
   },
   "file_extension": ".py",
   "mimetype": "text/x-python",
   "name": "python",
   "nbconvert_exporter": "python",
   "pygments_lexer": "ipython3",
   "version": "3.9.12"
  }
 },
 "nbformat": 4,
 "nbformat_minor": 5
}
