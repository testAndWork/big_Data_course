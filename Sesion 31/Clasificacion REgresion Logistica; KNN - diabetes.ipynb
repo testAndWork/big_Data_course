{
 "cells": [
  {
   "cell_type": "markdown",
   "id": "3daa6207-6047-4512-abd3-7a37376b4c08",
   "metadata": {},
   "source": [
    "# Predicción de Diabetes con regresión logística"
   ]
  },
  {
   "cell_type": "markdown",
   "id": "3e2a077a",
   "metadata": {},
   "source": [
    "<h3>Predicción de la diabetes utilizando regresión logística</h3> <p>La predicción de la diabetes utilizando regresión logística es un proceso en el que se aplica la regresión logística, un algoritmo de aprendizaje automático, para predecir si un individuo tiene diabetes o no. A continuación, se explican los conceptos clave involucrados:</p> <h4>Regresión Logística</h4> <p>La regresión logística es un tipo de modelo de regresión utilizado en problemas de clasificación binaria.</p> <h4>Clasificación Binaria</h4> <p>La clasificación binaria es un tipo de problema de aprendizaje automático en el que se deben tomar decisiones entre dos clases o categorías.</p> <h4>Variables de Entrada</h4> <p>En este tipo de modelo, se utilizan variables de entrada o características para predecir la probabilidad de pertenencia a una categoría.</p> <h4>Probabilidad de Clase</h4> <p>La regresión logística modela la probabilidad de que un individuo pertenezca a una de las dos clases.</p> <h4>Umbral de Decisión</h4> <p>Para hacer una predicción final, se establece un umbral de decisión.</p> <h4>Entrenamiento del Modelo</h4> <p>Antes de utilizar la regresión logística para predecir la diabetes, se entrena el modelo utilizando un conjunto de datos previamente etiquetado.</p> <h4>Evaluación del Modelo</h4> <p>Una vez que el modelo está entrenado, se evalúa su rendimiento utilizando datos de prueba independientes.</p>"
   ]
  },
  {
   "cell_type": "markdown",
   "id": "51349f03-baac-4c9c-8267-6049fbfe9fc2",
   "metadata": {},
   "source": [
    "### Pasos de este estudio\n",
    "1. Carga de datos\n",
    "1. Desarrollo"
   ]
  },
  {
   "cell_type": "markdown",
   "id": "53f167a9-6890-4097-b4a5-e7f22672e6a1",
   "metadata": {},
   "source": [
    "# 1. Carga de datos"
   ]
  },
  {
   "cell_type": "code",
   "execution_count": 5,
   "id": "a1593306-6eb1-4251-9c81-081d79c78511",
   "metadata": {},
   "outputs": [],
   "source": [
    "import pandas as pd\n",
    "import numpy as np\n",
    "import matplotlib.pyplot as plt"
   ]
  },
  {
   "cell_type": "code",
   "execution_count": 6,
   "id": "2a8bb8e5",
   "metadata": {},
   "outputs": [],
   "source": [
    "import seaborn as sns\n",
    "from sklearn.model_selection import train_test_split\n",
    "from sklearn.linear_model import LogisticRegression\n",
    "from sklearn.metrics import accuracy_score, confusion_matrix, classification_report, roc_auc_score"
   ]
  },
  {
   "cell_type": "markdown",
   "id": "32200dec-75cb-4ae8-8933-c1a827abbcd9",
   "metadata": {},
   "source": [
    "# 2. Desarrollo"
   ]
  },
  {
   "cell_type": "markdown",
   "id": "990a394b-7292-4719-a3f6-1bbeeb9339fc",
   "metadata": {},
   "source": [
    "En esta parte nos interesa explorar los datos y explicar el modelo de regresión logística a este caso de diabetes"
   ]
  },
  {
   "cell_type": "markdown",
   "id": "b7e0be37-3f2b-483d-8b6b-b4daf59aca6b",
   "metadata": {},
   "source": [
    "## 2.1 Exploración de datos"
   ]
  },
  {
   "cell_type": "markdown",
   "id": "c34de05b",
   "metadata": {},
   "source": [
    "<h3>1. Carga y Exploración de Datos</h3> <p>Comienza cargando tus datos en un entorno de programación, como Python con bibliotecas como pandas y matplotlib/seaborn para análisis y visualización.</p> <h4>Análisis Exploratorio de Datos</h4> <p>Realiza un análisis exploratorio de datos para comprender la distribución de las variables, identificar valores atípicos y verificar la calidad de los datos.</p> <p>Algunas preguntas clave para responder incluyen:</p> <h5>¿Cuántas muestras (personas) hay en el conjunto de datos?</h5> <h5>¿Cuántas características (variables) están disponibles?</h5> <h5>¿Cuál es la distribución del BMI en la población?</h5> <h5>¿Cuántas personas tienen diabetes (Outcome=1) y cuántas no (Outcome=0)?</h5> <h5>¿Existe alguna correlación evidente entre el BMI y el resultado de diabetes?</h5>"
   ]
  },
  {
   "cell_type": "code",
   "execution_count": 7,
   "id": "f3962b87-10dd-43e4-92f5-be80aa2f66b4",
   "metadata": {},
   "outputs": [],
   "source": [
    "train = pd.read_csv('diabetes.csv')"
   ]
  },
  {
   "cell_type": "code",
   "execution_count": 8,
   "id": "417586f1-3f2c-41ff-b924-f092a415f940",
   "metadata": {},
   "outputs": [
    {
     "data": {
      "text/html": [
       "<div>\n",
       "<style scoped>\n",
       "    .dataframe tbody tr th:only-of-type {\n",
       "        vertical-align: middle;\n",
       "    }\n",
       "\n",
       "    .dataframe tbody tr th {\n",
       "        vertical-align: top;\n",
       "    }\n",
       "\n",
       "    .dataframe thead th {\n",
       "        text-align: right;\n",
       "    }\n",
       "</style>\n",
       "<table border=\"1\" class=\"dataframe\">\n",
       "  <thead>\n",
       "    <tr style=\"text-align: right;\">\n",
       "      <th></th>\n",
       "      <th>Pregnancies</th>\n",
       "      <th>Glucose</th>\n",
       "      <th>BloodPressure</th>\n",
       "      <th>SkinThickness</th>\n",
       "      <th>Insulin</th>\n",
       "      <th>BMI</th>\n",
       "      <th>DiabetesPedigreeFunction</th>\n",
       "      <th>Age</th>\n",
       "      <th>Outcome</th>\n",
       "    </tr>\n",
       "  </thead>\n",
       "  <tbody>\n",
       "    <tr>\n",
       "      <th>0</th>\n",
       "      <td>6</td>\n",
       "      <td>148</td>\n",
       "      <td>72</td>\n",
       "      <td>35</td>\n",
       "      <td>0</td>\n",
       "      <td>33.6</td>\n",
       "      <td>0.627</td>\n",
       "      <td>50</td>\n",
       "      <td>1</td>\n",
       "    </tr>\n",
       "    <tr>\n",
       "      <th>1</th>\n",
       "      <td>1</td>\n",
       "      <td>85</td>\n",
       "      <td>66</td>\n",
       "      <td>29</td>\n",
       "      <td>0</td>\n",
       "      <td>26.6</td>\n",
       "      <td>0.351</td>\n",
       "      <td>31</td>\n",
       "      <td>0</td>\n",
       "    </tr>\n",
       "    <tr>\n",
       "      <th>2</th>\n",
       "      <td>8</td>\n",
       "      <td>183</td>\n",
       "      <td>64</td>\n",
       "      <td>0</td>\n",
       "      <td>0</td>\n",
       "      <td>23.3</td>\n",
       "      <td>0.672</td>\n",
       "      <td>32</td>\n",
       "      <td>1</td>\n",
       "    </tr>\n",
       "  </tbody>\n",
       "</table>\n",
       "</div>"
      ],
      "text/plain": [
       "   Pregnancies  Glucose  BloodPressure  SkinThickness  Insulin   BMI  \\\n",
       "0            6      148             72             35        0  33.6   \n",
       "1            1       85             66             29        0  26.6   \n",
       "2            8      183             64              0        0  23.3   \n",
       "\n",
       "   DiabetesPedigreeFunction  Age  Outcome  \n",
       "0                     0.627   50        1  \n",
       "1                     0.351   31        0  \n",
       "2                     0.672   32        1  "
      ]
     },
     "execution_count": 8,
     "metadata": {},
     "output_type": "execute_result"
    }
   ],
   "source": [
    "train.head(3)"
   ]
  },
  {
   "cell_type": "markdown",
   "id": "c1f818d9-edb9-4c49-927f-bf4907161fae",
   "metadata": {},
   "source": [
    "## Variables de interes:\n",
    "\n",
    "<h4>Índice de Masa Corporal (BMI)</h4> <p>El BMI es un índice que se calcula a partir del peso y la altura de una persona. Se utiliza para evaluar la cantidad de grasa corporal en relación con el peso y la altura de una persona. La fórmula típica para calcular el BMI es la siguiente:</p> <p>BMI = Peso (kg) / (Altura (m) * Altura (m))</p> <p>El resultado clasifica a las personas en categorías de peso, como \"bajo peso\", \"normal\", \"sobrepeso\" u \"obeso\". En el contexto de la predicción de diabetes, un BMI muy alto puede ser un factor de riesgo o indicativo de tener diabetes tipo 2, ya que existe una fuerte correlación entre la obesidad y la diabetes tipo 2.</p> <h4>Outcome (Resultado)</h4> <p>Esta variable binaria indica si una persona tiene diabetes o no. Por lo general, se codifica como \"1\" para indicar que una persona tiene diabetes y \"0\" para indicar que una persona no tiene diabetes. Es la variable objetivo en el proceso de predicción. El objetivo principal de un modelo de regresión logística en este contexto sería predecir o clasificar correctamente a las personas en estas dos categorías basadas en otras variables, como el BMI y posiblemente otras características.</p>"
   ]
  },
  {
   "cell_type": "markdown",
   "id": "df2cac89",
   "metadata": {},
   "source": [
    "<h3>2. Visualización de Datos</h3> <p>Utiliza gráficos y visualizaciones para representar los datos de manera efectiva.</p> <h4>Histograma del BMI</h4> <p>Un histograma del BMI puede mostrar la distribución de valores de este importante predictor.</p> <h4>Gráficos de Barras para el Resultado de Diabetes</h4> <p>Gráficos de barras para el resultado (Outcome) de diabetes pueden ilustrar cuántas personas tienen diabetes (Valor 1) vs no diabetes (Valor 0).</p> <p>Estas visualizaciones pueden proporcionar información valiosa obtenida del análisis exploratorio inicial, como patrones y correlaciones entre variables.</p>"
   ]
  },
  {
   "cell_type": "code",
   "execution_count": null,
   "id": "55921128",
   "metadata": {},
   "outputs": [],
   "source": [
    "# Paso 2: Exploración de Datos\n",
    "# Visualizar las primeras filas del DataFrame\n",
    "train.head()"
   ]
  },
  {
   "cell_type": "code",
   "execution_count": null,
   "id": "ac86851c",
   "metadata": {
    "scrolled": false
   },
   "outputs": [],
   "source": [
    "fig = plt.figure(figsize = (15,20))\n",
    "ax = fig.gca()\n",
    "train.hist(ax = ax)"
   ]
  },
  {
   "cell_type": "code",
   "execution_count": null,
   "id": "773f2d39",
   "metadata": {},
   "outputs": [],
   "source": [
    "sns.pairplot(train,hue='Outcome')"
   ]
  },
  {
   "cell_type": "code",
   "execution_count": null,
   "id": "4e82134e",
   "metadata": {},
   "outputs": [],
   "source": [
    "# Visualizar estadísticas descriptivas\n",
    "train.describe()"
   ]
  },
  {
   "cell_type": "code",
   "execution_count": null,
   "id": "729b6e2e",
   "metadata": {},
   "outputs": [],
   "source": [
    "sns.set_theme(style=\"whitegrid\")\n",
    "sns.boxplot(x=\"Age\", data=train, palette=\"Set3\")\n",
    "plt.title(\"Age Distribution\")"
   ]
  },
  {
   "cell_type": "code",
   "execution_count": null,
   "id": "0cebae2b",
   "metadata": {},
   "outputs": [],
   "source": [
    "sns.set_theme(style=\"whitegrid\")\n",
    "sns.boxplot(x=\"BMI\", data=train, palette=\"Set3\")\n",
    "plt.title(\"BMI Distribution\")"
   ]
  },
  {
   "cell_type": "code",
   "execution_count": null,
   "id": "efbf6da0",
   "metadata": {},
   "outputs": [],
   "source": [
    "# Visualizar la distribución de BMI\n",
    "sns.histplot(train['BMI'], bins=30, kde=True)\n",
    "plt.xlabel('BMI')\n",
    "plt.title('Distribución de BMI')\n",
    "plt.show()"
   ]
  },
  {
   "cell_type": "code",
   "execution_count": null,
   "id": "20ad8346",
   "metadata": {},
   "outputs": [],
   "source": [
    "# Visualizar la distribución de BMI\n",
    "sns.histplot(train['Age'], bins=30, kde=True)\n",
    "plt.xlabel('Age')\n",
    "plt.title('Distribución de Edades')\n",
    "plt.show()"
   ]
  },
  {
   "cell_type": "code",
   "execution_count": null,
   "id": "17379a67",
   "metadata": {},
   "outputs": [],
   "source": [
    "corr = train.corr()\n",
    "corr.style.background_gradient(cmap='coolwarm')"
   ]
  },
  {
   "cell_type": "code",
   "execution_count": null,
   "id": "282d8219",
   "metadata": {},
   "outputs": [],
   "source": [
    "# Visualizar la distribución de Outcome con etiquetas descriptivas\n",
    "plt.figure(figsize=(6, 4))\n",
    "sns.set(style=\"whitegrid\")  # Ajusta el estilo del gráfico\n",
    "\n",
    "# Crea un gráfico de barras con etiquetas descriptivas\n",
    "ax = sns.countplot(x=\"Outcome\", data=train, palette=\"Set1\")\n",
    "\n",
    "plt.xlabel('Resultado de Diabetes', fontsize=14)\n",
    "plt.ylabel('Número de Personas', fontsize=14)\n",
    "plt.title('Distribución de Resultados de Diabetes', fontsize=16)\n",
    "\n",
    "# Añade etiquetas a las barras\n",
    "for p in ax.patches:\n",
    "    ax.annotate(f'{p.get_height()}', (p.get_x() + p.get_width() / 2., p.get_height()), ha='center', va='center', fontsize=12, color='black', xytext=(0, 5), textcoords='offset points')\n",
    "\n",
    "plt.show()\n"
   ]
  },
  {
   "cell_type": "code",
   "execution_count": null,
   "id": "a1737246",
   "metadata": {},
   "outputs": [],
   "source": [
    "train.Outcome.value_counts().plot(kind='bar')\n",
    "plt.xlabel(\"Diabetes or Not\")\n",
    "plt.ylabel(\"Count\")\n",
    "plt.title(\"Outcome \")"
   ]
  },
  {
   "cell_type": "code",
   "execution_count": null,
   "id": "2adac405",
   "metadata": {},
   "outputs": [],
   "source": [
    "# Verificar datos nulos en el DataFrame \"train\"\n",
    "nulos = train.isnull().sum()\n",
    "nulos"
   ]
  },
  {
   "cell_type": "code",
   "execution_count": null,
   "id": "fce1f3c1",
   "metadata": {},
   "outputs": [],
   "source": [
    "train.info()"
   ]
  },
  {
   "cell_type": "markdown",
   "id": "b94fdadc",
   "metadata": {},
   "source": [
    "<h3>3. Preparación de Datos</h3> <p>Realiza el preprocesamiento de datos, lo que puede incluir:</p> <h4>Normalización de características</h4> <p>Normalizar valores numéricos como el BMI lleva las características a una escala común para mejorar el rendimiento del modelo.</p> <h4>Manejo de valores faltantes</h4> <p>Reemplazar o eliminar registros incompletos para obtener un conjunto de datos limpio.</p> <h4>Codificación de variables categóricas</h4> <p>Si hay variables categorizadas como sexo, codificarlas en valores numéricos understandables por el modelo.</p> <p>Estos pasos preparan los datos de forma apropiada antes de construir e interpretar el modelo de regresión logística.</p>"
   ]
  },
  {
   "cell_type": "code",
   "execution_count": null,
   "id": "b7ef8bb2",
   "metadata": {},
   "outputs": [],
   "source": [
    "# Paso 3: Preparación de Datos (si es necesario)\n",
    "# Manejo de valores faltantes\n",
    "data = train.dropna()\n",
    "data"
   ]
  },
  {
   "cell_type": "code",
   "execution_count": null,
   "id": "fca9b14a",
   "metadata": {},
   "outputs": [],
   "source": [
    "data.columns"
   ]
  },
  {
   "cell_type": "markdown",
   "id": "35b804fe-172c-4a6a-82b7-7a2b3eb841b5",
   "metadata": {},
   "source": [
    "Miramos una tabla y una gráfica de los datos que nos interesan"
   ]
  },
  {
   "cell_type": "code",
   "execution_count": null,
   "id": "db7c7bd1-bc62-4cae-b128-6e86435cc846",
   "metadata": {},
   "outputs": [],
   "source": [
    "train[['BMI','Outcome']].head()"
   ]
  },
  {
   "cell_type": "code",
   "execution_count": null,
   "id": "1eaead77-96b8-41f3-932e-9d774073fa9f",
   "metadata": {},
   "outputs": [],
   "source": [
    "train[['BMI','Outcome']].plot.scatter(x='BMI',y='Outcome')"
   ]
  },
  {
   "cell_type": "markdown",
   "id": "a8cb5b0e-a417-4da8-bf23-b6395266b241",
   "metadata": {},
   "source": [
    "##  Función logística"
   ]
  },
  {
   "cell_type": "markdown",
   "id": "75540d27",
   "metadata": {},
   "source": [
    "<h3>4. Modelo de Regresión Logística</h3> <p>Explica el modelo de regresión logística a tu audiencia. Debes resaltar que se trata de un modelo utilizado para predecir la probabilidad de que una persona tenga diabetes (Outcome=1) en función de una o más variables, en este caso, el BMI.</p> <h4>Función logística</h4> <p>La regresión logística utiliza la función logística (sigmoid) para transformar una combinación lineal de las variables predictoras en una probabilidad que varía entre 0 y 1.</p> <h4>Coeficientes de regresión</h4> <p>Los coeficientes de regresión en la regresión logística representan el cambio en el logaritmo de la probabilidad de la variable dependiente (diabetes) asociado a un cambio unitario en la variable independiente (BMI).</p>"
   ]
  },
  {
   "cell_type": "markdown",
   "id": "6c162e61-28ac-4cb3-b75f-da7de8431c8c",
   "metadata": {
    "jp-MarkdownHeadingCollapsed": true,
    "tags": []
   },
   "source": [
    "### Vamos a pintar una función logistica sobre estos datos\n",
    "\n",
    "$$ f_{w,b}\\left(\\vec{x}^{(i)}\\right)=\\frac{1}{1+\\exp^{-\\left(w\\vec{x}+b\\right)}}$$\n",
    "\n",
    "Donde:\n",
    "\n",
    "* <p>$f_{w,b}\\left(\\vec{x}^{(i)}\\right)$ es el valor de la función logística para un punto de datos específico $\\vec{x}^{(i)}$.</p> \n",
    "\n",
    "* <p>$w$ y $b$ son parámetros de la función logística que se pueden ajustar para lograr un mejor ajuste de la función a los datos.</p> \n",
    "\n",
    "* <p>$\\vec{x}^{(i)}$ representa un punto de datos específico con sus características (por ejemplo, en tu caso, el valor del índice de masa corporal, \"BMI\").</p>\n",
    "\n",
    "La función logística toma una combinación lineal de las características de un punto de datos ponderada por $w$ (los coeficientes) y desplazada por $b$ (el sesgo), y luego aplica la función sigmoide ($\\frac{1}{1 + \\exp(-x)}$) para producir una salida entre 0 y 1. En el contexto de clasificación binaria, esta salida se interpreta generalmente como la probabilidad de que el punto de datos pertenezca a una de las dos clases.\n",
    "\n",
    "<h4>Ajuste del Modelo</h4>\n",
    "El objetivo de ajustar esta función logística a tus datos es modelar la relación entre las características (como el BMI) y la variable objetivo (Outcome, que en tu caso representa si una persona tiene diabetes o no). Variando los valores de $w$ y $b, puedes ajustar la función logística para que se ajuste mejor a tus datos y pueda predecir con mayor precisión la probabilidad de tener diabetes en función de la característica del BMI.\n",
    "\n",
    "Al ajustar estos parámetros, puedes visualizar cómo cambia la función logística y cómo se adapta a tus datos. En esencia, estás explorando cómo diferentes valores de $w$ y $b afectan la capacidad de la función logística para modelar los datos y hacer predicciones precisas. Esto es fundamental en el proceso de entrenar un modelo de regresión logística o cualquier otro modelo de clasificación logística."
   ]
  },
  {
   "cell_type": "code",
   "execution_count": null,
   "id": "efe833d1-f92b-4fda-9e5d-c9883d0255f9",
   "metadata": {},
   "outputs": [],
   "source": [
    "# pruebas de parametro\n",
    "w = 0.09\n",
    "b = -3.6"
   ]
  },
  {
   "cell_type": "code",
   "execution_count": null,
   "id": "5590c355-7b71-4810-9ef5-615a71c33461",
   "metadata": {},
   "outputs": [],
   "source": [
    "# despues de hacer el modelos (se explica más adelante)\n",
    "# intercepto (b): [-3.68596089]\n",
    "# pendiente (w): [[0.09351691]]"
   ]
  },
  {
   "cell_type": "code",
   "execution_count": null,
   "id": "f87071fe-fca8-438f-ad01-ce60bf3bd987",
   "metadata": {},
   "outputs": [],
   "source": [
    "# puntos de la recta\n",
    "x = np.linspace(0,train['BMI'].max(),100)\n",
    "y = 1/(1+np.exp(-(w*x+b)))\n",
    "\n",
    "# grafica de la recta\n",
    "train.plot.scatter(x='BMI',y='Outcome')\n",
    "plt.plot(x, y, '-r')\n",
    "plt.ylim(0,train['Outcome'].max()*1.1)\n",
    "plt.grid('on')\n",
    "plt.show()\n"
   ]
  },
  {
   "cell_type": "code",
   "execution_count": null,
   "id": "16291d21",
   "metadata": {},
   "outputs": [],
   "source": [
    "# Puntos de la recta\n",
    "x = np.linspace(0, train['BMI'].max(), 100)\n",
    "y = 1 / (1 + np.exp(-(w * x + b)))\n",
    "\n",
    "# Crear un gráfico de dispersión utilizando Seaborn\n",
    "sns.scatterplot(data=train, x='BMI', y='Outcome')\n",
    "\n",
    "# Trazar la recta logística\n",
    "plt.plot(x, y, '-r')\n",
    "\n",
    "# Establecer límites del eje y\n",
    "plt.ylim(0, train['Outcome'].max() * 1.1)\n",
    "\n",
    "# Activar la cuadrícula\n",
    "plt.grid(True)\n",
    "\n",
    "# Mostrar el gráfico\n",
    "plt.show()\n"
   ]
  },
  {
   "cell_type": "markdown",
   "id": "b41d10f4-738c-415b-99bb-754a73b7a71d",
   "metadata": {},
   "source": [
    "## 2.3 Optimización de parámetros"
   ]
  },
  {
   "cell_type": "markdown",
   "id": "f0e70d0b-8e52-40c5-b992-4b57f871feaf",
   "metadata": {},
   "source": [
    "Si escogemos esos parametros $w,b$ para el modelo, ¿Qué tan buenos son?\n",
    "\n",
    "Podemos utilizar la siguiente estrategia:\n",
    "* calcular el valor de la función logística para cada dato\n",
    "* calcular la función de pérdida (se denota con L o loss)\n",
    "* calcular el promedio de la pérdida para obtener el costo (se denota con Jo cost)\n",
    "\n",
    "Queremos los valores $w,b$ que resulten en un menor costo\n",
    "\n",
    "Las ecuaciones para las funciones son\n",
    "\n",
    "$$ L\\left(f_{w,b}\\left(\\vec{x}^{(i)}\\right),y^{(i)}\\right)=-y^{(i)}\\log\\left(f_{w,b}\\left(\\vec{x}^{(i)}\\right)\\right)-\\left(1-y^{(i)}\\right)\\log\\left(1-f_{w,b}\\left(\\vec{x}^{(i)}\\right)\\right) $$\n",
    "\n",
    "$$ J\\left(w,b\\right)=\\frac{1}{m}\\sum_{i=1}^{m}\\left[L\\left(f_{w,b}\\left(\\vec{x}^{(i)}\\right),y^{(i)}\\right)\\right] $$\n"
   ]
  },
  {
   "cell_type": "code",
   "execution_count": null,
   "id": "ada590b8-7b8d-41eb-a0fd-fab322c521cf",
   "metadata": {
    "tags": []
   },
   "outputs": [],
   "source": [
    "# calculo de las predicciones\n",
    "train['sigmoid'] = 1/(1+np.exp(-(train['BMI']*w+b)))\n",
    "\n",
    "# calculo de la funcion de error\n",
    "train['loss_xi'] = -train['Outcome']*np.log(train['sigmoid'])-(1-train['Outcome'])*np.log(1-train['sigmoid'])\n",
    "cost_j = train['loss_xi'].mean()\n",
    "cost_j"
   ]
  },
  {
   "cell_type": "markdown",
   "id": "94ea73b6-5050-48c5-b2e1-5eef72f10e62",
   "metadata": {},
   "source": [
    "Esto lo hemos hecho con los parametros que hemos obtenido a ojo por ciento. Ahora vamos a ser más refinados y calcularlo para muchos parametros a la vez y luego de ahi mirar el que tenga menor costo.\n",
    "\n",
    "Para eso hacemos lo siguiente:\n",
    "* Construimos un dataframe con valores para $w,b$ que varían sobre una cuadricula o grid\n",
    "* Creamos una función de python que calcule el costo $J$ dados parametros $w,b$\n",
    "* Aplicamos la función sobre el dataframe con los valores $w,b$ en la cuadricula\n",
    "* Podemos ordenar la tabla resultante para obtener los valores $w,b$ con el menor costo\n",
    "* Luego hacemos gráficas para verificar el resultado"
   ]
  },
  {
   "cell_type": "code",
   "execution_count": null,
   "id": "a0ef685a-dd2f-47ec-bb2f-97bed2e04ae5",
   "metadata": {},
   "outputs": [],
   "source": [
    "# hacemos dataframe para calcular el error en funcion de los parametros w, b"
   ]
  },
  {
   "cell_type": "code",
   "execution_count": null,
   "id": "d9000793-5dcd-4643-87d5-bba2e0a70481",
   "metadata": {
    "tags": []
   },
   "outputs": [],
   "source": [
    "array = np.mgrid[0.05:0.15:0.01, -4:-3:0.01].reshape(2,-1).T\n",
    "df = pd.DataFrame(data = array, \n",
    "                  columns = ['w','b'])\n",
    "\n",
    "# round para solventar problema con muchos decimales\n",
    "df['w'] = np.round(df['w'], 6)\n",
    "df['b'] = np.round(df['b'], 6)"
   ]
  },
  {
   "cell_type": "code",
   "execution_count": null,
   "id": "7f081bef-45a7-479f-8347-15efd6fc6f5b",
   "metadata": {},
   "outputs": [],
   "source": [
    "df"
   ]
  },
  {
   "cell_type": "code",
   "execution_count": null,
   "id": "04441243-2769-4b13-a28e-4c418e950a1a",
   "metadata": {},
   "outputs": [],
   "source": [
    "def sum_error_df(df):\n",
    "    train['sigmoid'] = 1/(1+np.exp(-(train['BMI']*df['w']+df['b'])))\n",
    "    train['loss_xi'] = -train['Outcome']*np.log(train['sigmoid'])-(1-train['Outcome'])*np.log(1-train['sigmoid'])\n",
    "    j_cost = train['loss_xi'].mean()\n",
    "    return(j_cost)"
   ]
  },
  {
   "cell_type": "code",
   "execution_count": null,
   "id": "b88eccb6-1ed9-439b-8cb4-4ae51445fb03",
   "metadata": {},
   "outputs": [],
   "source": [
    "df['error'] = df.apply(sum_error_df, axis=1)"
   ]
  },
  {
   "cell_type": "code",
   "execution_count": null,
   "id": "49d8cd15-03eb-4938-a033-b6ff148a214e",
   "metadata": {},
   "outputs": [],
   "source": [
    "df.sort_values(by=['error']).head()"
   ]
  },
  {
   "cell_type": "code",
   "execution_count": null,
   "id": "e0e6c64d-f87a-4c09-a955-6477912bf9b8",
   "metadata": {},
   "outputs": [],
   "source": [
    "df_3d = df.pivot(index='w', columns='b', values='error')"
   ]
  },
  {
   "cell_type": "code",
   "execution_count": null,
   "id": "2229e4ce-ea85-4f96-9f71-9ca93334d01a",
   "metadata": {},
   "outputs": [],
   "source": [
    "df_3d.head()"
   ]
  },
  {
   "cell_type": "code",
   "execution_count": null,
   "id": "64c6a2c1-2636-4fd1-a09f-09fad76f979b",
   "metadata": {},
   "outputs": [],
   "source": [
    "import matplotlib as mpl\n",
    "import matplotlib.pyplot as plt\n",
    "from mpl_toolkits.mplot3d import Axes3D"
   ]
  },
  {
   "cell_type": "code",
   "execution_count": null,
   "id": "acba388a-44db-4c7d-bdfa-14c844d5940c",
   "metadata": {},
   "outputs": [],
   "source": [
    "x = df_3d.columns\n",
    "y = df_3d.index\n",
    "X,Y = np.meshgrid(x,y)\n",
    "Z = df_3d\n",
    "\n",
    "fig = plt.figure()\n",
    "ax = fig.add_subplot(111, projection='3d')\n",
    "ax.plot_surface(X, Y, Z)"
   ]
  },
  {
   "cell_type": "code",
   "execution_count": null,
   "id": "974b8bcc-91a8-446e-b3a4-a049f756b7c4",
   "metadata": {},
   "outputs": [],
   "source": [
    "x = df_3d.columns\n",
    "y = df_3d.index\n",
    "X,Y = np.meshgrid(x,y)\n",
    "Z = df_3d\n",
    "plt.contourf(Y, X, Z, alpha=0.7, cmap=plt.cm.jet)"
   ]
  },
  {
   "cell_type": "markdown",
   "id": "f647b4a7-3c02-44d2-b657-044fb4c0693c",
   "metadata": {},
   "source": [
    "## Bonus: Optimizando los parámetros"
   ]
  },
  {
   "cell_type": "markdown",
   "id": "f273095c-9450-4bf5-87b3-4cd6e5bd44ae",
   "metadata": {},
   "source": [
    "Esta sección es opcional.\n",
    "\n",
    "Vamos a utilizar el método del gradiente descendente para calcular los valores optimos de $w,b$.\n",
    "\n",
    "Para esto tenemos que calcular el gradiente para $w,b$ con respecto de la función J (esta es la que hemos gráficado), sus funciones son\n",
    "\n",
    "$$ \\frac{\\partial}{\\partial w}J\\left(w,b\\right)=\\frac{1}{m}\\sum_{i=1}^{m}\\left(f_{w,b}\\left(\\vec{x}^{(i)}\\right)-y^{(i)}\\right)x^{(i)} $$\n",
    "\n",
    "$$ \\frac{\\partial}{\\partial b}J\\left(w,b\\right)=\\frac{1}{m}\\sum_{i=1}^{m}\\left(f_{w,b}\\left(\\vec{x}^{(i)}\\right)-y^{(i)}\\right)$$"
   ]
  },
  {
   "cell_type": "markdown",
   "id": "9e3c5061-2ecf-46cb-94bd-35715c56e871",
   "metadata": {},
   "source": [
    "Las funciones respectivas en python serían"
   ]
  },
  {
   "cell_type": "code",
   "execution_count": null,
   "id": "79fedcdf-c1d7-4177-b38d-7dad87e76ce8",
   "metadata": {},
   "outputs": [],
   "source": [
    "def delta_j_w(w, b):\n",
    "    train['sigmoid'] = 1/(1+np.exp(-(train['BMI']*w+b)))\n",
    "    train['partial_loss'] = (train['sigmoid']-train['Outcome'])*train['BMI']\n",
    "    derivative = train['partial_loss'].mean()\n",
    "    return(derivative) \n",
    "\n",
    "def delta_j_b(w, b):\n",
    "    train['sigmoid'] = 1/(1+np.exp(-(train['BMI']*w+b)))\n",
    "    train['partial_loss'] = (train['sigmoid']-train['Outcome'])\n",
    "    derivative = train['partial_loss'].mean()\n",
    "    return(derivative) "
   ]
  },
  {
   "cell_type": "markdown",
   "id": "440b6a57-5102-4b32-93e4-57e354d3dc3a",
   "metadata": {},
   "source": [
    "Damos valores iniciales a $w,b$"
   ]
  },
  {
   "cell_type": "code",
   "execution_count": null,
   "id": "63897c42-5133-48dd-be0e-9c4de3b10541",
   "metadata": {},
   "outputs": [],
   "source": [
    "w_0 = 0.09\n",
    "b_0 = -3.57"
   ]
  },
  {
   "cell_type": "markdown",
   "id": "65963269-5503-40cd-b874-f57d88969fc7",
   "metadata": {},
   "source": [
    "Empezamos a iterar hasta obtener valores que no varíen tanto"
   ]
  },
  {
   "cell_type": "code",
   "execution_count": null,
   "id": "182ee81e-59e8-440d-be3d-9712beb7be01",
   "metadata": {},
   "outputs": [],
   "source": [
    "alpha_w = 0.001\n",
    "alpha_b = 0.1\n",
    "\n",
    "w_new = w_0 - alpha_w * delta_j_w(w_0, b_0)\n",
    "b_new = b_0 - alpha_b * delta_j_b(w_0, b_0)\n",
    "\n",
    "w_0 = w_new\n",
    "b_0 = b_new\n",
    "\n",
    "print(w_0, b_0)"
   ]
  },
  {
   "cell_type": "code",
   "execution_count": null,
   "id": "031d1170-c4ec-4f82-baca-22bc1a45e52b",
   "metadata": {},
   "outputs": [],
   "source": [
    "# valores optimos de sklearn (más abajo la explicación)\n",
    "# w = 0.09351691\n",
    "# b = -3.68596089"
   ]
  },
  {
   "cell_type": "markdown",
   "id": "9d1d2cc7",
   "metadata": {},
   "source": [
    "<h3>5. Entrenamiento del Modelo</h3> <h4>División de Conjunto de Datos</h4> <p>Divide el conjunto de datos en conjuntos de entrenamiento y prueba.</p> <h4>Ajuste del Modelo</h4> <p>Entrena el modelo de regresión logística utilizando el conjunto de entrenamiento. Ajusta los hiperparámetros, como la regularización si es necesario.</p>"
   ]
  },
  {
   "cell_type": "markdown",
   "id": "d8b9269c-3693-4a65-a4af-e575cff6746e",
   "metadata": {},
   "source": [
    "Ahora vamos a hacer lo mismo pero mucho más rápido con sklearn"
   ]
  },
  {
   "cell_type": "markdown",
   "id": "45b63182",
   "metadata": {},
   "source": [
    "<h3>División Train-Test</h3> <p>Algunos principios generales para considerar al elegir el tamaño de la división entre train y test son los siguientes:</p> <h4>Tamaño de Muestra Total</h4> <p>El tamaño total de la muestra de datos que tienes a tu disposición es importante. Si tienes una gran cantidad de datos, puedes permitirte usar un porcentaje más pequeño para el conjunto de prueba. Si tienes pocos datos, querrás usar un porcentaje más grande para el conjunto de prueba para garantizar una evaluación significativa del modelo.</p> <h4>Deseo de Generalización</h4> <p>Si deseas que tu modelo generalice bien a datos futuros no vistos, es importante mantener un conjunto de prueba lo suficientemente grande. Un conjunto de prueba más grande proporcionará una mejor evaluación de cómo se desempeñará el modelo en el mundo real.</p> <h4>Overfitting y Underfitting</h4> <p>Un conjunto de prueba más grande ayuda a evaluar si tu modelo está sobreajustado (overfitting) o subajustado (underfitting). Si el conjunto de prueba es muy pequeño en comparación con el conjunto de entrenamiento, puedes obtener una evaluación sesgada del rendimiento del modelo.</p> <h4>K-Fold Cross-Validation</h4> <p>En lugar de una única división train/test, considera utilizar validación cruzada (cross-validation) k-fold. Esto implica dividir los datos en k subconjuntos y realizar k evaluaciones diferentes del modelo. Esto puede ser útil si tienes una cantidad limitada de datos.</p> <h4>Reglas comunes</h4> <p>A menudo, se utilizan divisiones comunes como 70-30 (70% de train, 30% de test) o 80-20 (80% de train, 20% de test) en muchos casos. Sin embargo, no hay reglas estrictas y estos porcentajes pueden variar.</p> <h4>Contexto del Proyecto</h4> <p>Finalmente, el tamaño de la división también depende del contexto del proyecto. Algunos proyectos pueden requerir una evaluación más estricta, mientras que otros pueden ser más tolerantes a errores. Considera tus objetivos y requisitos específicos.</p>"
   ]
  },
  {
   "cell_type": "code",
   "execution_count": null,
   "id": "e0239a67",
   "metadata": {},
   "outputs": [],
   "source": [
    "X = data[['BMI']]  # Agrega más características\n",
    "y = data['Outcome']"
   ]
  },
  {
   "cell_type": "code",
   "execution_count": null,
   "id": "fbf7a96e",
   "metadata": {},
   "outputs": [],
   "source": [
    "X_train, X_test, y_train, y_test = train_test_split(X, y, test_size=0.2, random_state=42)"
   ]
  },
  {
   "cell_type": "code",
   "execution_count": null,
   "id": "b4177082",
   "metadata": {},
   "outputs": [],
   "source": [
    "\n",
    "model = LogisticRegression()  \n",
    "\n",
    "model.fit(X_train, y_train)"
   ]
  },
  {
   "cell_type": "code",
   "execution_count": null,
   "id": "dd464f8d",
   "metadata": {},
   "outputs": [],
   "source": [
    "#Paso 6: Evaluación del Modelo\n",
    "y_pred = model.predict(X_test)"
   ]
  },
  {
   "cell_type": "markdown",
   "id": "c1c10ab9",
   "metadata": {},
   "source": [
    "## Métricas de evaluación"
   ]
  },
  {
   "cell_type": "markdown",
   "id": "b1731d0f",
   "metadata": {},
   "source": [
    "<h3>Evaluación del Modelo</h3> <p>\"La Evaluación del Modelo\" es una etapa crítica en el proceso de construir y validar modelos de aprendizaje automático. En el contexto de un modelo de predicción de diabetes utilizando regresión logística, estas métricas juegan un papel fundamental en la comprensión de qué tan bien el modelo realiza sus predicciones. A continuación, se explica el significado de algunas de las métricas de clasificación comunes mencionadas:</p> <h4>Precisión (Accuracy)</h4> <p>La precisión es una métrica que mide la proporción de predicciones correctas (verdaderos positivos y verdaderos negativos) en relación con el número total de predicciones. Es una métrica general que proporciona una idea de cuán bien el modelo clasifica en general.</p> <h4>Sensibilidad (Recall)</h4> <p>También conocida como tasa de verdaderos positivos o tasa positiva real, la sensibilidad mide la proporción de casos positivos reales (en este contexto, personas con diabetes) que se predicen correctamente como positivos. Una alta sensibilidad es importante cuando se desea identificar a todas las personas con diabetes, para evitar falsos negativos.</p> <h4>Especificidad (Specificity)</h4> <p>La especificidad mide la proporción de casos negativos reales (personas sin diabetes) que se predicen correctamente como negativos. Es importante cuando se busca minimizar los falsos positivos.</p> <h4>Curva ROC (Receiver Operating Characteristic)</h4> \n",
    "<p>Representa la sensibilidad frente a (1 - especificidad) para diferentes umbrales de clasificación. Mide la capacidad de clasificación del modelo.</p>\n",
    "<p>La curva ROC es una representación gráfica que muestra la relación entre la tasa de verdaderos positivos y la tasa de falsos positivos a través de varios umbrales de clasificación. Cuanto más se acerca la curva ROC al vértice superior izquierdo, mejor es el modelo.</p> "
   ]
  },
  {
   "cell_type": "markdown",
   "id": "c3bff6ae",
   "metadata": {},
   "source": [
    "<h4>Precisión del Modelo (Accuracy)</h4> <p>La precisión es la proporción de predicciones correctas en el conjunto de datos de prueba.</p>"
   ]
  },
  {
   "cell_type": "code",
   "execution_count": null,
   "id": "bccb24db",
   "metadata": {},
   "outputs": [],
   "source": [
    "# Métricas de evaluación\n",
    "accuracy = accuracy_score(y_test, y_pred)\n",
    "print(f\"Precisión del modelo: {accuracy}\")"
   ]
  },
  {
   "cell_type": "markdown",
   "id": "097227de",
   "metadata": {},
   "source": [
    " En este caso, el modelo tiene una precisión del 66.23%, lo que significa que el 66.23% de las predicciones del modelo son correctas."
   ]
  },
  {
   "cell_type": "markdown",
   "id": "e0691fc8",
   "metadata": {},
   "source": [
    "<h3>Matriz de Confusión</h3> <p>La matriz de confusión muestra cómo se comparan las predicciones del modelo con los valores reales.</p>"
   ]
  },
  {
   "cell_type": "code",
   "execution_count": null,
   "id": "5b40ad38",
   "metadata": {},
   "outputs": [],
   "source": [
    "conf_matrix = confusion_matrix(y_test, y_pred)\n",
    "print(\"Matriz de Confusión:\")\n",
    "print(conf_matrix)"
   ]
  },
  {
   "cell_type": "code",
   "execution_count": null,
   "id": "9417df0d",
   "metadata": {},
   "outputs": [],
   "source": [
    "from sklearn.metrics import confusion_matrix, ConfusionMatrixDisplay\n",
    "\n",
    "# Calcular la matriz de confusión\n",
    "conf_matrix = confusion_matrix(y_test, y_pred)\n",
    "\n",
    "# Crear un gráfico de matriz de confusión más claro\n",
    "disp = ConfusionMatrixDisplay(confusion_matrix=conf_matrix, display_labels=['No Diabetes', 'Diabetes'])\n",
    "disp.plot(cmap='Blues', values_format='d')\n",
    "\n",
    "plt.title('Matriz de Confusión')\n",
    "plt.xlabel('Predicción')\n",
    "plt.ylabel('Real')\n",
    "plt.show()"
   ]
  },
  {
   "cell_type": "markdown",
   "id": "f197333f",
   "metadata": {},
   "source": [
    "<h4>Precisión del Modelo Desglosada</h4> <p>La precisión del modelo se organiza de la siguiente manera:</p> <h5>Verdaderos positivos (True Positives - TP)</h5> <p>12 casos donde el modelo predijo diabetes (1) correctamente.</p> <h5>Falsos positivos (False Positives - FP)</h5> <p>9 casos donde el modelo predijo diabetes incorrectamente.</p> <h5>Verdaderos negativos (True Negatives - TN)</h5> <p>90 casos donde el modelo predijo no diabetes (0) correctamente.</p> <h5>Falsos negativos (False Negatives - FN)</h5> <p>43 casos donde el modelo predijo no diabetes incorrectamente.</p>"
   ]
  },
  {
   "cell_type": "markdown",
   "id": "4f510e40",
   "metadata": {},
   "source": [
    "<h4>Puntuación AUC-ROC</h4> <p>La puntuación AUC-ROC (Área bajo la Curva ROC) mide la capacidad del modelo para distinguir entre clases. Cuanto más cerca esté la puntuación de 1, mejor es el modelo.</p>"
   ]
  },
  {
   "cell_type": "code",
   "execution_count": null,
   "id": "e93dd2f0",
   "metadata": {},
   "outputs": [],
   "source": [
    "roc_auc = roc_auc_score(y_test, y_pred)\n",
    "print(f\"Puntuación AUC-ROC: {roc_auc}\")"
   ]
  },
  {
   "cell_type": "code",
   "execution_count": null,
   "id": "7a947874",
   "metadata": {},
   "outputs": [],
   "source": [
    "from sklearn.metrics import confusion_matrix, roc_curve, auc\n",
    "\n",
    "# Calcula la curva ROC\n",
    "fpr, tpr, thresholds = roc_curve(y_test, model.predict_proba(X_test)[:, 1])\n",
    "\n",
    "# Calcula el área bajo la curva ROC (AUC)\n",
    "roc_auc = auc(fpr, tpr)\n",
    "\n",
    "# Muestra la curva ROC\n",
    "plt.figure(figsize=(8, 6))\n",
    "plt.plot(fpr, tpr, color='darkorange', lw=2, label='Curva ROC (AUC = %0.2f)' % roc_auc)\n",
    "plt.plot([0, 1], [0, 1], color='navy', lw=2, linestyle='--')\n",
    "plt.xlim([0.0, 1.0])\n",
    "plt.ylim([0.0, 1.05])\n",
    "plt.xlabel('Tasa de Falsos Positivos')\n",
    "plt.ylabel('Tasa de Verdaderos Positivos')\n",
    "plt.title('Curva ROC')\n",
    "plt.legend(loc='lower right')\n",
    "\n",
    "plt.show()\n"
   ]
  },
  {
   "cell_type": "markdown",
   "id": "82c773d6",
   "metadata": {},
   "source": [
    "la puntuación es 0.564, lo que indica un rendimiento relativamente bajo en la distinción entre clases."
   ]
  },
  {
   "cell_type": "markdown",
   "id": "bc3200ee",
   "metadata": {},
   "source": [
    "<h3>Informe de Clasificación</h3>\n",
    "El informe de clasificación proporciona métricas adicionales, incluyendo:\n",
    "\n",
    "<h5>Precisión</h5> <p>La proporción de predicciones positivas correctas (tanto verdaderos positivos como falsos positivos).</p> <h5>Recall (Sensibilidad)</h5> <p>La proporción de casos positivos reales (diabetes) que se predicen correctamente.</p> <h5>F1-score</h5> <p>La media armónica de precisión y recall. Es útil cuando se busca un equilibrio entre precisión y recall.</p> <h5>Support</h5> <p>El número de muestras en cada clase.</p>"
   ]
  },
  {
   "cell_type": "code",
   "execution_count": null,
   "id": "5c0f875f",
   "metadata": {},
   "outputs": [],
   "source": [
    "# Generar el informe de clasificación\n",
    "report = classification_report(y_test, y_pred, target_names=['No Diabetes', 'Diabetes'])\n",
    "\n",
    "# Presentar el informe de clasificación de manera más clara\n",
    "print(\"Informe de Clasificación:\")\n",
    "print(report)\n"
   ]
  },
  {
   "cell_type": "markdown",
   "id": "66f42f1d",
   "metadata": {},
   "source": [
    "<h3>Informe de Clasificación</h3> <h4>Precision (Precisión)</h4> <p>\"Precision\" para \"No Diabetes\" (clase negativa): 0.68</p> <p>\"Precision\" para \"Diabetes\" (clase positiva): 0.57</p> <p>Interpretación: La precisión mide la proporción de predicciones positivas que son realmente correctas. En el caso de \"No Diabetes\", el 68% de las predicciones de \"No Diabetes\" son correctas, y en el caso de \"Diabetes\", el 57% de las predicciones de \"Diabetes\" son correctas.</p> <h4>Recall (Sensibilidad)</h4> <p>\"Recall\" para \"No Diabetes\" (clase negativa): 0.91</p> <p>\"Recall\" para \"Diabetes\" (clase positiva): 0.22</p> <p>Interpretación: El \"Recall\" mide la proporción de casos reales de una clase que se han predicho correctamente. En el caso de \"No Diabetes\", el 91% de las personas que realmente no tienen diabetes se predicen correctamente como \"No Diabetes\", mientras que en el caso de \"Diabetes\", solo el 22% de las personas que realmente tienen diabetes se predicen correctamente como \"Diabetes\".</p> <h4>F1-Score (Puntuación F1)</h4> <p>\"F1-Score\" para \"No Diabetes\" (clase negativa): 0.78</p> <p>\"F1-Score\" para \"Diabetes\" (clase positiva): 0.32</p> <p>Interpretación: El \"F1-Score\" es una métrica que combina precision y recall en una sola puntuación. Proporciona un equilibrio entre precision y recall. En el caso de \"No Diabetes\", el \"F1-Score\" es 0.78, y en el caso de \"Diabetes\", el \"F1-Score\" es 0.32.</p> <h4>Support (Soporte)</h4> <p>\"Support\" para \"No Diabetes\" (clase negativa): 99</p> <p>\"Support\" para \"Diabetes\" (clase positiva): 55</p> <p>Interpretación: El \"Support\" muestra el número de muestras de datos en cada clase. Hay 99 muestras de \"No Diabetes\" y 55 muestras de \"Diabetes\" en el conjunto de prueba.</p> <h4>Accuracy (Precisión Global)</h4> <p>Accuracy (Precisión Global): 0.66</p> <p>Interpretación: La precisión global mide la proporción de todas las predicciones correctas en el conjunto de prueba. En este caso, el modelo tiene una precisión global del 66%, lo que significa que el 66% de todas las predicciones son correctas.</p> <h4>Macro Avg y Weighted Avg</h4> <p>Macro Avg: Calcula el promedio de las métricas para cada clase por separado y luego toma el promedio de esos promedios.</p> <p>Weighted Avg: Calcula el promedio de las métricas para cada clase, pero ponderando cada métrica por el número de muestras en cada clase.</p>"
   ]
  },
  {
   "cell_type": "code",
   "execution_count": null,
   "id": "11b734e9",
   "metadata": {},
   "outputs": [],
   "source": [
    "print(\"Informe de Clasificación:\")\n",
    "print(classification_report(y_test, y_pred))"
   ]
  },
  {
   "cell_type": "markdown",
   "id": "5be4581f",
   "metadata": {},
   "source": [
    "### Resumen: \n",
    "El modelo tiene una precisión moderada del 66.23%, lo que indica que acierta en alrededor del 66.23% de las predicciones. Sin embargo, el recall (sensibilidad) para la clase \"1\" (diabetes) es bajo, lo que significa que el modelo no es muy bueno para identificar personas con diabetes. Esto puede deberse a un desequilibrio en la distribución de clases en los datos o a otras consideraciones."
   ]
  },
  {
   "cell_type": "code",
   "execution_count": null,
   "id": "e4863ff6-d5a9-4ebb-a834-f775f7103b91",
   "metadata": {},
   "outputs": [],
   "source": [
    "# Paso 7: Interpretación del Modelo\n",
    "coeficientes = model.coef_[0]\n",
    "intercepto = model.intercept_[0]\n",
    "\n",
    "print(f\"Coeficientes: {coeficientes}\")\n",
    "print(f\"Intercepto: {intercepto}\")"
   ]
  },
  {
   "cell_type": "code",
   "execution_count": null,
   "id": "12852fb1",
   "metadata": {},
   "outputs": [],
   "source": [
    "import seaborn as sns\n",
    "import matplotlib.pyplot as plt\n",
    "\n",
    "# Supongamos que estamos interesados en el primer coeficiente (coeficientes[0])\n",
    "feature_name = \"BMI\"  # Nombre de la característica asociada al coeficiente\n",
    "\n",
    "# Crear un rango de valores para BMI\n",
    "bmi_range = np.linspace(train[feature_name].min(), train[feature_name].max(), 100)\n",
    "\n",
    "# Calcular las probabilidades usando los coeficientes e intercepto\n",
    "probabilities = 1 / (1 + np.exp(-(coeficientes[0] * bmi_range + intercepto)))\n",
    "\n",
    "# Crear un gráfico para visualizar la relación entre BMI y la probabilidad de diabetes\n",
    "plt.figure(figsize=(8, 6))\n",
    "sns.lineplot(x=bmi_range, y=probabilities, label=\"Probabilidad de Diabetes\")\n",
    "plt.xlabel(\"BMI\")\n",
    "plt.ylabel(\"Probabilidad\")\n",
    "plt.title(f\"Relación entre {feature_name} y la Probabilidad de Diabetes\")\n",
    "plt.legend()\n",
    "plt.show()\n"
   ]
  },
  {
   "cell_type": "markdown",
   "id": "809df4ab",
   "metadata": {},
   "source": [
    "\n",
    "## Paso 9: Mejora y Afinación del Modelo (Opcional)"
   ]
  },
  {
   "cell_type": "code",
   "execution_count": null,
   "id": "bd6aa32e",
   "metadata": {
    "scrolled": false
   },
   "outputs": [],
   "source": [
    "\n",
    "# Exploración y preprocesamiento de datos (puedes realizar más preprocesamiento según sea necesario)\n",
    "\n",
    "# División de datos en características (X) y etiquetas (y)\n",
    "X = data[['BMI', 'Glucose', 'BloodPressure']]  # Agrega más características\n",
    "y = data['Outcome']\n",
    "\n",
    "# División en conjuntos de entrenamiento y prueba\n",
    "X_train, X_test, y_train, y_test = train_test_split(X, y, test_size=0.2, random_state=42)\n",
    "\n",
    "# Afinación de hiperparámetros (ajusta los hiperparámetros según sea necesario)\n",
    "model = LogisticRegression(C=1.0, penalty='l2')  # Experimenta con diferentes valores de C y tipo de regularización\n",
    "\n",
    "# Entrenamiento del modelo\n",
    "model.fit(X_train, y_train)\n",
    "\n",
    "# Evaluación del modelo\n",
    "y_pred = model.predict(X_test)\n",
    "\n",
    "# Métricas de evaluación\n",
    "accuracy = accuracy_score(y_test, y_pred)\n",
    "conf_matrix = confusion_matrix(y_test, y_pred)\n",
    "roc_auc = roc_auc_score(y_test, y_pred)\n",
    "\n",
    "# Presentación de resultados\n",
    "print(f\"Precisión del modelo: {accuracy:.2f}\")\n",
    "print(\"Matriz de Confusión:\")\n",
    "print(conf_matrix)\n",
    "print(f\"Puntuación AUC-ROC: {roc_auc:.2f}\")\n",
    "\n",
    "# Visualización de la matriz de confusión\n",
    "sns.heatmap(conf_matrix, annot=True, fmt='d', cmap='Blues')\n",
    "plt.xlabel('Predicción')\n",
    "plt.ylabel('Real')\n",
    "plt.title('Matriz de Confusión')\n",
    "plt.show()\n"
   ]
  },
  {
   "cell_type": "code",
   "execution_count": null,
   "id": "1bb630de",
   "metadata": {},
   "outputs": [],
   "source": [
    "\n",
    "# Exploración y preprocesamiento de datos (puedes realizar más preprocesamiento según sea necesario)\n",
    "\n",
    "# División de datos en características (X) y etiquetas (y)\n",
    "X = data[['BMI', 'Glucose', 'BloodPressure','Age']]  # Agrega más características\n",
    "y = data['Outcome']\n",
    "\n",
    "# División en conjuntos de entrenamiento y prueba\n",
    "X_train, X_test, y_train, y_test = train_test_split(X, y, test_size=0.2, random_state=42)\n",
    "\n",
    "# Afinación de hiperparámetros (ajusta los hiperparámetros según sea necesario)\n",
    "model = LogisticRegression(C=1.0, penalty='l2')  # Experimenta con diferentes valores de C y tipo de regularización\n",
    "\n",
    "# Entrenamiento del modelo\n",
    "model.fit(X_train, y_train)\n",
    "\n",
    "# Evaluación del modelo\n",
    "y_pred = model.predict(X_test)\n",
    "\n",
    "# Métricas de evaluación\n",
    "accuracy = accuracy_score(y_test, y_pred)\n",
    "conf_matrix = confusion_matrix(y_test, y_pred)\n",
    "roc_auc = roc_auc_score(y_test, y_pred)\n",
    "\n",
    "# Presentación de resultados\n",
    "print(f\"Precisión del modelo: {accuracy:.2f}\")\n",
    "print(\"Matriz de Confusión:\")\n",
    "print(conf_matrix)\n",
    "print(f\"Puntuación AUC-ROC: {roc_auc:.2f}\")\n",
    "\n",
    "# Visualización de la matriz de confusión\n",
    "sns.heatmap(conf_matrix, annot=True, fmt='d', cmap='Blues')\n",
    "plt.xlabel('Predicción')\n",
    "plt.ylabel('Real')\n",
    "plt.title('Matriz de Confusión')\n",
    "plt.show()\n"
   ]
  },
  {
   "cell_type": "code",
   "execution_count": null,
   "id": "193603a4",
   "metadata": {},
   "outputs": [],
   "source": [
    "data.columns"
   ]
  },
  {
   "cell_type": "code",
   "execution_count": null,
   "id": "6a8760dd",
   "metadata": {},
   "outputs": [],
   "source": [
    "from sklearn.preprocessing import StandardScaler\n",
    "from sklearn.model_selection import train_test_split\n",
    "\n",
    "# División de datos en características (X) y etiquetas (y)\n",
    "X = data[['BMI', 'Glucose', 'BloodPressure']]\n",
    "#X = data[['BMI']]\n",
    "y = data['Outcome']\n",
    "\n",
    "# Normalizar características\n",
    "scaler = StandardScaler()\n",
    "X = scaler.fit_transform(X)\n",
    "\n",
    "# Dividir el conjunto de datos en entrenamiento y prueba\n",
    "X_train, X_test, y_train, y_test = train_test_split(X, y, test_size=0.2, random_state=42)\n"
   ]
  },
  {
   "cell_type": "code",
   "execution_count": null,
   "id": "c9e9d488",
   "metadata": {},
   "outputs": [],
   "source": [
    "# Entrenamiento del modelo de regresión logística\n",
    "model = LogisticRegression()\n",
    "model.fit(X_train, y_train)\n",
    "\n",
    "# Evaluación del modelo\n",
    "y_pred = model.predict(X_test)\n",
    "\n",
    "# Métricas de evaluación\n",
    "accuracy = accuracy_score(y_test, y_pred)\n",
    "print(f\"Precisión del modelo: {accuracy:.2f}\")"
   ]
  },
  {
   "cell_type": "code",
   "execution_count": null,
   "id": "7c85ff75",
   "metadata": {},
   "outputs": [],
   "source": [
    "from sklearn.ensemble import RandomForestClassifier\n",
    "\n",
    "# Entrenar un modelo Random Forest para calcular la importancia de características\n",
    "rf_model = RandomForestClassifier()\n",
    "rf_model.fit(X_train, y_train)\n",
    "\n",
    "# Obtener la importancia de características\n",
    "feature_importance = rf_model.feature_importances_\n",
    "print(\"Importancia de características:\")\n",
    "for i, importance in enumerate(feature_importance):\n",
    "    print(f\"Característica {i}: {importance:.4f}\")\n"
   ]
  },
  {
   "cell_type": "code",
   "execution_count": null,
   "id": "c44df65f",
   "metadata": {},
   "outputs": [],
   "source": [
    "from sklearn.model_selection import cross_val_score\n",
    "\n",
    "# Realizar validación cruzada con k-fold\n",
    "cv_scores = cross_val_score(model, X, y, cv=5)\n",
    "print(\"Puntuaciones de validación cruzada:\", cv_scores)\n",
    "print(f\"Puntuación media de validación cruzada: {cv_scores.mean():.2f}\")\n"
   ]
  },
  {
   "cell_type": "markdown",
   "id": "a5a91c3b",
   "metadata": {},
   "source": [
    "## Classification using KNN"
   ]
  },
  {
   "cell_type": "markdown",
   "id": "c9728cdc",
   "metadata": {},
   "source": [
    "<h4>Creación del conjunto de datos de características X</h4> <p>El código `train.drop('Outcome', axis=1)` se utiliza para crear un nuevo DataFrame llamado X que contiene todas las características (atributos) del conjunto de datos original excepto la columna 'Outcome'. Es decir, se eliminó la columna 'Outcome' del conjunto de datos original y se guardó el resto de las columnas en X.</p>"
   ]
  },
  {
   "cell_type": "code",
   "execution_count": 9,
   "id": "67c8e93c",
   "metadata": {},
   "outputs": [
    {
     "data": {
      "text/html": [
       "<div>\n",
       "<style scoped>\n",
       "    .dataframe tbody tr th:only-of-type {\n",
       "        vertical-align: middle;\n",
       "    }\n",
       "\n",
       "    .dataframe tbody tr th {\n",
       "        vertical-align: top;\n",
       "    }\n",
       "\n",
       "    .dataframe thead th {\n",
       "        text-align: right;\n",
       "    }\n",
       "</style>\n",
       "<table border=\"1\" class=\"dataframe\">\n",
       "  <thead>\n",
       "    <tr style=\"text-align: right;\">\n",
       "      <th></th>\n",
       "      <th>Pregnancies</th>\n",
       "      <th>Glucose</th>\n",
       "      <th>BloodPressure</th>\n",
       "      <th>SkinThickness</th>\n",
       "      <th>Insulin</th>\n",
       "      <th>BMI</th>\n",
       "      <th>DiabetesPedigreeFunction</th>\n",
       "      <th>Age</th>\n",
       "      <th>Outcome</th>\n",
       "    </tr>\n",
       "  </thead>\n",
       "  <tbody>\n",
       "    <tr>\n",
       "      <th>0</th>\n",
       "      <td>6</td>\n",
       "      <td>148</td>\n",
       "      <td>72</td>\n",
       "      <td>35</td>\n",
       "      <td>0</td>\n",
       "      <td>33.6</td>\n",
       "      <td>0.627</td>\n",
       "      <td>50</td>\n",
       "      <td>1</td>\n",
       "    </tr>\n",
       "    <tr>\n",
       "      <th>1</th>\n",
       "      <td>1</td>\n",
       "      <td>85</td>\n",
       "      <td>66</td>\n",
       "      <td>29</td>\n",
       "      <td>0</td>\n",
       "      <td>26.6</td>\n",
       "      <td>0.351</td>\n",
       "      <td>31</td>\n",
       "      <td>0</td>\n",
       "    </tr>\n",
       "    <tr>\n",
       "      <th>2</th>\n",
       "      <td>8</td>\n",
       "      <td>183</td>\n",
       "      <td>64</td>\n",
       "      <td>0</td>\n",
       "      <td>0</td>\n",
       "      <td>23.3</td>\n",
       "      <td>0.672</td>\n",
       "      <td>32</td>\n",
       "      <td>1</td>\n",
       "    </tr>\n",
       "    <tr>\n",
       "      <th>3</th>\n",
       "      <td>1</td>\n",
       "      <td>89</td>\n",
       "      <td>66</td>\n",
       "      <td>23</td>\n",
       "      <td>94</td>\n",
       "      <td>28.1</td>\n",
       "      <td>0.167</td>\n",
       "      <td>21</td>\n",
       "      <td>0</td>\n",
       "    </tr>\n",
       "    <tr>\n",
       "      <th>4</th>\n",
       "      <td>0</td>\n",
       "      <td>137</td>\n",
       "      <td>40</td>\n",
       "      <td>35</td>\n",
       "      <td>168</td>\n",
       "      <td>43.1</td>\n",
       "      <td>2.288</td>\n",
       "      <td>33</td>\n",
       "      <td>1</td>\n",
       "    </tr>\n",
       "  </tbody>\n",
       "</table>\n",
       "</div>"
      ],
      "text/plain": [
       "   Pregnancies  Glucose  BloodPressure  SkinThickness  Insulin   BMI  \\\n",
       "0            6      148             72             35        0  33.6   \n",
       "1            1       85             66             29        0  26.6   \n",
       "2            8      183             64              0        0  23.3   \n",
       "3            1       89             66             23       94  28.1   \n",
       "4            0      137             40             35      168  43.1   \n",
       "\n",
       "   DiabetesPedigreeFunction  Age  Outcome  \n",
       "0                     0.627   50        1  \n",
       "1                     0.351   31        0  \n",
       "2                     0.672   32        1  \n",
       "3                     0.167   21        0  \n",
       "4                     2.288   33        1  "
      ]
     },
     "execution_count": 9,
     "metadata": {},
     "output_type": "execute_result"
    }
   ],
   "source": [
    "train.head()"
   ]
  },
  {
   "cell_type": "code",
   "execution_count": 10,
   "id": "a8b27a82",
   "metadata": {},
   "outputs": [
    {
     "data": {
      "text/html": [
       "<div>\n",
       "<style scoped>\n",
       "    .dataframe tbody tr th:only-of-type {\n",
       "        vertical-align: middle;\n",
       "    }\n",
       "\n",
       "    .dataframe tbody tr th {\n",
       "        vertical-align: top;\n",
       "    }\n",
       "\n",
       "    .dataframe thead th {\n",
       "        text-align: right;\n",
       "    }\n",
       "</style>\n",
       "<table border=\"1\" class=\"dataframe\">\n",
       "  <thead>\n",
       "    <tr style=\"text-align: right;\">\n",
       "      <th></th>\n",
       "      <th>Pregnancies</th>\n",
       "      <th>Glucose</th>\n",
       "      <th>BloodPressure</th>\n",
       "      <th>SkinThickness</th>\n",
       "      <th>Insulin</th>\n",
       "      <th>BMI</th>\n",
       "      <th>DiabetesPedigreeFunction</th>\n",
       "      <th>Age</th>\n",
       "    </tr>\n",
       "  </thead>\n",
       "  <tbody>\n",
       "    <tr>\n",
       "      <th>0</th>\n",
       "      <td>6</td>\n",
       "      <td>148</td>\n",
       "      <td>72</td>\n",
       "      <td>35</td>\n",
       "      <td>0</td>\n",
       "      <td>33.6</td>\n",
       "      <td>0.627</td>\n",
       "      <td>50</td>\n",
       "    </tr>\n",
       "    <tr>\n",
       "      <th>1</th>\n",
       "      <td>1</td>\n",
       "      <td>85</td>\n",
       "      <td>66</td>\n",
       "      <td>29</td>\n",
       "      <td>0</td>\n",
       "      <td>26.6</td>\n",
       "      <td>0.351</td>\n",
       "      <td>31</td>\n",
       "    </tr>\n",
       "    <tr>\n",
       "      <th>2</th>\n",
       "      <td>8</td>\n",
       "      <td>183</td>\n",
       "      <td>64</td>\n",
       "      <td>0</td>\n",
       "      <td>0</td>\n",
       "      <td>23.3</td>\n",
       "      <td>0.672</td>\n",
       "      <td>32</td>\n",
       "    </tr>\n",
       "    <tr>\n",
       "      <th>3</th>\n",
       "      <td>1</td>\n",
       "      <td>89</td>\n",
       "      <td>66</td>\n",
       "      <td>23</td>\n",
       "      <td>94</td>\n",
       "      <td>28.1</td>\n",
       "      <td>0.167</td>\n",
       "      <td>21</td>\n",
       "    </tr>\n",
       "    <tr>\n",
       "      <th>4</th>\n",
       "      <td>0</td>\n",
       "      <td>137</td>\n",
       "      <td>40</td>\n",
       "      <td>35</td>\n",
       "      <td>168</td>\n",
       "      <td>43.1</td>\n",
       "      <td>2.288</td>\n",
       "      <td>33</td>\n",
       "    </tr>\n",
       "  </tbody>\n",
       "</table>\n",
       "</div>"
      ],
      "text/plain": [
       "   Pregnancies  Glucose  BloodPressure  SkinThickness  Insulin   BMI  \\\n",
       "0            6      148             72             35        0  33.6   \n",
       "1            1       85             66             29        0  26.6   \n",
       "2            8      183             64              0        0  23.3   \n",
       "3            1       89             66             23       94  28.1   \n",
       "4            0      137             40             35      168  43.1   \n",
       "\n",
       "   DiabetesPedigreeFunction  Age  \n",
       "0                     0.627   50  \n",
       "1                     0.351   31  \n",
       "2                     0.672   32  \n",
       "3                     0.167   21  \n",
       "4                     2.288   33  "
      ]
     },
     "execution_count": 10,
     "metadata": {},
     "output_type": "execute_result"
    }
   ],
   "source": [
    "X=train.drop('Outcome',axis=1)\n",
    "X.head()"
   ]
  },
  {
   "cell_type": "markdown",
   "id": "f3972f39",
   "metadata": {},
   "source": [
    "<h4>Creación de la Serie de etiquetas y</h4> <p>El código y = train['Outcome'] se utiliza para crear una Serie y que contiene las etiquetas (resultados) del conjunto de datos original. Es decir, se está extrayendo la columna 'Outcome' del DataFrame original y guardándola en la Serie y.</p>"
   ]
  },
  {
   "cell_type": "code",
   "execution_count": 11,
   "id": "d7d394d7",
   "metadata": {},
   "outputs": [
    {
     "data": {
      "text/plain": [
       "0    1\n",
       "1    0\n",
       "2    1\n",
       "3    0\n",
       "4    1\n",
       "Name: Outcome, dtype: int64"
      ]
     },
     "execution_count": 11,
     "metadata": {},
     "output_type": "execute_result"
    }
   ],
   "source": [
    "y=train['Outcome']\n",
    "y.head()"
   ]
  },
  {
   "cell_type": "code",
   "execution_count": 12,
   "id": "ba8373c2",
   "metadata": {},
   "outputs": [],
   "source": [
    "from sklearn.model_selection import train_test_split\n",
    "\n",
    "X_train, X_test, y_train, y_test = train_test_split(X, y,test_size=0.2,random_state=0)\n"
   ]
  },
  {
   "cell_type": "code",
   "execution_count": 13,
   "id": "298eb9ba",
   "metadata": {},
   "outputs": [
    {
     "data": {
      "text/plain": [
       "(614, 8)"
      ]
     },
     "execution_count": 13,
     "metadata": {},
     "output_type": "execute_result"
    }
   ],
   "source": [
    "X_train.shape"
   ]
  },
  {
   "cell_type": "markdown",
   "id": "9c136398",
   "metadata": {},
   "source": [
    "<h4>Creación del transformador StandardScaler</h4> <p>La línea StandardScaler() se utiliza para crear una instancia del transformador StandardScaler de la biblioteca scikit-learn. \n",
    "    \n",
    "El StandardScaler es una técnica de preprocesamiento común en el aprendizaje automático que se utiliza para estandarizar (escalar) las características de un conjunto de datos.\n",
    "    \n",
    " Esta estandarización hace que las características tengan una media de 0 y una desviación estándar de 1, lo que puede ser beneficioso para ciertos algoritmos de aprendizaje automático, como K-Nearest Neighbors (KNN).</p>"
   ]
  },
  {
   "cell_type": "code",
   "execution_count": 14,
   "id": "5b11507a",
   "metadata": {},
   "outputs": [],
   "source": [
    "from sklearn.preprocessing import StandardScaler\n",
    "\n",
    "sc_x=StandardScaler()\n",
    "X_train=sc_x.fit_transform(X_train)\n",
    "X_test=sc_x.transform(X_test)"
   ]
  },
  {
   "cell_type": "markdown",
   "id": "df071924",
   "metadata": {},
   "source": [
    "## KNN"
   ]
  },
  {
   "cell_type": "code",
   "execution_count": null,
   "id": "e92d1a71",
   "metadata": {},
   "outputs": [],
   "source": []
  },
  {
   "cell_type": "code",
   "execution_count": 15,
   "id": "9960121b",
   "metadata": {},
   "outputs": [],
   "source": [
    "from sklearn.neighbors import KNeighborsClassifier"
   ]
  },
  {
   "cell_type": "code",
   "execution_count": 16,
   "id": "64a73ae0",
   "metadata": {},
   "outputs": [
    {
     "data": {
      "text/html": [
       "<style>#sk-container-id-1 {color: black;}#sk-container-id-1 pre{padding: 0;}#sk-container-id-1 div.sk-toggleable {background-color: white;}#sk-container-id-1 label.sk-toggleable__label {cursor: pointer;display: block;width: 100%;margin-bottom: 0;padding: 0.3em;box-sizing: border-box;text-align: center;}#sk-container-id-1 label.sk-toggleable__label-arrow:before {content: \"▸\";float: left;margin-right: 0.25em;color: #696969;}#sk-container-id-1 label.sk-toggleable__label-arrow:hover:before {color: black;}#sk-container-id-1 div.sk-estimator:hover label.sk-toggleable__label-arrow:before {color: black;}#sk-container-id-1 div.sk-toggleable__content {max-height: 0;max-width: 0;overflow: hidden;text-align: left;background-color: #f0f8ff;}#sk-container-id-1 div.sk-toggleable__content pre {margin: 0.2em;color: black;border-radius: 0.25em;background-color: #f0f8ff;}#sk-container-id-1 input.sk-toggleable__control:checked~div.sk-toggleable__content {max-height: 200px;max-width: 100%;overflow: auto;}#sk-container-id-1 input.sk-toggleable__control:checked~label.sk-toggleable__label-arrow:before {content: \"▾\";}#sk-container-id-1 div.sk-estimator input.sk-toggleable__control:checked~label.sk-toggleable__label {background-color: #d4ebff;}#sk-container-id-1 div.sk-label input.sk-toggleable__control:checked~label.sk-toggleable__label {background-color: #d4ebff;}#sk-container-id-1 input.sk-hidden--visually {border: 0;clip: rect(1px 1px 1px 1px);clip: rect(1px, 1px, 1px, 1px);height: 1px;margin: -1px;overflow: hidden;padding: 0;position: absolute;width: 1px;}#sk-container-id-1 div.sk-estimator {font-family: monospace;background-color: #f0f8ff;border: 1px dotted black;border-radius: 0.25em;box-sizing: border-box;margin-bottom: 0.5em;}#sk-container-id-1 div.sk-estimator:hover {background-color: #d4ebff;}#sk-container-id-1 div.sk-parallel-item::after {content: \"\";width: 100%;border-bottom: 1px solid gray;flex-grow: 1;}#sk-container-id-1 div.sk-label:hover label.sk-toggleable__label {background-color: #d4ebff;}#sk-container-id-1 div.sk-serial::before {content: \"\";position: absolute;border-left: 1px solid gray;box-sizing: border-box;top: 0;bottom: 0;left: 50%;z-index: 0;}#sk-container-id-1 div.sk-serial {display: flex;flex-direction: column;align-items: center;background-color: white;padding-right: 0.2em;padding-left: 0.2em;position: relative;}#sk-container-id-1 div.sk-item {position: relative;z-index: 1;}#sk-container-id-1 div.sk-parallel {display: flex;align-items: stretch;justify-content: center;background-color: white;position: relative;}#sk-container-id-1 div.sk-item::before, #sk-container-id-1 div.sk-parallel-item::before {content: \"\";position: absolute;border-left: 1px solid gray;box-sizing: border-box;top: 0;bottom: 0;left: 50%;z-index: -1;}#sk-container-id-1 div.sk-parallel-item {display: flex;flex-direction: column;z-index: 1;position: relative;background-color: white;}#sk-container-id-1 div.sk-parallel-item:first-child::after {align-self: flex-end;width: 50%;}#sk-container-id-1 div.sk-parallel-item:last-child::after {align-self: flex-start;width: 50%;}#sk-container-id-1 div.sk-parallel-item:only-child::after {width: 0;}#sk-container-id-1 div.sk-dashed-wrapped {border: 1px dashed gray;margin: 0 0.4em 0.5em 0.4em;box-sizing: border-box;padding-bottom: 0.4em;background-color: white;}#sk-container-id-1 div.sk-label label {font-family: monospace;font-weight: bold;display: inline-block;line-height: 1.2em;}#sk-container-id-1 div.sk-label-container {text-align: center;}#sk-container-id-1 div.sk-container {/* jupyter's `normalize.less` sets `[hidden] { display: none; }` but bootstrap.min.css set `[hidden] { display: none !important; }` so we also need the `!important` here to be able to override the default hidden behavior on the sphinx rendered scikit-learn.org. See: https://github.com/scikit-learn/scikit-learn/issues/21755 */display: inline-block !important;position: relative;}#sk-container-id-1 div.sk-text-repr-fallback {display: none;}</style><div id=\"sk-container-id-1\" class=\"sk-top-container\"><div class=\"sk-text-repr-fallback\"><pre>KNeighborsClassifier(metric=&#x27;euclidean&#x27;)</pre><b>In a Jupyter environment, please rerun this cell to show the HTML representation or trust the notebook. <br />On GitHub, the HTML representation is unable to render, please try loading this page with nbviewer.org.</b></div><div class=\"sk-container\" hidden><div class=\"sk-item\"><div class=\"sk-estimator sk-toggleable\"><input class=\"sk-toggleable__control sk-hidden--visually\" id=\"sk-estimator-id-1\" type=\"checkbox\" checked><label for=\"sk-estimator-id-1\" class=\"sk-toggleable__label sk-toggleable__label-arrow\">KNeighborsClassifier</label><div class=\"sk-toggleable__content\"><pre>KNeighborsClassifier(metric=&#x27;euclidean&#x27;)</pre></div></div></div></div></div>"
      ],
      "text/plain": [
       "KNeighborsClassifier(metric='euclidean')"
      ]
     },
     "execution_count": 16,
     "metadata": {},
     "output_type": "execute_result"
    }
   ],
   "source": [
    "knn=KNeighborsClassifier(n_neighbors=5,metric='euclidean',p=2)\n",
    "knn.fit(X_train,y_train)"
   ]
  },
  {
   "cell_type": "code",
   "execution_count": 17,
   "id": "171910b1",
   "metadata": {},
   "outputs": [
    {
     "data": {
      "text/plain": [
       "array([1, 0, 0, 1, 0, 0, 1, 1, 1, 0, 1, 1, 0, 0, 0, 0, 1, 0, 0, 0, 0, 0,\n",
       "       0, 0, 0, 0, 0, 1, 0, 0, 1, 0, 0, 1, 0, 1, 0, 0, 0, 1, 0, 0, 0, 1,\n",
       "       1, 0, 0, 0, 1, 0, 0, 0, 1, 1, 0, 0, 0, 1, 0, 0, 1, 0, 0, 1, 1, 1,\n",
       "       1, 0, 1, 0, 0, 0, 0, 1, 1, 0, 0, 0, 0, 0, 0, 0, 1, 0, 0, 0, 0, 0,\n",
       "       1, 0, 0, 0, 0, 0, 1, 0, 0, 0, 1, 1, 0, 0, 0, 0, 0, 0, 0, 0, 0, 1,\n",
       "       0, 0, 1, 1, 1, 1, 0, 1, 0, 1, 0, 1, 0, 0, 0, 0, 0, 0, 1, 0, 0, 0,\n",
       "       0, 0, 0, 0, 0, 0, 1, 0, 0, 1, 0, 0, 1, 0, 0, 0, 0, 0, 0, 0, 0, 0])"
      ]
     },
     "execution_count": 17,
     "metadata": {},
     "output_type": "execute_result"
    }
   ],
   "source": [
    "y_pred=knn.predict(X_test)\n",
    "y_pred"
   ]
  },
  {
   "cell_type": "code",
   "execution_count": 20,
   "id": "c5f5f603",
   "metadata": {},
   "outputs": [
    {
     "data": {
      "text/plain": [
       "0.7987012987012987"
      ]
     },
     "execution_count": 20,
     "metadata": {},
     "output_type": "execute_result"
    }
   ],
   "source": [
    "knn.score(X_test,y_test)"
   ]
  },
  {
   "cell_type": "code",
   "execution_count": 21,
   "id": "29ce5fdd",
   "metadata": {},
   "outputs": [],
   "source": [
    "from sklearn.metrics import accuracy_score\n",
    "from sklearn import metrics"
   ]
  },
  {
   "cell_type": "code",
   "execution_count": 22,
   "id": "4016570b",
   "metadata": {},
   "outputs": [
    {
     "data": {
      "text/plain": [
       "0.7987012987012987"
      ]
     },
     "execution_count": 22,
     "metadata": {},
     "output_type": "execute_result"
    }
   ],
   "source": [
    "metrics.accuracy_score(y_test,y_pred)"
   ]
  },
  {
   "cell_type": "code",
   "execution_count": 23,
   "id": "59c43cbc",
   "metadata": {},
   "outputs": [
    {
     "data": {
      "image/png": "[encoded data removed]",
      "text/plain": [
       "<Figure size 640x480 with 2 Axes>"
      ]
     },
     "metadata": {},
     "output_type": "display_data"
    }
   ],
   "source": [
    "import seaborn as sns\n",
    "from sklearn.metrics import confusion_matrix\n",
    "import matplotlib.pyplot as plt\n",
    "\n",
    "# Calcula la matriz de confusión\n",
    "mat = confusion_matrix(y_test, y_pred)\n",
    "\n",
    "# Crea un mapa de calor de la matriz de confusión\n",
    "sns.heatmap(mat, annot=True, fmt='d', cmap='Blues', xticklabels=['No Diabetes', 'Diabetes'], yticklabels=['No Diabetes', 'Diabetes'])\n",
    "\n",
    "# Personaliza las etiquetas de los ejes\n",
    "plt.xlabel('Predicción')\n",
    "plt.ylabel('Etiqueta Real')\n",
    "plt.title('Matriz de Confusión')\n",
    "\n",
    "# Muestra el gráfico\n",
    "plt.show()\n"
   ]
  },
  {
   "cell_type": "code",
   "execution_count": 24,
   "id": "7646ab2c",
   "metadata": {},
   "outputs": [
    {
     "name": "stdout",
     "output_type": "stream",
     "text": [
      "              precision    recall  f1-score   support\n",
      "\n",
      "    Diabetes       0.85      0.87      0.86       107\n",
      "      Normal       0.68      0.64      0.66        47\n",
      "\n",
      "    accuracy                           0.80       154\n",
      "   macro avg       0.76      0.75      0.76       154\n",
      "weighted avg       0.80      0.80      0.80       154\n",
      "\n"
     ]
    }
   ],
   "source": [
    "from sklearn.metrics import classification_report\n",
    "target_names = ['Diabetes', 'Normal']\n",
    "print(classification_report(y_test, y_pred, target_names=target_names))\n"
   ]
  },
  {
   "cell_type": "code",
   "execution_count": 25,
   "id": "222a6d7f",
   "metadata": {},
   "outputs": [],
   "source": [
    "#For selecting K value\n",
    "error_rate = []\n",
    "\n",
    "# Will take some time\n",
    "for i in range(1,40):\n",
    "    \n",
    "    knn = KNeighborsClassifier(n_neighbors=i)\n",
    "    knn.fit(X_train,y_train)\n",
    "    pred_i = knn.predict(X_test)\n",
    "    error_rate.append(np.mean(pred_i != y_test))"
   ]
  },
  {
   "cell_type": "code",
   "execution_count": 26,
   "id": "e76d5547",
   "metadata": {},
   "outputs": [
    {
     "data": {
      "text/plain": [
       "Text(0, 0.5, 'Error Rate')"
      ]
     },
     "execution_count": 26,
     "metadata": {},
     "output_type": "execute_result"
    },
    {
     "data": {
      "image/png": "[encoded data removed]",
      "text/plain": [
       "<Figure size 1000x600 with 1 Axes>"
      ]
     },
     "metadata": {},
     "output_type": "display_data"
    }
   ],
   "source": [
    "import matplotlib.pyplot as plt\n",
    "plt.figure(figsize=(10,6))\n",
    "plt.plot(range(1,40),error_rate,color='blue', linestyle='dashed', marker='o',\n",
    "         markerfacecolor='red', markersize=10)\n",
    "plt.title('Error Rate vs. K Value')\n",
    "plt.xlabel('K')\n",
    "plt.ylabel('Error Rate')\n",
    "\n"
   ]
  },
  {
   "cell_type": "code",
   "execution_count": 29,
   "id": "e5986ead",
   "metadata": {},
   "outputs": [
    {
     "data": {
      "text/html": [
       "<style>#sk-container-id-3 {color: black;}#sk-container-id-3 pre{padding: 0;}#sk-container-id-3 div.sk-toggleable {background-color: white;}#sk-container-id-3 label.sk-toggleable__label {cursor: pointer;display: block;width: 100%;margin-bottom: 0;padding: 0.3em;box-sizing: border-box;text-align: center;}#sk-container-id-3 label.sk-toggleable__label-arrow:before {content: \"▸\";float: left;margin-right: 0.25em;color: #696969;}#sk-container-id-3 label.sk-toggleable__label-arrow:hover:before {color: black;}#sk-container-id-3 div.sk-estimator:hover label.sk-toggleable__label-arrow:before {color: black;}#sk-container-id-3 div.sk-toggleable__content {max-height: 0;max-width: 0;overflow: hidden;text-align: left;background-color: #f0f8ff;}#sk-container-id-3 div.sk-toggleable__content pre {margin: 0.2em;color: black;border-radius: 0.25em;background-color: #f0f8ff;}#sk-container-id-3 input.sk-toggleable__control:checked~div.sk-toggleable__content {max-height: 200px;max-width: 100%;overflow: auto;}#sk-container-id-3 input.sk-toggleable__control:checked~label.sk-toggleable__label-arrow:before {content: \"▾\";}#sk-container-id-3 div.sk-estimator input.sk-toggleable__control:checked~label.sk-toggleable__label {background-color: #d4ebff;}#sk-container-id-3 div.sk-label input.sk-toggleable__control:checked~label.sk-toggleable__label {background-color: #d4ebff;}#sk-container-id-3 input.sk-hidden--visually {border: 0;clip: rect(1px 1px 1px 1px);clip: rect(1px, 1px, 1px, 1px);height: 1px;margin: -1px;overflow: hidden;padding: 0;position: absolute;width: 1px;}#sk-container-id-3 div.sk-estimator {font-family: monospace;background-color: #f0f8ff;border: 1px dotted black;border-radius: 0.25em;box-sizing: border-box;margin-bottom: 0.5em;}#sk-container-id-3 div.sk-estimator:hover {background-color: #d4ebff;}#sk-container-id-3 div.sk-parallel-item::after {content: \"\";width: 100%;border-bottom: 1px solid gray;flex-grow: 1;}#sk-container-id-3 div.sk-label:hover label.sk-toggleable__label {background-color: #d4ebff;}#sk-container-id-3 div.sk-serial::before {content: \"\";position: absolute;border-left: 1px solid gray;box-sizing: border-box;top: 0;bottom: 0;left: 50%;z-index: 0;}#sk-container-id-3 div.sk-serial {display: flex;flex-direction: column;align-items: center;background-color: white;padding-right: 0.2em;padding-left: 0.2em;position: relative;}#sk-container-id-3 div.sk-item {position: relative;z-index: 1;}#sk-container-id-3 div.sk-parallel {display: flex;align-items: stretch;justify-content: center;background-color: white;position: relative;}#sk-container-id-3 div.sk-item::before, #sk-container-id-3 div.sk-parallel-item::before {content: \"\";position: absolute;border-left: 1px solid gray;box-sizing: border-box;top: 0;bottom: 0;left: 50%;z-index: -1;}#sk-container-id-3 div.sk-parallel-item {display: flex;flex-direction: column;z-index: 1;position: relative;background-color: white;}#sk-container-id-3 div.sk-parallel-item:first-child::after {align-self: flex-end;width: 50%;}#sk-container-id-3 div.sk-parallel-item:last-child::after {align-self: flex-start;width: 50%;}#sk-container-id-3 div.sk-parallel-item:only-child::after {width: 0;}#sk-container-id-3 div.sk-dashed-wrapped {border: 1px dashed gray;margin: 0 0.4em 0.5em 0.4em;box-sizing: border-box;padding-bottom: 0.4em;background-color: white;}#sk-container-id-3 div.sk-label label {font-family: monospace;font-weight: bold;display: inline-block;line-height: 1.2em;}#sk-container-id-3 div.sk-label-container {text-align: center;}#sk-container-id-3 div.sk-container {/* jupyter's `normalize.less` sets `[hidden] { display: none; }` but bootstrap.min.css set `[hidden] { display: none !important; }` so we also need the `!important` here to be able to override the default hidden behavior on the sphinx rendered scikit-learn.org. See: https://github.com/scikit-learn/scikit-learn/issues/21755 */display: inline-block !important;position: relative;}#sk-container-id-3 div.sk-text-repr-fallback {display: none;}</style><div id=\"sk-container-id-3\" class=\"sk-top-container\"><div class=\"sk-text-repr-fallback\"><pre>KNeighborsClassifier(metric=&#x27;euclidean&#x27;, n_neighbors=18)</pre><b>In a Jupyter environment, please rerun this cell to show the HTML representation or trust the notebook. <br />On GitHub, the HTML representation is unable to render, please try loading this page with nbviewer.org.</b></div><div class=\"sk-container\" hidden><div class=\"sk-item\"><div class=\"sk-estimator sk-toggleable\"><input class=\"sk-toggleable__control sk-hidden--visually\" id=\"sk-estimator-id-3\" type=\"checkbox\" checked><label for=\"sk-estimator-id-3\" class=\"sk-toggleable__label sk-toggleable__label-arrow\">KNeighborsClassifier</label><div class=\"sk-toggleable__content\"><pre>KNeighborsClassifier(metric=&#x27;euclidean&#x27;, n_neighbors=18)</pre></div></div></div></div></div>"
      ],
      "text/plain": [
       "KNeighborsClassifier(metric='euclidean', n_neighbors=18)"
      ]
     },
     "execution_count": 29,
     "metadata": {},
     "output_type": "execute_result"
    }
   ],
   "source": [
    "knn=KNeighborsClassifier(n_neighbors=18,metric='euclidean',p=2)\n",
    "knn.fit(X_train,y_train)"
   ]
  },
  {
   "cell_type": "code",
   "execution_count": 30,
   "id": "692c44e2",
   "metadata": {},
   "outputs": [
    {
     "data": {
      "text/plain": [
       "array([1, 0, 0, 1, 0, 0, 1, 1, 0, 0, 0, 1, 0, 0, 0, 0, 1, 0, 0, 0, 0, 0,\n",
       "       0, 0, 0, 0, 0, 1, 0, 0, 1, 0, 0, 1, 0, 1, 0, 0, 0, 1, 0, 0, 0, 1,\n",
       "       1, 0, 0, 0, 0, 0, 0, 0, 1, 0, 0, 0, 0, 0, 0, 0, 1, 0, 0, 1, 0, 1,\n",
       "       1, 0, 0, 0, 0, 0, 0, 1, 1, 0, 0, 1, 0, 0, 0, 0, 0, 0, 0, 0, 0, 0,\n",
       "       1, 0, 0, 0, 0, 0, 1, 0, 0, 0, 1, 1, 0, 0, 0, 0, 0, 0, 0, 0, 0, 1,\n",
       "       0, 0, 1, 1, 1, 1, 0, 1, 0, 1, 0, 0, 0, 0, 0, 0, 0, 0, 0, 0, 0, 0,\n",
       "       0, 1, 0, 0, 0, 0, 1, 0, 0, 1, 0, 0, 1, 0, 0, 0, 0, 0, 0, 0, 0, 0])"
      ]
     },
     "execution_count": 30,
     "metadata": {},
     "output_type": "execute_result"
    }
   ],
   "source": [
    "y_pred=knn.predict(X_test)\n",
    "y_pred"
   ]
  },
  {
   "cell_type": "code",
   "execution_count": 31,
   "id": "ed1b53ba",
   "metadata": {},
   "outputs": [
    {
     "data": {
      "text/plain": [
       "0.8116883116883117"
      ]
     },
     "execution_count": 31,
     "metadata": {},
     "output_type": "execute_result"
    }
   ],
   "source": [
    "knn.score(X_test,y_test)"
   ]
  },
  {
   "cell_type": "code",
   "execution_count": 32,
   "id": "7f5e6515",
   "metadata": {},
   "outputs": [
    {
     "data": {
      "text/plain": [
       "<Axes: >"
      ]
     },
     "execution_count": 32,
     "metadata": {},
     "output_type": "execute_result"
    },
    {
     "data": {
      "image/png": "[encoded data removed]",
      "text/plain": [
       "<Figure size 1000x800 with 2 Axes>"
      ]
     },
     "metadata": {},
     "output_type": "display_data"
    }
   ],
   "source": [
    "from sklearn.metrics import confusion_matrix\n",
    "mat = confusion_matrix(y_test, y_pred)\n",
    "plt.figure(figsize=(10, 8))\n",
    "sns.heatmap(mat, annot=True)"
   ]
  },
  {
   "cell_type": "code",
   "execution_count": 34,
   "id": "90cf4072",
   "metadata": {},
   "outputs": [
    {
     "name": "stdout",
     "output_type": "stream",
     "text": [
      "              precision    recall  f1-score   support\n",
      "\n",
      "    Diabetes       0.83      0.92      0.87       107\n",
      "      Normal       0.75      0.57      0.65        47\n",
      "\n",
      "    accuracy                           0.81       154\n",
      "   macro avg       0.79      0.75      0.76       154\n",
      "weighted avg       0.81      0.81      0.80       154\n",
      "\n"
     ]
    }
   ],
   "source": [
    "from sklearn.metrics import classification_report\n",
    "target_names = ['Diabetes', 'Normal']\n",
    "print(classification_report(y_test, y_pred, target_names=target_names))"
   ]
  },
  {
   "cell_type": "code",
   "execution_count": null,
   "id": "4cae356a",
   "metadata": {},
   "outputs": [],
   "source": []
  },
  {
   "cell_type": "code",
   "execution_count": null,
   "id": "df07d4e2",
   "metadata": {},
   "outputs": [],
   "source": []
  },
  {
   "cell_type": "code",
   "execution_count": null,
   "id": "d338134d",
   "metadata": {},
   "outputs": [],
   "source": []
  }
 ],
 "metadata": {
  "kernelspec": {
   "display_name": "Python 3 (ipykernel)",
   "language": "python",
   "name": "python3"
  },
  "language_info": {
   "codemirror_mode": {
    "name": "ipython",
    "version": 3
   },
   "file_extension": ".py",
   "mimetype": "text/x-python",
   "name": "python",
   "nbconvert_exporter": "python",
   "pygments_lexer": "ipython3",
   "version": "3.11.4"
  },
  "nbTranslate": {
   "displayLangs": [
    "*"
   ],
   "hotkey": "alt-t",
   "langInMainMenu": true,
   "sourceLang": "en",
   "targetLang": "fr",
   "useGoogleTranslate": true
  }
 },
 "nbformat": 4,
 "nbformat_minor": 5
}
