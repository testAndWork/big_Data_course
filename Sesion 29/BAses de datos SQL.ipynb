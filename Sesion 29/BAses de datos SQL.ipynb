{
 "cells": [
  {
   "cell_type": "code",
   "execution_count": 3,
   "id": "5ad9c4eb",
   "metadata": {},
   "outputs": [
    {
     "name": "stdout",
     "output_type": "stream",
     "text": [
      "Collecting mysql-connector\n",
      "  Downloading mysql-connector-2.2.9.tar.gz (11.9 MB)\n",
      "\u001b[2K     \u001b[38;2;114;156;31m━━━━━━━━━━━━━━━━━━━━━━━━━━━━━━━━━━━━━━━━\u001b[0m \u001b[32m11.9/11.9 MB\u001b[0m \u001b[31m2.0 MB/s\u001b[0m eta \u001b[36m0:00:00\u001b[0mm eta \u001b[36m0:00:01\u001b[0m[36m0:00:01\u001b[0m\n",
      "\u001b[?25h  Preparing metadata (setup.py) ... \u001b[?25ldone\n",
      "\u001b[?25hBuilding wheels for collected packages: mysql-connector\n",
      "  Building wheel for mysql-connector (setup.py) ... \u001b[?25ldone\n",
      "\u001b[?25h  Created wheel for mysql-connector: filename=mysql_connector-2.2.9-cp311-cp311-macosx_11_0_arm64.whl size=247957 sha256=0d96a6358b38d5234f007558ef3f8c0b1b60f2560cb2cd706eae8c9458d5dc58\n",
      "  Stored in directory: /Users/bltzkrg/Library/Caches/pip/wheels/17/cd/ed/2d49e9bac69cf09382e4c7cc20a2511202b48324b87db26019\n",
      "Successfully built mysql-connector\n",
      "Installing collected packages: mysql-connector\n",
      "Successfully installed mysql-connector-2.2.9\n",
      "Note: you may need to restart the kernel to use updated packages.\n"
     ]
    }
   ],
   "source": [
    "pip install mysql-connector"
   ]
  },
  {
   "cell_type": "code",
   "execution_count": 4,
   "id": "5051e56b",
   "metadata": {},
   "outputs": [],
   "source": [
    "import mysql.connector"
   ]
  },
  {
   "cell_type": "markdown",
   "id": "9c0e5473",
   "metadata": {},
   "source": [
    "### Creando una conexión a la DB"
   ]
  },
  {
   "cell_type": "markdown",
   "id": "9fa2810f",
   "metadata": {},
   "source": [
    "Conexión al servidor"
   ]
  },
  {
   "cell_type": "code",
   "execution_count": 5,
   "id": "dead2990",
   "metadata": {},
   "outputs": [],
   "source": [
    "mydb = mysql.connector.connect(\n",
    "                            host = \"localhost\",\n",
    "                            user = \"root\",\n",
    "                            passwd = \"\"\n",
    "                            )"
   ]
  },
  {
   "cell_type": "markdown",
   "id": "a0db43d3",
   "metadata": {},
   "source": [
    "Conexión a una base de datos"
   ]
  },
  {
   "cell_type": "code",
   "execution_count": 7,
   "id": "f3ae9d07",
   "metadata": {},
   "outputs": [],
   "source": [
    "mydb = mysql.connector.connect(\n",
    "                            host = \"localhost\",\n",
    "                            user = \"root\",\n",
    "                            passwd = \"\",\n",
    "                            database = \"test\"\n",
    "                            )"
   ]
  },
  {
   "cell_type": "markdown",
   "id": "a5fbaae0",
   "metadata": {},
   "source": [
    "### Creando el puntero para las operaciones que implquen conexión con la DB"
   ]
  },
  {
   "cell_type": "code",
   "execution_count": 8,
   "id": "b610ece3",
   "metadata": {},
   "outputs": [],
   "source": [
    "mycursor = mydb.cursor()"
   ]
  },
  {
   "cell_type": "markdown",
   "id": "a9f849c3",
   "metadata": {},
   "source": [
    "### Creando una base de datos"
   ]
  },
  {
   "cell_type": "code",
   "execution_count": 9,
   "id": "95c433ff",
   "metadata": {},
   "outputs": [],
   "source": [
    "mycursor.execute('CREATE DATABASE python_sql')"
   ]
  },
  {
   "cell_type": "markdown",
   "id": "14059a1f",
   "metadata": {},
   "source": [
    "### Vericar que bases de datos existen en mi servidor"
   ]
  },
  {
   "cell_type": "code",
   "execution_count": 10,
   "id": "f782071c",
   "metadata": {},
   "outputs": [],
   "source": [
    "mycursor.execute('SHOW DATABASES')"
   ]
  },
  {
   "cell_type": "code",
   "execution_count": 11,
   "id": "85c1ed08",
   "metadata": {},
   "outputs": [
    {
     "name": "stdout",
     "output_type": "stream",
     "text": [
      "('SQL_prueba',)\n",
      "('information_schema',)\n",
      "('mysql',)\n",
      "('new_prueba',)\n",
      "('performance_schema',)\n",
      "('phpmyadmin',)\n",
      "('python_sql',)\n",
      "('test',)\n"
     ]
    }
   ],
   "source": [
    "for db in mycursor:\n",
    "    print(db)"
   ]
  },
  {
   "cell_type": "markdown",
   "id": "58f3ad03",
   "metadata": {},
   "source": [
    "### Conectando a la DB 'python_sql'"
   ]
  },
  {
   "cell_type": "code",
   "execution_count": 12,
   "id": "d41b9c3c",
   "metadata": {},
   "outputs": [],
   "source": [
    "mydb = mysql.connector.connect(\n",
    "                            host = \"localhost\",\n",
    "                            user = \"root\",\n",
    "                            passwd = \"\",\n",
    "                            database = \"python_sql\"\n",
    "                            )"
   ]
  },
  {
   "cell_type": "code",
   "execution_count": 13,
   "id": "e0b7fc79",
   "metadata": {},
   "outputs": [],
   "source": [
    "mycursor = mydb.cursor()"
   ]
  },
  {
   "cell_type": "markdown",
   "id": "8e54e93d",
   "metadata": {},
   "source": [
    "### Creando una tabla en la DB `python_sql`"
   ]
  },
  {
   "cell_type": "code",
   "execution_count": 14,
   "id": "b010688c",
   "metadata": {},
   "outputs": [],
   "source": [
    "mycursor.execute('CREATE TABLE python_course (fname VARCHAR(50),lname VARCHAR(50), score INT)')"
   ]
  },
  {
   "cell_type": "markdown",
   "id": "4c86d99c",
   "metadata": {},
   "source": [
    "### Creando una tabla con Clave primaria"
   ]
  },
  {
   "cell_type": "code",
   "execution_count": 15,
   "id": "df835ec5",
   "metadata": {},
   "outputs": [],
   "source": [
    "mycursor.execute('CREATE TABLE python_primary (id INT AUTO_INCREMENT PRIMARY KEY, fname VARCHAR(50),lname VARCHAR(50), score INT)')"
   ]
  },
  {
   "cell_type": "markdown",
   "id": "0f91bea8",
   "metadata": {},
   "source": [
    "### Agregar una clave primaria a una tabla ya existente"
   ]
  },
  {
   "cell_type": "code",
   "execution_count": 17,
   "id": "8a683840",
   "metadata": {},
   "outputs": [],
   "source": [
    "mycursor.execute('ALTER TABLE python_course ADD COLUMN id INT AUTO_INCREMENT PRIMARY KEY')"
   ]
  },
  {
   "cell_type": "markdown",
   "id": "ff5a18dc",
   "metadata": {},
   "source": [
    "### Verificando cuantas tablas existen en mi DB"
   ]
  },
  {
   "cell_type": "code",
   "execution_count": 18,
   "id": "e7214712",
   "metadata": {},
   "outputs": [],
   "source": [
    "mycursor.execute('SHOW TABLES')"
   ]
  },
  {
   "cell_type": "code",
   "execution_count": 19,
   "id": "6611c292",
   "metadata": {},
   "outputs": [
    {
     "name": "stdout",
     "output_type": "stream",
     "text": [
      "('python_course',)\n",
      "('python_primary',)\n"
     ]
    }
   ],
   "source": [
    "for table in mycursor:\n",
    "    print(table)"
   ]
  },
  {
   "cell_type": "markdown",
   "id": "9a0c5d35",
   "metadata": {},
   "source": [
    "### Agregar un registro a la tabla"
   ]
  },
  {
   "cell_type": "code",
   "execution_count": 20,
   "id": "c21bf050",
   "metadata": {},
   "outputs": [
    {
     "name": "stdout",
     "output_type": "stream",
     "text": [
      "1 Registro insertado\n"
     ]
    }
   ],
   "source": [
    "mycursor.execute('INSERT INTO python_course (fname, lname, score) VALUES(%s,%s, %s)',\n",
    "                ('john', 'Doe', 100)\n",
    "                )\n",
    "mydb.commit()\n",
    "\n",
    "print(mycursor.rowcount, 'Registro insertado')"
   ]
  },
  {
   "cell_type": "code",
   "execution_count": 21,
   "id": "4a4dfa7a",
   "metadata": {},
   "outputs": [
    {
     "name": "stdout",
     "output_type": "stream",
     "text": [
      "1 Registro insertado\n"
     ]
    }
   ],
   "source": [
    "sql = 'INSERT INTO python_course (fname, lname, score) VALUES(%s,%s, %s)'\n",
    "val = ('Nasna', 'Doe', 100)\n",
    "\n",
    "mycursor.execute(sql,val)\n",
    "\n",
    "mydb.commit()\n",
    "\n",
    "print(mycursor.rowcount, 'Registro insertado')"
   ]
  },
  {
   "cell_type": "markdown",
   "id": "fbfc1b40",
   "metadata": {},
   "source": [
    "### Agregar varios registros"
   ]
  },
  {
   "cell_type": "code",
   "execution_count": 22,
   "id": "cab105ad",
   "metadata": {},
   "outputs": [
    {
     "name": "stdout",
     "output_type": "stream",
     "text": [
      "2 Registro insertado\n"
     ]
    }
   ],
   "source": [
    "sql = 'INSERT INTO python_course (fname, lname, score) VALUES(%s,%s, %s)'\n",
    "val = [('Nasna', 'Doe', 100),('john', 'Doe', 100)]\n",
    "\n",
    "mycursor.executemany(sql,val)\n",
    "\n",
    "mydb.commit()\n",
    "\n",
    "print(mycursor.rowcount, 'Registros insertados')"
   ]
  },
  {
   "cell_type": "code",
   "execution_count": 23,
   "id": "8d7c1891",
   "metadata": {},
   "outputs": [
    {
     "name": "stdout",
     "output_type": "stream",
     "text": [
      "20 Registro insertado\n"
     ]
    }
   ],
   "source": [
    "sql = 'INSERT INTO python_course (fname, lname, score) VALUES(%s,%s, %s)'\n",
    "val = [\n",
    "    ('John', 'Doe', 85),\n",
    "    ('Jane', 'Smith', 92),\n",
    "    ('Robert', 'Johnson', 78),\n",
    "    ('Susan', 'Williams', 95),\n",
    "    ('Michael', 'Brown', 88),\n",
    "    ('Emily', 'Jones', 91),\n",
    "    ('William', 'Davis', 77),\n",
    "    ('Jennifer', 'Taylor', 89),\n",
    "    ('James', 'Martinez', 83),\n",
    "    ('Sarah', 'Miller', 94),\n",
    "    ('David', 'Garcia', 86),\n",
    "    ('Mary', 'White', 90),\n",
    "    ('Matthew', 'Anderson', 79),\n",
    "    ('Linda', 'Jackson', 93),\n",
    "    ('Christopher', 'Harris', 82),\n",
    "    ('Karen', 'Lee', 87),\n",
    "    ('Joseph', 'Thompson', 80),\n",
    "    ('Patricia', 'Hall', 96),\n",
    "    ('Daniel', 'Scott', 75),\n",
    "    ('Nancy', 'Moore', 97)\n",
    "]\n",
    "\n",
    "\n",
    "mycursor.executemany(sql,val)\n",
    "\n",
    "mydb.commit()\n",
    "\n",
    "print(mycursor.rowcount, 'Registros insertados')"
   ]
  },
  {
   "cell_type": "markdown",
   "id": "e94d7038",
   "metadata": {},
   "source": [
    "## Nota: los registro deben de ser tuplas!!!"
   ]
  },
  {
   "cell_type": "markdown",
   "id": "8881a0b1",
   "metadata": {},
   "source": [
    "### Seleccionar todos los lementos de una tabla"
   ]
  },
  {
   "cell_type": "code",
   "execution_count": 26,
   "id": "34e00fd2",
   "metadata": {},
   "outputs": [
    {
     "ename": "InternalError",
     "evalue": "Unread result found",
     "output_type": "error",
     "traceback": [
      "\u001b[0;31m---------------------------------------------------------------------------\u001b[0m",
      "\u001b[0;31mInternalError\u001b[0m                             Traceback (most recent call last)",
      "Cell \u001b[0;32mIn[26], line 1\u001b[0m\n\u001b[0;32m----> 1\u001b[0m mycursor\u001b[38;5;241m.\u001b[39mexecute(\u001b[38;5;124m'\u001b[39m\u001b[38;5;124mSELECT * FROM python_course\u001b[39m\u001b[38;5;124m'\u001b[39m)\n",
      "File \u001b[0;32m~/anaconda3/lib/python3.11/site-packages/mysql/connector/cursor.py:521\u001b[0m, in \u001b[0;36mMySQLCursor.execute\u001b[0;34m(self, operation, params, multi)\u001b[0m\n\u001b[1;32m    518\u001b[0m \u001b[38;5;28;01mif\u001b[39;00m \u001b[38;5;129;01mnot\u001b[39;00m \u001b[38;5;28mself\u001b[39m\u001b[38;5;241m.\u001b[39m_connection:\n\u001b[1;32m    519\u001b[0m     \u001b[38;5;28;01mraise\u001b[39;00m errors\u001b[38;5;241m.\u001b[39mProgrammingError(\u001b[38;5;124m\"\u001b[39m\u001b[38;5;124mCursor is not connected\u001b[39m\u001b[38;5;124m\"\u001b[39m)\n\u001b[0;32m--> 521\u001b[0m \u001b[38;5;28mself\u001b[39m\u001b[38;5;241m.\u001b[39m_connection\u001b[38;5;241m.\u001b[39mhandle_unread_result()\n\u001b[1;32m    523\u001b[0m \u001b[38;5;28mself\u001b[39m\u001b[38;5;241m.\u001b[39m_reset_result()\n\u001b[1;32m    524\u001b[0m stmt \u001b[38;5;241m=\u001b[39m \u001b[38;5;124m'\u001b[39m\u001b[38;5;124m'\u001b[39m\n",
      "File \u001b[0;32m~/anaconda3/lib/python3.11/site-packages/mysql/connector/connection.py:1059\u001b[0m, in \u001b[0;36mMySQLConnection.handle_unread_result\u001b[0;34m(self)\u001b[0m\n\u001b[1;32m   1057\u001b[0m     \u001b[38;5;28mself\u001b[39m\u001b[38;5;241m.\u001b[39mconsume_results()\n\u001b[1;32m   1058\u001b[0m \u001b[38;5;28;01melif\u001b[39;00m \u001b[38;5;28mself\u001b[39m\u001b[38;5;241m.\u001b[39munread_result:\n\u001b[0;32m-> 1059\u001b[0m     \u001b[38;5;28;01mraise\u001b[39;00m errors\u001b[38;5;241m.\u001b[39mInternalError(\u001b[38;5;124m\"\u001b[39m\u001b[38;5;124mUnread result found\u001b[39m\u001b[38;5;124m\"\u001b[39m)\n",
      "\u001b[0;31mInternalError\u001b[0m: Unread result found"
     ]
    }
   ],
   "source": [
    "mycursor.execute('SELECT * FROM python_course')"
   ]
  },
  {
   "cell_type": "code",
   "execution_count": 27,
   "id": "17b63411",
   "metadata": {},
   "outputs": [],
   "source": [
    "myresult = mycursor.fetchall()"
   ]
  },
  {
   "cell_type": "code",
   "execution_count": 28,
   "id": "fff1fde8",
   "metadata": {},
   "outputs": [
    {
     "name": "stdout",
     "output_type": "stream",
     "text": [
      "('john', 'Doe', 100, 1)\n",
      "('Nasna', 'Doe', 100, 2)\n",
      "('Nasna', 'Doe', 100, 3)\n",
      "('john', 'Doe', 100, 4)\n",
      "('John', 'Doe', 85, 5)\n",
      "('Jane', 'Smith', 92, 6)\n",
      "('Robert', 'Johnson', 78, 7)\n",
      "('Susan', 'Williams', 95, 8)\n",
      "('Michael', 'Brown', 88, 9)\n",
      "('Emily', 'Jones', 91, 10)\n",
      "('William', 'Davis', 77, 11)\n",
      "('Jennifer', 'Taylor', 89, 12)\n",
      "('James', 'Martinez', 83, 13)\n",
      "('Sarah', 'Miller', 94, 14)\n",
      "('David', 'Garcia', 86, 15)\n",
      "('Mary', 'White', 90, 16)\n",
      "('Matthew', 'Anderson', 79, 17)\n",
      "('Linda', 'Jackson', 93, 18)\n",
      "('Christopher', 'Harris', 82, 19)\n",
      "('Karen', 'Lee', 87, 20)\n",
      "('Joseph', 'Thompson', 80, 21)\n",
      "('Patricia', 'Hall', 96, 22)\n",
      "('Daniel', 'Scott', 75, 23)\n",
      "('Nancy', 'Moore', 97, 24)\n"
     ]
    }
   ],
   "source": [
    "for reg in myresult:\n",
    "    print(reg)"
   ]
  },
  {
   "cell_type": "markdown",
   "id": "5330a8dc",
   "metadata": {},
   "source": [
    "### Seleccionar Elementos de una columna "
   ]
  },
  {
   "cell_type": "code",
   "execution_count": 29,
   "id": "05ccbd45",
   "metadata": {},
   "outputs": [
    {
     "name": "stdout",
     "output_type": "stream",
     "text": [
      "('Doe',)\n",
      "('Doe',)\n",
      "('Doe',)\n",
      "('Doe',)\n",
      "('Doe',)\n",
      "('Smith',)\n",
      "('Johnson',)\n",
      "('Williams',)\n",
      "('Brown',)\n",
      "('Jones',)\n",
      "('Davis',)\n",
      "('Taylor',)\n",
      "('Martinez',)\n",
      "('Miller',)\n",
      "('Garcia',)\n",
      "('White',)\n",
      "('Anderson',)\n",
      "('Jackson',)\n",
      "('Harris',)\n",
      "('Lee',)\n",
      "('Thompson',)\n",
      "('Hall',)\n",
      "('Scott',)\n",
      "('Moore',)\n"
     ]
    }
   ],
   "source": [
    "mycursor.execute('SELECT lname FROM python_course')\n",
    "\n",
    "myresult = mycursor.fetchall()\n",
    "for reg in myresult:\n",
    "    print(reg)"
   ]
  },
  {
   "cell_type": "code",
   "execution_count": 30,
   "id": "04ef4196",
   "metadata": {},
   "outputs": [
    {
     "name": "stdout",
     "output_type": "stream",
     "text": [
      "('john',)\n",
      "('Nasna',)\n",
      "('Nasna',)\n",
      "('john',)\n",
      "('John',)\n",
      "('Jane',)\n",
      "('Robert',)\n",
      "('Susan',)\n",
      "('Michael',)\n",
      "('Emily',)\n",
      "('William',)\n",
      "('Jennifer',)\n",
      "('James',)\n",
      "('Sarah',)\n",
      "('David',)\n",
      "('Mary',)\n",
      "('Matthew',)\n",
      "('Linda',)\n",
      "('Christopher',)\n",
      "('Karen',)\n",
      "('Joseph',)\n",
      "('Patricia',)\n",
      "('Daniel',)\n",
      "('Nancy',)\n"
     ]
    }
   ],
   "source": [
    "mycursor.execute('SELECT fname FROM python_course')\n",
    "\n",
    "myresult = mycursor.fetchall()\n",
    "for reg in myresult:\n",
    "    print(reg)"
   ]
  },
  {
   "cell_type": "code",
   "execution_count": 31,
   "id": "05a36f38",
   "metadata": {},
   "outputs": [
    {
     "name": "stdout",
     "output_type": "stream",
     "text": [
      "('Doe', 100)\n",
      "('Doe', 100)\n",
      "('Doe', 100)\n",
      "('Doe', 100)\n",
      "('Doe', 85)\n",
      "('Smith', 92)\n",
      "('Johnson', 78)\n",
      "('Williams', 95)\n",
      "('Brown', 88)\n",
      "('Jones', 91)\n",
      "('Davis', 77)\n",
      "('Taylor', 89)\n",
      "('Martinez', 83)\n",
      "('Miller', 94)\n",
      "('Garcia', 86)\n",
      "('White', 90)\n",
      "('Anderson', 79)\n",
      "('Jackson', 93)\n",
      "('Harris', 82)\n",
      "('Lee', 87)\n",
      "('Thompson', 80)\n",
      "('Hall', 96)\n",
      "('Scott', 75)\n",
      "('Moore', 97)\n"
     ]
    }
   ],
   "source": [
    "mycursor.execute('SELECT lname, score FROM python_course')\n",
    "\n",
    "myresult = mycursor.fetchall()\n",
    "for reg in myresult:\n",
    "    print(reg)"
   ]
  },
  {
   "cell_type": "code",
   "execution_count": 32,
   "id": "206568c6",
   "metadata": {},
   "outputs": [
    {
     "name": "stdout",
     "output_type": "stream",
     "text": [
      "('john',)\n",
      "('Nasna',)\n",
      "('Nasna',)\n",
      "('john',)\n",
      "('John',)\n",
      "('Jane',)\n",
      "('Robert',)\n",
      "('Susan',)\n",
      "('Michael',)\n",
      "('Emily',)\n",
      "('William',)\n",
      "('Jennifer',)\n",
      "('James',)\n",
      "('Sarah',)\n",
      "('David',)\n",
      "('Mary',)\n",
      "('Matthew',)\n",
      "('Linda',)\n",
      "('Christopher',)\n",
      "('Karen',)\n",
      "('Joseph',)\n",
      "('Patricia',)\n",
      "('Daniel',)\n",
      "('Nancy',)\n"
     ]
    }
   ],
   "source": [
    "mycursor.execute('SELECT fname FROM python_course')\n",
    "\n",
    "myresult = mycursor.fetchall()\n",
    "for reg in myresult:\n",
    "    print(reg)"
   ]
  },
  {
   "cell_type": "code",
   "execution_count": 64,
   "id": "e8966584",
   "metadata": {},
   "outputs": [],
   "source": [
    "mydb = mysql.connector.connect(\n",
    "                            host = \"localhost\",\n",
    "                            user = \"root\",\n",
    "                            passwd = \"\",\n",
    "                            database = \"python_sql\"\n",
    "                            )"
   ]
  },
  {
   "cell_type": "code",
   "execution_count": 65,
   "id": "75a5c566",
   "metadata": {},
   "outputs": [],
   "source": [
    "mycursor = mydb.cursor()"
   ]
  },
  {
   "cell_type": "code",
   "execution_count": 66,
   "id": "dbe7a3c3",
   "metadata": {},
   "outputs": [
    {
     "name": "stdout",
     "output_type": "stream",
     "text": [
      "('python_course',)\n",
      "('python_primary',)\n"
     ]
    }
   ],
   "source": [
    "mycursor.execute('SHOW TABLES')\n",
    "\n",
    "for it in mycursor:\n",
    "    print(it)"
   ]
  },
  {
   "cell_type": "code",
   "execution_count": 67,
   "id": "4c0ecb08",
   "metadata": {},
   "outputs": [
    {
     "name": "stdout",
     "output_type": "stream",
     "text": [
      "Doe\n"
     ]
    }
   ],
   "source": [
    "mycursor.execute('SELECT lname FROM python_course')\n",
    "\n",
    "myresult = mycursor.fetchone()\n",
    "for reg in myresult:\n",
    "    print(reg)"
   ]
  },
  {
   "cell_type": "code",
   "execution_count": 68,
   "id": "320a8a76",
   "metadata": {},
   "outputs": [
    {
     "ename": "InternalError",
     "evalue": "Unread result found",
     "output_type": "error",
     "traceback": [
      "\u001b[0;31m---------------------------------------------------------------------------\u001b[0m",
      "\u001b[0;31mInternalError\u001b[0m                             Traceback (most recent call last)",
      "Cell \u001b[0;32mIn[68], line 1\u001b[0m\n\u001b[0;32m----> 1\u001b[0m mycursor\u001b[38;5;241m.\u001b[39mexecute(\u001b[38;5;124m'\u001b[39m\u001b[38;5;124mSELECT score FROM python_course WHERE score > 5\u001b[39m\u001b[38;5;124m'\u001b[39m)\n\u001b[1;32m      3\u001b[0m myresult \u001b[38;5;241m=\u001b[39m mycursor\u001b[38;5;241m.\u001b[39mfetchall()\n\u001b[1;32m      5\u001b[0m axis_x\u001b[38;5;241m=\u001b[39m []\n",
      "File \u001b[0;32m~/anaconda3/lib/python3.11/site-packages/mysql/connector/cursor.py:521\u001b[0m, in \u001b[0;36mMySQLCursor.execute\u001b[0;34m(self, operation, params, multi)\u001b[0m\n\u001b[1;32m    518\u001b[0m \u001b[38;5;28;01mif\u001b[39;00m \u001b[38;5;129;01mnot\u001b[39;00m \u001b[38;5;28mself\u001b[39m\u001b[38;5;241m.\u001b[39m_connection:\n\u001b[1;32m    519\u001b[0m     \u001b[38;5;28;01mraise\u001b[39;00m errors\u001b[38;5;241m.\u001b[39mProgrammingError(\u001b[38;5;124m\"\u001b[39m\u001b[38;5;124mCursor is not connected\u001b[39m\u001b[38;5;124m\"\u001b[39m)\n\u001b[0;32m--> 521\u001b[0m \u001b[38;5;28mself\u001b[39m\u001b[38;5;241m.\u001b[39m_connection\u001b[38;5;241m.\u001b[39mhandle_unread_result()\n\u001b[1;32m    523\u001b[0m \u001b[38;5;28mself\u001b[39m\u001b[38;5;241m.\u001b[39m_reset_result()\n\u001b[1;32m    524\u001b[0m stmt \u001b[38;5;241m=\u001b[39m \u001b[38;5;124m'\u001b[39m\u001b[38;5;124m'\u001b[39m\n",
      "File \u001b[0;32m~/anaconda3/lib/python3.11/site-packages/mysql/connector/connection.py:1059\u001b[0m, in \u001b[0;36mMySQLConnection.handle_unread_result\u001b[0;34m(self)\u001b[0m\n\u001b[1;32m   1057\u001b[0m     \u001b[38;5;28mself\u001b[39m\u001b[38;5;241m.\u001b[39mconsume_results()\n\u001b[1;32m   1058\u001b[0m \u001b[38;5;28;01melif\u001b[39;00m \u001b[38;5;28mself\u001b[39m\u001b[38;5;241m.\u001b[39munread_result:\n\u001b[0;32m-> 1059\u001b[0m     \u001b[38;5;28;01mraise\u001b[39;00m errors\u001b[38;5;241m.\u001b[39mInternalError(\u001b[38;5;124m\"\u001b[39m\u001b[38;5;124mUnread result found\u001b[39m\u001b[38;5;124m\"\u001b[39m)\n",
      "\u001b[0;31mInternalError\u001b[0m: Unread result found"
     ]
    }
   ],
   "source": [
    "mycursor.execute('SELECT score FROM python_course WHERE score > 5')\n",
    "\n",
    "myresult = mycursor.fetchall()\n",
    "\n",
    "axis_x= []\n",
    "\n",
    "for reg in myresult:\n",
    "    axis_x.append(reg)"
   ]
  },
  {
   "cell_type": "code",
   "execution_count": 69,
   "id": "76109bef",
   "metadata": {},
   "outputs": [
    {
     "ename": "InternalError",
     "evalue": "Unread result found",
     "output_type": "error",
     "traceback": [
      "\u001b[0;31m---------------------------------------------------------------------------\u001b[0m",
      "\u001b[0;31mInternalError\u001b[0m                             Traceback (most recent call last)",
      "Cell \u001b[0;32mIn[69], line 1\u001b[0m\n\u001b[0;32m----> 1\u001b[0m mycursor\u001b[38;5;241m.\u001b[39mexecute(\u001b[38;5;124m'\u001b[39m\u001b[38;5;124mSELECT score FROM python_course WHERE score > 5\u001b[39m\u001b[38;5;124m'\u001b[39m)\n\u001b[1;32m      3\u001b[0m myresult \u001b[38;5;241m=\u001b[39m mycursor\u001b[38;5;241m.\u001b[39mfetchall()\n\u001b[1;32m      5\u001b[0m axis_y\u001b[38;5;241m=\u001b[39m []\n",
      "File \u001b[0;32m~/anaconda3/lib/python3.11/site-packages/mysql/connector/cursor.py:521\u001b[0m, in \u001b[0;36mMySQLCursor.execute\u001b[0;34m(self, operation, params, multi)\u001b[0m\n\u001b[1;32m    518\u001b[0m \u001b[38;5;28;01mif\u001b[39;00m \u001b[38;5;129;01mnot\u001b[39;00m \u001b[38;5;28mself\u001b[39m\u001b[38;5;241m.\u001b[39m_connection:\n\u001b[1;32m    519\u001b[0m     \u001b[38;5;28;01mraise\u001b[39;00m errors\u001b[38;5;241m.\u001b[39mProgrammingError(\u001b[38;5;124m\"\u001b[39m\u001b[38;5;124mCursor is not connected\u001b[39m\u001b[38;5;124m\"\u001b[39m)\n\u001b[0;32m--> 521\u001b[0m \u001b[38;5;28mself\u001b[39m\u001b[38;5;241m.\u001b[39m_connection\u001b[38;5;241m.\u001b[39mhandle_unread_result()\n\u001b[1;32m    523\u001b[0m \u001b[38;5;28mself\u001b[39m\u001b[38;5;241m.\u001b[39m_reset_result()\n\u001b[1;32m    524\u001b[0m stmt \u001b[38;5;241m=\u001b[39m \u001b[38;5;124m'\u001b[39m\u001b[38;5;124m'\u001b[39m\n",
      "File \u001b[0;32m~/anaconda3/lib/python3.11/site-packages/mysql/connector/connection.py:1059\u001b[0m, in \u001b[0;36mMySQLConnection.handle_unread_result\u001b[0;34m(self)\u001b[0m\n\u001b[1;32m   1057\u001b[0m     \u001b[38;5;28mself\u001b[39m\u001b[38;5;241m.\u001b[39mconsume_results()\n\u001b[1;32m   1058\u001b[0m \u001b[38;5;28;01melif\u001b[39;00m \u001b[38;5;28mself\u001b[39m\u001b[38;5;241m.\u001b[39munread_result:\n\u001b[0;32m-> 1059\u001b[0m     \u001b[38;5;28;01mraise\u001b[39;00m errors\u001b[38;5;241m.\u001b[39mInternalError(\u001b[38;5;124m\"\u001b[39m\u001b[38;5;124mUnread result found\u001b[39m\u001b[38;5;124m\"\u001b[39m)\n",
      "\u001b[0;31mInternalError\u001b[0m: Unread result found"
     ]
    }
   ],
   "source": [
    "mycursor.execute('SELECT score FROM python_course WHERE score > 5')\n",
    "\n",
    "myresult = mycursor.fetchall()\n",
    "\n",
    "axis_y= []\n",
    "\n",
    "for reg in myresult:\n",
    "    axis_y.append(reg)"
   ]
  },
  {
   "cell_type": "code",
   "execution_count": 63,
   "id": "9181e10a",
   "metadata": {},
   "outputs": [
    {
     "data": {
      "image/png": "[encoded data removed]",
      "text/plain": [
       "<Figure size 640x480 with 1 Axes>"
      ]
     },
     "metadata": {},
     "output_type": "display_data"
    }
   ],
   "source": [
    "import matplotlib.pyplot as plt\n",
    "\n",
    "plt.scatter (axis_x, axis_y)\n",
    "plt.grid()"
   ]
  },
  {
   "cell_type": "code",
   "execution_count": null,
   "id": "4ef4916b",
   "metadata": {},
   "outputs": [],
   "source": []
  }
 ],
 "metadata": {
  "kernelspec": {
   "display_name": "Python 3 (ipykernel)",
   "language": "python",
   "name": "python3"
  },
  "language_info": {
   "codemirror_mode": {
    "name": "ipython",
    "version": 3
   },
   "file_extension": ".py",
   "mimetype": "text/x-python",
   "name": "python",
   "nbconvert_exporter": "python",
   "pygments_lexer": "ipython3",
   "version": "3.11.4"
  },
  "nbTranslate": {
   "displayLangs": [
    "*"
   ],
   "hotkey": "alt-t",
   "langInMainMenu": true,
   "sourceLang": "en",
   "targetLang": "fr",
   "useGoogleTranslate": true
  }
 },
 "nbformat": 4,
 "nbformat_minor": 5
}
