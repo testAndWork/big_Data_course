{
 "cells": [
  {
   "cell_type": "code",
   "execution_count": 1,
   "id": "c3ac07d5",
   "metadata": {},
   "outputs": [],
   "source": [
    "import os\n",
    "import warnings\n",
    "warnings.filterwarnings('ignore')\n",
    "from pyspark.sql import SparkSession\n",
    "from pyspark.sql.types import StructField, StructType, StringType, IntegerType, FloatType\n",
    "from pyspark.sql.functions import split, count, when, isnan, col, regexp_replace\n",
    "from pyspark.ml.regression import LinearRegression\n",
    "from pyspark.ml.feature import OneHotEncoder, StringIndexer\n",
    "from pyspark.ml.linalg import Vectors\n",
    "from pyspark.ml.feature import VectorAssembler\n"
   ]
  },
  {
   "cell_type": "markdown",
   "id": "77195d00",
   "metadata": {},
   "source": [
    "## Creando una Sesión en Spark "
   ]
  },
  {
   "cell_type": "code",
   "execution_count": 2,
   "id": "f3f08248",
   "metadata": {},
   "outputs": [
    {
     "name": "stderr",
     "output_type": "stream",
     "text": [
      "23/10/16 11:15:53 WARN Utils: Your hostname, bltzkrgs-MacBook-Pro.local resolves to a loopback address: 127.0.0.1; using 192.168.1.18 instead (on interface en0)\n",
      "23/10/16 11:15:53 WARN Utils: Set SPARK_LOCAL_IP if you need to bind to another address\n",
      "Setting default log level to \"WARN\".\n",
      "To adjust logging level use sc.setLogLevel(newLevel). For SparkR, use setLogLevel(newLevel).\n",
      "23/10/16 11:15:54 WARN NativeCodeLoader: Unable to load native-hadoop library for your platform... using builtin-java classes where applicable\n"
     ]
    },
    {
     "name": "stdout",
     "output_type": "stream",
     "text": [
      "Spark Version: 3.5.0\n"
     ]
    }
   ],
   "source": [
    "spark = SparkSession.builder.appName('First Session').getOrCreate()\n",
    "\n",
    "print('Spark Version: {}'.format(spark.version))"
   ]
  },
  {
   "cell_type": "code",
   "execution_count": 3,
   "id": "1c542116",
   "metadata": {},
   "outputs": [
    {
     "data": {
      "text/html": [
       "\n",
       "            <div>\n",
       "                <p><b>SparkSession - in-memory</b></p>\n",
       "                \n",
       "        <div>\n",
       "            <p><b>SparkContext</b></p>\n",
       "\n",
       "            <p><a href=\"http://192.168.1.18:4040\">Spark UI</a></p>\n",
       "\n",
       "            <dl>\n",
       "              <dt>Version</dt>\n",
       "                <dd><code>v3.5.0</code></dd>\n",
       "              <dt>Master</dt>\n",
       "                <dd><code>local[*]</code></dd>\n",
       "              <dt>AppName</dt>\n",
       "                <dd><code>First Session</code></dd>\n",
       "            </dl>\n",
       "        </div>\n",
       "        \n",
       "            </div>\n",
       "        "
      ],
      "text/plain": [
       "<pyspark.sql.session.SparkSession at 0x103fd5650>"
      ]
     },
     "execution_count": 3,
     "metadata": {},
     "output_type": "execute_result"
    }
   ],
   "source": [
    "spark"
   ]
  },
  {
   "cell_type": "markdown",
   "id": "5dd98a1c",
   "metadata": {},
   "source": [
    "## Cargando los datos (Dataset)"
   ]
  },
  {
   "cell_type": "code",
   "execution_count": 5,
   "id": "b7d3e8e3",
   "metadata": {},
   "outputs": [
    {
     "name": "stdout",
     "output_type": "stream",
     "text": [
      "+----+---------+------------+----------+------+------------+----------+------+--------------------+\n",
      "| mpg|cylinders|displacement|horsepower|weight|acceleration|model year|origin|            car name|\n",
      "+----+---------+------------+----------+------+------------+----------+------+--------------------+\n",
      "|18.0|        8|       307.0|     130.0|  3504|        12.0|        70|     1|chevrolet chevell...|\n",
      "|15.0|        8|       350.0|     165.0|  3693|        11.5|        70|     1|   buick skylark 320|\n",
      "|18.0|        8|       318.0|     150.0|  3436|        11.0|        70|     1|  plymouth satellite|\n",
      "|16.0|        8|       304.0|     150.0|  3433|        12.0|        70|     1|       amc rebel sst|\n",
      "|17.0|        8|       302.0|     140.0|  3449|        10.5|        70|     1|         ford torino|\n",
      "|15.0|        8|       429.0|     198.0|  4341|        10.0|        70|     1|    ford galaxie 500|\n",
      "|14.0|        8|       454.0|     220.0|  4354|         9.0|        70|     1|    chevrolet impala|\n",
      "+----+---------+------------+----------+------+------------+----------+------+--------------------+\n",
      "only showing top 7 rows\n",
      "\n"
     ]
    }
   ],
   "source": [
    "#Defining un esquema\n",
    "\n",
    "schema = StructType([StructField('mpg', FloatType(), nullable = True),\n",
    "                     StructField('cylinders', IntegerType(), nullable = True),\n",
    "                     StructField('displacement', FloatType(), nullable = True),\n",
    "                     StructField('horsepower', StringType(), nullable = True),\n",
    "                     StructField('weight', IntegerType(), nullable = True),\n",
    "                     StructField('acceleration', FloatType(), nullable = True),\n",
    "                     StructField('model year', IntegerType(), nullable = True),\n",
    "                     StructField('origin', IntegerType(), nullable = True),\n",
    "                     StructField('car name', StringType(), nullable = True)])\n",
    "\n",
    "file_path = 'auto-mpg.csv'\n",
    "\n",
    "df = spark.read.csv(file_path,\n",
    "                    header = True,\n",
    "                    inferSchema = True,\n",
    "                    nanValue = '?')\n",
    "\n",
    "df.show(7)"
   ]
  },
  {
   "cell_type": "markdown",
   "id": "740623be",
   "metadata": {},
   "source": [
    "## Revisando valores faltantes"
   ]
  },
  {
   "cell_type": "markdown",
   "id": "c1e28a8f",
   "metadata": {},
   "source": [
    "<h2>Verificar valores faltantes en un DataFrame de Spark</h2> <p>La función check_missing verifica los valores faltantes (null o NaN) en cada columna de un DataFrame de Spark:</p> <h3>Funcionamiento</h3> <p>La función:</p> <ol> <li>Selecciona todas las columnas del DataFrame que se pasa como parámetro usando <code>dataframe.select(...)</code></li> <li>Recorre cada columna c usando <code>[...] for c in dataframe.columns]</code></li> <li>Evalúa si el valor en c es null o NaN usando <code>when(isnan(c) | col(c).isNull(), c)</code></li> <li>Cuenta los valores donde la condición se cumple usando <code>count(...)</code></li> <li>Asigna un alias a cada cuenta igual al nombre de la columna usando <code>.alias(c)</code></li> <li>Muestra el resultado final usando <code>show()</code></li> </ol> <h3>Ventajas</h3> <ul> <li>Permite verificar rápidamente valores faltantes en todas las columnas</li> <li>Una única función para el chequeo</li> </ul>"
   ]
  },
  {
   "cell_type": "code",
   "execution_count": 6,
   "id": "1329618b",
   "metadata": {},
   "outputs": [
    {
     "name": "stdout",
     "output_type": "stream",
     "text": [
      "+---+---------+------------+----------+------+------------+----------+------+--------+\n",
      "|mpg|cylinders|displacement|horsepower|weight|acceleration|model year|origin|car name|\n",
      "+---+---------+------------+----------+------+------------+----------+------+--------+\n",
      "|  0|        0|           0|         6|     0|           0|         0|     0|       0|\n",
      "+---+---------+------------+----------+------+------------+----------+------+--------+\n",
      "\n"
     ]
    }
   ],
   "source": [
    "def check_missing(dataframe):\n",
    "    \n",
    "    return dataframe.select([count(when(isnan(c) | col(c).isNull(), c)). \\\n",
    "                             alias(c) for c in dataframe.columns]).show()\n",
    "\n",
    "check_missing(df)"
   ]
  },
  {
   "cell_type": "markdown",
   "id": "2ad8421a",
   "metadata": {},
   "source": [
    "<h2>Fundamentos de DataFrames en PySpark</h2> <p>Los DataFrames de PySpark almacenan los datos en formato de columnas y filas.</p> <h3>Características</h3> <ul> <li>Cada columna representa alguna característica o variable.</li> <li>Cada fila representa un punto de datos individual.</li> <li>Pueden leer y escribir datos de una variedad de fuentes.</li> </ul> <p>Luego, podemos usar estos DataFrames para aplicar diversas transformaciones sobre los datos.</p> <h3>Uso</h3> <p>Al final de las llamadas de transformación, podemos mostrar u obtener los resultados para visualizarlos o procesarlos.</p> <p>"
   ]
  },
  {
   "cell_type": "code",
   "execution_count": 7,
   "id": "5ea365b8",
   "metadata": {},
   "outputs": [
    {
     "data": {
      "text/plain": [
       "['mpg',\n",
       " 'cylinders',\n",
       " 'displacement',\n",
       " 'horsepower',\n",
       " 'weight',\n",
       " 'acceleration',\n",
       " 'model year',\n",
       " 'origin',\n",
       " 'car name']"
      ]
     },
     "execution_count": 7,
     "metadata": {},
     "output_type": "execute_result"
    }
   ],
   "source": [
    "df.columns"
   ]
  },
  {
   "cell_type": "markdown",
   "id": "29147efd",
   "metadata": {},
   "source": [
    "Mostrarlo en formato pandas"
   ]
  },
  {
   "cell_type": "code",
   "execution_count": 8,
   "id": "13a8e3d3",
   "metadata": {},
   "outputs": [
    {
     "data": {
      "text/html": [
       "<div>\n",
       "<style scoped>\n",
       "    .dataframe tbody tr th:only-of-type {\n",
       "        vertical-align: middle;\n",
       "    }\n",
       "\n",
       "    .dataframe tbody tr th {\n",
       "        vertical-align: top;\n",
       "    }\n",
       "\n",
       "    .dataframe thead th {\n",
       "        text-align: right;\n",
       "    }\n",
       "</style>\n",
       "<table border=\"1\" class=\"dataframe\">\n",
       "  <thead>\n",
       "    <tr style=\"text-align: right;\">\n",
       "      <th></th>\n",
       "      <th>mpg</th>\n",
       "      <th>cylinders</th>\n",
       "      <th>displacement</th>\n",
       "      <th>horsepower</th>\n",
       "      <th>weight</th>\n",
       "      <th>acceleration</th>\n",
       "      <th>model year</th>\n",
       "      <th>origin</th>\n",
       "      <th>car name</th>\n",
       "    </tr>\n",
       "  </thead>\n",
       "  <tbody>\n",
       "    <tr>\n",
       "      <th>0</th>\n",
       "      <td>18.0</td>\n",
       "      <td>8</td>\n",
       "      <td>307.0</td>\n",
       "      <td>130.0</td>\n",
       "      <td>3504</td>\n",
       "      <td>12.0</td>\n",
       "      <td>70</td>\n",
       "      <td>1</td>\n",
       "      <td>chevrolet chevelle malibu</td>\n",
       "    </tr>\n",
       "    <tr>\n",
       "      <th>1</th>\n",
       "      <td>15.0</td>\n",
       "      <td>8</td>\n",
       "      <td>350.0</td>\n",
       "      <td>165.0</td>\n",
       "      <td>3693</td>\n",
       "      <td>11.5</td>\n",
       "      <td>70</td>\n",
       "      <td>1</td>\n",
       "      <td>buick skylark 320</td>\n",
       "    </tr>\n",
       "    <tr>\n",
       "      <th>2</th>\n",
       "      <td>18.0</td>\n",
       "      <td>8</td>\n",
       "      <td>318.0</td>\n",
       "      <td>150.0</td>\n",
       "      <td>3436</td>\n",
       "      <td>11.0</td>\n",
       "      <td>70</td>\n",
       "      <td>1</td>\n",
       "      <td>plymouth satellite</td>\n",
       "    </tr>\n",
       "    <tr>\n",
       "      <th>3</th>\n",
       "      <td>16.0</td>\n",
       "      <td>8</td>\n",
       "      <td>304.0</td>\n",
       "      <td>150.0</td>\n",
       "      <td>3433</td>\n",
       "      <td>12.0</td>\n",
       "      <td>70</td>\n",
       "      <td>1</td>\n",
       "      <td>amc rebel sst</td>\n",
       "    </tr>\n",
       "    <tr>\n",
       "      <th>4</th>\n",
       "      <td>17.0</td>\n",
       "      <td>8</td>\n",
       "      <td>302.0</td>\n",
       "      <td>140.0</td>\n",
       "      <td>3449</td>\n",
       "      <td>10.5</td>\n",
       "      <td>70</td>\n",
       "      <td>1</td>\n",
       "      <td>ford torino</td>\n",
       "    </tr>\n",
       "  </tbody>\n",
       "</table>\n",
       "</div>"
      ],
      "text/plain": [
       "    mpg  cylinders  displacement  horsepower  weight  acceleration  \\\n",
       "0  18.0          8         307.0       130.0    3504          12.0   \n",
       "1  15.0          8         350.0       165.0    3693          11.5   \n",
       "2  18.0          8         318.0       150.0    3436          11.0   \n",
       "3  16.0          8         304.0       150.0    3433          12.0   \n",
       "4  17.0          8         302.0       140.0    3449          10.5   \n",
       "\n",
       "   model year  origin                   car name  \n",
       "0          70       1  chevrolet chevelle malibu  \n",
       "1          70       1          buick skylark 320  \n",
       "2          70       1         plymouth satellite  \n",
       "3          70       1              amc rebel sst  \n",
       "4          70       1                ford torino  "
      ]
     },
     "execution_count": 8,
     "metadata": {},
     "output_type": "execute_result"
    }
   ],
   "source": [
    "df.toPandas().head()"
   ]
  },
  {
   "cell_type": "markdown",
   "id": "f7d225ed",
   "metadata": {},
   "source": [
    "<h3>Verificar el esquema</h3> <p>La función <code>df.printSchema()</code> imprime el esquema del DataFrame, el cual describe el nombre y tipo de datos de cada columna.</p> <p>Esto nos permite validar que el dataframe cargado tiene la estructura esperada antes de continuar con el procesamiento o análisis de los datos.</p> <h4>Aspectos a revisar</h4> <ul> <li>Nombre y tipo de datos de cada columna</li> <li>Si alguna columna está marcada como nullable</li> <li>Tipos compuestos como struct, array, map, etc.</li> </ul> <p>Verificar el esquema es un paso clave para asegurar la calidad de los datos antes de aplicar transformaciones o construir modelos sobre el dataframe.</p>"
   ]
  },
  {
   "cell_type": "code",
   "execution_count": 9,
   "id": "3ff8cb13",
   "metadata": {},
   "outputs": [
    {
     "name": "stdout",
     "output_type": "stream",
     "text": [
      "root\n",
      " |-- mpg: double (nullable = true)\n",
      " |-- cylinders: integer (nullable = true)\n",
      " |-- displacement: double (nullable = true)\n",
      " |-- horsepower: double (nullable = true)\n",
      " |-- weight: integer (nullable = true)\n",
      " |-- acceleration: double (nullable = true)\n",
      " |-- model year: integer (nullable = true)\n",
      " |-- origin: integer (nullable = true)\n",
      " |-- car name: string (nullable = true)\n",
      "\n"
     ]
    }
   ],
   "source": [
    "#VErficcar el esquema\n",
    "df.printSchema()"
   ]
  },
  {
   "cell_type": "markdown",
   "id": "a0c7498d",
   "metadata": {},
   "source": [
    "<h3>Renombrar columnas</h3> <p>Podemos renombrar columnas en un DataFrame utilizando la función <code>withColumnRenamed()</code>.</p> <h4>Uso</h4> <p>La función <code>withColumnRenamed()</code> toma como parámetros el nombre de la columna original y el nuevo nombre.</p> <p>Esto permite normalizar o formatear mejor los nombres de columnas antes de continuar con el análisis.</p> <h4>Verificación</h4> <p>Al imprimir el DataFrame luego de las renombraciones, podemos verificar que los cambios se aplicaron correctamente.</p> <h4>Beneficios</h4> <p>Renombrar columnas es útil cuando los nombres contienen espacios u otros caracteres que pueden causar problemas al interactuar con el DataFrame.</p>"
   ]
  },
  {
   "cell_type": "code",
   "execution_count": 10,
   "id": "3f81bde3",
   "metadata": {},
   "outputs": [
    {
     "name": "stdout",
     "output_type": "stream",
     "text": [
      "+----+---------+------------+----------+------+------------+----------+------+--------------------+\n",
      "| mpg|cylinders|displacement|horsepower|weight|acceleration|model_year|origin|            car_name|\n",
      "+----+---------+------------+----------+------+------------+----------+------+--------------------+\n",
      "|18.0|        8|       307.0|     130.0|  3504|        12.0|        70|     1|chevrolet chevell...|\n",
      "|15.0|        8|       350.0|     165.0|  3693|        11.5|        70|     1|   buick skylark 320|\n",
      "|18.0|        8|       318.0|     150.0|  3436|        11.0|        70|     1|  plymouth satellite|\n",
      "+----+---------+------------+----------+------+------------+----------+------+--------------------+\n",
      "only showing top 3 rows\n",
      "\n"
     ]
    }
   ],
   "source": [
    "df = df.withColumnRenamed('model year', 'model_year')\n",
    "\n",
    "df = df.withColumnRenamed('car name', 'car_name')\n",
    "\n",
    "df.show(3)\n",
    "\n"
   ]
  },
  {
   "cell_type": "markdown",
   "id": "44109c70",
   "metadata": {},
   "source": [
    "<h3>Obtener información de las primeras filas</h3> <p>Podemos inspeccionar el contenido de las primeras filas de un DataFrame usando el método <code>head()</code> junto con un bucle <code>for</code>:</p>"
   ]
  },
  {
   "cell_type": "markdown",
   "id": "4a0b5c3a",
   "metadata": {},
   "source": [
    "<h4>Funcionamiento</h4> <p>El método <code>df.head(4)</code> devuelve las primeras 4 filas del DataFrame como una lista.</p> <p>El bucle <code>for</code> itera sobre esta lista y en cada iteración la variable <code>car</code> toma el valor de una fila.</p> <p>Dentro del bucle, imprimimos cada fila para ver su contenido.</p> <h4>Ventajas</h4> <ul> <li>Permite inspeccionar rápidamente el contenido de las filas</li> <li>Útil para validar estructura y tipo de datos</li> </ul>"
   ]
  },
  {
   "cell_type": "code",
   "execution_count": 12,
   "id": "40a3479e",
   "metadata": {},
   "outputs": [
    {
     "name": "stdout",
     "output_type": "stream",
     "text": [
      "Row(mpg=18.0, cylinders=8, displacement=307.0, horsepower=130.0, weight=3504, acceleration=12.0, model_year=70, origin=1, car_name='chevrolet chevelle malibu') \n",
      "\n",
      "Row(mpg=15.0, cylinders=8, displacement=350.0, horsepower=165.0, weight=3693, acceleration=11.5, model_year=70, origin=1, car_name='buick skylark 320') \n",
      "\n",
      "Row(mpg=18.0, cylinders=8, displacement=318.0, horsepower=150.0, weight=3436, acceleration=11.0, model_year=70, origin=1, car_name='plymouth satellite') \n",
      "\n",
      "Row(mpg=16.0, cylinders=8, displacement=304.0, horsepower=150.0, weight=3433, acceleration=12.0, model_year=70, origin=1, car_name='amc rebel sst') \n",
      "\n",
      "Row(mpg=17.0, cylinders=8, displacement=302.0, horsepower=140.0, weight=3449, acceleration=10.5, model_year=70, origin=1, car_name='ford torino') \n",
      "\n"
     ]
    }
   ],
   "source": [
    "for car in df.head(5):\n",
    "    print(car, '\\n')"
   ]
  },
  {
   "cell_type": "markdown",
   "id": "a669235c",
   "metadata": {},
   "source": [
    "<h3>Resumen estadístico del DataFrame</h3> <p>Podemos obtener un resumen estadístico del contenido de las columnas numéricas en un DataFrame usando el método <code>.describe()</code>.</p> <pre><code>df.describe().show()</code></pre> <h4>Qué genera</h4> <p>El método <code>.describe()</code> genera un nuevo DataFrame que contiene:</p> <ul> <li>Estadísticas básicas como media, desviación estándar, valor mínimo, máximo, etc. por cada columna numérica.</li> <li>Se omiten las columnas de tipo string u objeto.</li> </ul> <h4>Beneficios</h4> <p>Mostrar el resumen estadístico nos permite obtener una visión general rápida sobre:</p> <ul> <li>Rangos de valores.</li> <li>Posibles valores atípicos o erroneos.</li> <li>Distribución de los datos.</li> </ul> <p>Esta información es útil antes de aplicar transformaciones o construir modelos sobre los datos.</p>"
   ]
  },
  {
   "cell_type": "code",
   "execution_count": 13,
   "id": "8012e863",
   "metadata": {},
   "outputs": [
    {
     "name": "stderr",
     "output_type": "stream",
     "text": [
      "23/10/16 11:20:06 WARN SparkStringUtils: Truncated the string representation of a plan since it was too large. This behavior can be adjusted by setting 'spark.sql.debug.maxToStringFields'.\n"
     ]
    },
    {
     "name": "stdout",
     "output_type": "stream",
     "text": [
      "+-------+------------------+------------------+------------------+----------+-----------------+------------------+------------------+------------------+--------------------+\n",
      "|summary|               mpg|         cylinders|      displacement|horsepower|           weight|      acceleration|        model_year|            origin|            car_name|\n",
      "+-------+------------------+------------------+------------------+----------+-----------------+------------------+------------------+------------------+--------------------+\n",
      "|  count|               398|               398|               398|       398|              398|               398|               398|               398|                 398|\n",
      "|   mean|23.514572864321615| 5.454773869346734|193.42587939698493|       NaN|2970.424623115578|15.568090452261291| 76.01005025125629|1.5728643216080402|                NULL|\n",
      "| stddev| 7.815984312565783|1.7010042445332123|104.26983817119587|       NaN|846.8417741973268| 2.757688929812676|3.6976266467325862|0.8020548777266148|                NULL|\n",
      "|    min|               9.0|                 3|              68.0|      46.0|             1613|               8.0|                70|                 1|amc ambassador br...|\n",
      "|    max|              46.6|                 8|             455.0|       NaN|             5140|              24.8|                82|                 3|    vw rabbit custom|\n",
      "+-------+------------------+------------------+------------------+----------+-----------------+------------------+------------------+------------------+--------------------+\n",
      "\n"
     ]
    }
   ],
   "source": [
    "df.describe().show()"
   ]
  },
  {
   "cell_type": "code",
   "execution_count": 14,
   "id": "6d15a269",
   "metadata": {},
   "outputs": [
    {
     "name": "stdout",
     "output_type": "stream",
     "text": [
      "+-------+------------------+----------+\n",
      "|summary|               mpg|horsepower|\n",
      "+-------+------------------+----------+\n",
      "|  count|               398|       398|\n",
      "|   mean|23.514572864321615|       NaN|\n",
      "| stddev| 7.815984312565783|       NaN|\n",
      "|    min|               9.0|      46.0|\n",
      "|    max|              46.6|       NaN|\n",
      "+-------+------------------+----------+\n",
      "\n"
     ]
    }
   ],
   "source": [
    "df.describe(['mpg', 'horsepower']).show()"
   ]
  },
  {
   "cell_type": "code",
   "execution_count": 15,
   "id": "a685d727",
   "metadata": {},
   "outputs": [
    {
     "name": "stdout",
     "output_type": "stream",
     "text": [
      "+-------+------------------+------------------+------------------+----------+-----------------+------------------+------------------+------------------+\n",
      "|summary|               mpg|         cylinders|      displacement|horsepower|           weight|      acceleration|        model_year|            origin|\n",
      "+-------+------------------+------------------+------------------+----------+-----------------+------------------+------------------+------------------+\n",
      "|  count|               398|               398|               398|       398|              398|               398|               398|               398|\n",
      "|   mean|23.514572864321615| 5.454773869346734|193.42587939698493|       NaN|2970.424623115578|15.568090452261291| 76.01005025125629|1.5728643216080402|\n",
      "| stddev| 7.815984312565783|1.7010042445332123|104.26983817119587|       NaN|846.8417741973268| 2.757688929812676|3.6976266467325862|0.8020548777266148|\n",
      "|    min|               9.0|                 3|              68.0|      46.0|             1613|               8.0|                70|                 1|\n",
      "|    max|              46.6|                 8|             455.0|       NaN|             5140|              24.8|                82|                 3|\n",
      "+-------+------------------+------------------+------------------+----------+-----------------+------------------+------------------+------------------+\n",
      "\n"
     ]
    }
   ],
   "source": [
    "#describe con columnas numericas\n",
    "def get_num_cols(dataframe):\n",
    "    \n",
    "    num_cols = [col for col in dataframe.columns if dataframe.select(col). \\\n",
    "                dtypes[0][1] in ['double', 'int']]\n",
    "    \n",
    "    return num_cols\n",
    "\n",
    "num_cols = get_num_cols(df)\n",
    "    \n",
    "df.describe(num_cols).show()\n"
   ]
  },
  {
   "cell_type": "markdown",
   "id": "92fc72b4",
   "metadata": {},
   "source": [
    "<h2>Operaciones básicas en DataFrame de Spark</h2> <h3>Filtrado y ordenamiento</h3> <p>En esta sección veremos cómo realizar operaciones comunes de filtrado y ordenamiento en DataFrames de Spark:</p> <ul> <li>Filtrar filas que cumplan con una condición sobre una columna</li> <li>Ordenar las filas de acuerdo a una o más columnas</li> <li>Combinar filtros y ordenamiento</li> </ul> <p>Algunos de los métodos que utilizaremos son:</p> <ul> <li>where() para filtrar filas</li> <li>orderBy() para ordenar filas</li> <li>select() para seleccionar columnas</li> </ul> <p>Entendiendo como aplicar estas operaciones básicas será fundamental para explorar, limpiar y preparar los datos antes del análisis.</p> <p>Veremos ejemplos prácticos de cada método y cómo podemos encadenar diferentes transformaciones para lograr el resultado deseado.</p>"
   ]
  },
  {
   "cell_type": "code",
   "execution_count": 16,
   "id": "28375454",
   "metadata": {},
   "outputs": [
    {
     "name": "stdout",
     "output_type": "stream",
     "text": [
      "+----+---------+------------+----------+------+------------+----------+------+--------------------+\n",
      "| mpg|cylinders|displacement|horsepower|weight|acceleration|model_year|origin|            car_name|\n",
      "+----+---------+------------+----------+------+------------+----------+------+--------------------+\n",
      "|24.0|        4|       113.0|      95.0|  2372|        15.0|        70|     3|toyota corona mar...|\n",
      "|27.0|        4|        97.0|      88.0|  2130|        14.5|        70|     3|        datsun pl510|\n",
      "|26.0|        4|        97.0|      46.0|  1835|        20.5|        70|     2|volkswagen 1131 d...|\n",
      "|25.0|        4|       110.0|      87.0|  2672|        17.5|        70|     2|         peugeot 504|\n",
      "|24.0|        4|       107.0|      90.0|  2430|        14.5|        70|     2|         audi 100 ls|\n",
      "+----+---------+------------+----------+------+------------+----------+------+--------------------+\n",
      "only showing top 5 rows\n",
      "\n"
     ]
    }
   ],
   "source": [
    "# Obtengamos los carro con las mpg mayor a 23\n",
    "df.filter(df['mpg'] > 23).show(5)"
   ]
  },
  {
   "cell_type": "code",
   "execution_count": 17,
   "id": "7839e101",
   "metadata": {},
   "outputs": [
    {
     "name": "stdout",
     "output_type": "stream",
     "text": [
      "+--------------------+\n",
      "|            car_name|\n",
      "+--------------------+\n",
      "|chevrolet chevell...|\n",
      "|   buick skylark 320|\n",
      "|  plymouth satellite|\n",
      "|       amc rebel sst|\n",
      "|         ford torino|\n",
      "+--------------------+\n",
      "only showing top 5 rows\n",
      "\n"
     ]
    }
   ],
   "source": [
    "df.filter((df['horsepower']>80)&(df['weight']>2000)).select('car_name').show(5)"
   ]
  },
  {
   "cell_type": "code",
   "execution_count": 18,
   "id": "f19b706f",
   "metadata": {},
   "outputs": [
    {
     "name": "stdout",
     "output_type": "stream",
     "text": [
      "+----+---------+------------+----------+------+------------+----------+------+--------------------+\n",
      "| mpg|cylinders|displacement|horsepower|weight|acceleration|model_year|origin|            car_name|\n",
      "+----+---------+------------+----------+------+------------+----------+------+--------------------+\n",
      "|44.3|        4|        90.0|      48.0|  2085|        21.7|        80|     2|vw rabbit c (diesel)|\n",
      "|44.0|        4|        97.0|      52.0|  2130|        24.6|        82|     2|           vw pickup|\n",
      "|43.4|        4|        90.0|      48.0|  2335|        23.7|        80|     2|  vw dasher (diesel)|\n",
      "|43.1|        4|        90.0|      48.0|  1985|        21.5|        78|     2|volkswagen rabbit...|\n",
      "|41.5|        4|        98.0|      76.0|  2144|        14.7|        80|     2|           vw rabbit|\n",
      "+----+---------+------------+----------+------+------------+----------+------+--------------------+\n",
      "only showing top 5 rows\n",
      "\n"
     ]
    }
   ],
   "source": [
    "#Ordenando\n",
    "df.filter((df['mpg'] > 25) & (df['origin' ] == 2)). \\\n",
    "orderBy('mpg', ascending = False) . show(5)"
   ]
  },
  {
   "cell_type": "code",
   "execution_count": 19,
   "id": "61b87105",
   "metadata": {},
   "outputs": [
    {
     "name": "stdout",
     "output_type": "stream",
     "text": [
      "+----+---------+------------+----------+------+------------+----------+------+--------------------+\n",
      "| mpg|cylinders|displacement|horsepower|weight|acceleration|model_year|origin|            car_name|\n",
      "+----+---------+------------+----------+------+------------+----------+------+--------------------+\n",
      "|36.0|        4|       105.0|      74.0|  1980|        15.3|        82|     2| volkswagen rabbit l|\n",
      "|33.0|        4|       105.0|      74.0|  2190|        14.2|        81|     2|    volkswagen jetta|\n",
      "|31.5|        4|        89.0|      71.0|  1990|        14.9|        78|     2| volkswagen scirocco|\n",
      "|43.1|        4|        90.0|      48.0|  1985|        21.5|        78|     2|volkswagen rabbit...|\n",
      "|29.0|        4|        97.0|      78.0|  1940|        14.5|        77|     2|volkswagen rabbit...|\n",
      "+----+---------+------------+----------+------+------------+----------+------+--------------------+\n",
      "only showing top 5 rows\n",
      "\n"
     ]
    }
   ],
   "source": [
    "#Obtener los autos con \"volkswagen\" en sus nombres, y ordenarlos por año modelo y caballos de fuerza\n",
    "\n",
    "df.filter(df['car_name'].contains('volkswagen ')). \\\n",
    "orderBy(['model_year', 'horsepower'], ascending=[False, False]) . show(5)"
   ]
  },
  {
   "cell_type": "code",
   "execution_count": null,
   "id": "af690a24",
   "metadata": {},
   "outputs": [],
   "source": [
    "df.filter(df['car_name' ].like( '%volkswagen%' )).show(3)"
   ]
  },
  {
   "cell_type": "code",
   "execution_count": 20,
   "id": "a2b06013",
   "metadata": {},
   "outputs": [
    {
     "name": "stdout",
     "output_type": "stream",
     "text": [
      "+----+---------+------------+----------+------+------------+----------+------+--------------------+\n",
      "| mpg|cylinders|displacement|horsepower|weight|acceleration|model_year|origin|            car_name|\n",
      "+----+---------+------------+----------+------+------------+----------+------+--------------------+\n",
      "|38.0|        6|       262.0|      85.0|  3015|        17.0|        82|     1|oldsmobile cutlas...|\n",
      "|32.7|        6|       168.0|     132.0|  2910|        11.4|        80|     3|       datsun 280-zx|\n",
      "|30.7|        6|       145.0|      76.0|  3160|        19.6|        81|     2|        volvo diesel|\n",
      "|28.8|        6|       173.0|     115.0|  2595|        11.3|        79|     1|  chevrolet citation|\n",
      "|26.8|        6|       173.0|     115.0|  2700|        12.9|        79|     1|oldsmobile omega ...|\n",
      "|26.6|        8|       350.0|     105.0|  3725|        19.0|        81|     1|oldsmobile cutlas...|\n",
      "|25.4|        6|       168.0|     116.0|  2900|        12.6|        81|     3|     toyota cressida|\n",
      "|25.0|        6|       181.0|     110.0|  2945|        16.4|        82|     1|buick century lim...|\n",
      "|24.2|        6|       146.0|     120.0|  2930|        13.8|        81|     3|   datsun 810 maxima|\n",
      "|24.0|        6|       200.0|      81.0|  3012|        17.6|        76|     1|       ford maverick|\n",
      "|23.9|        8|       260.0|      90.0|  3420|        22.2|        79|     1|oldsmobile cutlas...|\n",
      "|23.5|        6|       173.0|     110.0|  2725|        12.6|        81|     1|  chevrolet citation|\n",
      "|23.0|        6|       198.0|      95.0|  2904|        16.0|        73|     1|     plymouth duster|\n",
      "|23.0|        8|       350.0|     125.0|  3900|        17.4|        79|     1|   cadillac eldorado|\n",
      "|22.5|        6|       232.0|      90.0|  3085|        17.6|        76|     1|          amc hornet|\n",
      "|22.4|        6|       231.0|     110.0|  3415|        15.8|        81|     1|       buick century|\n",
      "|22.0|        6|       198.0|      95.0|  2833|        15.5|        70|     1|     plymouth duster|\n",
      "|22.0|        6|       225.0|     100.0|  3233|        15.4|        76|     1|    plymouth valiant|\n",
      "|22.0|        6|       250.0|     105.0|  3353|        14.5|        76|     1|      chevrolet nova|\n",
      "|22.0|        6|       146.0|      97.0|  2815|        14.5|        77|     3|          datsun 810|\n",
      "+----+---------+------------+----------+------+------------+----------+------+--------------------+\n",
      "only showing top 20 rows\n",
      "\n"
     ]
    }
   ],
   "source": [
    "df_filtrado_ordenado = df.where((col(\"cylinders\") == 6) | (col(\"cylinders\") == 8)).orderBy(col(\"mpg\"), ascending=False)\n",
    "df_filtrado_ordenado.show()\n"
   ]
  },
  {
   "cell_type": "code",
   "execution_count": 21,
   "id": "7c6d96cd",
   "metadata": {},
   "outputs": [
    {
     "name": "stdout",
     "output_type": "stream",
     "text": [
      "+----+---------+------------+----------+------+------------+----------+------+--------------------+\n",
      "| mpg|cylinders|displacement|horsepower|weight|acceleration|model_year|origin|            car_name|\n",
      "+----+---------+------------+----------+------+------------+----------+------+--------------------+\n",
      "|28.0|        4|       112.0|      88.0|  2605|        19.6|        82|     1|  chevrolet cavalier|\n",
      "|38.0|        6|       262.0|      85.0|  3015|        17.0|        82|     1|oldsmobile cutlas...|\n",
      "|27.0|        4|       112.0|      88.0|  2640|        18.6|        82|     1|chevrolet cavalie...|\n",
      "|34.0|        4|       112.0|      88.0|  2395|        18.0|        82|     1|chevrolet cavalie...|\n",
      "|31.0|        4|       112.0|      85.0|  2575|        16.2|        82|     1|pontiac j2000 se ...|\n",
      "|29.0|        4|       135.0|      84.0|  2525|        16.0|        82|     1|      dodge aries se|\n",
      "|27.0|        4|       151.0|      90.0|  2735|        18.0|        82|     1|     pontiac phoenix|\n",
      "|24.0|        4|       140.0|      92.0|  2865|        16.4|        82|     1|ford fairmont futura|\n",
      "|23.0|        4|       151.0|       NaN|  3035|        20.5|        82|     1|      amc concord dl|\n",
      "|36.0|        4|       105.0|      74.0|  1980|        15.3|        82|     2| volkswagen rabbit l|\n",
      "|37.0|        4|        91.0|      68.0|  2025|        18.2|        82|     3|  mazda glc custom l|\n",
      "|31.0|        4|        91.0|      68.0|  1970|        17.6|        82|     3|    mazda glc custom|\n",
      "|38.0|        4|       105.0|      63.0|  2125|        14.7|        82|     1|plymouth horizon ...|\n",
      "|36.0|        4|        98.0|      70.0|  2125|        17.3|        82|     1|      mercury lynx l|\n",
      "|36.0|        4|       120.0|      88.0|  2160|        14.5|        82|     3|    nissan stanza xe|\n",
      "|36.0|        4|       107.0|      75.0|  2205|        14.5|        82|     3|        honda accord|\n",
      "|34.0|        4|       108.0|      70.0|  2245|        16.9|        82|     3|      toyota corolla|\n",
      "|38.0|        4|        91.0|      67.0|  1965|        15.0|        82|     3|         honda civic|\n",
      "|32.0|        4|        91.0|      67.0|  1965|        15.7|        82|     3|  honda civic (auto)|\n",
      "|38.0|        4|        91.0|      67.0|  1995|        16.2|        82|     3|       datsun 310 gx|\n",
      "+----+---------+------------+----------+------+------------+----------+------+--------------------+\n",
      "only showing top 20 rows\n",
      "\n"
     ]
    }
   ],
   "source": [
    "df_ordenado = df.orderBy(col(\"horsepower\"), ascending=True).orderBy(col(\"model_year\"), ascending=False)\n",
    "df_ordenado.show()\n"
   ]
  },
  {
   "cell_type": "markdown",
   "id": "b3636507",
   "metadata": {},
   "source": [
    "## Filtrando con SQL"
   ]
  },
  {
   "cell_type": "code",
   "execution_count": 22,
   "id": "735078af",
   "metadata": {},
   "outputs": [
    {
     "name": "stdout",
     "output_type": "stream",
     "text": [
      "+----+---------+------------+----------+------+------------+----------+------+--------------------+\n",
      "| mpg|cylinders|displacement|horsepower|weight|acceleration|model_year|origin|            car_name|\n",
      "+----+---------+------------+----------+------+------------+----------+------+--------------------+\n",
      "|24.0|        4|       113.0|      95.0|  2372|        15.0|        70|     3|toyota corona mar...|\n",
      "|25.0|        4|       113.0|      95.0|  2228|        14.0|        71|     3|       toyota corona|\n",
      "|31.0|        4|        71.0|      65.0|  1773|        19.0|        71|     3| toyota corolla 1200|\n",
      "|24.0|        4|       113.0|      95.0|  2278|        15.5|        72|     3|toyota corona har...|\n",
      "|27.0|        4|        97.0|      88.0|  2100|        16.5|        72|     3|toyota corolla 16...|\n",
      "+----+---------+------------+----------+------+------------+----------+------+--------------------+\n",
      "only showing top 5 rows\n",
      "\n"
     ]
    }
   ],
   "source": [
    "#Get the cars with 'toyota' in their names\n",
    "df.filter(\"car_name like '%toyota%'\").show(5)"
   ]
  },
  {
   "cell_type": "code",
   "execution_count": 23,
   "id": "7f56b61d",
   "metadata": {},
   "outputs": [
    {
     "name": "stdout",
     "output_type": "stream",
     "text": [
      "+----+---------+------------+----------+------+------------+----------+------+--------------------+\n",
      "| mpg|cylinders|displacement|horsepower|weight|acceleration|model_year|origin|            car_name|\n",
      "+----+---------+------------+----------+------+------------+----------+------+--------------------+\n",
      "|24.0|        4|       113.0|      95.0|  2372|        15.0|        70|     3|toyota corona mar...|\n",
      "|27.0|        4|        97.0|      88.0|  2130|        14.5|        70|     3|        datsun pl510|\n",
      "|26.0|        4|        97.0|      46.0|  1835|        20.5|        70|     2|volkswagen 1131 d...|\n",
      "|25.0|        4|       110.0|      87.0|  2672|        17.5|        70|     2|         peugeot 504|\n",
      "|24.0|        4|       107.0|      90.0|  2430|        14.5|        70|     2|         audi 100 ls|\n",
      "+----+---------+------------+----------+------+------------+----------+------+--------------------+\n",
      "only showing top 5 rows\n",
      "\n"
     ]
    }
   ],
   "source": [
    "df.filter('mpg > 22').show(5)"
   ]
  },
  {
   "cell_type": "code",
   "execution_count": 24,
   "id": "06cb129d",
   "metadata": {},
   "outputs": [
    {
     "name": "stdout",
     "output_type": "stream",
     "text": [
      "+----+---------+------------+----------+------+------------+----------+------+-------------+\n",
      "| mpg|cylinders|displacement|horsepower|weight|acceleration|model_year|origin|     car_name|\n",
      "+----+---------+------------+----------+------+------------+----------+------+-------------+\n",
      "|27.0|        4|        97.0|      88.0|  2130|        14.5|        70|     3| datsun pl510|\n",
      "|24.0|        4|       107.0|      90.0|  2430|        14.5|        70|     2|  audi 100 ls|\n",
      "|26.0|        4|       121.0|     113.0|  2234|        12.5|        70|     2|     bmw 2002|\n",
      "|27.0|        4|        97.0|      88.0|  2130|        14.5|        71|     3| datsun pl510|\n",
      "|25.0|        4|       113.0|      95.0|  2228|        14.0|        71|     3|toyota corona|\n",
      "+----+---------+------------+----------+------+------------+----------+------+-------------+\n",
      "only showing top 5 rows\n",
      "\n"
     ]
    }
   ],
   "source": [
    "#Multiple Conditions\n",
    "df.filter('mpg > 22 and acceleration < 15').show(5)"
   ]
  },
  {
   "cell_type": "code",
   "execution_count": 25,
   "id": "10aab08c",
   "metadata": {},
   "outputs": [
    {
     "name": "stdout",
     "output_type": "stream",
     "text": [
      "+----------+------+--------------------+\n",
      "|horsepower|weight|            car_name|\n",
      "+----------+------+--------------------+\n",
      "|      88.0|  2957|         peugeot 504|\n",
      "|      88.0|  2740|pontiac sunbird c...|\n",
      "|      88.0|  2720| ford fairmont (man)|\n",
      "|      88.0|  2890|     ford fairmont 4|\n",
      "|      88.0|  2870|       ford fairmont|\n",
      "|      88.0|  2605|  chevrolet cavalier|\n",
      "|      88.0|  2640|chevrolet cavalie...|\n",
      "+----------+------+--------------------+\n",
      "\n"
     ]
    }
   ],
   "source": [
    "df.filter('horsepower == 88 and weight between 2600 and 3000') \\\n",
    ".select(['horsepower', 'weight', 'car_name']).show()"
   ]
  },
  {
   "cell_type": "markdown",
   "id": "ebd5ed9b",
   "metadata": {},
   "source": [
    "<h3>Registro de DataFrame como vista temporal</h3> <p>El método df.createOrReplaceTempView() se utiliza para registrar el DataFrame como una vista temporal en Spark SQL.</p> <p>Esto permitirá tratar al DataFrame como una tabla y consultarlo usando instrucciones SQL.</p> <h4>Detalles</h4> <p>df es un DataFrame cargado o transformado en Python/PySpark.</p> <p>createOrReplaceTempView() registra el DataFrame con el nombre \"autos\" como una vista temporal.</p> <p>Las vistas temporales sólo existen durante la sesión actual, se pierden al reiniciar Spark.</p> <p>Al registrarlo como vista, podemos referirnos a él como una tabla y ejecutar queries SQL.</p> <p>Por ejemplo:</p> <pre><code>df.createOrReplaceTempView(\"autos\") spark.sql(\"SELECT * FROM autos WHERE color='red'\")</code></pre>"
   ]
  },
  {
   "cell_type": "markdown",
   "id": "245bc9d5",
   "metadata": {},
   "source": [
    "Filtrar autos con más de 100 caballos de fuerza (horsepower):"
   ]
  },
  {
   "cell_type": "code",
   "execution_count": 26,
   "id": "d2c3c03e",
   "metadata": {},
   "outputs": [
    {
     "name": "stdout",
     "output_type": "stream",
     "text": [
      "+----+---------+------------+----------+------+------------+----------+------+--------------------+\n",
      "| mpg|cylinders|displacement|horsepower|weight|acceleration|model_year|origin|            car_name|\n",
      "+----+---------+------------+----------+------+------------+----------+------+--------------------+\n",
      "|18.0|        8|       307.0|     130.0|  3504|        12.0|        70|     1|chevrolet chevell...|\n",
      "|15.0|        8|       350.0|     165.0|  3693|        11.5|        70|     1|   buick skylark 320|\n",
      "|18.0|        8|       318.0|     150.0|  3436|        11.0|        70|     1|  plymouth satellite|\n",
      "|16.0|        8|       304.0|     150.0|  3433|        12.0|        70|     1|       amc rebel sst|\n",
      "|17.0|        8|       302.0|     140.0|  3449|        10.5|        70|     1|         ford torino|\n",
      "+----+---------+------------+----------+------+------------+----------+------+--------------------+\n",
      "only showing top 5 rows\n",
      "\n"
     ]
    }
   ],
   "source": [
    "df.createOrReplaceTempView(\"autos\")\n",
    "result = spark.sql(\"SELECT * FROM autos WHERE horsepower > 100\")\n",
    "result.show(5)"
   ]
  },
  {
   "cell_type": "markdown",
   "id": "f53ed23d",
   "metadata": {},
   "source": [
    "Filtrar autos de origen 1 (EE. UU.):"
   ]
  },
  {
   "cell_type": "code",
   "execution_count": 27,
   "id": "f67ab17d",
   "metadata": {},
   "outputs": [
    {
     "name": "stdout",
     "output_type": "stream",
     "text": [
      "+----+---------+------------+----------+------+------------+----------+------+--------------------+\n",
      "| mpg|cylinders|displacement|horsepower|weight|acceleration|model_year|origin|            car_name|\n",
      "+----+---------+------------+----------+------+------------+----------+------+--------------------+\n",
      "|18.0|        8|       307.0|     130.0|  3504|        12.0|        70|     1|chevrolet chevell...|\n",
      "|15.0|        8|       350.0|     165.0|  3693|        11.5|        70|     1|   buick skylark 320|\n",
      "|18.0|        8|       318.0|     150.0|  3436|        11.0|        70|     1|  plymouth satellite|\n",
      "|16.0|        8|       304.0|     150.0|  3433|        12.0|        70|     1|       amc rebel sst|\n",
      "|17.0|        8|       302.0|     140.0|  3449|        10.5|        70|     1|         ford torino|\n",
      "+----+---------+------------+----------+------+------------+----------+------+--------------------+\n",
      "only showing top 5 rows\n",
      "\n"
     ]
    }
   ],
   "source": [
    "result = spark.sql(\"SELECT * FROM autos WHERE origin = 1\")\n",
    "result.show(5)\n"
   ]
  },
  {
   "cell_type": "markdown",
   "id": "0a5883b0",
   "metadata": {},
   "source": [
    "Filtrar autos fabricados antes de 1980:"
   ]
  },
  {
   "cell_type": "code",
   "execution_count": 29,
   "id": "1bb93a0d",
   "metadata": {},
   "outputs": [
    {
     "name": "stdout",
     "output_type": "stream",
     "text": [
      "+----+---------+------------+----------+------+------------+----------+------+--------------------+\n",
      "| mpg|cylinders|displacement|horsepower|weight|acceleration|model_year|origin|            car_name|\n",
      "+----+---------+------------+----------+------+------------+----------+------+--------------------+\n",
      "|18.0|        8|       307.0|     130.0|  3504|        12.0|        70|     1|chevrolet chevell...|\n",
      "|15.0|        8|       350.0|     165.0|  3693|        11.5|        70|     1|   buick skylark 320|\n",
      "|18.0|        8|       318.0|     150.0|  3436|        11.0|        70|     1|  plymouth satellite|\n",
      "|16.0|        8|       304.0|     150.0|  3433|        12.0|        70|     1|       amc rebel sst|\n",
      "|17.0|        8|       302.0|     140.0|  3449|        10.5|        70|     1|         ford torino|\n",
      "+----+---------+------------+----------+------+------------+----------+------+--------------------+\n",
      "only showing top 5 rows\n",
      "\n"
     ]
    }
   ],
   "source": [
    "result = spark.sql(\"SELECT * FROM autos WHERE `model_year` < 80\")\n",
    "result.show(5)\n"
   ]
  },
  {
   "cell_type": "markdown",
   "id": "8d08c696",
   "metadata": {},
   "source": [
    "Filtrar autos con un alto consumo de combustible (mpg < 15) y más de 6 cilindros:"
   ]
  },
  {
   "cell_type": "code",
   "execution_count": 30,
   "id": "34d6deed",
   "metadata": {},
   "outputs": [
    {
     "name": "stdout",
     "output_type": "stream",
     "text": [
      "+----+---------+------------+----------+------+------------+----------+------+------------------+\n",
      "| mpg|cylinders|displacement|horsepower|weight|acceleration|model_year|origin|          car_name|\n",
      "+----+---------+------------+----------+------+------------+----------+------+------------------+\n",
      "|14.0|        8|       454.0|     220.0|  4354|         9.0|        70|     1|  chevrolet impala|\n",
      "|14.0|        8|       440.0|     215.0|  4312|         8.5|        70|     1| plymouth fury iii|\n",
      "|14.0|        8|       455.0|     225.0|  4425|        10.0|        70|     1|  pontiac catalina|\n",
      "|14.0|        8|       340.0|     160.0|  3609|         8.0|        70|     1|plymouth 'cuda 340|\n",
      "+----+---------+------------+----------+------+------------+----------+------+------------------+\n",
      "only showing top 4 rows\n",
      "\n"
     ]
    }
   ],
   "source": [
    "result = spark.sql(\"SELECT * FROM autos WHERE mpg < 15 AND cylinders > 6\")\n",
    "result.show(4)\n"
   ]
  },
  {
   "cell_type": "markdown",
   "id": "e0c796e5",
   "metadata": {},
   "source": [
    "Filtrar autos de origen 2 (Europa) con una aceleración superior a 20:"
   ]
  },
  {
   "cell_type": "code",
   "execution_count": 31,
   "id": "46c53e64",
   "metadata": {},
   "outputs": [
    {
     "name": "stdout",
     "output_type": "stream",
     "text": [
      "+----+---------+------------+----------+------+------------+----------+------+--------------------+\n",
      "| mpg|cylinders|displacement|horsepower|weight|acceleration|model_year|origin|            car_name|\n",
      "+----+---------+------------+----------+------+------------+----------+------+--------------------+\n",
      "|26.0|        4|        97.0|      46.0|  1835|        20.5|        70|     2|volkswagen 1131 d...|\n",
      "|23.0|        4|        97.0|      54.0|  2254|        23.5|        72|     2|   volkswagen type 3|\n",
      "|26.0|        4|        97.0|      46.0|  1950|        21.0|        73|     2|volkswagen super ...|\n",
      "|19.0|        4|       120.0|      88.0|  3270|        21.9|        76|     2|         peugeot 504|\n",
      "+----+---------+------------+----------+------+------------+----------+------+--------------------+\n",
      "only showing top 4 rows\n",
      "\n"
     ]
    }
   ],
   "source": [
    "result = spark.sql(\"SELECT * FROM autos WHERE origin = 2 AND acceleration > 20\")\n",
    "result.show(4)\n"
   ]
  },
  {
   "cell_type": "markdown",
   "id": "e2ecd827",
   "metadata": {},
   "source": [
    "Filtrar autos con mejor relación peso-potencia (horsepower/weight):"
   ]
  },
  {
   "cell_type": "code",
   "execution_count": 32,
   "id": "56cf7020",
   "metadata": {},
   "outputs": [
    {
     "name": "stdout",
     "output_type": "stream",
     "text": [
      "+----+---------+------------+----------+------+------------+----------+------+--------------------+\n",
      "| mpg|cylinders|displacement|horsepower|weight|acceleration|model_year|origin|            car_name|\n",
      "+----+---------+------------+----------+------+------------+----------+------+--------------------+\n",
      "|14.0|        8|       455.0|     225.0|  3086|        10.0|        70|     1|buick estate wago...|\n",
      "|25.0|        4|        98.0|       NaN|  2046|        19.0|        71|     1|          ford pinto|\n",
      "|21.0|        6|       200.0|       NaN|  2875|        17.0|        74|     1|       ford maverick|\n",
      "|40.9|        4|        85.0|       NaN|  1835|        17.3|        80|     2|renault lecar deluxe|\n",
      "+----+---------+------------+----------+------+------------+----------+------+--------------------+\n",
      "only showing top 4 rows\n",
      "\n"
     ]
    }
   ],
   "source": [
    "result = spark.sql(\"SELECT * FROM autos WHERE (horsepower / weight) > 0.07\")\n",
    "result.show(4)"
   ]
  },
  {
   "cell_type": "markdown",
   "id": "fe27a433",
   "metadata": {},
   "source": [
    "Filtrar autos que tengan una aceleración más rápida que el promedio para autos con más de 6 cilindros:"
   ]
  },
  {
   "cell_type": "code",
   "execution_count": 33,
   "id": "ee14d38c",
   "metadata": {},
   "outputs": [
    {
     "name": "stdout",
     "output_type": "stream",
     "text": [
      "+----+---------+------------+----------+------+------------+----------+------+----------+\n",
      "| mpg|cylinders|displacement|horsepower|weight|acceleration|model_year|origin|  car_name|\n",
      "+----+---------+------------+----------+------+------------+----------+------+----------+\n",
      "|10.0|        8|       360.0|     215.0|  4615|        14.0|        70|     1| ford f250|\n",
      "|10.0|        8|       307.0|     200.0|  4376|        15.0|        70|     1| chevy c20|\n",
      "|11.0|        8|       318.0|     210.0|  4382|        13.5|        70|     1|dodge d200|\n",
      "| 9.0|        8|       304.0|     193.0|  4732|        18.5|        70|     1|  hi 1200d|\n",
      "+----+---------+------------+----------+------+------------+----------+------+----------+\n",
      "only showing top 4 rows\n",
      "\n"
     ]
    }
   ],
   "source": [
    "result = spark.sql(\"SELECT * FROM autos WHERE cylinders > 6 AND acceleration > (SELECT AVG(acceleration) FROM autos WHERE cylinders > 6)\")\n",
    "result.show(4)"
   ]
  },
  {
   "cell_type": "markdown",
   "id": "f0c77cc8",
   "metadata": {},
   "source": [
    "Encontrar el automóvil más potente (con más caballos de fuerza) en cada año modelo:"
   ]
  },
  {
   "cell_type": "code",
   "execution_count": 34,
   "id": "8ef213d4",
   "metadata": {},
   "outputs": [
    {
     "name": "stdout",
     "output_type": "stream",
     "text": [
      "+----+---------+------------+----------+------+------------+----------+------+--------------------+\n",
      "| mpg|cylinders|displacement|horsepower|weight|acceleration|model_year|origin|            car_name|\n",
      "+----+---------+------------+----------+------+------------+----------+------+--------------------+\n",
      "|14.0|        8|       455.0|     225.0|  4425|        10.0|        70|     1|    pontiac catalina|\n",
      "|14.0|        8|       455.0|     225.0|  3086|        10.0|        70|     1|buick estate wago...|\n",
      "|25.0|        4|        98.0|       NaN|  2046|        19.0|        71|     1|          ford pinto|\n",
      "|11.0|        8|       429.0|     208.0|  4633|        11.0|        72|     1|     mercury marquis|\n",
      "+----+---------+------------+----------+------+------------+----------+------+--------------------+\n",
      "only showing top 4 rows\n",
      "\n"
     ]
    }
   ],
   "source": [
    "result = spark.sql(\"SELECT * FROM autos WHERE (model_year, horsepower) IN (SELECT model_year, MAX(horsepower) FROM autos GROUP BY model_year)\")\n",
    "result.show(4)"
   ]
  },
  {
   "cell_type": "markdown",
   "id": "e818a76e",
   "metadata": {},
   "source": [
    "Encontrar la media de mpg para autos fabricados antes de 1975 que tienen más de 200 caballos de fuerza:"
   ]
  },
  {
   "cell_type": "code",
   "execution_count": 35,
   "id": "0ff7e73c",
   "metadata": {},
   "outputs": [
    {
     "name": "stdout",
     "output_type": "stream",
     "text": [
      "+------------------+\n",
      "|          avg(mpg)|\n",
      "+------------------+\n",
      "|14.583333333333334|\n",
      "+------------------+\n",
      "\n"
     ]
    }
   ],
   "source": [
    "result = spark.sql(\"SELECT AVG(mpg) FROM autos WHERE `model_year` < 75 AND horsepower > 200\")\n",
    "result.show(4)"
   ]
  },
  {
   "cell_type": "markdown",
   "id": "c6fc92ba",
   "metadata": {},
   "source": [
    "Filtrar autos de origen 3 (Asia) con una relación de desplazamiento por cilindro superior a 50:"
   ]
  },
  {
   "cell_type": "code",
   "execution_count": 36,
   "id": "6b5f853a",
   "metadata": {},
   "outputs": [
    {
     "name": "stdout",
     "output_type": "stream",
     "text": [
      "+---+---------+------------+----------+------+------------+----------+------+--------+\n",
      "|mpg|cylinders|displacement|horsepower|weight|acceleration|model_year|origin|car_name|\n",
      "+---+---------+------------+----------+------+------------+----------+------+--------+\n",
      "+---+---------+------------+----------+------+------------+----------+------+--------+\n",
      "\n"
     ]
    }
   ],
   "source": [
    "result = spark.sql(\"SELECT * FROM autos WHERE origin = 3 AND (displacement / cylinders) > 50\")\n",
    "result.show()\n"
   ]
  },
  {
   "cell_type": "code",
   "execution_count": 37,
   "id": "a5dbe3ec",
   "metadata": {},
   "outputs": [],
   "source": [
    "spark.stop()"
   ]
  }
 ],
 "metadata": {
  "kernelspec": {
   "display_name": "Python 3 (ipykernel)",
   "language": "python",
   "name": "python3"
  },
  "language_info": {
   "codemirror_mode": {
    "name": "ipython",
    "version": 3
   },
   "file_extension": ".py",
   "mimetype": "text/x-python",
   "name": "python",
   "nbconvert_exporter": "python",
   "pygments_lexer": "ipython3",
   "version": "3.11.4"
  },
  "nbTranslate": {
   "displayLangs": [
    "*"
   ],
   "hotkey": "alt-t",
   "langInMainMenu": true,
   "sourceLang": "en",
   "targetLang": "fr",
   "useGoogleTranslate": true
  }
 },
 "nbformat": 4,
 "nbformat_minor": 5
}
