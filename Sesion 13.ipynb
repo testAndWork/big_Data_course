{
 "cells": [
  {
   "cell_type": "markdown",
   "id": "9c8c537c",
   "metadata": {},
   "source": [
    "# <span style=\"color:darkblue\">Módulo 1 - Introducción a la programación con Python </span>\n",
    "\n",
    "## <span style=\"color:darkblue\">Sesión 13- Clases en Python</span>\n",
    "\n",
    "### <span style=\"color:darkblue\">Duración estimada:\t3 horas</span>\n"
   ]
  },
  {
   "cell_type": "markdown",
   "id": "42a8be22",
   "metadata": {},
   "source": [
    "## <span style=\"color:darkblue\"> Tabla de contenidos:</span>\n",
    " \n",
    "    1- Bienvenida\n",
    "    \n",
    "    2- Asistencia\n",
    "    \n",
    "    3- Dudas de la Clase anterior\n",
    "    \n",
    "    4- Control de Lectura\n",
    "    \n",
    "    5- Objetivo\n",
    "    \n",
    "    6- Introducción\n",
    "    \n",
    "    7- Aprendamos\n",
    "\n",
    "   \n",
    "    \n",
    "    8- Aplicando Conocimientos\t\n",
    "\n",
    "    9- Retroalimentación\n",
    "    \n",
    "    10- Asistencia\n"
   ]
  },
  {
   "cell_type": "markdown",
   "id": "51ae1b4d",
   "metadata": {},
   "source": [
    "## <span style=\"color:darkred\">Objetivo:</span>\n",
    "\n",
    "Comprender los conceptos de la programación orientada a objetos y utilizarlos para crear tus propias clases y objetos en Python. \n",
    "\n",
    "Esto te permitirá mejorar la modularidad y la reutilización de código de tus proyectos de Python, lo que puede ahorrarte tiempo y esfuerzo, así como también utilizar las clases predefinidas en Python y diseñar e implementar programas utilizando la programación orientada a objetos.\n",
    "\n",
    "### <span style=\"color:darkred\">Recursos</span>\n",
    "\n",
    "•\tSesión 13 clases\n",
    "\n",
    "•\tComputadora con Python instalado\n",
    "\n",
    "•\tVisual Studio Code instalado\n",
    "\n",
    "\n",
    "\n",
    "\n",
    "### <span style=\"color:darkred\">Introducción:</span>\n",
    "\n",
    "Una de las características más importantes de Python es su soporte para la programación orientada a objetos (POO), que te permite crear tus propios tipos de datos y funciones personalizadas.\n",
    "\n",
    "La programación orientada a objetos es un paradigma de programación que se basa en la creación de objetos que tienen atributos y métodos, los cuales pueden ser manipulados para resolver problemas específicos. En Python, los objetos se definen a través de las clases, que son plantillas que se utilizan para crear objetos. \n",
    "\n",
    "Las clases son un concepto fundamental de la programación orientada a objetos y se utilizan en muchas aplicaciones, desde el desarrollo de videojuegos hasta el análisis de datos.\n",
    "\n",
    "Aprender sobre clases y objetos en Python es esencial para cualquier persona que quiera dominar este lenguaje de programación y desarrollar aplicaciones avanzadas. En este sentido, la programación orientada a objetos en Python te permite crear programas más complejos, pero también más estructurados y modulares, lo que puede ahorrarte tiempo y esfuerzo. \n",
    "\n",
    "Además, el conocimiento de las clases y objetos en Python te permitirá trabajar con bibliotecas y marcos de trabajo populares que utilizan la programación orientada a objetos.\n",
    "\n",
    "### <span style=\"color:darkred\">Aprendamos </span>\n",
    "\n",
    "Python te permite crear tus propios tipos de datos y funciones personalizadas, lo que puede ayudarte a escribir código más legible, eficiente y reutilizable.\n",
    "\n",
    "Algunos de los objetivos específicos que puedes alcanzar al aprender clases y objetos en Python son:\n",
    "\n",
    "•\tEntender los conceptos fundamentales de la programación orientada a objetos (POO), como la encapsulación, la herencia y el polimorfismo.\n",
    "\n",
    "•\tCrear tus propias clases y objetos en Python y utilizarlos en tus programas.\n",
    "\n",
    "•\tComprender cómo funcionan los métodos, atributos y constructores en Python.\n",
    "\n",
    "•\tUtilizar las clases predefinidas en Python, como las clases de los módulos integrados y las clases de las bibliotecas externas.\n",
    "\n",
    "•\tAprender a diseñar e implementar programas utilizando la programación orientada a objetos.\n",
    "\n",
    "•\tMejorar la modularidad y la reutilización de código de tus proyectos de Python, lo que puede ahorrarte tiempo y esfuerzo.\n",
    "Una clase es como un constructor de objetos o un \"modelo\" para crear objetos.\n",
    "\n"
   ]
  },
  {
   "cell_type": "code",
   "execution_count": 5,
   "id": "e5dbe570",
   "metadata": {
    "scrolled": true
   },
   "outputs": [
    {
     "name": "stdout",
     "output_type": "stream",
     "text": [
      "<class 'int'>\n",
      "<class 'str'>\n"
     ]
    }
   ],
   "source": [
    "print(type(4))\n",
    "print(type('sd'))"
   ]
  },
  {
   "cell_type": "markdown",
   "id": "c33ac243",
   "metadata": {},
   "source": [
    "### Crear una clase\n",
    "\n",
    "Para crear una clase, utilice la palabra clave `class`:\n"
   ]
  },
  {
   "cell_type": "code",
   "execution_count": 1,
   "id": "006a07c6",
   "metadata": {},
   "outputs": [],
   "source": [
    "class Myclass:\n",
    "    x = 5\n",
    "    y = 10.1\n",
    "    z = 'Hola , estoy dentro de una Clase'"
   ]
  },
  {
   "cell_type": "markdown",
   "id": "e316850e",
   "metadata": {},
   "source": [
    "### Crear objeto\n",
    "Ahora podemos usar la clase llamada MyClass para crear objetos:\n",
    "Ejemplo: Cree un objeto llamado p1 e imprima el valor de x:\n"
   ]
  },
  {
   "cell_type": "code",
   "execution_count": 6,
   "id": "b78ae3f4",
   "metadata": {},
   "outputs": [
    {
     "name": "stdout",
     "output_type": "stream",
     "text": [
      "<class 'int'>\n"
     ]
    }
   ],
   "source": [
    "# como creamos un clase\n",
    "\n",
    "x = 4\n",
    "\n",
    "print(type(x))"
   ]
  },
  {
   "cell_type": "code",
   "execution_count": 8,
   "id": "d493bc63",
   "metadata": {},
   "outputs": [
    {
     "name": "stdout",
     "output_type": "stream",
     "text": [
      "<class '__main__.Myclass'>\n"
     ]
    }
   ],
   "source": [
    "objeto_1 = Myclass()\n",
    "print(type(objeto_1))"
   ]
  },
  {
   "cell_type": "code",
   "execution_count": 9,
   "id": "5485e7ba",
   "metadata": {},
   "outputs": [
    {
     "data": {
      "text/plain": [
       "5"
      ]
     },
     "execution_count": 9,
     "metadata": {},
     "output_type": "execute_result"
    }
   ],
   "source": [
    "objeto_1.x"
   ]
  },
  {
   "cell_type": "code",
   "execution_count": 10,
   "id": "796f6459",
   "metadata": {},
   "outputs": [
    {
     "data": {
      "text/plain": [
       "10.1"
      ]
     },
     "execution_count": 10,
     "metadata": {},
     "output_type": "execute_result"
    }
   ],
   "source": [
    "objeto_1.y"
   ]
  },
  {
   "cell_type": "code",
   "execution_count": 11,
   "id": "b7aceddc",
   "metadata": {},
   "outputs": [
    {
     "data": {
      "text/plain": [
       "'Hola , estoy dentro de una Clase'"
      ]
     },
     "execution_count": 11,
     "metadata": {},
     "output_type": "execute_result"
    }
   ],
   "source": [
    "objeto_1.z"
   ]
  },
  {
   "cell_type": "markdown",
   "id": "68d6e1eb",
   "metadata": {},
   "source": [
    "### Constructor de la clase `init ( )`"
   ]
  },
  {
   "cell_type": "markdown",
   "id": "432ba06a",
   "metadata": {},
   "source": [
    "### La función `__init__()`\n",
    "\n",
    "Los ejemplos anteriores son clases y objetos en su forma más simple y no son realmente útiles en aplicaciones de la vida real. Para comprender el significado de las clases, debemos comprender la función `__init__()` incorporada. \n",
    "\n",
    "Todas las clases tienen una función llamada `__init__()`, que siempre se ejecuta cuando se inicia la clase. Use la función` __init__()` para asignar valores a las propiedades del objeto u otras operaciones que sean necesarias cuando se crea el objeto.\n",
    "\n",
    "#### Ejemplo: \n",
    "Cree una clase llamada Persona, use la función `__init__( )` para asignar valores para el nombre y la edad:\n"
   ]
  },
  {
   "cell_type": "code",
   "execution_count": 12,
   "id": "7f6e35d1",
   "metadata": {},
   "outputs": [],
   "source": [
    "class Persona:\n",
    "    def __init__(self, name, age):\n",
    "        self.name = name\n",
    "        self.age  = age\n",
    "    "
   ]
  },
  {
   "cell_type": "code",
   "execution_count": 17,
   "id": "ce673166",
   "metadata": {},
   "outputs": [
    {
     "name": "stdout",
     "output_type": "stream",
     "text": [
      "<__main__.Persona object at 0x7feaa0d3a9a0>\n",
      "john\n",
      "32\n"
     ]
    }
   ],
   "source": [
    "x = Persona('john', 32)\n",
    "\n",
    "print(x)\n",
    "print(x.name)\n",
    "print(x.age)"
   ]
  },
  {
   "cell_type": "code",
   "execution_count": 19,
   "id": "6dd4c58b",
   "metadata": {},
   "outputs": [
    {
     "name": "stdout",
     "output_type": "stream",
     "text": [
      "<__main__.Persona object at 0x7feaa0d3ae20>\n",
      "MAria\n",
      "32\n"
     ]
    }
   ],
   "source": [
    "info_persona = Persona('MAria', 32)\n",
    "\n",
    "print(info_persona)\n",
    "print(info_persona.name)\n",
    "print(info_persona.age)"
   ]
  },
  {
   "cell_type": "markdown",
   "id": "43ad7978",
   "metadata": {},
   "source": [
    "### El auto parámetro\n",
    "\n",
    "El parámetro `self` es una referencia a la instancia actual de la clase y se utiliza para acceder a las variables que pertenecen a la clase. No tiene que ser nombrado self, puedes llamarlo como quieras, pero tiene que ser el primer parámetro de cualquier función en la clase:\n",
    "Ejemplo: Usa las palabras mysillyobject y abc en lugar de `self`:\n"
   ]
  },
  {
   "cell_type": "markdown",
   "id": "9a9e6c60",
   "metadata": {},
   "source": [
    "### `self`\n",
    "En Python, `self` es una convención que se utiliza para referirse a la instancia actual de una clase. Cuando defines métodos dentro de una clase, el primer parámetro de esos métodos generalmente se llama `self`. \n",
    "\n",
    "Aunque puedes usar cualquier nombre para este primer parámetro, usar `self` es una convención común y ampliamente aceptada en la comunidad de programadores de Python.\n",
    "\n",
    "El parámetro `self` se refiere a la instancia actual de la clase en la que se está trabajando. \n",
    "\n",
    "Cuando creas un objeto basado en una clase, este objeto es una instancia de esa clase. `self` permite que los métodos de la clase accedan y manipulen los atributos y métodos de esa instancia específica.\n",
    "\n",
    "Por ejemplo, considera la siguiente clase Person:"
   ]
  },
  {
   "cell_type": "code",
   "execution_count": 20,
   "id": "aab06074",
   "metadata": {},
   "outputs": [],
   "source": [
    "class Persona:\n",
    "    def __init__(p, name, age):\n",
    "        p.name = name\n",
    "        p.age  = age\n",
    "    "
   ]
  },
  {
   "cell_type": "code",
   "execution_count": 21,
   "id": "1bec2996",
   "metadata": {},
   "outputs": [
    {
     "name": "stdout",
     "output_type": "stream",
     "text": [
      "<__main__.Persona object at 0x7feaa0d3a9d0>\n",
      "john\n",
      "32\n"
     ]
    }
   ],
   "source": [
    "p1 = Persona('john', 32)\n",
    "\n",
    "print(p1)\n",
    "print(p1.name)\n",
    "print(p1.age)"
   ]
  },
  {
   "cell_type": "markdown",
   "id": "15512c03",
   "metadata": {},
   "source": [
    "### La función `__str__()`\n",
    "\n",
    "La función `__str__()` controla lo que se debe devolver cuando el objeto de clase se representa como una cadena.\n",
    "\n",
    "Si la función `__str__()` no está configurada, se devuelve la representación de cadena del objeto:\n",
    "\n",
    "Ejemplo: La representación de cadena de un objeto SIN la función `__str__()`:\n",
    "\n"
   ]
  },
  {
   "cell_type": "code",
   "execution_count": 23,
   "id": "c137fce9",
   "metadata": {},
   "outputs": [
    {
     "name": "stdout",
     "output_type": "stream",
     "text": [
      "<__main__.Persona object at 0x7feaa0d1e820>\n"
     ]
    }
   ],
   "source": [
    "# sin el método __str__\n",
    "class Persona:\n",
    "    def __init__(self, name, age):\n",
    "        self.name = name\n",
    "        self.age  = age\n",
    "        \n",
    "        \n",
    "p1 = Persona('john Doe', 32)\n",
    "print(p1)"
   ]
  },
  {
   "cell_type": "code",
   "execution_count": 26,
   "id": "907ae56c",
   "metadata": {},
   "outputs": [
    {
     "name": "stdout",
     "output_type": "stream",
     "text": [
      "Maria,34\n"
     ]
    }
   ],
   "source": [
    "class Persona:\n",
    "    def __init__(self, name, age):\n",
    "        self.name = name\n",
    "        self.age  = age\n",
    "    \n",
    "    def __str__(self):\n",
    "        return f'{self.name},{self.age}'\n",
    "\n",
    "p2 = Persona('Maria', 34) \n",
    "print(p2)"
   ]
  },
  {
   "cell_type": "markdown",
   "id": "0f6a329f",
   "metadata": {},
   "source": [
    "### Métodos de objeto\n",
    "Los objetos también pueden contener métodos. Los métodos en los objetos son funciones que pertenecen al objeto.\n",
    "\n",
    "Vamos a crear un método en la clase Person:\n",
    "\n",
    "Ejemplo: Inserte una función que imprima un saludo y ejecútela en el objeto p1:\n"
   ]
  },
  {
   "cell_type": "code",
   "execution_count": 28,
   "id": "75bea3fc",
   "metadata": {},
   "outputs": [],
   "source": [
    "class Person:\n",
    "    def __init__(self, fname, lname, age):\n",
    "        self.fname = fname\n",
    "        self.lname = lname\n",
    "        self.age  = age\n",
    "    \n",
    "    def __str__(self):\n",
    "        return f'{self.fname},{self.lname}, {self.age}'\n",
    "    \n",
    "    def my_funct(self):\n",
    "        print(f'Hello!, i\\'m {self.fname} {self.lname}')"
   ]
  },
  {
   "cell_type": "code",
   "execution_count": 29,
   "id": "34309378",
   "metadata": {},
   "outputs": [],
   "source": [
    "p1 = Person('Jonh','Doe',34)"
   ]
  },
  {
   "cell_type": "code",
   "execution_count": 33,
   "id": "db48a1d4",
   "metadata": {},
   "outputs": [
    {
     "data": {
      "text/plain": [
       "'Jonh'"
      ]
     },
     "execution_count": 33,
     "metadata": {},
     "output_type": "execute_result"
    }
   ],
   "source": [
    "p1.fname"
   ]
  },
  {
   "cell_type": "code",
   "execution_count": 31,
   "id": "0412b0fb",
   "metadata": {},
   "outputs": [
    {
     "name": "stdout",
     "output_type": "stream",
     "text": [
      "Hello!, i'm Jonh Doe\n"
     ]
    }
   ],
   "source": [
    "p1.my_funct()"
   ]
  },
  {
   "cell_type": "markdown",
   "id": "6cc5b3c5",
   "metadata": {},
   "source": [
    "**Nota:** El parámetro self es una referencia a la instancia actual de la clase y se utiliza para acceder a las variables que pertenecen a la clase."
   ]
  },
  {
   "cell_type": "markdown",
   "id": "b30e40d4",
   "metadata": {},
   "source": [
    "En este ejemplo, la clase Person tiene un atributo skills que es una lista vacía inicialmente. Luego, se agrega el método add_skill() que toma un parámetro skill y agrega ese skill a la lista de habilidades (self.skills) de la instancia actual.\n",
    "\n",
    "Al crear una instancia de la clase Person y llamar al método add_skill(), estamos utilizando el parámetro self para acceder al atributo skills de esa instancia específica y agregar una nueva habilidad a la lista.\n",
    "\n",
    "De esta manera, puedes agregar atributos y métodos a una clase en Python y luego manipularlos utilizando la instancia creada a partir de esa clase."
   ]
  },
  {
   "cell_type": "code",
   "execution_count": 42,
   "id": "254f023a",
   "metadata": {},
   "outputs": [],
   "source": [
    "class Person:\n",
    "    def __init__(self, fname, lname, age):\n",
    "        self.fname  = fname\n",
    "        self.lname  = lname\n",
    "        self.age    = age\n",
    "        self.skills = []\n",
    "    \n",
    "    def __str__(self):\n",
    "        return f'Nombre: {self.fname}, Apellido: {self.lname}, Edad: {self.age}'\n",
    "    \n",
    "    def my_funct(self):\n",
    "        print(f'Hello!, i\\'m {self.fname} {self.lname}')\n",
    "    \n",
    "    def add_skill(self,skill):\n",
    "        \"\"\"Método para agregar skills\"\"\"\n",
    "        self.skills.append(skill)"
   ]
  },
  {
   "cell_type": "code",
   "execution_count": 43,
   "id": "cd79201e",
   "metadata": {},
   "outputs": [
    {
     "name": "stdout",
     "output_type": "stream",
     "text": [
      "Nombre: john, Apellido: Doe, Edad: 23\n",
      "['Python']\n",
      "Nombre: john, Apellido: Doe, Edad: 23\n",
      "Sus habildades son:  ['Python', 'SQL', 'Java', 'JS', 'Desvelarse']\n"
     ]
    }
   ],
   "source": [
    "#Crear una instancia de la clase persona\n",
    "\n",
    "person_1 = Person('john','Doe', 23)\n",
    "\n",
    "print(person_1)\n",
    "\n",
    "person_1.add_skill('Python')\n",
    "print(person_1.skills)\n",
    "\n",
    "lista =  ['SQL', 'Java', 'JS', 'Desvelarse']\n",
    "\n",
    "for skill in lista:\n",
    "    person_1.add_skill(skill)\n",
    "    \n",
    "\n",
    "print(person_1)\n",
    "print('Sus habildades son: ', person_1.skills)"
   ]
  },
  {
   "cell_type": "markdown",
   "id": "b90f9e14",
   "metadata": {},
   "source": [
    "### Modificar propiedades de objetos\n",
    "\n",
    "Puede modificar propiedades en objetos como este:\n",
    "    \n",
    "**Ejemplo:** \n",
    "\n",
    "Establezca la edad de `person_1` en 40:\n"
   ]
  },
  {
   "cell_type": "code",
   "execution_count": 45,
   "id": "f8b4f092",
   "metadata": {},
   "outputs": [
    {
     "name": "stdout",
     "output_type": "stream",
     "text": [
      "Nombre: john, Apellido: Doe, Edad: 23\n"
     ]
    }
   ],
   "source": [
    "print(person_1)"
   ]
  },
  {
   "cell_type": "code",
   "execution_count": 46,
   "id": "81459fa4",
   "metadata": {},
   "outputs": [],
   "source": [
    "person_1.lname = 'Snow'\n",
    "\n",
    "person_1.age = 40"
   ]
  },
  {
   "cell_type": "code",
   "execution_count": 47,
   "id": "45441901",
   "metadata": {},
   "outputs": [
    {
     "name": "stdout",
     "output_type": "stream",
     "text": [
      "Nombre: john, Apellido: Snow, Edad: 40\n"
     ]
    }
   ],
   "source": [
    "print(person_1)"
   ]
  },
  {
   "cell_type": "markdown",
   "id": "2e87495d",
   "metadata": {},
   "source": [
    "### Eliminar propiedades de objetos\n",
    "\n",
    "Puede eliminar propiedades en objetos usando la palabra clave `del`:\n",
    "\n",
    "**Ejemplo:** Elimine la propiedad de edad `del objeto person_1`:\n"
   ]
  },
  {
   "cell_type": "code",
   "execution_count": 48,
   "id": "1569b25e",
   "metadata": {},
   "outputs": [],
   "source": [
    "del person_1.age"
   ]
  },
  {
   "cell_type": "code",
   "execution_count": 49,
   "id": "4f279137",
   "metadata": {},
   "outputs": [
    {
     "ename": "AttributeError",
     "evalue": "'Person' object has no attribute 'age'",
     "output_type": "error",
     "traceback": [
      "\u001b[0;31m---------------------------------------------------------------------------\u001b[0m",
      "\u001b[0;31mAttributeError\u001b[0m                            Traceback (most recent call last)",
      "Input \u001b[0;32mIn [49]\u001b[0m, in \u001b[0;36m<cell line: 1>\u001b[0;34m()\u001b[0m\n\u001b[0;32m----> 1\u001b[0m \u001b[38;5;28;43mprint\u001b[39;49m\u001b[43m(\u001b[49m\u001b[43mperson_1\u001b[49m\u001b[43m)\u001b[49m\n",
      "Input \u001b[0;32mIn [42]\u001b[0m, in \u001b[0;36mPerson.__str__\u001b[0;34m(self)\u001b[0m\n\u001b[1;32m      8\u001b[0m \u001b[38;5;28;01mdef\u001b[39;00m \u001b[38;5;21m__str__\u001b[39m(\u001b[38;5;28mself\u001b[39m):\n\u001b[0;32m----> 9\u001b[0m     \u001b[38;5;28;01mreturn\u001b[39;00m \u001b[38;5;124mf\u001b[39m\u001b[38;5;124m'\u001b[39m\u001b[38;5;124mNombre: \u001b[39m\u001b[38;5;132;01m{\u001b[39;00m\u001b[38;5;28mself\u001b[39m\u001b[38;5;241m.\u001b[39mfname\u001b[38;5;132;01m}\u001b[39;00m\u001b[38;5;124m, Apellido: \u001b[39m\u001b[38;5;132;01m{\u001b[39;00m\u001b[38;5;28mself\u001b[39m\u001b[38;5;241m.\u001b[39mlname\u001b[38;5;132;01m}\u001b[39;00m\u001b[38;5;124m, Edad: \u001b[39m\u001b[38;5;132;01m{\u001b[39;00m\u001b[38;5;28mself\u001b[39m\u001b[38;5;241m.\u001b[39mage\u001b[38;5;132;01m}\u001b[39;00m\u001b[38;5;124m'\u001b[39m\n",
      "\u001b[0;31mAttributeError\u001b[0m: 'Person' object has no attribute 'age'"
     ]
    }
   ],
   "source": [
    "print(person_1)"
   ]
  },
  {
   "cell_type": "markdown",
   "id": "d1a5db01",
   "metadata": {},
   "source": [
    "### Eliminar objetos\n",
    "\n",
    "Puede eliminar objetos utilizando la palabra clave `del`:\n",
    "    \n",
    "Ejemplo: Eliminar el objeto p1:\n"
   ]
  },
  {
   "cell_type": "code",
   "execution_count": 50,
   "id": "c94e9a8f",
   "metadata": {},
   "outputs": [],
   "source": [
    "del person_1"
   ]
  },
  {
   "cell_type": "code",
   "execution_count": 51,
   "id": "83d70e07",
   "metadata": {},
   "outputs": [
    {
     "ename": "NameError",
     "evalue": "name 'person_1' is not defined",
     "output_type": "error",
     "traceback": [
      "\u001b[0;31m---------------------------------------------------------------------------\u001b[0m",
      "\u001b[0;31mNameError\u001b[0m                                 Traceback (most recent call last)",
      "Input \u001b[0;32mIn [51]\u001b[0m, in \u001b[0;36m<cell line: 1>\u001b[0;34m()\u001b[0m\n\u001b[0;32m----> 1\u001b[0m \u001b[38;5;28mprint\u001b[39m(\u001b[43mperson_1\u001b[49m)\n",
      "\u001b[0;31mNameError\u001b[0m: name 'person_1' is not defined"
     ]
    }
   ],
   "source": [
    "print(person_1)"
   ]
  },
  {
   "cell_type": "markdown",
   "id": "1660c391",
   "metadata": {},
   "source": [
    "### La declaración de `pass`\n",
    "\n",
    "Las definiciones `class` no pueden estar vacías, pero si por algún motivo tiene una definición class sin contenido, introdúzcala en la declaración pass para evitar que se produzca un error.\n"
   ]
  },
  {
   "cell_type": "code",
   "execution_count": 52,
   "id": "131c5684",
   "metadata": {},
   "outputs": [],
   "source": [
    "class Person:\n",
    "    pass"
   ]
  },
  {
   "cell_type": "code",
   "execution_count": 53,
   "id": "1712b92f",
   "metadata": {},
   "outputs": [
    {
     "name": "stdout",
     "output_type": "stream",
     "text": [
      "<class '__main__.Person'>\n"
     ]
    }
   ],
   "source": [
    "print(Person)"
   ]
  },
  {
   "cell_type": "markdown",
   "id": "89a1dfcc",
   "metadata": {},
   "source": [
    "### Ejemplos y Ejercicios"
   ]
  },
  {
   "cell_type": "markdown",
   "id": "9afc2411",
   "metadata": {},
   "source": [
    "### Ejemplo 1 :   Crear una Clase de Carro\n",
    "\n",
    "Crea una clase llamada `Car` que tenga los atributos `brand` (marca), `model` (modelo) y `year` (año). Luego, crea una instancia de la clase y muestra la información del coche."
   ]
  },
  {
   "cell_type": "code",
   "execution_count": 55,
   "id": "b302a702",
   "metadata": {},
   "outputs": [
    {
     "name": "stdout",
     "output_type": "stream",
     "text": [
      "tollota,korola,1999\n"
     ]
    }
   ],
   "source": [
    "class Car:\n",
    "    def __init__(self, brand, model, year):\n",
    "        self.brand = brand\n",
    "        self.model = model\n",
    "        self.year  = year\n",
    "\n",
    "    def __str__(self):\n",
    "         return f'{self.brand},{self.model},{self.year}'\n",
    "\n",
    "\n",
    "carritop = Car('tollota','korola',1999)\n",
    "\n",
    "print(carritop)"
   ]
  },
  {
   "cell_type": "markdown",
   "id": "758da6ff",
   "metadata": {},
   "source": [
    "### Ejemplo 2:  Clase de Estudiante\n",
    "\n",
    "Crea una clase llamada `Student` que tenga los atributos `name `(nombre), `age` (edad) y `grades` (calificaciones como una lista). \n",
    "\n",
    "Agrega un método `add_grade()` para permitir que se agreguen calificaciones a la lista. \n",
    "\n",
    "Luego, muestra el nombre, edad y calificaciones del estudiante."
   ]
  },
  {
   "cell_type": "code",
   "execution_count": 76,
   "id": "f6c82fe9",
   "metadata": {},
   "outputs": [],
   "source": [
    "class Student:\n",
    "    def __init__(self, fname, lname,id_student, age, course):\n",
    "        self.fname = fname\n",
    "        self.lname = lname\n",
    "        self.id_student = id_student\n",
    "        self.age = age\n",
    "        self.course = course\n",
    "        self.grades = []\n",
    "        \n",
    "    def __str__(self):\n",
    "        return f'Estudiante: {self.fname} {self.lname},con id: {self.id_student}' \n",
    "    \n",
    "    \n",
    "    def add_grade(self, grade):\n",
    "        self.grades.append(grade)\n",
    "    \n",
    "    def info_student(self):\n",
    "        print(f'Estudiante: {self.fname} {self.lname},\\n Id: {self.id_student} Grado: {self.course} Notas: {self.grades}')"
   ]
  },
  {
   "cell_type": "code",
   "execution_count": 77,
   "id": "6eef74f0",
   "metadata": {},
   "outputs": [
    {
     "name": "stdout",
     "output_type": "stream",
     "text": [
      "Estudiante: John Doe,con id: a3456\n"
     ]
    }
   ],
   "source": [
    "estudiante = Student('John', 'Doe','a3456', 12, 'Octavo')\n",
    "print(estudiante)"
   ]
  },
  {
   "cell_type": "code",
   "execution_count": 78,
   "id": "719e3851",
   "metadata": {},
   "outputs": [
    {
     "name": "stdout",
     "output_type": "stream",
     "text": [
      "Estudiante: John Doe,\n",
      " Id: a3456 Grado: Octavo Notas: [9, 6, 7, 8, 7.5, 10, 10]\n"
     ]
    }
   ],
   "source": [
    "notas = [9,6,7,8,7.5,10 ,10]\n",
    "for nota in notas:\n",
    "    estudiante.add_grade(nota)\n",
    "\n",
    "\n",
    "estudiante.info_student()"
   ]
  },
  {
   "cell_type": "code",
   "execution_count": 79,
   "id": "2ce6ca2b",
   "metadata": {},
   "outputs": [
    {
     "data": {
      "text/plain": [
       "8.2"
      ]
     },
     "execution_count": 79,
     "metadata": {},
     "output_type": "execute_result"
    }
   ],
   "source": [
    "round(sum(estudiante.grades) / len(estudiante.grades),1)"
   ]
  },
  {
   "cell_type": "code",
   "execution_count": 88,
   "id": "bd34bf84",
   "metadata": {},
   "outputs": [],
   "source": [
    "class Student:\n",
    "    def __init__(self, fname, lname,id_student, age, course):\n",
    "        self.fname = fname\n",
    "        self.lname = lname\n",
    "        self.id_student = id_student\n",
    "        self.age = age\n",
    "        self.course = course\n",
    "        self.grades = []\n",
    "        \n",
    "    def __str__(self):\n",
    "        return f'Estudiante: {self.fname} {self.lname},con id: {self.id_student}' \n",
    "    \n",
    "    \n",
    "    def add_grade(self, grade):\n",
    "        self.grades.append(grade)\n",
    "    \n",
    "    def prom(self):\n",
    "        return round(sum(self.grades)/len(self.grades),1)\n",
    "    \n",
    "    def info_student(self):\n",
    "        print(f'Estudiante: {self.fname} {self.lname},\\n Id: {self.id_student} Grado: {self.course} Notas: {self.grades}')"
   ]
  },
  {
   "cell_type": "code",
   "execution_count": 93,
   "id": "73c07e85",
   "metadata": {},
   "outputs": [
    {
     "name": "stdout",
     "output_type": "stream",
     "text": [
      "Estudiante: John Doe,con id: a3456\n",
      "Estudiante: John Doe,\n",
      " Id: a3456 Grado: Octavo Notas: [9, 6, 7, 8, 7.5, 10, 10]\n",
      "El promedio del  Estudiante: John Doe,con id: a3456 es:  8.2\n"
     ]
    }
   ],
   "source": [
    "estudiante = Student('John', 'Doe','a3456', 12, 'Octavo')\n",
    "print(estudiante)\n",
    "notas = [9,6,7,8,7.5,10 ,10]\n",
    "for nota in notas:\n",
    "    estudiante.add_grade(nota)\n",
    "\n",
    "\n",
    "estudiante.info_student()\n",
    "\n",
    "print('El promedio del ',estudiante,'es: ', estudiante.prom())"
   ]
  },
  {
   "cell_type": "markdown",
   "id": "612d21ac",
   "metadata": {},
   "source": [
    "### Ejercicio 3: Clase de Círculo\n",
    "\n",
    "Crea una clase llamada `Circle` que tenga el atributo `radius` (radio). \n",
    "\n",
    "Agrega métodos para calcular el área y el perímetro del círculo. \n",
    "\n",
    "Luego, crea una instancia de la clase y muestra el área y el perímetro."
   ]
  },
  {
   "cell_type": "code",
   "execution_count": 95,
   "id": "3963f321",
   "metadata": {},
   "outputs": [],
   "source": [
    "import math\n",
    "\n",
    "class Circle:\n",
    "    def __init__(self, radius):\n",
    "        self.radius = radius\n",
    "    \n",
    "    def __str__(self):\n",
    "        return f'Radio del círculo: {self.radius}'\n",
    "        \n",
    "    def compute_area(self):\n",
    "        return math.pi * self.radius**2\n",
    "    \n",
    "    def compute_perimeter(self):\n",
    "        return 2*math.pi*self.radius\n",
    "        "
   ]
  },
  {
   "cell_type": "code",
   "execution_count": 97,
   "id": "a365efdf",
   "metadata": {},
   "outputs": [
    {
     "name": "stdout",
     "output_type": "stream",
     "text": [
      "Radio del círculo: 3\n"
     ]
    }
   ],
   "source": [
    "circulo = Circle(3)\n",
    "\n",
    "print(circulo)"
   ]
  },
  {
   "cell_type": "code",
   "execution_count": 98,
   "id": "bb923148",
   "metadata": {},
   "outputs": [
    {
     "name": "stdout",
     "output_type": "stream",
     "text": [
      "El perímetro es: 18.85\n",
      "El área es:  28.27\n"
     ]
    }
   ],
   "source": [
    "print(f'El perímetro es: {circulo.compute_perimeter() :.2f}')\n",
    "print(f'El área es: {circulo.compute_area() : .2f}')"
   ]
  },
  {
   "cell_type": "markdown",
   "id": "515db9d8",
   "metadata": {},
   "source": [
    "### Ejercicio 4: Clase de Libro\n",
    "Crea una clase llamada `Book` que tenga los atributos `title` (título), `author` (autor) y `year` (año de publicación). \n",
    "\n",
    "Agrega un método `get_info()` para mostrar la información del libro. \n",
    "\n",
    "Luego, crea una instancia de la clase y muestra la información del libro."
   ]
  },
  {
   "cell_type": "code",
   "execution_count": null,
   "id": "40d58ac0",
   "metadata": {},
   "outputs": [],
   "source": []
  },
  {
   "cell_type": "markdown",
   "id": "30a1efb8",
   "metadata": {},
   "source": [
    "### Ejercicio:"
   ]
  },
  {
   "cell_type": "markdown",
   "id": "0c813b60",
   "metadata": {},
   "source": [
    "### Ejercicio 1: Clase de Banco\n",
    "\n",
    "Crea una clase llamada `Bank` que permita a los usuarios realizar transacciones bancarias como depósitos y retiros. \n",
    "\n",
    "La clase debe llevar un registro de los saldos de las cuentas y debe tener métodos para realizar `depósitos`, `retiros` y `mostrar el saldo`."
   ]
  },
  {
   "cell_type": "code",
   "execution_count": 112,
   "id": "2185c8a8",
   "metadata": {},
   "outputs": [],
   "source": [
    "class Bank:\n",
    "    def __init__(self):\n",
    "        self.accounts = {}\n",
    "    \n",
    "    def deposit(self, account_number,amount):\n",
    "        if account_number in self.accounts:\n",
    "            self.accounts[account_number] += amount\n",
    "        else:\n",
    "            self.accounts[account_number] = amount\n",
    "    \n",
    "    def withdraw(self,account_number,amount):\n",
    "        if account_number in self.accounts:\n",
    "            if self.accounts[account_number] >= amount:\n",
    "                self.accounts[account_number] -= amount\n",
    "            else:\n",
    "                print('Fondos insuficientes')\n",
    "        else:\n",
    "            print('Cuenta no encontrada')\n",
    "\n",
    "    def get_balance(self,account_number):\n",
    "        return self.accounts.get(account_number,0)\n",
    "        "
   ]
  },
  {
   "cell_type": "code",
   "execution_count": 113,
   "id": "d66b46dd",
   "metadata": {},
   "outputs": [
    {
     "data": {
      "text/plain": [
       "0"
      ]
     },
     "execution_count": 113,
     "metadata": {},
     "output_type": "execute_result"
    }
   ],
   "source": [
    "cuenta_banco = Bank()\n",
    "cuenta_banco.get_balance('C001')"
   ]
  },
  {
   "cell_type": "code",
   "execution_count": 114,
   "id": "ba664dfd",
   "metadata": {},
   "outputs": [],
   "source": [
    "cuenta_banco.deposit('C002', 100)\n",
    "cuenta_banco.deposit('C001', 200)\n",
    "cuenta_banco.deposit('C003', 400)"
   ]
  },
  {
   "cell_type": "code",
   "execution_count": 115,
   "id": "0a57f387",
   "metadata": {},
   "outputs": [
    {
     "name": "stdout",
     "output_type": "stream",
     "text": [
      "200\n",
      "400\n"
     ]
    }
   ],
   "source": [
    "print(cuenta_banco.get_balance('C001'))\n",
    "print(cuenta_banco.get_balance('C003'))"
   ]
  },
  {
   "cell_type": "code",
   "execution_count": 116,
   "id": "433bf185",
   "metadata": {},
   "outputs": [],
   "source": [
    "cuenta_banco.deposit('C003', 500)"
   ]
  },
  {
   "cell_type": "code",
   "execution_count": 117,
   "id": "242c657c",
   "metadata": {},
   "outputs": [
    {
     "data": {
      "text/plain": [
       "900"
      ]
     },
     "execution_count": 117,
     "metadata": {},
     "output_type": "execute_result"
    }
   ],
   "source": [
    " cuenta_banco.get_balance('C003')"
   ]
  },
  {
   "cell_type": "code",
   "execution_count": 118,
   "id": "4d6bb2d2",
   "metadata": {},
   "outputs": [
    {
     "name": "stdout",
     "output_type": "stream",
     "text": [
      "Fondos insuficientes\n"
     ]
    },
    {
     "data": {
      "text/plain": [
       "100"
      ]
     },
     "execution_count": 118,
     "metadata": {},
     "output_type": "execute_result"
    }
   ],
   "source": [
    "cuenta_banco.withdraw('C002', 300)\n",
    "cuenta_banco.get_balance('C002')"
   ]
  },
  {
   "cell_type": "code",
   "execution_count": 119,
   "id": "4a1f4e53",
   "metadata": {},
   "outputs": [
    {
     "data": {
      "text/plain": [
       "300"
      ]
     },
     "execution_count": 119,
     "metadata": {},
     "output_type": "execute_result"
    }
   ],
   "source": [
    "cuenta_banco.withdraw('C003', 600)\n",
    "cuenta_banco.get_balance('C003')"
   ]
  },
  {
   "cell_type": "markdown",
   "id": "7cff69e8",
   "metadata": {},
   "source": [
    "### Ejercicio 2: Clase de Tienda en Línea\n",
    "\n",
    "Crea una clase llamada `OnlineStore` que represente una tienda en línea. \n",
    "\n",
    "La clase debe tener métodos para agregar productos al inventario, realizar compras y mostrar el total de ventas. \n",
    "\n",
    "Implementa la capacidad de realizar descuentos en ciertos productos y de aplicar impuestos a las compras."
   ]
  },
  {
   "cell_type": "code",
   "execution_count": null,
   "id": "85dab999",
   "metadata": {},
   "outputs": [],
   "source": []
  },
  {
   "cell_type": "markdown",
   "id": "d28e030f",
   "metadata": {},
   "source": [
    "### Ejercicio 3: Clase de Figuras Geométricas\n",
    "\n",
    "Crea una clase abstracta `Shape` con métodos para calcular el área y el perímetro.\n",
    "\n",
    "Luego, crea subclases para representar diferentes figuras geométricas como cuadrados, rectángulos y círculos. \n",
    "\n",
    "Implementa los cálculos de área y perímetro para cada subclase."
   ]
  },
  {
   "cell_type": "code",
   "execution_count": null,
   "id": "a8df35fe",
   "metadata": {},
   "outputs": [],
   "source": []
  },
  {
   "cell_type": "markdown",
   "id": "0b8a1abb",
   "metadata": {},
   "source": [
    "## Ejercicios de Tarea:"
   ]
  },
  {
   "cell_type": "markdown",
   "id": "02332bd1",
   "metadata": {},
   "source": [
    "### Ejercicio 1: Sistema de Biblioteca\n",
    "\n",
    "Crea una clase llamada `Library` que simule un sistema de biblioteca. La clase debe tener métodos para agregar libros, prestar libros y mostrar la lista de libros disponibles.\n"
   ]
  },
  {
   "cell_type": "markdown",
   "id": "7af88a79",
   "metadata": {},
   "source": [
    "### Ejercicio 2: Registro de Empleados\n",
    "\n",
    "Crea una clase llamada `Employee` que represente a un empleado en una empresa. La clase debe tener métodos para registrar la asistencia diaria, registrar horas trabajadas y calcular el salario basado en las horas trabajadas."
   ]
  },
  {
   "cell_type": "markdown",
   "id": "b99d801d",
   "metadata": {},
   "source": [
    "### Ejercicio 3: Calculadora Avanzada\n",
    "\n",
    "Crea una clase llamada `Calculator` que sea capaz de realizar operaciones matemáticas avanzadas como exponentes y raíces cuadradas. La clase debe tener métodos para realizar estas operaciones."
   ]
  },
  {
   "cell_type": "markdown",
   "id": "0b5aa873",
   "metadata": {},
   "source": [
    "### Ejercicio 4: Juego de Adivinanza\n",
    "\n",
    "Crea una clase llamada `GuessingGame` que simule un juego de adivinanzas. La clase debe generar un número aleatorio y permitir que el jugador adivine el número. Debe proporcionar pistas si el número es mayor o menor que el número a adivinar."
   ]
  },
  {
   "cell_type": "markdown",
   "id": "58a5372b",
   "metadata": {},
   "source": [
    "### Un simulador de banco utilizando clases\n",
    "Simulador de Banco - Ejercicio Práctico\n",
    "\n",
    "Objetivo:\n",
    "Crear un programa en Python que simule un banco y permita realizar operaciones bancarias para diferentes clientes utilizando clases.\n",
    "\n",
    "Instrucciones:\n",
    "\n",
    "Crear la Clase Cliente:\n",
    "\n",
    "Define una clase llamada Cliente. Cada cliente debe tener los siguientes atributos:\n",
    "\n",
    "nombre (cadena): Nombre del cliente.\n",
    "saldo (flotante): Saldo inicial del cliente.\n",
    "\n",
    "Además, implementa los siguientes métodos dentro de la clase Cliente:\n",
    "\n",
    "depositar(cantidad): Recibe una cantidad y agrega ese valor al saldo del cliente. Si la cantidad es positiva, muestra un mensaje de depósito exitoso y el nuevo saldo. Si es negativa, muestra un mensaje de cantidad inválida.\n",
    " \n",
    "retirar(cantidad): Recibe una cantidad y resta ese valor del saldo del cliente. Si la cantidad es mayor que cero y menor o igual al saldo, muestra un mensaje de retiro exitoso y el nuevo saldo. Si es negativa o mayor al saldo, muestra un mensaje de cantidad inválida.\n",
    "\n",
    "consultar_saldo(): Muestra el saldo actual del cliente.\n",
    "\n",
    "Crear la Clase Banco:\n",
    "Define una clase llamada Banco. Cada banco debe tener los siguientes atributos:\n",
    "\n",
    "nombre (cadena): Nombre del banco.\n",
    "\n",
    "clientes (lista): Lista que almacenará los objetos Cliente.\n",
    "\n",
    "\n",
    "Además, implementa los siguientes métodos dentro de la clase Banco:\n",
    "\n",
    "agregar_cliente(cliente): Recibe un objeto Cliente y lo agrega a la lista de clientes del banco. \n",
    "\n",
    "Muestra un mensaje de cliente agregado.\n",
    "\n",
    "mostrar_clientes(): Muestra la lista de nombres de los clientes del banco.\n",
    "\n",
    "Crear el Programa Principal:\n",
    "\n",
    "Crea una instancia de la clase Banco con un nombre específico, por ejemplo, \"Banco XYZ\". \n",
    "\n",
    "Luego, crea instancias de la clase Cliente con diferentes nombres y saldos iniciales. \n",
    "\n",
    "Agrega estos clientes al banco utilizando el método agregar_cliente.\n",
    "\n",
    "Luego, permite realizar operaciones bancarias para cada cliente. Pide al usuario que elija entre depósito, retiro o consulta de saldo, y solicita la cantidad correspondiente. Realiza las operaciones utilizando los métodos de la clase Cliente.\n",
    "\n",
    "Finalmente, muestra la lista de clientes del banco utilizando el método mostrar_clientes.\n",
    "\n",
    "Nota:\n",
    "Asegúrate de utilizar el concepto de encapsulación y métodos para realizar las operaciones dentro de las clases."
   ]
  },
  {
   "cell_type": "markdown",
   "id": "8aea96ff",
   "metadata": {},
   "source": [
    "Bienvenido al Simulador de Banco - Banco XYZ\n",
    "\n",
    "1. Agregar Cliente\n",
    "2. Realizar Operaciones Bancarias\n",
    "3. Mostrar Clientes\n",
    "4. Salir\n",
    "\n",
    "Elige una opción: 1\n",
    "\n",
    "Ingresa el nombre del cliente: Juan Pérez\n",
    "Ingresa el saldo inicial: 5000\n",
    "Cliente Juan Pérez agregado al Banco XYZ.\n",
    "\n",
    "Elige una opción: 1\n",
    "\n",
    "Ingresa el nombre del cliente: María González\n",
    "Ingresa el saldo inicial: 10000\n",
    "Cliente María González agregado al Banco XYZ.\n",
    "\n",
    "Elige una opción: 2\n",
    "\n",
    "Elige un cliente (1: Juan Pérez, 2: María González): 1\n",
    "\n",
    "1. Depositar\n",
    "2. Retirar\n",
    "3. Consultar Saldo\n",
    "\n",
    "Elige una operación: 1\n",
    "\n",
    "Ingresa la cantidad a depositar: 2000\n",
    "Depósito de $2000 realizado. Nuevo saldo: $7000\n",
    "\n",
    "Elige una opción: 2\n",
    "\n",
    "Ingresa la cantidad a retirar: 1500\n",
    "Retiro de $1500 realizado. Nuevo saldo: $5500\n",
    "\n",
    "Elige una opción: 3\n",
    "\n",
    "Saldo actual de Juan Pérez: $5500\n",
    "\n",
    "Elige una opción: 2\n",
    "\n",
    "Elige un cliente (1: Juan Pérez, 2: María González): 2\n",
    "\n",
    "1. Depositar\n",
    "2. Retirar\n",
    "3. Consultar Saldo\n",
    "\n",
    "Elige una operación: 1\n",
    "\n",
    "Ingresa la cantidad a depositar: 500\n",
    "Depósito de $500 realizado. Nuevo saldo: $10500\n",
    "\n",
    "Elige una opción: 2\n",
    "\n",
    "Ingresa la cantidad a retirar: 7000\n",
    "Retiro de $7000 realizado. Nuevo saldo: $3500\n",
    "\n",
    "Elige una opción: 3\n",
    "\n",
    "Saldo actual de María González: $3500\n",
    "\n",
    "Elige una opción: 3\n",
    "\n",
    "Clientes del Banco XYZ:\n",
    "- Juan Pérez\n",
    "- María González\n"
   ]
  },
  {
   "cell_type": "code",
   "execution_count": null,
   "id": "67966d31",
   "metadata": {},
   "outputs": [],
   "source": []
  }
 ],
 "metadata": {
  "kernelspec": {
   "display_name": "Python 3 (ipykernel)",
   "language": "python",
   "name": "python3"
  },
  "language_info": {
   "codemirror_mode": {
    "name": "ipython",
    "version": 3
   },
   "file_extension": ".py",
   "mimetype": "text/x-python",
   "name": "python",
   "nbconvert_exporter": "python",
   "pygments_lexer": "ipython3",
   "version": "3.9.12"
  }
 },
 "nbformat": 4,
 "nbformat_minor": 5
}
