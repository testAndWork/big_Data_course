{
 "cells": [
  {
   "cell_type": "code",
   "execution_count": 1,
   "id": "3304049f",
   "metadata": {},
   "outputs": [],
   "source": [
    "import pandas as pd"
   ]
  },
  {
   "cell_type": "code",
   "execution_count": 3,
   "id": "1ff9b44b",
   "metadata": {},
   "outputs": [],
   "source": [
    "df = pd.read_csv('GSAF5.csv',encoding= 'latin-1')"
   ]
  },
  {
   "cell_type": "code",
   "execution_count": 6,
   "id": "461aa354",
   "metadata": {},
   "outputs": [
    {
     "data": {
      "text/html": [
       "<div>\n",
       "<style scoped>\n",
       "    .dataframe tbody tr th:only-of-type {\n",
       "        vertical-align: middle;\n",
       "    }\n",
       "\n",
       "    .dataframe tbody tr th {\n",
       "        vertical-align: top;\n",
       "    }\n",
       "\n",
       "    .dataframe thead th {\n",
       "        text-align: right;\n",
       "    }\n",
       "</style>\n",
       "<table border=\"1\" class=\"dataframe\">\n",
       "  <thead>\n",
       "    <tr style=\"text-align: right;\">\n",
       "      <th></th>\n",
       "      <th>Case Number</th>\n",
       "      <th>Date</th>\n",
       "      <th>Year</th>\n",
       "      <th>Type</th>\n",
       "      <th>Country</th>\n",
       "      <th>Area</th>\n",
       "      <th>Location</th>\n",
       "      <th>Activity</th>\n",
       "      <th>Name</th>\n",
       "      <th>Sex</th>\n",
       "      <th>...</th>\n",
       "      <th>Species</th>\n",
       "      <th>Investigator or Source</th>\n",
       "      <th>pdf</th>\n",
       "      <th>href formula</th>\n",
       "      <th>href</th>\n",
       "      <th>Case Number.1</th>\n",
       "      <th>Case Number.2</th>\n",
       "      <th>original order</th>\n",
       "      <th>Unnamed: 22</th>\n",
       "      <th>Unnamed: 23</th>\n",
       "    </tr>\n",
       "  </thead>\n",
       "  <tbody>\n",
       "    <tr>\n",
       "      <th>0</th>\n",
       "      <td>2016.09.18.c</td>\n",
       "      <td>18-Sep-16</td>\n",
       "      <td>2016</td>\n",
       "      <td>Unprovoked</td>\n",
       "      <td>USA</td>\n",
       "      <td>Florida</td>\n",
       "      <td>New Smyrna Beach, Volusia County</td>\n",
       "      <td>Surfing</td>\n",
       "      <td>male</td>\n",
       "      <td>M</td>\n",
       "      <td>...</td>\n",
       "      <td>NaN</td>\n",
       "      <td>Orlando Sentinel, 9/19/2016</td>\n",
       "      <td>2016.09.18.c-NSB.pdf</td>\n",
       "      <td>http://sharkattackfile.net/spreadsheets/pdf_di...</td>\n",
       "      <td>http://sharkattackfile.net/spreadsheets/pdf_di...</td>\n",
       "      <td>2016.09.18.c</td>\n",
       "      <td>2016.09.18.c</td>\n",
       "      <td>5993</td>\n",
       "      <td>NaN</td>\n",
       "      <td>NaN</td>\n",
       "    </tr>\n",
       "    <tr>\n",
       "      <th>1</th>\n",
       "      <td>2016.09.18.b</td>\n",
       "      <td>18-Sep-16</td>\n",
       "      <td>2016</td>\n",
       "      <td>Unprovoked</td>\n",
       "      <td>USA</td>\n",
       "      <td>Florida</td>\n",
       "      <td>New Smyrna Beach, Volusia County</td>\n",
       "      <td>Surfing</td>\n",
       "      <td>Chucky Luciano</td>\n",
       "      <td>M</td>\n",
       "      <td>...</td>\n",
       "      <td>NaN</td>\n",
       "      <td>Orlando Sentinel, 9/19/2016</td>\n",
       "      <td>2016.09.18.b-Luciano.pdf</td>\n",
       "      <td>http://sharkattackfile.net/spreadsheets/pdf_di...</td>\n",
       "      <td>http://sharkattackfile.net/spreadsheets/pdf_di...</td>\n",
       "      <td>2016.09.18.b</td>\n",
       "      <td>2016.09.18.b</td>\n",
       "      <td>5992</td>\n",
       "      <td>NaN</td>\n",
       "      <td>NaN</td>\n",
       "    </tr>\n",
       "    <tr>\n",
       "      <th>2</th>\n",
       "      <td>2016.09.18.a</td>\n",
       "      <td>18-Sep-16</td>\n",
       "      <td>2016</td>\n",
       "      <td>Unprovoked</td>\n",
       "      <td>USA</td>\n",
       "      <td>Florida</td>\n",
       "      <td>New Smyrna Beach, Volusia County</td>\n",
       "      <td>Surfing</td>\n",
       "      <td>male</td>\n",
       "      <td>M</td>\n",
       "      <td>...</td>\n",
       "      <td>NaN</td>\n",
       "      <td>Orlando Sentinel, 9/19/2016</td>\n",
       "      <td>2016.09.18.a-NSB.pdf</td>\n",
       "      <td>http://sharkattackfile.net/spreadsheets/pdf_di...</td>\n",
       "      <td>http://sharkattackfile.net/spreadsheets/pdf_di...</td>\n",
       "      <td>2016.09.18.a</td>\n",
       "      <td>2016.09.18.a</td>\n",
       "      <td>5991</td>\n",
       "      <td>NaN</td>\n",
       "      <td>NaN</td>\n",
       "    </tr>\n",
       "    <tr>\n",
       "      <th>3</th>\n",
       "      <td>2016.09.17</td>\n",
       "      <td>17-Sep-16</td>\n",
       "      <td>2016</td>\n",
       "      <td>Unprovoked</td>\n",
       "      <td>AUSTRALIA</td>\n",
       "      <td>Victoria</td>\n",
       "      <td>Thirteenth Beach</td>\n",
       "      <td>Surfing</td>\n",
       "      <td>Rory Angiolella</td>\n",
       "      <td>M</td>\n",
       "      <td>...</td>\n",
       "      <td>NaN</td>\n",
       "      <td>The Age, 9/18/2016</td>\n",
       "      <td>2016.09.17-Angiolella.pdf</td>\n",
       "      <td>http://sharkattackfile.net/spreadsheets/pdf_di...</td>\n",
       "      <td>http://sharkattackfile.net/spreadsheets/pdf_di...</td>\n",
       "      <td>2016.09.17</td>\n",
       "      <td>2016.09.17</td>\n",
       "      <td>5990</td>\n",
       "      <td>NaN</td>\n",
       "      <td>NaN</td>\n",
       "    </tr>\n",
       "    <tr>\n",
       "      <th>4</th>\n",
       "      <td>2016.09.15</td>\n",
       "      <td>16-Sep-16</td>\n",
       "      <td>2016</td>\n",
       "      <td>Unprovoked</td>\n",
       "      <td>AUSTRALIA</td>\n",
       "      <td>Victoria</td>\n",
       "      <td>Bells Beach</td>\n",
       "      <td>Surfing</td>\n",
       "      <td>male</td>\n",
       "      <td>M</td>\n",
       "      <td>...</td>\n",
       "      <td>2 m shark</td>\n",
       "      <td>The Age, 9/16/2016</td>\n",
       "      <td>2016.09.16-BellsBeach.pdf</td>\n",
       "      <td>http://sharkattackfile.net/spreadsheets/pdf_di...</td>\n",
       "      <td>http://sharkattackfile.net/spreadsheets/pdf_di...</td>\n",
       "      <td>2016.09.16</td>\n",
       "      <td>2016.09.15</td>\n",
       "      <td>5989</td>\n",
       "      <td>NaN</td>\n",
       "      <td>NaN</td>\n",
       "    </tr>\n",
       "  </tbody>\n",
       "</table>\n",
       "<p>5 rows × 24 columns</p>\n",
       "</div>"
      ],
      "text/plain": [
       "    Case Number       Date  Year        Type    Country      Area  \\\n",
       "0  2016.09.18.c  18-Sep-16  2016  Unprovoked        USA   Florida   \n",
       "1  2016.09.18.b  18-Sep-16  2016  Unprovoked        USA   Florida   \n",
       "2  2016.09.18.a  18-Sep-16  2016  Unprovoked        USA   Florida   \n",
       "3    2016.09.17  17-Sep-16  2016  Unprovoked  AUSTRALIA  Victoria   \n",
       "4    2016.09.15  16-Sep-16  2016  Unprovoked  AUSTRALIA  Victoria   \n",
       "\n",
       "                           Location Activity             Name Sex   ...  \\\n",
       "0  New Smyrna Beach, Volusia County  Surfing             male    M  ...   \n",
       "1  New Smyrna Beach, Volusia County  Surfing   Chucky Luciano    M  ...   \n",
       "2  New Smyrna Beach, Volusia County  Surfing             male    M  ...   \n",
       "3                  Thirteenth Beach  Surfing  Rory Angiolella    M  ...   \n",
       "4                       Bells Beach  Surfing             male    M  ...   \n",
       "\n",
       "    Species        Investigator or Source                        pdf  \\\n",
       "0        NaN  Orlando Sentinel, 9/19/2016       2016.09.18.c-NSB.pdf   \n",
       "1        NaN  Orlando Sentinel, 9/19/2016   2016.09.18.b-Luciano.pdf   \n",
       "2        NaN  Orlando Sentinel, 9/19/2016       2016.09.18.a-NSB.pdf   \n",
       "3        NaN           The Age, 9/18/2016  2016.09.17-Angiolella.pdf   \n",
       "4  2 m shark           The Age, 9/16/2016  2016.09.16-BellsBeach.pdf   \n",
       "\n",
       "                                        href formula  \\\n",
       "0  http://sharkattackfile.net/spreadsheets/pdf_di...   \n",
       "1  http://sharkattackfile.net/spreadsheets/pdf_di...   \n",
       "2  http://sharkattackfile.net/spreadsheets/pdf_di...   \n",
       "3  http://sharkattackfile.net/spreadsheets/pdf_di...   \n",
       "4  http://sharkattackfile.net/spreadsheets/pdf_di...   \n",
       "\n",
       "                                                href Case Number.1  \\\n",
       "0  http://sharkattackfile.net/spreadsheets/pdf_di...  2016.09.18.c   \n",
       "1  http://sharkattackfile.net/spreadsheets/pdf_di...  2016.09.18.b   \n",
       "2  http://sharkattackfile.net/spreadsheets/pdf_di...  2016.09.18.a   \n",
       "3  http://sharkattackfile.net/spreadsheets/pdf_di...    2016.09.17   \n",
       "4  http://sharkattackfile.net/spreadsheets/pdf_di...    2016.09.16   \n",
       "\n",
       "  Case Number.2 original order Unnamed: 22 Unnamed: 23  \n",
       "0  2016.09.18.c           5993         NaN         NaN  \n",
       "1  2016.09.18.b           5992         NaN         NaN  \n",
       "2  2016.09.18.a           5991         NaN         NaN  \n",
       "3    2016.09.17           5990         NaN         NaN  \n",
       "4    2016.09.15           5989         NaN         NaN  \n",
       "\n",
       "[5 rows x 24 columns]"
      ]
     },
     "execution_count": 6,
     "metadata": {},
     "output_type": "execute_result"
    }
   ],
   "source": [
    "df.head()"
   ]
  },
  {
   "cell_type": "code",
   "execution_count": 8,
   "id": "23351222",
   "metadata": {},
   "outputs": [
    {
     "data": {
      "text/plain": [
       "(5992, 24)"
      ]
     },
     "execution_count": 8,
     "metadata": {},
     "output_type": "execute_result"
    }
   ],
   "source": [
    "df.shape"
   ]
  },
  {
   "cell_type": "code",
   "execution_count": 11,
   "id": "ede533a8",
   "metadata": {},
   "outputs": [
    {
     "data": {
      "text/plain": [
       "Index(['Case Number', 'Date', 'Year', 'Type', 'Country', 'Area', 'Location',\n",
       "       'Activity', 'Name', 'Sex ', 'Age', 'Injury', 'Fatal (Y/N)', 'Time',\n",
       "       'Species ', 'Investigator or Source', 'pdf', 'href formula', 'href',\n",
       "       'Case Number.1', 'Case Number.2', 'original order', 'Unnamed: 22',\n",
       "       'Unnamed: 23'],\n",
       "      dtype='object')"
      ]
     },
     "execution_count": 11,
     "metadata": {},
     "output_type": "execute_result"
    }
   ],
   "source": [
    "df.columns"
   ]
  },
  {
   "cell_type": "code",
   "execution_count": 12,
   "id": "b5334c3b",
   "metadata": {
    "scrolled": false
   },
   "outputs": [
    {
     "data": {
      "text/plain": [
       "Case Number               object\n",
       "Date                      object\n",
       "Year                       int64\n",
       "Type                      object\n",
       "Country                   object\n",
       "Area                      object\n",
       "Location                  object\n",
       "Activity                  object\n",
       "Name                      object\n",
       "Sex                       object\n",
       "Age                       object\n",
       "Injury                    object\n",
       "Fatal (Y/N)               object\n",
       "Time                      object\n",
       "Species                   object\n",
       "Investigator or Source    object\n",
       "pdf                       object\n",
       "href formula              object\n",
       "href                      object\n",
       "Case Number.1             object\n",
       "Case Number.2             object\n",
       "original order             int64\n",
       "Unnamed: 22               object\n",
       "Unnamed: 23               object\n",
       "dtype: object"
      ]
     },
     "execution_count": 12,
     "metadata": {},
     "output_type": "execute_result"
    }
   ],
   "source": [
    "df.dtypes"
   ]
  },
  {
   "cell_type": "markdown",
   "id": "7f3e7549",
   "metadata": {},
   "source": [
    "# Contruyendo un  Dataframe\n",
    "\n",
    "Con las variables en uso para nuestro informe"
   ]
  },
  {
   "cell_type": "code",
   "execution_count": 15,
   "id": "937b7465",
   "metadata": {},
   "outputs": [],
   "source": [
    "data = df[['Case Number',\n",
    "           'Date','Year','Type','Country','Area', \n",
    "           'Location','Activity','Sex ', 'Injury','Fatal (Y/N)' ]]"
   ]
  },
  {
   "cell_type": "code",
   "execution_count": 17,
   "id": "ec205920",
   "metadata": {},
   "outputs": [
    {
     "data": {
      "text/html": [
       "<div>\n",
       "<style scoped>\n",
       "    .dataframe tbody tr th:only-of-type {\n",
       "        vertical-align: middle;\n",
       "    }\n",
       "\n",
       "    .dataframe tbody tr th {\n",
       "        vertical-align: top;\n",
       "    }\n",
       "\n",
       "    .dataframe thead th {\n",
       "        text-align: right;\n",
       "    }\n",
       "</style>\n",
       "<table border=\"1\" class=\"dataframe\">\n",
       "  <thead>\n",
       "    <tr style=\"text-align: right;\">\n",
       "      <th></th>\n",
       "      <th>Case Number</th>\n",
       "      <th>Date</th>\n",
       "      <th>Year</th>\n",
       "      <th>Type</th>\n",
       "      <th>Country</th>\n",
       "      <th>Area</th>\n",
       "      <th>Location</th>\n",
       "      <th>Activity</th>\n",
       "      <th>Sex</th>\n",
       "      <th>Injury</th>\n",
       "      <th>Fatal (Y/N)</th>\n",
       "    </tr>\n",
       "  </thead>\n",
       "  <tbody>\n",
       "    <tr>\n",
       "      <th>0</th>\n",
       "      <td>2016.09.18.c</td>\n",
       "      <td>18-Sep-16</td>\n",
       "      <td>2016</td>\n",
       "      <td>Unprovoked</td>\n",
       "      <td>USA</td>\n",
       "      <td>Florida</td>\n",
       "      <td>New Smyrna Beach, Volusia County</td>\n",
       "      <td>Surfing</td>\n",
       "      <td>M</td>\n",
       "      <td>Minor injury to thigh</td>\n",
       "      <td>N</td>\n",
       "    </tr>\n",
       "    <tr>\n",
       "      <th>1</th>\n",
       "      <td>2016.09.18.b</td>\n",
       "      <td>18-Sep-16</td>\n",
       "      <td>2016</td>\n",
       "      <td>Unprovoked</td>\n",
       "      <td>USA</td>\n",
       "      <td>Florida</td>\n",
       "      <td>New Smyrna Beach, Volusia County</td>\n",
       "      <td>Surfing</td>\n",
       "      <td>M</td>\n",
       "      <td>Lacerations to hands</td>\n",
       "      <td>N</td>\n",
       "    </tr>\n",
       "    <tr>\n",
       "      <th>2</th>\n",
       "      <td>2016.09.18.a</td>\n",
       "      <td>18-Sep-16</td>\n",
       "      <td>2016</td>\n",
       "      <td>Unprovoked</td>\n",
       "      <td>USA</td>\n",
       "      <td>Florida</td>\n",
       "      <td>New Smyrna Beach, Volusia County</td>\n",
       "      <td>Surfing</td>\n",
       "      <td>M</td>\n",
       "      <td>Lacerations to lower leg</td>\n",
       "      <td>N</td>\n",
       "    </tr>\n",
       "    <tr>\n",
       "      <th>3</th>\n",
       "      <td>2016.09.17</td>\n",
       "      <td>17-Sep-16</td>\n",
       "      <td>2016</td>\n",
       "      <td>Unprovoked</td>\n",
       "      <td>AUSTRALIA</td>\n",
       "      <td>Victoria</td>\n",
       "      <td>Thirteenth Beach</td>\n",
       "      <td>Surfing</td>\n",
       "      <td>M</td>\n",
       "      <td>Struck by fin on chest &amp; leg</td>\n",
       "      <td>N</td>\n",
       "    </tr>\n",
       "    <tr>\n",
       "      <th>4</th>\n",
       "      <td>2016.09.15</td>\n",
       "      <td>16-Sep-16</td>\n",
       "      <td>2016</td>\n",
       "      <td>Unprovoked</td>\n",
       "      <td>AUSTRALIA</td>\n",
       "      <td>Victoria</td>\n",
       "      <td>Bells Beach</td>\n",
       "      <td>Surfing</td>\n",
       "      <td>M</td>\n",
       "      <td>No injury: Knocked off board by shark</td>\n",
       "      <td>N</td>\n",
       "    </tr>\n",
       "  </tbody>\n",
       "</table>\n",
       "</div>"
      ],
      "text/plain": [
       "    Case Number       Date  Year        Type    Country      Area  \\\n",
       "0  2016.09.18.c  18-Sep-16  2016  Unprovoked        USA   Florida   \n",
       "1  2016.09.18.b  18-Sep-16  2016  Unprovoked        USA   Florida   \n",
       "2  2016.09.18.a  18-Sep-16  2016  Unprovoked        USA   Florida   \n",
       "3    2016.09.17  17-Sep-16  2016  Unprovoked  AUSTRALIA  Victoria   \n",
       "4    2016.09.15  16-Sep-16  2016  Unprovoked  AUSTRALIA  Victoria   \n",
       "\n",
       "                           Location Activity Sex   \\\n",
       "0  New Smyrna Beach, Volusia County  Surfing    M   \n",
       "1  New Smyrna Beach, Volusia County  Surfing    M   \n",
       "2  New Smyrna Beach, Volusia County  Surfing    M   \n",
       "3                  Thirteenth Beach  Surfing    M   \n",
       "4                       Bells Beach  Surfing    M   \n",
       "\n",
       "                                  Injury Fatal (Y/N)  \n",
       "0                  Minor injury to thigh           N  \n",
       "1                   Lacerations to hands           N  \n",
       "2               Lacerations to lower leg           N  \n",
       "3           Struck by fin on chest & leg           N  \n",
       "4  No injury: Knocked off board by shark           N  "
      ]
     },
     "execution_count": 17,
     "metadata": {},
     "output_type": "execute_result"
    }
   ],
   "source": [
    "data.head()"
   ]
  },
  {
   "cell_type": "code",
   "execution_count": 18,
   "id": "0714b520",
   "metadata": {},
   "outputs": [
    {
     "data": {
      "text/plain": [
       "Case Number    object\n",
       "Date           object\n",
       "Year            int64\n",
       "Type           object\n",
       "Country        object\n",
       "Area           object\n",
       "Location       object\n",
       "Activity       object\n",
       "Sex            object\n",
       "Injury         object\n",
       "Fatal (Y/N)    object\n",
       "dtype: object"
      ]
     },
     "execution_count": 18,
     "metadata": {},
     "output_type": "execute_result"
    }
   ],
   "source": [
    "data.dtypes"
   ]
  },
  {
   "cell_type": "code",
   "execution_count": 19,
   "id": "6c9ceb83",
   "metadata": {},
   "outputs": [
    {
     "data": {
      "text/plain": [
       "(5992, 11)"
      ]
     },
     "execution_count": 19,
     "metadata": {},
     "output_type": "execute_result"
    }
   ],
   "source": [
    "data.shape"
   ]
  },
  {
   "cell_type": "markdown",
   "id": "1ad1be58",
   "metadata": {},
   "source": [
    "# Eliminando registros duplicados\n",
    "\n",
    "Utilizaremos el método `.duplicated()` : devuelve si un registro está duplicado o no `(True o False)`"
   ]
  },
  {
   "cell_type": "code",
   "execution_count": 23,
   "id": "14c3f63d",
   "metadata": {},
   "outputs": [
    {
     "data": {
      "text/plain": [
       "0       False\n",
       "1       False\n",
       "2       False\n",
       "3       False\n",
       "4       False\n",
       "        ...  \n",
       "5987    False\n",
       "5988    False\n",
       "5989    False\n",
       "5990    False\n",
       "5991    False\n",
       "Length: 5992, dtype: bool"
      ]
     },
     "execution_count": 23,
     "metadata": {},
     "output_type": "execute_result"
    }
   ],
   "source": [
    "# Para todo el DataFrame \n",
    "\n",
    "data.duplicated()"
   ]
  },
  {
   "cell_type": "code",
   "execution_count": 24,
   "id": "7073785a",
   "metadata": {},
   "outputs": [
    {
     "data": {
      "text/plain": [
       "0"
      ]
     },
     "execution_count": 24,
     "metadata": {},
     "output_type": "execute_result"
    }
   ],
   "source": [
    "data.duplicated().sum()"
   ]
  },
  {
   "cell_type": "code",
   "execution_count": 25,
   "id": "d1f94b7c",
   "metadata": {},
   "outputs": [
    {
     "data": {
      "text/plain": [
       "16"
      ]
     },
     "execution_count": 25,
     "metadata": {},
     "output_type": "execute_result"
    }
   ],
   "source": [
    "data['Case Number'].duplicated().sum()"
   ]
  },
  {
   "cell_type": "markdown",
   "id": "f9cc2b0e",
   "metadata": {},
   "source": [
    "# Utilizando filtros en el DataFrame\n",
    "\n",
    "UTilizaremos un filtro para poder conocer los duplicados, transformar esta columna de repetidos a una lista con el métdo `.tolist()`"
   ]
  },
  {
   "cell_type": "code",
   "execution_count": 26,
   "id": "67fd563a",
   "metadata": {},
   "outputs": [],
   "source": [
    "duplicates = data[data['Case Number'].duplicated(\n",
    "    keep = False)]['Case Number'].tolist()"
   ]
  },
  {
   "cell_type": "code",
   "execution_count": 27,
   "id": "860adcee",
   "metadata": {},
   "outputs": [
    {
     "data": {
      "text/plain": [
       "['2014.08.02',\n",
       " '2014.08.02',\n",
       " '2013.10.05',\n",
       " '2013.10.05',\n",
       " '2012.09.02.b',\n",
       " '2012.09.02.b',\n",
       " '2009.12.18',\n",
       " '2009.12.18',\n",
       " '2006.09.02',\n",
       " '2006.09.02',\n",
       " '2005.04.06',\n",
       " '2005.04.06',\n",
       " '1990.05.10',\n",
       " '1990.05.10',\n",
       " '1983.06.15',\n",
       " '1983.06.15',\n",
       " '1980.07.00',\n",
       " '1980.07.00',\n",
       " '1966.12.26',\n",
       " '1966.12.26',\n",
       " '1962.06.11.b',\n",
       " '1962.06.11.b',\n",
       " '1923.00.00.a',\n",
       " '1923.00.00.a',\n",
       " '1920.00.00.b',\n",
       " '1920.00.00.b',\n",
       " '1915.07.06.a.R',\n",
       " '1915.07.06.a.R',\n",
       " '1913.08.27.R',\n",
       " '1913.08.27.R',\n",
       " '1907.10.16.R',\n",
       " '1907.10.16.R']"
      ]
     },
     "execution_count": 27,
     "metadata": {},
     "output_type": "execute_result"
    }
   ],
   "source": [
    "duplicates"
   ]
  },
  {
   "cell_type": "code",
   "execution_count": 29,
   "id": "c68c6e4c",
   "metadata": {},
   "outputs": [
    {
     "data": {
      "text/plain": [
       "(list, 32)"
      ]
     },
     "execution_count": 29,
     "metadata": {},
     "output_type": "execute_result"
    }
   ],
   "source": [
    "type(duplicates),len(duplicates)"
   ]
  },
  {
   "cell_type": "markdown",
   "id": "edb8c092",
   "metadata": {},
   "source": [
    "## Recoradando las propiedades de los conjuntos"
   ]
  },
  {
   "cell_type": "code",
   "execution_count": 32,
   "id": "7df2966c",
   "metadata": {},
   "outputs": [],
   "source": [
    "setprueba = {1,1,2,2,2,2,5,3,3,3,4,5,5}"
   ]
  },
  {
   "cell_type": "code",
   "execution_count": 33,
   "id": "c5b9305e",
   "metadata": {},
   "outputs": [
    {
     "data": {
      "text/plain": [
       "{1, 2, 3, 4, 5}"
      ]
     },
     "execution_count": 33,
     "metadata": {},
     "output_type": "execute_result"
    }
   ],
   "source": [
    "setprueba"
   ]
  },
  {
   "cell_type": "markdown",
   "id": "cd501399",
   "metadata": {},
   "source": [
    "## Utilizando Métodos de localizacion de registros.\n",
    "\n",
    "`.iloc()` -> Funciona sobre el índice ;\n",
    "\n",
    "`.loc()`  -> Funciona sobre etiquetas ;"
   ]
  },
  {
   "cell_type": "code",
   "execution_count": 36,
   "id": "facc112e",
   "metadata": {},
   "outputs": [
    {
     "data": {
      "text/plain": [
       "({'1907.10.16.R',\n",
       "  '1913.08.27.R',\n",
       "  '1915.07.06.a.R',\n",
       "  '1920.00.00.b',\n",
       "  '1923.00.00.a',\n",
       "  '1962.06.11.b',\n",
       "  '1966.12.26',\n",
       "  '1980.07.00',\n",
       "  '1983.06.15',\n",
       "  '1990.05.10',\n",
       "  '2005.04.06',\n",
       "  '2006.09.02',\n",
       "  '2009.12.18',\n",
       "  '2012.09.02.b',\n",
       "  '2013.10.05',\n",
       "  '2014.08.02'},\n",
       " 16)"
      ]
     },
     "execution_count": 36,
     "metadata": {},
     "output_type": "execute_result"
    }
   ],
   "source": [
    "set_duplicates = set(duplicates)\n",
    "set_duplicates, len(set_duplicates)"
   ]
  },
  {
   "cell_type": "markdown",
   "id": "9e3384af",
   "metadata": {},
   "source": [
    "## Proceso de Eliminación de duplicados"
   ]
  },
  {
   "cell_type": "code",
   "execution_count": 38,
   "id": "6fd48d2a",
   "metadata": {},
   "outputs": [],
   "source": [
    "for reg in set_duplicates:\n",
    "    dup = data[data['Case Number'] == reg]\n",
    "    data.loc[dup.iloc[1,:].name, 'Case Number'] = data.loc[dup.iloc[1,:].name]['Case Number']+ 'z'\n",
    "    "
   ]
  },
  {
   "cell_type": "code",
   "execution_count": 41,
   "id": "1747199d",
   "metadata": {},
   "outputs": [
    {
     "data": {
      "text/plain": [
       "0"
      ]
     },
     "execution_count": 41,
     "metadata": {},
     "output_type": "execute_result"
    }
   ],
   "source": [
    "# comprobacion de registros duplicados\n",
    "\n",
    "data.duplicated().sum()"
   ]
  },
  {
   "cell_type": "code",
   "execution_count": 42,
   "id": "86779e1e",
   "metadata": {},
   "outputs": [
    {
     "data": {
      "text/plain": [
       "0"
      ]
     },
     "execution_count": 42,
     "metadata": {},
     "output_type": "execute_result"
    }
   ],
   "source": [
    "data['Case Number'].duplicated().sum()"
   ]
  },
  {
   "cell_type": "markdown",
   "id": "a929b248",
   "metadata": {},
   "source": [
    "## Nota: Eliminar registros de DataFrames es una última opción."
   ]
  },
  {
   "cell_type": "markdown",
   "id": "8e202165",
   "metadata": {},
   "source": [
    "## Localizar valores Nulos. Eliminar o Sustituir\n",
    "\n",
    "`.isnull()`"
   ]
  },
  {
   "cell_type": "code",
   "execution_count": 45,
   "id": "4c4c92ef",
   "metadata": {},
   "outputs": [
    {
     "data": {
      "text/plain": [
       "Case Number      0\n",
       "Date             0\n",
       "Year             0\n",
       "Type             0\n",
       "Country         43\n",
       "Area           402\n",
       "Location       496\n",
       "Activity       527\n",
       "Sex            567\n",
       "Injury          27\n",
       "Fatal (Y/N)     19\n",
       "dtype: int64"
      ]
     },
     "execution_count": 45,
     "metadata": {},
     "output_type": "execute_result"
    }
   ],
   "source": [
    "data.isnull().sum()"
   ]
  },
  {
   "cell_type": "code",
   "execution_count": 46,
   "id": "6e318ace",
   "metadata": {},
   "outputs": [
    {
     "data": {
      "text/plain": [
       "FATAL                                                                   729\n",
       "Survived                                                                 97\n",
       "Foot bitten                                                              82\n",
       "No injury                                                                77\n",
       "Leg bitten                                                               71\n",
       "                                                                       ... \n",
       "Puncture wounds on leg                                                    1\n",
       "Left arm & leg lacerated                                                  1\n",
       "Left leg & right testicle bitten                                          1\n",
       "5 punctures to hand from captive shark PROVOKED INCIDENT                  1\n",
       "FATAL. \"Shark bit him in half, carrying away the lower extremities\"       1\n",
       "Name: Injury, Length: 3595, dtype: int64"
      ]
     },
     "execution_count": 46,
     "metadata": {},
     "output_type": "execute_result"
    }
   ],
   "source": [
    "data['Injury'].value_counts()"
   ]
  },
  {
   "cell_type": "code",
   "execution_count": 47,
   "id": "4d22d2bf",
   "metadata": {},
   "outputs": [
    {
     "data": {
      "text/plain": [
       "FATAL                                                 75\n",
       "Survived                                              41\n",
       "No details                                            22\n",
       "No injury                                              8\n",
       "Leg bitten                                             5\n",
       "                                                      ..\n",
       "Left leg bitten                                        1\n",
       "Massive wound on right thigh with femur exposed        1\n",
       "Knee lacerated                                         1\n",
       "Foot severed FATAL                                     1\n",
       "FATAL, femoral artery severed, died 12 days later      1\n",
       "Name: Injury, Length: 329, dtype: int64"
      ]
     },
     "execution_count": 47,
     "metadata": {},
     "output_type": "execute_result"
    }
   ],
   "source": [
    "data[(data['Activity'].isnull())]['Injury'].value_counts()"
   ]
  },
  {
   "cell_type": "markdown",
   "id": "233b1abc",
   "metadata": {},
   "source": [
    "### Utilizando filtros con el método `.str`\n",
    "\n",
    "Crear filtros para buscar alguna palbra especifica que me indiquen que los daños fuero a surfistas : 'board', 'surfer', y dejamos fuera los casos de 'on board' y 'off board'."
   ]
  },
  {
   "cell_type": "code",
   "execution_count": 49,
   "id": "753b8a6c",
   "metadata": {},
   "outputs": [],
   "source": [
    "filter_1 = (data['Injury'].str.contains('board', \n",
    "                                        na = False, regex = False))"
   ]
  },
  {
   "cell_type": "code",
   "execution_count": 51,
   "id": "94dcc7dc",
   "metadata": {},
   "outputs": [],
   "source": [
    "filter_2 = (data['Injury'].str.contains('surfer', \n",
    "                                        na = False, regex = False))"
   ]
  },
  {
   "cell_type": "code",
   "execution_count": 52,
   "id": "1383bbf1",
   "metadata": {},
   "outputs": [],
   "source": [
    "filter_3 = (data['Injury'].str.contains('on board', \n",
    "                                        na = False, regex = False))"
   ]
  },
  {
   "cell_type": "code",
   "execution_count": 53,
   "id": "abd4b97b",
   "metadata": {},
   "outputs": [],
   "source": [
    "filter_4 = (data['Injury'].str.contains('off board', \n",
    "                                        na = False, regex = False))"
   ]
  },
  {
   "cell_type": "code",
   "execution_count": 55,
   "id": "62f3ea90",
   "metadata": {},
   "outputs": [
    {
     "data": {
      "text/html": [
       "<div>\n",
       "<style scoped>\n",
       "    .dataframe tbody tr th:only-of-type {\n",
       "        vertical-align: middle;\n",
       "    }\n",
       "\n",
       "    .dataframe tbody tr th {\n",
       "        vertical-align: top;\n",
       "    }\n",
       "\n",
       "    .dataframe thead th {\n",
       "        text-align: right;\n",
       "    }\n",
       "</style>\n",
       "<table border=\"1\" class=\"dataframe\">\n",
       "  <thead>\n",
       "    <tr style=\"text-align: right;\">\n",
       "      <th></th>\n",
       "      <th>Case Number</th>\n",
       "      <th>Date</th>\n",
       "      <th>Year</th>\n",
       "      <th>Type</th>\n",
       "      <th>Country</th>\n",
       "      <th>Area</th>\n",
       "      <th>Location</th>\n",
       "      <th>Activity</th>\n",
       "      <th>Sex</th>\n",
       "      <th>Injury</th>\n",
       "      <th>Fatal (Y/N)</th>\n",
       "    </tr>\n",
       "  </thead>\n",
       "  <tbody>\n",
       "    <tr>\n",
       "      <th>353</th>\n",
       "      <td>2014.03.18.b</td>\n",
       "      <td>18-Mar-14</td>\n",
       "      <td>2014</td>\n",
       "      <td>Unprovoked</td>\n",
       "      <td>AUSTRALIA</td>\n",
       "      <td>Victoria</td>\n",
       "      <td>Winkipop Beach</td>\n",
       "      <td>Surfing</td>\n",
       "      <td>M</td>\n",
       "      <td>Shark leapt onto surfboard; surfer uninjured</td>\n",
       "      <td>N</td>\n",
       "    </tr>\n",
       "    <tr>\n",
       "      <th>683</th>\n",
       "      <td>2011.06.24</td>\n",
       "      <td>24-Jun-11</td>\n",
       "      <td>2011</td>\n",
       "      <td>Unprovoked</td>\n",
       "      <td>USA</td>\n",
       "      <td>California</td>\n",
       "      <td>San Onofre State Beach, San Diego County</td>\n",
       "      <td>Surfing</td>\n",
       "      <td>M</td>\n",
       "      <td>Shark leapt onto surfboard; surfer uninjured</td>\n",
       "      <td>N</td>\n",
       "    </tr>\n",
       "    <tr>\n",
       "      <th>889</th>\n",
       "      <td>2009.07.11.a</td>\n",
       "      <td>11-Jul-09</td>\n",
       "      <td>2009</td>\n",
       "      <td>Unprovoked</td>\n",
       "      <td>USA</td>\n",
       "      <td>California</td>\n",
       "      <td>San Onofre, San Diego County</td>\n",
       "      <td>Paddle-surfing</td>\n",
       "      <td>M</td>\n",
       "      <td>No injury, shark collided with surfer &amp; board</td>\n",
       "      <td>N</td>\n",
       "    </tr>\n",
       "    <tr>\n",
       "      <th>932</th>\n",
       "      <td>2009.02.18</td>\n",
       "      <td>18-Feb-09</td>\n",
       "      <td>2009</td>\n",
       "      <td>Unprovoked</td>\n",
       "      <td>AUSTRALIA</td>\n",
       "      <td>New South Wales</td>\n",
       "      <td>Shelly Beach, near Port Macquarie</td>\n",
       "      <td>Surfing</td>\n",
       "      <td>M</td>\n",
       "      <td>No injury to surfer, but the nose of his board...</td>\n",
       "      <td>N</td>\n",
       "    </tr>\n",
       "    <tr>\n",
       "      <th>982</th>\n",
       "      <td>2008.09.08</td>\n",
       "      <td>08-Sep-08</td>\n",
       "      <td>2008</td>\n",
       "      <td>Unprovoked</td>\n",
       "      <td>USA</td>\n",
       "      <td>California</td>\n",
       "      <td>Surf Beach, Lompoc, Santa Barbara County</td>\n",
       "      <td>Surfing</td>\n",
       "      <td>M</td>\n",
       "      <td>No injury to surfer, board bitten</td>\n",
       "      <td>N</td>\n",
       "    </tr>\n",
       "    <tr>\n",
       "      <th>983</th>\n",
       "      <td>2008.09.07</td>\n",
       "      <td>07-Sep-08</td>\n",
       "      <td>2008</td>\n",
       "      <td>Unprovoked</td>\n",
       "      <td>AUSTRALIA</td>\n",
       "      <td>New South Wales</td>\n",
       "      <td>Clarks Beach, Byron Bay</td>\n",
       "      <td>Surfing</td>\n",
       "      <td>M</td>\n",
       "      <td>Shark became tangled in his surfboard leash. T...</td>\n",
       "      <td>N</td>\n",
       "    </tr>\n",
       "    <tr>\n",
       "      <th>1063</th>\n",
       "      <td>2008.03.07</td>\n",
       "      <td>07-Mar-08</td>\n",
       "      <td>2008</td>\n",
       "      <td>Unprovoked</td>\n",
       "      <td>USA</td>\n",
       "      <td>California</td>\n",
       "      <td>Huntington Beach, Orange County</td>\n",
       "      <td>Surfing</td>\n",
       "      <td>M</td>\n",
       "      <td>No injury to surfer, surfboard bitten by the s...</td>\n",
       "      <td>N</td>\n",
       "    </tr>\n",
       "    <tr>\n",
       "      <th>1100</th>\n",
       "      <td>2007.09.27.b</td>\n",
       "      <td>27-Sep-07</td>\n",
       "      <td>2007</td>\n",
       "      <td>Unprovoked</td>\n",
       "      <td>USA</td>\n",
       "      <td>California</td>\n",
       "      <td>Moonstone Beach, Humboldt County</td>\n",
       "      <td>Surfing</td>\n",
       "      <td>F</td>\n",
       "      <td>No injury to surfer, surfboard bitten</td>\n",
       "      <td>N</td>\n",
       "    </tr>\n",
       "    <tr>\n",
       "      <th>1215</th>\n",
       "      <td>2006.08.29.a</td>\n",
       "      <td>29-Aug-06</td>\n",
       "      <td>2006</td>\n",
       "      <td>Unprovoked</td>\n",
       "      <td>AUSTRALIA</td>\n",
       "      <td>South Australia</td>\n",
       "      <td>Pennington Bay, Kangaroo Island</td>\n",
       "      <td>Surfing</td>\n",
       "      <td>M</td>\n",
       "      <td>No injury, shark towed  surfer &amp; board</td>\n",
       "      <td>N</td>\n",
       "    </tr>\n",
       "    <tr>\n",
       "      <th>2607</th>\n",
       "      <td>1985.12.22</td>\n",
       "      <td>22-Dec-85</td>\n",
       "      <td>1985</td>\n",
       "      <td>Unprovoked</td>\n",
       "      <td>SOUTH AFRICA</td>\n",
       "      <td>KwaZulu-Natal</td>\n",
       "      <td>Garvies Beach</td>\n",
       "      <td>Surfing</td>\n",
       "      <td>M</td>\n",
       "      <td>Both surfers boards were bumped by sharks, Moo...</td>\n",
       "      <td>N</td>\n",
       "    </tr>\n",
       "  </tbody>\n",
       "</table>\n",
       "</div>"
      ],
      "text/plain": [
       "       Case Number       Date  Year        Type       Country  \\\n",
       "353   2014.03.18.b  18-Mar-14  2014  Unprovoked     AUSTRALIA   \n",
       "683     2011.06.24  24-Jun-11  2011  Unprovoked           USA   \n",
       "889   2009.07.11.a  11-Jul-09  2009  Unprovoked           USA   \n",
       "932     2009.02.18  18-Feb-09  2009  Unprovoked     AUSTRALIA   \n",
       "982     2008.09.08  08-Sep-08  2008  Unprovoked           USA   \n",
       "983     2008.09.07  07-Sep-08  2008  Unprovoked     AUSTRALIA   \n",
       "1063    2008.03.07  07-Mar-08  2008  Unprovoked           USA   \n",
       "1100  2007.09.27.b  27-Sep-07  2007  Unprovoked           USA   \n",
       "1215  2006.08.29.a  29-Aug-06  2006  Unprovoked     AUSTRALIA   \n",
       "2607    1985.12.22  22-Dec-85  1985  Unprovoked  SOUTH AFRICA   \n",
       "\n",
       "                 Area                                  Location  \\\n",
       "353          Victoria                            Winkipop Beach   \n",
       "683        California  San Onofre State Beach, San Diego County   \n",
       "889        California             San Onofre, San Diego County    \n",
       "932   New South Wales         Shelly Beach, near Port Macquarie   \n",
       "982        California  Surf Beach, Lompoc, Santa Barbara County   \n",
       "983   New South Wales                   Clarks Beach, Byron Bay   \n",
       "1063       California           Huntington Beach, Orange County   \n",
       "1100       California          Moonstone Beach, Humboldt County   \n",
       "1215  South Australia           Pennington Bay, Kangaroo Island   \n",
       "2607    KwaZulu-Natal                             Garvies Beach   \n",
       "\n",
       "            Activity Sex                                              Injury  \\\n",
       "353          Surfing    M      Shark leapt onto surfboard; surfer uninjured    \n",
       "683          Surfing    M      Shark leapt onto surfboard; surfer uninjured    \n",
       "889   Paddle-surfing    M      No injury, shark collided with surfer & board   \n",
       "932          Surfing    M  No injury to surfer, but the nose of his board...   \n",
       "982          Surfing    M                  No injury to surfer, board bitten   \n",
       "983          Surfing    M  Shark became tangled in his surfboard leash. T...   \n",
       "1063         Surfing    M  No injury to surfer, surfboard bitten by the s...   \n",
       "1100         Surfing    F              No injury to surfer, surfboard bitten   \n",
       "1215         Surfing    M             No injury, shark towed  surfer & board   \n",
       "2607         Surfing    M  Both surfers boards were bumped by sharks, Moo...   \n",
       "\n",
       "     Fatal (Y/N)  \n",
       "353            N  \n",
       "683            N  \n",
       "889            N  \n",
       "932            N  \n",
       "982            N  \n",
       "983            N  \n",
       "1063           N  \n",
       "1100           N  \n",
       "1215           N  \n",
       "2607           N  "
      ]
     },
     "execution_count": 55,
     "metadata": {},
     "output_type": "execute_result"
    }
   ],
   "source": [
    "#se utiliza la ~ para negar\n",
    "new_data = data[filter_1 & filter_2 & ~filter_3 & ~filter_4]\n",
    "new_data"
   ]
  },
  {
   "cell_type": "code",
   "execution_count": 60,
   "id": "49032b4b",
   "metadata": {},
   "outputs": [
    {
     "data": {
      "text/html": [
       "<div>\n",
       "<style scoped>\n",
       "    .dataframe tbody tr th:only-of-type {\n",
       "        vertical-align: middle;\n",
       "    }\n",
       "\n",
       "    .dataframe tbody tr th {\n",
       "        vertical-align: top;\n",
       "    }\n",
       "\n",
       "    .dataframe thead th {\n",
       "        text-align: right;\n",
       "    }\n",
       "</style>\n",
       "<table border=\"1\" class=\"dataframe\">\n",
       "  <thead>\n",
       "    <tr style=\"text-align: right;\">\n",
       "      <th></th>\n",
       "      <th>Case Number</th>\n",
       "      <th>Date</th>\n",
       "      <th>Year</th>\n",
       "      <th>Type</th>\n",
       "      <th>Country</th>\n",
       "      <th>Area</th>\n",
       "      <th>Location</th>\n",
       "      <th>Activity</th>\n",
       "      <th>Sex</th>\n",
       "      <th>Injury</th>\n",
       "      <th>Fatal (Y/N)</th>\n",
       "    </tr>\n",
       "  </thead>\n",
       "  <tbody>\n",
       "  </tbody>\n",
       "</table>\n",
       "</div>"
      ],
      "text/plain": [
       "Empty DataFrame\n",
       "Columns: [Case Number, Date, Year, Type, Country, Area, Location, Activity, Sex , Injury, Fatal (Y/N)]\n",
       "Index: []"
      ]
     },
     "execution_count": 60,
     "metadata": {},
     "output_type": "execute_result"
    }
   ],
   "source": [
    "data[(data['Country'].isnull()) & (data['Area'].isin(('Alaska','Hawai','California','Oregon', 'Washington' )))]"
   ]
  },
  {
   "cell_type": "code",
   "execution_count": 61,
   "id": "f1bef3e7",
   "metadata": {},
   "outputs": [],
   "source": [
    "dataf_reduced = data[(data['Activity']== 'Surfing')]"
   ]
  },
  {
   "cell_type": "code",
   "execution_count": 62,
   "id": "6b016e3e",
   "metadata": {},
   "outputs": [
    {
     "data": {
      "text/html": [
       "<div>\n",
       "<style scoped>\n",
       "    .dataframe tbody tr th:only-of-type {\n",
       "        vertical-align: middle;\n",
       "    }\n",
       "\n",
       "    .dataframe tbody tr th {\n",
       "        vertical-align: top;\n",
       "    }\n",
       "\n",
       "    .dataframe thead th {\n",
       "        text-align: right;\n",
       "    }\n",
       "</style>\n",
       "<table border=\"1\" class=\"dataframe\">\n",
       "  <thead>\n",
       "    <tr style=\"text-align: right;\">\n",
       "      <th></th>\n",
       "      <th>Case Number</th>\n",
       "      <th>Date</th>\n",
       "      <th>Year</th>\n",
       "      <th>Type</th>\n",
       "      <th>Country</th>\n",
       "      <th>Area</th>\n",
       "      <th>Location</th>\n",
       "      <th>Activity</th>\n",
       "      <th>Sex</th>\n",
       "      <th>Injury</th>\n",
       "      <th>Fatal (Y/N)</th>\n",
       "    </tr>\n",
       "  </thead>\n",
       "  <tbody>\n",
       "    <tr>\n",
       "      <th>0</th>\n",
       "      <td>2016.09.18.c</td>\n",
       "      <td>18-Sep-16</td>\n",
       "      <td>2016</td>\n",
       "      <td>Unprovoked</td>\n",
       "      <td>USA</td>\n",
       "      <td>Florida</td>\n",
       "      <td>New Smyrna Beach, Volusia County</td>\n",
       "      <td>Surfing</td>\n",
       "      <td>M</td>\n",
       "      <td>Minor injury to thigh</td>\n",
       "      <td>N</td>\n",
       "    </tr>\n",
       "    <tr>\n",
       "      <th>1</th>\n",
       "      <td>2016.09.18.b</td>\n",
       "      <td>18-Sep-16</td>\n",
       "      <td>2016</td>\n",
       "      <td>Unprovoked</td>\n",
       "      <td>USA</td>\n",
       "      <td>Florida</td>\n",
       "      <td>New Smyrna Beach, Volusia County</td>\n",
       "      <td>Surfing</td>\n",
       "      <td>M</td>\n",
       "      <td>Lacerations to hands</td>\n",
       "      <td>N</td>\n",
       "    </tr>\n",
       "    <tr>\n",
       "      <th>2</th>\n",
       "      <td>2016.09.18.a</td>\n",
       "      <td>18-Sep-16</td>\n",
       "      <td>2016</td>\n",
       "      <td>Unprovoked</td>\n",
       "      <td>USA</td>\n",
       "      <td>Florida</td>\n",
       "      <td>New Smyrna Beach, Volusia County</td>\n",
       "      <td>Surfing</td>\n",
       "      <td>M</td>\n",
       "      <td>Lacerations to lower leg</td>\n",
       "      <td>N</td>\n",
       "    </tr>\n",
       "    <tr>\n",
       "      <th>3</th>\n",
       "      <td>2016.09.17</td>\n",
       "      <td>17-Sep-16</td>\n",
       "      <td>2016</td>\n",
       "      <td>Unprovoked</td>\n",
       "      <td>AUSTRALIA</td>\n",
       "      <td>Victoria</td>\n",
       "      <td>Thirteenth Beach</td>\n",
       "      <td>Surfing</td>\n",
       "      <td>M</td>\n",
       "      <td>Struck by fin on chest &amp; leg</td>\n",
       "      <td>N</td>\n",
       "    </tr>\n",
       "    <tr>\n",
       "      <th>4</th>\n",
       "      <td>2016.09.15</td>\n",
       "      <td>16-Sep-16</td>\n",
       "      <td>2016</td>\n",
       "      <td>Unprovoked</td>\n",
       "      <td>AUSTRALIA</td>\n",
       "      <td>Victoria</td>\n",
       "      <td>Bells Beach</td>\n",
       "      <td>Surfing</td>\n",
       "      <td>M</td>\n",
       "      <td>No injury: Knocked off board by shark</td>\n",
       "      <td>N</td>\n",
       "    </tr>\n",
       "    <tr>\n",
       "      <th>...</th>\n",
       "      <td>...</td>\n",
       "      <td>...</td>\n",
       "      <td>...</td>\n",
       "      <td>...</td>\n",
       "      <td>...</td>\n",
       "      <td>...</td>\n",
       "      <td>...</td>\n",
       "      <td>...</td>\n",
       "      <td>...</td>\n",
       "      <td>...</td>\n",
       "      <td>...</td>\n",
       "    </tr>\n",
       "    <tr>\n",
       "      <th>5004</th>\n",
       "      <td>1922.01.04</td>\n",
       "      <td>04-Jan-22</td>\n",
       "      <td>1922</td>\n",
       "      <td>Unprovoked</td>\n",
       "      <td>AUSTRALIA</td>\n",
       "      <td>New South Wales</td>\n",
       "      <td>Stockton Beach, Newcastle</td>\n",
       "      <td>Surfing</td>\n",
       "      <td>M</td>\n",
       "      <td>FATAL, disappeared, then his shark-bitten rema...</td>\n",
       "      <td>Y</td>\n",
       "    </tr>\n",
       "    <tr>\n",
       "      <th>5048</th>\n",
       "      <td>1918.03.22</td>\n",
       "      <td>22-Mar-18</td>\n",
       "      <td>1918</td>\n",
       "      <td>Unprovoked</td>\n",
       "      <td>AUSTRALIA</td>\n",
       "      <td>New South Wales</td>\n",
       "      <td>Newcastle</td>\n",
       "      <td>Surfing</td>\n",
       "      <td>M</td>\n",
       "      <td>Severe laceration to arm, necessitating surgic...</td>\n",
       "      <td>N</td>\n",
       "    </tr>\n",
       "    <tr>\n",
       "      <th>5808</th>\n",
       "      <td>1828.00.00</td>\n",
       "      <td>1828</td>\n",
       "      <td>1828</td>\n",
       "      <td>Unprovoked</td>\n",
       "      <td>USA</td>\n",
       "      <td>Hawaii</td>\n",
       "      <td>Uo, Lahaina, Maui</td>\n",
       "      <td>Surfing</td>\n",
       "      <td>M</td>\n",
       "      <td>FATAL</td>\n",
       "      <td>Y</td>\n",
       "    </tr>\n",
       "    <tr>\n",
       "      <th>5837</th>\n",
       "      <td>1779.00.00</td>\n",
       "      <td>1779</td>\n",
       "      <td>1779</td>\n",
       "      <td>Unprovoked</td>\n",
       "      <td>USA</td>\n",
       "      <td>Hawaii</td>\n",
       "      <td>Maliu, Hawai'i</td>\n",
       "      <td>Surfing</td>\n",
       "      <td>M</td>\n",
       "      <td>FATAL, buttock lacerated</td>\n",
       "      <td>Y</td>\n",
       "    </tr>\n",
       "    <tr>\n",
       "      <th>5891</th>\n",
       "      <td>ND-0122</td>\n",
       "      <td>Beforer 1994</td>\n",
       "      <td>0</td>\n",
       "      <td>Unprovoked</td>\n",
       "      <td>USA</td>\n",
       "      <td>Florida</td>\n",
       "      <td>Lost Tree Village, Palm Beach County</td>\n",
       "      <td>Surfing</td>\n",
       "      <td>M</td>\n",
       "      <td>Legs bitten</td>\n",
       "      <td>N</td>\n",
       "    </tr>\n",
       "  </tbody>\n",
       "</table>\n",
       "<p>904 rows × 11 columns</p>\n",
       "</div>"
      ],
      "text/plain": [
       "       Case Number          Date  Year        Type    Country  \\\n",
       "0     2016.09.18.c     18-Sep-16  2016  Unprovoked        USA   \n",
       "1     2016.09.18.b     18-Sep-16  2016  Unprovoked        USA   \n",
       "2     2016.09.18.a     18-Sep-16  2016  Unprovoked        USA   \n",
       "3       2016.09.17     17-Sep-16  2016  Unprovoked  AUSTRALIA   \n",
       "4       2016.09.15     16-Sep-16  2016  Unprovoked  AUSTRALIA   \n",
       "...            ...           ...   ...         ...        ...   \n",
       "5004    1922.01.04     04-Jan-22  1922  Unprovoked  AUSTRALIA   \n",
       "5048    1918.03.22     22-Mar-18  1918  Unprovoked  AUSTRALIA   \n",
       "5808    1828.00.00          1828  1828  Unprovoked        USA   \n",
       "5837    1779.00.00          1779  1779  Unprovoked        USA   \n",
       "5891       ND-0122  Beforer 1994     0  Unprovoked        USA   \n",
       "\n",
       "                 Area                              Location Activity Sex   \\\n",
       "0             Florida      New Smyrna Beach, Volusia County  Surfing    M   \n",
       "1             Florida      New Smyrna Beach, Volusia County  Surfing    M   \n",
       "2             Florida      New Smyrna Beach, Volusia County  Surfing    M   \n",
       "3            Victoria                      Thirteenth Beach  Surfing    M   \n",
       "4            Victoria                           Bells Beach  Surfing    M   \n",
       "...               ...                                   ...      ...  ...   \n",
       "5004  New South Wales             Stockton Beach, Newcastle  Surfing    M   \n",
       "5048  New South Wales                             Newcastle  Surfing    M   \n",
       "5808           Hawaii                     Uo, Lahaina, Maui  Surfing    M   \n",
       "5837           Hawaii                        Maliu, Hawai'i  Surfing    M   \n",
       "5891          Florida  Lost Tree Village, Palm Beach County  Surfing    M   \n",
       "\n",
       "                                                 Injury Fatal (Y/N)  \n",
       "0                                 Minor injury to thigh           N  \n",
       "1                                  Lacerations to hands           N  \n",
       "2                              Lacerations to lower leg           N  \n",
       "3                          Struck by fin on chest & leg           N  \n",
       "4                 No injury: Knocked off board by shark           N  \n",
       "...                                                 ...         ...  \n",
       "5004  FATAL, disappeared, then his shark-bitten rema...           Y  \n",
       "5048  Severe laceration to arm, necessitating surgic...           N  \n",
       "5808                                              FATAL           Y  \n",
       "5837                         FATAL, buttock lacerated             Y  \n",
       "5891                                        Legs bitten           N  \n",
       "\n",
       "[904 rows x 11 columns]"
      ]
     },
     "execution_count": 62,
     "metadata": {},
     "output_type": "execute_result"
    }
   ],
   "source": [
    "dataf_reduced"
   ]
  }
 ],
 "metadata": {
  "kernelspec": {
   "display_name": "Python 3 (ipykernel)",
   "language": "python",
   "name": "python3"
  },
  "language_info": {
   "codemirror_mode": {
    "name": "ipython",
    "version": 3
   },
   "file_extension": ".py",
   "mimetype": "text/x-python",
   "name": "python",
   "nbconvert_exporter": "python",
   "pygments_lexer": "ipython3",
   "version": "3.9.12"
  },
  "nbTranslate": {
   "displayLangs": [
    "*"
   ],
   "hotkey": "alt-t",
   "langInMainMenu": true,
   "sourceLang": "en",
   "targetLang": "fr",
   "useGoogleTranslate": true
  }
 },
 "nbformat": 4,
 "nbformat_minor": 5
}
