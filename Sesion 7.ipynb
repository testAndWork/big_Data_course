{
 "cells": [
  {
   "cell_type": "markdown",
   "id": "9c8c537c",
   "metadata": {},
   "source": [
    "# <span style=\"color:darkblue\">Módulo 1 - Introducción a la programación con Python </span>\n",
    "\n",
    "## <span style=\"color:darkblue\">Sesión 7 - Estructuras Repetitivas</span>\n",
    "\n",
    "### <span style=\"color:darkblue\">Duración estimada:\t3 horas</span>\n"
   ]
  },
  {
   "cell_type": "markdown",
   "id": "42a8be22",
   "metadata": {},
   "source": [
    "## <span style=\"color:darkblue\"> Tabla de contenidos:</span>\n",
    " \n",
    "    1- Bienvenida\n",
    "    \n",
    "    2- Asistencia\n",
    "    \n",
    "    3- Dudas de la Clase anterior\n",
    "    \n",
    "    4- Control de Lectura\n",
    "    \n",
    "    5- Objetivo\n",
    "    \n",
    "    6- Introducción\n",
    "    \n",
    "    7- Objetivo\t\n",
    "\n",
    "    8- El ciclo while\t\n",
    "\n",
    "    9- La declaración de ruptura - while\t\n",
    "\n",
    "    10- La declaración de continuación - while\t\n",
    "\n",
    "    11- La declaración else en un ciclo repetitivo\t\n",
    "\n",
    "    12- La declaración for\t\n",
    "\n",
    "    13- Bucle a través de una cadena\t\n",
    "\n",
    "    14- La declaración de ruptura – for\t\n",
    "\n",
    "    15- La declaración de continuación - for\t\n",
    "\n",
    "    16- La función range()\t\n",
    "\n",
    "    17- Else en el ciclo for\t\n",
    "\n",
    "    18- Bucles anidados\t\n",
    "\n",
    "    19- La declaración pass\t\n",
    "    \n",
    "    20- Retroalimentación\n",
    "    \n",
    "    21- Asistencia\n"
   ]
  },
  {
   "cell_type": "markdown",
   "id": "51ae1b4d",
   "metadata": {},
   "source": [
    "## <span style=\"color:darkred\">Objetivo:</span>\n",
    "\n",
    "Crear programas que automatizan tareas que deben repetirse múltiples veces, sin tener que escribir el mismo código repetidamente. \n",
    "\n",
    "Las estructuras repetitivas nos permiten crear programas que realizan tareas como iterar a través de una lista de elementos, contar y sumar valores, buscar y filtrar elementos, y realizar operaciones matemáticas complejas varias veces en una sola ejecución del programa.\n",
    "\n",
    "### <span style=\"color:darkred\">Recursos</span>\n",
    "\n",
    "•\tSesión 6 de Curso de Python\n",
    "\n",
    "•\tComputadora con Python instalado\n",
    "\n",
    "•\tVisual Studio Code instalado\n",
    "\n",
    "\n",
    "### <span style=\"color:darkred\">Introducción:</span>\n",
    "\n",
    "Python ofrece dos tipos principales de estructuras repetitivas: el bucle \"for\" y el bucle \"while\". \n",
    "\n",
    "El bucle \"for\" se utiliza para iterar a través de una secuencia de elementos (como una lista o una cadena de texto), mientras que el bucle \"while\" se utiliza para ejecutar una serie de instrucciones mientras una condición sea verdadera. \n",
    "\n",
    "Ambos bucles son herramientas esenciales para cualquier programador que desee escribir código eficiente y escalable en Python.\n",
    "\n",
    "Al comprender cómo funcionan las estructuras repetitivas en Python, los programadores pueden escribir programas más eficientes y realizar tareas complejas de manera más efectiva, lo que puede ser especialmente útil en áreas como la ciencia de datos, la ingeniería de software y la automatización de tareas.\n",
    "\n",
    "### <span style=\"color:darkred\">Aprendamos </span>\n",
    "\n",
    "Python tiene dos comandos de bucle primitivos:\n",
    "\n",
    "•\tBucle `while`\n",
    "\n",
    "•\tBucle `for`\n"
   ]
  },
  {
   "cell_type": "markdown",
   "id": "dae5ab9c",
   "metadata": {},
   "source": [
    "## <span style=\"color:darkred\">El ciclo while</span>\n",
    "\n",
    "Con el bucle while podemos ejecutar un conjunto de declaraciones siempre que una condición sea verdadera.\n",
    "\n",
    "Utilizamos la palabra reservada `while` para crear un bucle `while`.\n",
    "\n",
    "Se utiliza para ejecutar un bloque de instrucciones repetidamente hasta que se cumpla una determinada condición. \n",
    "\n",
    "Cuando la condición se vuelve falsa, las líneas de código después del bucle seguirán siendo ejecutadas.\n",
    "\n",
    "\n",
    "### syntax\n",
    "\n",
    "`while` condition:\n",
    "\n",
    "    code goes here\n",
    "\n"
   ]
  },
  {
   "cell_type": "code",
   "execution_count": 1,
   "id": "03b9422b",
   "metadata": {},
   "outputs": [
    {
     "name": "stdout",
     "output_type": "stream",
     "text": [
      "0\n",
      "1\n",
      "2\n",
      "3\n",
      "4\n"
     ]
    }
   ],
   "source": [
    "# variable bandera , esta indica hata donde termina el codigo\n",
    "\n",
    "flag = 0\n",
    "\n",
    "while flag < 5:\n",
    "    print(flag)\n",
    "    flag = flag +1"
   ]
  },
  {
   "cell_type": "code",
   "execution_count": 3,
   "id": "96f61dd4",
   "metadata": {},
   "outputs": [
    {
     "name": "stdout",
     "output_type": "stream",
     "text": [
      "0\n",
      "1\n",
      "2\n",
      "3\n",
      "4\n",
      "5\n"
     ]
    }
   ],
   "source": [
    "flag = 0\n",
    "while flag <= 5:\n",
    "    print(flag)\n",
    "    flag += 1"
   ]
  },
  {
   "cell_type": "markdown",
   "id": "76faa5e7",
   "metadata": {},
   "source": [
    "## <span style=\"color:darkred\">La declaración else en un ciclo repetitivo</span>\n",
    "\n",
    "Int, o entero, es un número entero, positivo o negativo, sin decimales, de longitud ilimitada.\n",
    "\n",
    "#### Ejemplos:"
   ]
  },
  {
   "cell_type": "markdown",
   "id": "21c3cfa1",
   "metadata": {},
   "source": [
    "En el bucle \"while\" anterior, la condición se vuelve falsa cuando el contador es 5. Es en ese momento cuando el bucle se detiene. \n",
    "\n",
    "Si estamos interesados en ejecutar un bloque de código una vez que la condición ya no sea verdadera, podemos usar \"else\"."
   ]
  },
  {
   "cell_type": "code",
   "execution_count": null,
   "id": "4c67e36d",
   "metadata": {},
   "outputs": [],
   "source": [
    "# syntax\n",
    "while condition:\n",
    "    code goes here\n",
    "else:\n",
    "    code goes here"
   ]
  },
  {
   "cell_type": "code",
   "execution_count": 4,
   "id": "a56c1884",
   "metadata": {},
   "outputs": [
    {
     "name": "stdout",
     "output_type": "stream",
     "text": [
      "0\n",
      "1\n",
      "2\n",
      "3\n",
      "4\n",
      "El valor de flag es:  5\n"
     ]
    }
   ],
   "source": [
    "flag = 0\n",
    "while flag < 5:\n",
    "    print(flag)\n",
    "    flag += 1\n",
    "\n",
    "else:\n",
    "    print('El valor de flag es: ', flag)"
   ]
  },
  {
   "cell_type": "code",
   "execution_count": 23,
   "id": "6e180b65",
   "metadata": {},
   "outputs": [
    {
     "name": "stdout",
     "output_type": "stream",
     "text": [
      "Digita tu numero para adivinar5\n",
      "Intentalo de nuevo\n",
      "Digita tu numero para adivinar9\n",
      "Intentalo de nuevo\n",
      "Digita tu numero para adivinar4\n",
      "Adivinastes, Muchas Felicidades\n"
     ]
    }
   ],
   "source": [
    "\"\"\"\n",
    "Implementar una solución la cual adivine un número\n",
    "definido por un usuario de 1 a 10.\n",
    "\"\"\"\n",
    "\n",
    "flag = 4\n",
    "\n",
    "estado = False\n",
    "\n",
    "while not estado:\n",
    "    numero = int(input('Digita tu numero para adivinar'))\n",
    "    \n",
    "    if numero == flag:\n",
    "        print('Adivinastes, Muchas Felicidades')\n",
    "        estado = True\n",
    "    else:\n",
    "        print('Intentalo de nuevo')\n",
    "        "
   ]
  },
  {
   "cell_type": "markdown",
   "id": "30c5e366",
   "metadata": {},
   "source": [
    "Calcular $$\\sum _{i=1} ^{n} i$$\n",
    "\n",
    "Calcule par los primeros 1000."
   ]
  },
  {
   "cell_type": "code",
   "execution_count": 11,
   "id": "f83158f8",
   "metadata": {},
   "outputs": [
    {
     "name": "stdout",
     "output_type": "stream",
     "text": [
      "La suma de los 5 numeros es : 15\n"
     ]
    }
   ],
   "source": [
    "n    = 5  # total de numeros a sumar\n",
    "i    = 1     # Inicio de la suma\n",
    "suma = 0     # Acumulador para la suma \n",
    "\n",
    "\n",
    "while i <= n:\n",
    "    suma += i\n",
    "    i    += 1\n",
    "\n",
    "print(f'La suma de los {n} numeros es : {suma}')\n"
   ]
  },
  {
   "cell_type": "markdown",
   "id": "ea4e83c4",
   "metadata": {},
   "source": [
    "#### Break and Continue:\n",
    "    Usamos \"break\" cuando queremos salir o detener el bucle.\n",
    "\n",
    "## <span style=\"color:darkred\">Break</span>"
   ]
  },
  {
   "cell_type": "code",
   "execution_count": 14,
   "id": "68db3b38",
   "metadata": {},
   "outputs": [
    {
     "name": "stdout",
     "output_type": "stream",
     "text": [
      "0\n",
      "1\n",
      "2\n",
      "3\n",
      "4\n",
      "valor de break  5\n",
      "terminar en 5\n"
     ]
    }
   ],
   "source": [
    "flag     = 0\n",
    "terminar = 5\n",
    "\n",
    "while flag < 100:\n",
    "    print(flag)\n",
    "    flag +=1\n",
    "    if flag == terminar:\n",
    "        print('valor de break ', flag)\n",
    "        break\n",
    "        \n",
    "print('terminar en', flag)"
   ]
  },
  {
   "cell_type": "markdown",
   "id": "8f75d988",
   "metadata": {},
   "source": [
    "## <span style=\"color:darkred\">Continue</span>"
   ]
  },
  {
   "cell_type": "markdown",
   "id": "c7f8e806",
   "metadata": {},
   "source": [
    "Continue: Con la declaración \"continue\" podemos saltar la iteración actual y continuar con la siguiente:"
   ]
  },
  {
   "cell_type": "code",
   "execution_count": 18,
   "id": "36444a5c",
   "metadata": {},
   "outputs": [
    {
     "name": "stdout",
     "output_type": "stream",
     "text": [
      "hola , saludos\n",
      "1\n",
      "hola , saludos\n",
      "2\n",
      "hola , saludos\n",
      "hola , saludos\n",
      "4\n",
      "hola , saludos\n",
      "5\n",
      "hola , saludos\n",
      "6\n"
     ]
    }
   ],
   "source": [
    "flag = 0\n",
    "\n",
    "while flag < 6:\n",
    "    print('hola , saludos')\n",
    "    flag += 1\n",
    "    if flag == 3:\n",
    "        continue\n",
    "    print(flag)\n",
    "    "
   ]
  },
  {
   "cell_type": "markdown",
   "id": "486505d4",
   "metadata": {},
   "source": [
    "## <span style=\"color:darkred\">La declaración de un ciclo for</span>\n",
    "\n",
    "Un bucle for se usa para iterar sobre una secuencia (es decir, una lista, una tupla, un diccionario, un conjunto o una cadena). \n",
    "\n",
    "Esto se parece menos a la palabra clave for en otros lenguajes de programación y funciona más como un método iterador como se encuentra en otros lenguajes de programación orientados a objetos.\n",
    "\n",
    "Con el bucle for podemos ejecutar un conjunto de sentencias, una vez por cada elemento de una lista, tupla, conjunto, etc.\n",
    "\n",
    "\n",
    "#### Ejemplos:"
   ]
  },
  {
   "cell_type": "code",
   "execution_count": 19,
   "id": "03d36ce1",
   "metadata": {},
   "outputs": [
    {
     "name": "stdout",
     "output_type": "stream",
     "text": [
      "piña\n",
      "melon\n",
      "sandia\n",
      "papaya\n",
      "jocote\n"
     ]
    }
   ],
   "source": [
    "frutas = [ 'piña', 'melon', 'sandia', 'papaya', 'jocote']\n",
    "\n",
    "for iterador in frutas:\n",
    "    print(iterador)"
   ]
  },
  {
   "cell_type": "code",
   "execution_count": 20,
   "id": "f07d021a",
   "metadata": {},
   "outputs": [
    {
     "name": "stdout",
     "output_type": "stream",
     "text": [
      "piña\n",
      "melon\n",
      "sandia\n",
      "papaya\n",
      "jocote\n"
     ]
    }
   ],
   "source": [
    "for fruta in frutas:\n",
    "    print(fruta)"
   ]
  },
  {
   "cell_type": "code",
   "execution_count": 21,
   "id": "4b914761",
   "metadata": {},
   "outputs": [
    {
     "name": "stdout",
     "output_type": "stream",
     "text": [
      "piña\n",
      "melon\n",
      "sandia\n",
      "papaya\n",
      "jocote\n"
     ]
    }
   ],
   "source": [
    "for i in frutas:\n",
    "    print(i)"
   ]
  },
  {
   "cell_type": "markdown",
   "id": "c0c7bd14",
   "metadata": {},
   "source": [
    "Nota: se profundizará sobre temáticas de listas en la guía de la “Sesión 7 - Colecciones de datos” \n",
    "El ciclo for no requiere una variable de indexación para establecer de antemano.\n"
   ]
  },
  {
   "cell_type": "markdown",
   "id": "7e218eff",
   "metadata": {},
   "source": [
    "## <span style=\"color:darkred\">Bucle a través de una cadena</span>\n",
    "\n",
    "Incluso las cadenas son objetos iterables, contienen una secuencia de caracteres:\n",
    "\n",
    "#### Ejemplos:"
   ]
  },
  {
   "cell_type": "code",
   "execution_count": 22,
   "id": "3363ca8f",
   "metadata": {},
   "outputs": [
    {
     "name": "stdout",
     "output_type": "stream",
     "text": [
      "E\n",
      "s\n",
      "t\n",
      "a\n",
      " \n",
      "e\n",
      "s\n",
      " \n",
      "u\n",
      "n\n",
      "a\n",
      " \n",
      "c\n",
      "a\n",
      "d\n",
      "e\n",
      "n\n",
      "a\n",
      " \n",
      "d\n",
      "e\n",
      " \n",
      "c\n",
      "a\n",
      "r\n",
      "a\n",
      "c\n",
      "t\n",
      "e\n",
      "r\n",
      "e\n",
      "s\n"
     ]
    }
   ],
   "source": [
    "cadena = 'Esta es una cadena de caracteres'\n",
    "\n",
    "for it in cadena:\n",
    "    print(it)"
   ]
  },
  {
   "cell_type": "code",
   "execution_count": 24,
   "id": "5f5279f4",
   "metadata": {},
   "outputs": [
    {
     "data": {
      "text/plain": [
       "'e'"
      ]
     },
     "execution_count": 24,
     "metadata": {},
     "output_type": "execute_result"
    }
   ],
   "source": [
    "cadena[5]"
   ]
  },
  {
   "cell_type": "markdown",
   "id": "a7064375",
   "metadata": {},
   "source": [
    "Este ejercicio repasa las letras de la palabra \"banana\" y en cada interacción se utilizará cada letra de la palabra. "
   ]
  },
  {
   "cell_type": "markdown",
   "id": "b163949a",
   "metadata": {},
   "source": [
    "## <span style=\"color:darkred\">Ciclo `for` sobre tuplas</span>\n",
    "\n",
    "#### Ejemplos:"
   ]
  },
  {
   "cell_type": "code",
   "execution_count": 27,
   "id": "4b9bfc70",
   "metadata": {},
   "outputs": [
    {
     "name": "stdout",
     "output_type": "stream",
     "text": [
      "1\n",
      "2\n",
      "3\n",
      "4\n"
     ]
    }
   ],
   "source": [
    "tupla = (1, 2, 3, 4)\n",
    "tupla[2]\n",
    "\n",
    "for elemento in tupla:\n",
    "    print(elemento)"
   ]
  },
  {
   "cell_type": "code",
   "execution_count": 28,
   "id": "e1ccdd51",
   "metadata": {},
   "outputs": [
    {
     "name": "stdout",
     "output_type": "stream",
     "text": [
      "a\n",
      "e\n",
      "i\n",
      "o\n",
      "u\n"
     ]
    }
   ],
   "source": [
    "vocales = ('a', 'e', 'i', 'o', 'u')\n",
    "\n",
    "for vocal in vocales:\n",
    "    print(vocal)"
   ]
  },
  {
   "cell_type": "markdown",
   "id": "efdda261",
   "metadata": {},
   "source": [
    "## <span style=\"color:darkred\">Ciclo `for` sobre diccionarios</span>\n",
    "\n",
    "#### Ejemplos:"
   ]
  },
  {
   "cell_type": "code",
   "execution_count": 33,
   "id": "11c69e12",
   "metadata": {},
   "outputs": [
    {
     "name": "stdout",
     "output_type": "stream",
     "text": [
      "Nombre\n",
      "APellido\n",
      "Edad\n",
      "CIudad\n",
      "\n",
      " EL campo es:  Nombre : Ash\n",
      "\n",
      " EL campo es:  APellido : KEtchum\n",
      "\n",
      " EL campo es:  Edad : 10\n",
      "\n",
      " EL campo es:  CIudad : Kanto\n"
     ]
    }
   ],
   "source": [
    "informacion = {\n",
    "    'Nombre': 'Ash',\n",
    "    'APellido':'KEtchum',\n",
    "    'Edad' : 10,\n",
    "    'CIudad': 'Kanto'\n",
    "}\n",
    "\n",
    "\n",
    "for info in informacion:\n",
    "    print(info)\n",
    "    \n",
    "for clave, valor in informacion.items():\n",
    "    print('\\n EL campo es: ',clave ,':' ,valor)\n"
   ]
  },
  {
   "cell_type": "markdown",
   "id": "92635156",
   "metadata": {},
   "source": [
    "## <span style=\"color:darkred\">La declaración de ruptura – for</span>\n",
    "\n",
    "Con la instrucción break podemos detener el bucle antes de que haya recorrido todos los elementos:\n",
    "\n",
    "#### Ejemplos:"
   ]
  },
  {
   "cell_type": "code",
   "execution_count": 34,
   "id": "09986291",
   "metadata": {},
   "outputs": [
    {
     "name": "stdout",
     "output_type": "stream",
     "text": [
      "piña\n",
      "melon\n",
      "sandia\n",
      "papaya\n"
     ]
    }
   ],
   "source": [
    "frutas = [ 'piña', 'melon', 'sandia', 'papaya', 'jocote']\n",
    "\n",
    "for iterador in frutas:\n",
    "    print(iterador)\n",
    "    if iterador == 'papaya':\n",
    "        break"
   ]
  },
  {
   "cell_type": "markdown",
   "id": "ab4a39a4",
   "metadata": {},
   "source": [
    "## <span style=\"color:darkred\">La declaración de continue - for</span>\n",
    "\n",
    "Con la instrucción continuar podemos detener la iteración actual del ciclo y continuar con la siguiente:\n",
    "\n",
    "#### Ejemplos:"
   ]
  },
  {
   "cell_type": "code",
   "execution_count": 35,
   "id": "019b4dc6",
   "metadata": {},
   "outputs": [
    {
     "name": "stdout",
     "output_type": "stream",
     "text": [
      "piña\n",
      "sandia\n",
      "papaya\n",
      "jocote\n"
     ]
    }
   ],
   "source": [
    "frutas = [ 'piña', 'melon', 'sandia', 'papaya', 'jocote']\n",
    "\n",
    "for iterador in frutas:\n",
    "    if iterador == 'melon':\n",
    "        continue\n",
    "    print(iterador)"
   ]
  },
  {
   "cell_type": "markdown",
   "id": "97e9ef28",
   "metadata": {},
   "source": [
    "Según el ejercicio anterior no imprimir plátano en el ciclo repetitivo. "
   ]
  },
  {
   "cell_type": "markdown",
   "id": "4b4c2865",
   "metadata": {},
   "source": [
    "## <span style=\"color:darkred\">La función rango()- `range()`</span>\n",
    "\n",
    "Para recorrer un conjunto de código un número específico de veces, podemos usar la función range().\n",
    "\n",
    "La función range() devuelve una secuencia de números, comenzando desde 0 de forma predeterminada, se incrementa en 1 (de forma predeterminada) y termina en un número específico.\n",
    "\n",
    "#### Ejemplos:"
   ]
  },
  {
   "cell_type": "code",
   "execution_count": 36,
   "id": "a62eaba6",
   "metadata": {},
   "outputs": [
    {
     "name": "stdout",
     "output_type": "stream",
     "text": [
      "0\n",
      "1\n",
      "2\n",
      "3\n",
      "4\n",
      "5\n"
     ]
    }
   ],
   "source": [
    "# imprimir una secuencia \n",
    "\n",
    "for it in range(6):\n",
    "    print(it)\n"
   ]
  },
  {
   "cell_type": "code",
   "execution_count": 37,
   "id": "d74d9bbe",
   "metadata": {},
   "outputs": [
    {
     "name": "stdout",
     "output_type": "stream",
     "text": [
      "0\n",
      "1\n",
      "2\n",
      "3\n",
      "4\n",
      "5\n",
      "6\n"
     ]
    }
   ],
   "source": [
    "for it in range(7):\n",
    "    print(it)"
   ]
  },
  {
   "cell_type": "markdown",
   "id": "3eaa5504",
   "metadata": {},
   "source": [
    "Tenga en cuenta que range(6) no son los valores de 0 a 6, sino los valores de 0 a 5.\n",
    "\n",
    "La función range() por defecto es 0 como valor inicial, sin embargo, es posible especificar el valor inicial agregando un parámetro: range(2, 6) , lo que significa valores del 2 al 6 (pero sin incluir el 6):\n"
   ]
  },
  {
   "cell_type": "markdown",
   "id": "52d4ec82",
   "metadata": {},
   "source": [
    "La función range() por defecto incrementa la secuencia en 1, sin embargo, es posible especificar el valor del incremento agregando un tercer parámetro: range(2, 30, 3 ) :"
   ]
  },
  {
   "cell_type": "code",
   "execution_count": 38,
   "id": "6c6a8371",
   "metadata": {},
   "outputs": [
    {
     "name": "stdout",
     "output_type": "stream",
     "text": [
      "2\n",
      "3\n",
      "4\n",
      "5\n",
      "6\n",
      "7\n"
     ]
    }
   ],
   "source": [
    "for it in range(2,8):\n",
    "    print(it)"
   ]
  },
  {
   "cell_type": "code",
   "execution_count": 39,
   "id": "c596d957",
   "metadata": {},
   "outputs": [
    {
     "name": "stdout",
     "output_type": "stream",
     "text": [
      "4\n",
      "9\n",
      "14\n",
      "19\n",
      "24\n",
      "29\n"
     ]
    }
   ],
   "source": [
    "for it in range(4, 30, 5):\n",
    "    print(it)"
   ]
  },
  {
   "cell_type": "code",
   "execution_count": 40,
   "id": "19007776",
   "metadata": {},
   "outputs": [
    {
     "name": "stdout",
     "output_type": "stream",
     "text": [
      "30\n",
      "25\n",
      "20\n",
      "15\n",
      "10\n",
      "5\n"
     ]
    }
   ],
   "source": [
    "for it in range(30,2 , -5):\n",
    "    print(it)"
   ]
  },
  {
   "cell_type": "code",
   "execution_count": 42,
   "id": "f28c1f3b",
   "metadata": {},
   "outputs": [
    {
     "data": {
      "text/plain": [
       "[0, 1, 2, 3, 4, 5, 6, 7, 8, 9, 10]"
      ]
     },
     "execution_count": 42,
     "metadata": {},
     "output_type": "execute_result"
    }
   ],
   "source": [
    "lista  = list(range(11))\n",
    "lista"
   ]
  },
  {
   "cell_type": "code",
   "execution_count": 43,
   "id": "d25847d2",
   "metadata": {},
   "outputs": [
    {
     "data": {
      "text/plain": [
       "[11, 31, 51, 71, 91]"
      ]
     },
     "execution_count": 43,
     "metadata": {},
     "output_type": "execute_result"
    }
   ],
   "source": [
    "lista  = list(range(11,100, 20)) #inicio, fin-1, incremento\n",
    "lista"
   ]
  },
  {
   "cell_type": "markdown",
   "id": "b624e0fc",
   "metadata": {},
   "source": [
    "## <span style=\"color:darkred\">Else en el ciclo for</span>\n",
    "\n",
    "La palabra else clave en un ciclo for especifica un bloque de código que se ejecutará cuando finalice el ciclo:\n",
    "\n",
    "#### Ejemplos:"
   ]
  },
  {
   "cell_type": "code",
   "execution_count": 44,
   "id": "f89878d5",
   "metadata": {},
   "outputs": [
    {
     "name": "stdout",
     "output_type": "stream",
     "text": [
      "0\n",
      "1\n",
      "2\n",
      "3\n",
      "4\n",
      "5\n",
      "finalizado ciclo for\n"
     ]
    }
   ],
   "source": [
    "for it in range(6):\n",
    "    print(it)\n",
    "else:\n",
    "    print('finalizado ciclo for')"
   ]
  },
  {
   "cell_type": "code",
   "execution_count": 46,
   "id": "d0ea3de7",
   "metadata": {},
   "outputs": [
    {
     "name": "stdout",
     "output_type": "stream",
     "text": [
      "4X1 = 4\n",
      "4X2 = 8\n",
      "4X3 = 12\n",
      "4X4 = 16\n",
      "4X5 = 20\n",
      "4X6 = 24\n",
      "4X7 = 28\n",
      "4X8 = 32\n",
      "4X9 = 36\n",
      "4X10 = 40\n"
     ]
    }
   ],
   "source": [
    "# hacer tablas de multiplicar\n",
    "\n",
    "numero = 4\n",
    "\n",
    "for it in range(1,11):\n",
    "    resultado = numero * it\n",
    "    print(f'{numero}X{it} = {resultado}')"
   ]
  },
  {
   "cell_type": "markdown",
   "id": "1a1e16f1",
   "metadata": {},
   "source": [
    "## <span style=\"color:darkred\">Bucles anidados</span>\n",
    "\n",
    "Un bucle anidado es un bucle dentro de un bucle.\n",
    "\n",
    "El \"bucle interno\" se ejecutará una vez por cada iteración del \"bucle externo\":\n",
    "\n",
    "\n",
    "#### Ejemplos:"
   ]
  },
  {
   "cell_type": "markdown",
   "id": "9ebe72b2",
   "metadata": {},
   "source": [
    "## <span style=\"color:darkred\">La declaración pass</span>\n",
    "\n",
    "Los bucles for no pueden estar vacíos, pero si por alguna razón tiene un bucle for sin contenido, ingrese la declaración pass para evitar recibir un error.cc\n",
    "\n",
    "#### Ejemplos:"
   ]
  },
  {
   "cell_type": "markdown",
   "id": "1ae4c22d",
   "metadata": {},
   "source": [
    "## Ejemplos Generales "
   ]
  },
  {
   "cell_type": "code",
   "execution_count": null,
   "id": "7d436889",
   "metadata": {},
   "outputs": [],
   "source": []
  },
  {
   "cell_type": "markdown",
   "id": "a4cb55e2",
   "metadata": {},
   "source": [
    "## <span style=\"color:darkorange\">APlicando conocimientos</span>\n",
    "\n",
    "\n",
    "1.\tUtiliza un ciclo while para pedir al usuario que ingrese números enteros hasta que ingrese un número negativo, y luego imprime la suma de los números ingresados. \n",
    "\n",
    "#### Ejemplos:"
   ]
  },
  {
   "cell_type": "markdown",
   "id": "a708a5e7",
   "metadata": {},
   "source": [
    "##### "
   ]
  }
 ],
 "metadata": {
  "kernelspec": {
   "display_name": "Python 3 (ipykernel)",
   "language": "python",
   "name": "python3"
  },
  "language_info": {
   "codemirror_mode": {
    "name": "ipython",
    "version": 3
   },
   "file_extension": ".py",
   "mimetype": "text/x-python",
   "name": "python",
   "nbconvert_exporter": "python",
   "pygments_lexer": "ipython3",
   "version": "3.9.12"
  }
 },
 "nbformat": 4,
 "nbformat_minor": 5
}
