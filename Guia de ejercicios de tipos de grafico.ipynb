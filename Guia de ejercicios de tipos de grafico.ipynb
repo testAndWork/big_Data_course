{
 "cells": [
  {
   "cell_type": "markdown",
   "id": "66036259",
   "metadata": {},
   "source": [
    "# Guía de Ejercicios de Tipos de gráficos\n",
    "\n",
    "### Indicaciones: \n",
    "Responder las preguntas en la Notebook"
   ]
  },
  {
   "cell_type": "markdown",
   "id": "96675074",
   "metadata": {},
   "source": [
    "###  Ejercicio 1: Gráfico de Barras\n",
    "\n",
    "### Descripción:\n",
    "Crea un gráfico de barras que muestre las ventas mensuales de una tienda durante un año."
   ]
  },
  {
   "cell_type": "code",
   "execution_count": null,
   "id": "e9023877",
   "metadata": {},
   "outputs": [],
   "source": [
    "import matplotlib.pyplot as plt\n",
    "\n",
    "meses = ['Ene', 'Feb', 'Mar', 'Abr', 'May', 'Jun', 'Jul', 'Ago', 'Sep', 'Oct', 'Nov', 'Dic']\n",
    "ventas = [12000, 14500, 13200, 15500, 16000, 17500, 18200, 16800, 15600, 14800, 13500, 12700]\n",
    "\n"
   ]
  },
  {
   "cell_type": "markdown",
   "id": "c8287908",
   "metadata": {},
   "source": [
    "### Preguntas:\n",
    "\n",
    "    ¿Qué muestra este gráfico de barras?\n",
    "    ¿Cuál fue el mes con las ventas más altas?\n",
    "    ¿Cómo cambiarías el color de las barras en el gráfico?"
   ]
  },
  {
   "cell_type": "markdown",
   "id": "235ddcec",
   "metadata": {},
   "source": [
    "### Ejercicio 2: Gráfico de Dispersión\n",
    "\n",
    "### Descripción: \n",
    "Crea un gráfico de dispersión que muestre la relación entre el tiempo dedicado al estudio y las calificaciones de un grupo de estudiantes."
   ]
  },
  {
   "cell_type": "code",
   "execution_count": null,
   "id": "2c55feea",
   "metadata": {},
   "outputs": [],
   "source": [
    "import matplotlib.pyplot as plt\n",
    "\n",
    "horas_estudio = [2, 3, 1, 4, 2.5, 3.5, 2.2, 4.2, 1.8, 3.8]\n",
    "calificaciones = [75, 85, 65, 90, 78, 88, 70, 92, 68, 87]\n",
    "\n",
    "plt.figure(figsize=(8, 6))\n",
    "\n",
    "# Su grafico va aca\n",
    "\n",
    "plt.xlabel('Horas de Estudio Semanales')\n",
    "plt.ylabel('Calificación Final')\n",
    "plt.title('Relación entre Horas de Estudio y Calificaciones')\n",
    "plt.grid(True)\n",
    "plt.show()"
   ]
  },
  {
   "cell_type": "markdown",
   "id": "cd5bb492",
   "metadata": {},
   "source": [
    "### Preguntas:\n",
    "\n",
    "    ¿Qué muestra este gráfico de dispersión?\n",
    "    ¿Existe una correlación entre las horas de estudio y las calificaciones?\n",
    "    ¿Qué significa un punto en este gráfico?"
   ]
  },
  {
   "cell_type": "markdown",
   "id": "3eb8e902",
   "metadata": {},
   "source": [
    "### Ejercicio 3: Gráfico de Líneas\n",
    "\n",
    "### Descripción: \n",
    "\n",
    "Crea un gráfico de líneas que muestre la tendencia de ventas mensuales a lo largo de tres años."
   ]
  },
  {
   "cell_type": "code",
   "execution_count": null,
   "id": "c098bdce",
   "metadata": {},
   "outputs": [],
   "source": [
    "import matplotlib.pyplot as plt\n",
    "\n",
    "años = [2019, 2020, 2021]\n",
    "ventas_anuales = [155000, 168000, 175500]\n",
    "\n",
    "plt.figure(figsize=(8, 6))\n",
    "# Su grafico va aca\n",
    "plt.title('Tendencia de Ventas Anuales (2019-2021)')\n",
    "plt.grid(True)\n",
    "plt.show()"
   ]
  },
  {
   "cell_type": "markdown",
   "id": "b2237eb4",
   "metadata": {},
   "source": [
    "### Preguntas:\n",
    "\n",
    "    ¿Qué muestra este gráfico de líneas?\n",
    "    ¿Cuál fue el año con las ventas más altas?\n",
    "    ¿Qué representan los marcadores en el gráfico?"
   ]
  },
  {
   "cell_type": "markdown",
   "id": "01433a9b",
   "metadata": {},
   "source": [
    "### Ejercicio 4: Histograma\n",
    "\n",
    "### Descripción: \n",
    "Crea un histograma que muestre la distribución de edades de un grupo de personas."
   ]
  },
  {
   "cell_type": "code",
   "execution_count": null,
   "id": "a7c993a8",
   "metadata": {},
   "outputs": [],
   "source": [
    "import matplotlib.pyplot as plt\n",
    "\n",
    "edades = [28, 32, 25, 35, 29, 30, 27, 31, 33, 28, 26, 34, 29, 30, 28, 32, 31, 36, 27, 30]\n",
    "\n",
    "plt.figure(figsize=(8, 6))\n",
    "# Su grafico va aca\n",
    "plt.title('Distribución de Edades')\n",
    "plt.grid(True)\n",
    "plt.show()\n"
   ]
  },
  {
   "cell_type": "markdown",
   "id": "bf75350f",
   "metadata": {},
   "source": [
    "### Preguntas:\n",
    "\n",
    "    ¿Qué muestra este histograma?\n",
    "    ¿Cuál es el rango de edades más común en el grupo?\n",
    "    ¿Por qué se utilizan bins en un histograma?"
   ]
  },
  {
   "cell_type": "markdown",
   "id": "508eb869",
   "metadata": {},
   "source": [
    "### Ejercicio 5: Gráfico Circular\n",
    "\n",
    "Descripción: Crea un gráfico circular que muestre la distribución de género en un conjunto de datos."
   ]
  },
  {
   "cell_type": "code",
   "execution_count": null,
   "id": "68e6f915",
   "metadata": {},
   "outputs": [],
   "source": [
    "import matplotlib.pyplot as plt\n",
    "\n",
    "genero = ['Masculino', 'Femenino', 'Masculino', 'Femenino', 'Masculino']\n",
    "conteo_genero = [3, 2, 4, 2, 3]\n",
    "\n",
    "plt.figure(figsize=(6, 6))\n",
    "# Su grafico va aca\n",
    "plt.axis('equal') \n",
    "plt.show()\n"
   ]
  },
  {
   "cell_type": "markdown",
   "id": "449ebf96",
   "metadata": {},
   "source": [
    "### Preguntas:\n",
    "\n",
    "    ¿Qué muestra este gráfico de torta?\n",
    "    ¿Cuál es la proporción de género más común en el conjunto de datos?\n",
    "    ¿Para qué se utiliza autopct en el"
   ]
  },
  {
   "cell_type": "markdown",
   "id": "2e3bd89e",
   "metadata": {},
   "source": [
    "### Ejercicio 6: Análisis de Correlación y Scatter Plot\n",
    "\n",
    "### Descripción: \n",
    "Tienes un conjunto de datos con las calificaciones de matemáticas y las calificaciones de ciencias de un grupo de estudiantes. Realiza un análisis de correlación entre estas dos variables y crea un gráfico de dispersión para visualizar la relación."
   ]
  },
  {
   "cell_type": "code",
   "execution_count": null,
   "id": "8e70c4ef",
   "metadata": {},
   "outputs": [],
   "source": [
    "import pandas as pd\n",
    "import matplotlib.pyplot as plt\n",
    "\n",
    "data = {'Matematicas': [85, 92, 78, 95, 88, 79, 91, 82, 87, 76],\n",
    "        'Ciencias': [70, 88, 65, 92, 78, 75, 89, 80, 85, 68]}\n",
    "\n",
    "df = pd.DataFrame(data)\n",
    "\n",
    "correlation = df['Matematicas'].corr(df['Ciencias'])\n",
    "\n",
    "plt.figure(figsize=(8, 6))\n",
    "\n",
    "plt.scatter(# Su grafico va aca)\n",
    "    \n",
    "plt.xlabel('Calificaciones de Matemáticas')\n",
    "plt.ylabel('Calificaciones de Ciencias')\n",
    "plt.title(f'Relación entre Matemáticas y Ciencias (Correlación: {correlation:.2f})')\n",
    "plt.grid(True)\n",
    "plt.show()\n"
   ]
  },
  {
   "cell_type": "markdown",
   "id": "98094414",
   "metadata": {},
   "source": [
    "### Preguntas:\n",
    "\n",
    "    ¿Qué muestra el gráfico de dispersión?\n",
    "    ¿Cuál es el valor de correlación entre las calificaciones de Matemáticas y Ciencias?\n",
    "    ¿Cómo interpretarías la relación entre estas dos variables?"
   ]
  },
  {
   "cell_type": "markdown",
   "id": "614b9689",
   "metadata": {},
   "source": [
    "### Ejercicio 7: Gráfico de Caja y Bigotes (Boxplot)\n",
    "\n",
    "### Descripción: \n",
    "Tienes datos de alturas de un grupo de personas. Crea un gráfico de caja y bigotes para visualizar la distribución de alturas y detectar valores atípicos."
   ]
  },
  {
   "cell_type": "code",
   "execution_count": null,
   "id": "0dbfa775",
   "metadata": {},
   "outputs": [],
   "source": [
    "import matplotlib.pyplot as plt\n",
    "import numpy as np\n",
    "\n",
    "np.random.seed(0)\n",
    "alturas = np.random.normal(170, 10, 100)\n",
    "\n",
    "plt.figure(figsize=(8, 6))\n",
    "plt.boxplot(alturas, vert=False)\n",
    "plt.xlabel('Altura (cm)')\n",
    "plt.title('Distribución de Alturas')\n",
    "plt.grid(True)\n",
    "plt.show()\n"
   ]
  },
  {
   "cell_type": "markdown",
   "id": "298570b5",
   "metadata": {},
   "source": [
    "### Preguntas:\n",
    "\n",
    "    ¿Qué muestra el gráfico de caja y bigotes?\n",
    "    ¿Cómo identificarías valores atípicos en el gráfico?\n",
    "    ¿Qué información proporciona la caja y los bigotes sobre la distribución de datos?"
   ]
  },
  {
   "cell_type": "markdown",
   "id": "31a3825e",
   "metadata": {},
   "source": [
    "### Ejercicio 8: Análisis de Series Temporales y Gráfico de Líneas\n",
    "\n",
    "### Descripción: \n",
    "Tienes datos de ventas mensuales de una tienda durante tres años. Realiza un análisis de series temporales y crea un gráfico de líneas para visualizar la tendencia de ventas a lo largo del tiempo."
   ]
  },
  {
   "cell_type": "code",
   "execution_count": null,
   "id": "68c277ff",
   "metadata": {},
   "outputs": [],
   "source": [
    "import pandas as pd\n",
    "import matplotlib.pyplot as plt\n",
    "\n",
    "data = {'Año': [2019, 2020, 2021],\n",
    "        'Ventas Anuales': [155000, 168000, 175500]}\n",
    "\n",
    "df = pd.DataFrame(data)\n",
    "\n",
    "plt.figure(figsize=(8, 6))\n",
    "plt.plot(df['Año'], df['Ventas Anuales'], marker='o', linestyle='-', color='green')\n",
    "plt.xlabel('Año')\n",
    "plt.ylabel('Ventas Anuales')\n",
    "plt.title('Tendencia de Ventas Anuales (2019-2021)')\n",
    "plt.grid(True)\n",
    "plt.show()\n"
   ]
  },
  {
   "cell_type": "markdown",
   "id": "4ddcc1d8",
   "metadata": {},
   "source": [
    "### Preguntas:\n",
    "\n",
    "    ¿Qué muestra el gráfico de líneas en términos de tendencia de ventas?\n",
    "    ¿Cuál fue el año con las ventas más altas?\n",
    "    ¿Cómo cambiarías el estilo del gráfico si fuera necesario?"
   ]
  },
  {
   "cell_type": "markdown",
   "id": "2085a933",
   "metadata": {},
   "source": [
    "### Ejercicio 9: Gráfico de Violín\n",
    "\n",
    "### Descripción: \n",
    "Tienes datos de puntajes en un examen para dos grupos de estudiantes (A y B). Crea un gráfico de violín para comparar las distribuciones de puntajes entre los dos grupos."
   ]
  },
  {
   "cell_type": "code",
   "execution_count": null,
   "id": "f80e43d7",
   "metadata": {},
   "outputs": [],
   "source": [
    "import seaborn as sns\n",
    "import matplotlib.pyplot as plt\n",
    "\n",
    "data = {'Grupo': ['A'] * 50 + ['B'] * 50,\n",
    "        'Puntaje': [75, 82, 88, 92, 78, 90, 85, 68, 87, 91, 77, 84, 79, 70, 88, 95, 82, 88, 89, 80,\n",
    "                    85, 86, 72, 81, 93, 76, 88, 85, 79, 83, 72, 89, 87, 94, 75, 86, 81, 77, 80, 92, 69,\n",
    "                    75, 82, 88, 92, 78, 90, 85, 68, 87, 91]}\n",
    "\n",
    "df = pd.DataFrame(data)\n",
    "\n",
    "plt.figure(figsize=(8, 6))\n",
    "sns.violinplot(x='Grupo', y='Puntaje', data=df, palette='Set2')\n",
    "plt.xlabel('Grupo')\n",
    "plt.ylabel('Puntaje en el Examen')\n",
    "plt.title('Distribución de Puntajes por Grupo')\n",
    "plt.grid(True)\n",
    "plt.show()\n"
   ]
  },
  {
   "cell_type": "markdown",
   "id": "bd82ad6f",
   "metadata": {},
   "source": [
    "### Preguntas:\n",
    "\n",
    "    ¿Qué muestra el gráfico de violín?\n",
    "    ¿Cómo se comparan las distribuciones de puntajes entre los grupos A y B?\n",
    "    ¿Qué conclusiones puedes sacar sobre los puntajes de los dos grupos?"
   ]
  },
  {
   "cell_type": "markdown",
   "id": "6b7374d8",
   "metadata": {},
   "source": [
    "### Ejercicio 10: Gráfico de Mapa de Calor\n",
    "\n",
    "### Descripción: \n",
    "Tienes una matriz de correlación que muestra la correlación entre diferentes variables. Crea un gráfico de mapa de calor para visualizar esta matriz de correlación."
   ]
  },
  {
   "cell_type": "code",
   "execution_count": null,
   "id": "8c2770b8",
   "metadata": {},
   "outputs": [],
   "source": [
    "import pandas as pd\n",
    "import seaborn as sns\n",
    "import matplotlib.pyplot as plt\n",
    "\n",
    "data = {'Variable1': [1.0, 0.8, 0.2, 0.5],\n",
    "        'Variable2': [0.8, 1.0, 0.6, 0.4],\n",
    "        'Variable3': [0.2, 0.6, 1.0, 0.9],\n",
    "        'Variable4': [0.5, 0.4, 0.9, 1.0]}\n",
    "\n",
    "df = pd.DataFrame(data)\n",
    "\n",
    "plt.figure(figsize=(8, 6))\n",
    "sns.heatmap(df, annot=True, cmap='coolwarm', linewidths=0.5)\n",
    "plt.title('Mapa de Calor de Correlación')\n",
    "plt.show()\n"
   ]
  },
  {
   "cell_type": "markdown",
   "id": "27113343",
   "metadata": {},
   "source": [
    "### Preguntas:\n",
    "\n",
    "    ¿Qué muestra el mapa de calor?\n",
    "    ¿Cómo interpretarías la intensidad de colores en el mapa?\n",
    "    ¿Qué significa una correlación cercana a 1 o -1 en este contexto?"
   ]
  },
  {
   "cell_type": "code",
   "execution_count": null,
   "id": "08ec6dad",
   "metadata": {},
   "outputs": [],
   "source": []
  }
 ],
 "metadata": {
  "kernelspec": {
   "display_name": "Python 3 (ipykernel)",
   "language": "python",
   "name": "python3"
  },
  "language_info": {
   "codemirror_mode": {
    "name": "ipython",
    "version": 3
   },
   "file_extension": ".py",
   "mimetype": "text/x-python",
   "name": "python",
   "nbconvert_exporter": "python",
   "pygments_lexer": "ipython3",
   "version": "3.9.12"
  },
  "nbTranslate": {
   "displayLangs": [
    "*"
   ],
   "hotkey": "alt-t",
   "langInMainMenu": true,
   "sourceLang": "en",
   "targetLang": "fr",
   "useGoogleTranslate": true
  }
 },
 "nbformat": 4,
 "nbformat_minor": 5
}
