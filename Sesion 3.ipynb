{
 "cells": [
  {
   "cell_type": "markdown",
   "id": "9c8c537c",
   "metadata": {},
   "source": [
    "\n",
    "\n",
    "# <span style=\"color:darkblue\">Módulo 1 - Introducción a la programación con Python </span>\n",
    "\n",
    "## <span style=\"color:darkblue\">Sesión:\tSesión 3 - Tipos de Variables</span>\n",
    "\n",
    "### <span style=\"color:darkblue\">Duración estimada:\t3 horas</span>\n",
    "\n"
   ]
  },
  {
   "cell_type": "markdown",
   "id": "42a8be22",
   "metadata": {},
   "source": [
    "## <span style=\"color:darkblue\"> Tabla de contenidos:</span>\n",
    " \n",
    "    1- Bienvenida\n",
    "    \n",
    "    2- Asistencia\n",
    "    \n",
    "    3- Dudas de la Clase anterior\n",
    "    \n",
    "    4- Control de Lectura\n",
    "    \n",
    "    5- Objetivo\n",
    "    \n",
    "    6- Introducción\n",
    "    \n",
    "    7- Números de Python\n",
    "    \n",
    "    8- Int o numeros enteros\n",
    "    \n",
    "    9- Float o Números Flotantes\n",
    "    \n",
    "    10- Números Complejo \n",
    "    \n",
    "    12- Conversión de tipo\n",
    "    \n",
    "    13- Cadenas de Texto\n",
    "    \n",
    "    14- Caracteres de escape\n",
    "    \n",
    "    15- Retroalimentación\n",
    "    \n",
    "    16- Asistencia\n"
   ]
  },
  {
   "cell_type": "markdown",
   "id": "51ae1b4d",
   "metadata": {},
   "source": [
    "## Objetivo:\n",
    "\n",
    "Conocer los tipos de variables en programación es esencial porque permite comprender cómo se almacenan y manejan los datos en el programa y cómo se utilizan en las operaciones. \n",
    "\n",
    "Los tipos de variables también determinan qué operaciones se pueden realizar con ellas y cómo se comportan en diferentes situaciones \n",
    "\n",
    "### Recursos\n",
    "\n",
    "•\tSesión 3 de Curso de Python\n",
    "\n",
    "•\tAcceso a internet\n",
    "\n",
    "•\tPython Instalado en computadora\n",
    "\n",
    "•\tVisual Studio Code\n",
    "\n",
    "### Introducción:\n",
    "\n",
    "La programación es un proceso en el que se manipulan datos, se toman decisiones y se realizan operaciones para lograr un objetivo específico. \n",
    "\n",
    "Una parte fundamental de la programación es el manejo de variables, que son lugares en la memoria del equipo donde se almacenan los datos necesarios para el programa. \n",
    "\n",
    "Es importante conocer los tipos de variables que se pueden utilizar en un lenguaje de programación, ya que estos tipos determinan cómo se almacenan y manejan los datos, y cómo se utilizan en las operaciones. \n",
    "\n",
    "En este sentido, entender los tipos de variables es fundamental para la correcta escritura de código y para la resolución de problemas de programación de manera efectiva. \n",
    "\n",
    "En esta guía se explicará en detalle qué son los tipos de variables, sus características y cómo se utilizan en diferentes situaciones.\n",
    "\n",
    "### Aprendamos \n",
    "\n",
    "En programación, el tipo de datos es un concepto importante. Las variables pueden almacenar datos de diferentes tipos, y diferentes tipos pueden hacer cosas diferentes. \n",
    "\n",
    "Python tiene los siguientes tipos de datos integrados de forma predeterminada, en estas categorías:\n",
    "\n",
    "<table> <tr> <td>Tipo de texto:</td> <td>str</td> </tr> <tr> <td>Tipos numéricos:</td> <td>int, float, complex</td> </tr> <tr> <td>Tipos de secuencia:</td> <td>list, tuple, range</td> </tr> <tr> <td>Tipo de mapeo:</td> <td>dict</td> </tr> <tr> <td>Establecer tipos:</td> <td>set,frozenset</td> </tr> <tr> <td>Tipo booleano:</td> <td>bool</td> </tr> <tr> <td>Tipos binarios:</td> <td>bytes, bytearray, memoryview</td> </tr> <tr> <td>Tipo None:</td> <td>NoneType</td> </tr> </table>\n"
   ]
  },
  {
   "cell_type": "markdown",
   "id": "6bc551e5",
   "metadata": {},
   "source": [
    "## Repaso (8 min): Crear una Jupyter Notebook : nombreApellidoSesion3\n",
    "\n",
    "1. Escribe un programa que tome el nombre de un usuario como entrada y luego lo imprima en un mensaje de bienvenida utilizando la función print(). El mensaje debe ser del siguiente formato: \"¡Hola, [nombre]! Bienvenido a nuestro programa.\"\n",
    "\n",
    "\n",
    "2. Escribe un programa que calcule el área de un triángulo a partir de su base y altura. Luego, imprime el resultado con dos decimales utilizando la función print() y la variable de formateo. \n",
    "\n",
    "\n",
    "3. Escribe un programa que solicite al usuario su nombre, edad y ciudad de residencia. Luego, imprime un mensaje que incluya esta información en un formato amigable. Utiliza la función print() y las variables de formateo.\n",
    "\n",
    "Elaborar dos tipos de impresiones diferentes de cada uno.\n"
   ]
  },
  {
   "cell_type": "code",
   "execution_count": 5,
   "id": "85efe109",
   "metadata": {},
   "outputs": [
    {
     "name": "stdout",
     "output_type": "stream",
     "text": [
      "¡Hola,john Doe! Bienvenido a nuestro programa.\n",
      "¡Hola, john Doe ! Bienvenido a nuestro programa.\n",
      "¡Hola,john Doe! Bienvenido a nuestro programa.\n",
      "¡Hola,john Doe! Bienvenido AAAA a nuestro BBB programa.\n"
     ]
    }
   ],
   "source": [
    "\"\"\"\n",
    "1.  Escribe un programa que tome el nombre de un usuario como entrada \n",
    " y luego lo imprima en un mensaje de bienvenida utilizando la \n",
    "función print(). El mensaje debe ser del siguiente formato: \n",
    "     \"¡Hola, [nombre]! Bienvenido a nuestro programa.\" \n",
    "    \"\"\"\n",
    "\n",
    "nombreUsuario = 'john Doe'\n",
    "\n",
    "print(f\"¡Hola,{nombreUsuario}! Bienvenido a nuestro programa.\")\n",
    "\n",
    "print(\"¡Hola,\",nombreUsuario,\"! Bienvenido a nuestro programa.\")\n",
    "\n",
    "print(\"¡Hola,%s! Bienvenido a nuestro programa.\"%(nombreUsuario))\n",
    "\n",
    "\n",
    "\"\"\"\n",
    "%s imprime un cadena s-> string \n",
    "%d imprime un numero entero d->entero\n",
    "%f imprime un flotante\n",
    "\n",
    "\"\"\"\n",
    "nombrePrueba = 'AAAA'\n",
    "nombreTercero = 'BBB'\n",
    "print(\"¡Hola,%s! Bienvenido %s a nuestro %s programa.\"%(nombreUsuario,nombrePrueba,nombreTercero))\n",
    "\n"
   ]
  },
  {
   "cell_type": "code",
   "execution_count": 3,
   "id": "5368501e",
   "metadata": {},
   "outputs": [
    {
     "name": "stdout",
     "output_type": "stream",
     "text": [
      "El área del triángulo es: 17.50\n"
     ]
    }
   ],
   "source": [
    "\"\"\"2. Escribe un programa que calcule el área de un triángulo \n",
    "   a partir de su base y altura. Luego, imprime el resultado \n",
    "   con dos decimales utilizando la función print() y la variable\n",
    "   de formateo.\"\"\"\n",
    "\n",
    "base   = 5\n",
    "altura = 7\n",
    "\n",
    "areaTriangulo = base*altura/2\n",
    "\n",
    "print('El área del triángulo es: %.2f'%(areaTriangulo))"
   ]
  },
  {
   "cell_type": "code",
   "execution_count": 16,
   "id": "18e49306",
   "metadata": {},
   "outputs": [
    {
     "name": "stdout",
     "output_type": "stream",
     "text": [
      "El Area de tu triangulo es: 17.5\n"
     ]
    }
   ],
   "source": [
    "Base = 5\n",
    "Altura = 7\n",
    "print(\"El Area de tu triangulo es:\", (Base * Altura) / 2)"
   ]
  },
  {
   "cell_type": "code",
   "execution_count": 17,
   "id": "62a2b167",
   "metadata": {},
   "outputs": [
    {
     "name": "stdout",
     "output_type": "stream",
     "text": [
      "#---#Calculando el area de un triangulo#----#\n",
      "Ingrese la base del triangulo:5\n",
      "Ingrese la altura del triangulo: 7\n",
      "La base del triangulo es: 17.5\n",
      "La base del triangulo es: 17.5 \n"
     ]
    }
   ],
   "source": [
    "print(\"#---#Calculando el area de un triangulo#----#\")\n",
    "base = float(input(\"Ingrese la base del triangulo:\"))\n",
    "altura = float(input(\"Ingrese la altura del triangulo: \"))\n",
    "\n",
    "resultado = ((base*altura)/2)\n",
    "\n",
    "print(f\"La base del triangulo es: {round(resultado,2)}\")\n",
    "print(\"La base del triangulo es:\", round(resultado, 2), \"\")"
   ]
  },
  {
   "cell_type": "code",
   "execution_count": 19,
   "id": "431b7c23",
   "metadata": {},
   "outputs": [
    {
     "name": "stdout",
     "output_type": "stream",
     "text": [
      "Henry Jefte Franco, 28,San Soyapango\n"
     ]
    }
   ],
   "source": [
    "\"\"\"#3. Escribe un programa que solicite al usuario su nombre, edad \n",
    "     y ciudad de residencia. Luego, imprime un mensaje que incluya \n",
    "     esta información en un formato amigable. Utiliza la función \n",
    "     print() y las variables de formateo.\"\"\"\n",
    "\n",
    "nombreUsuario    = 'Henry Jefte Franco'\n",
    "edadUsuario      = '28'\n",
    "ciudadResidencia = 'San Soyapango'\n",
    "\n",
    "print(f'{nombreUsuario}, {edadUsuario},{ciudadResidencia}')"
   ]
  },
  {
   "cell_type": "markdown",
   "id": "dae5ab9c",
   "metadata": {},
   "source": [
    "#### <span style=\"color:darkred\">Configuración del tipo de datos</span>\n",
    "\n",
    "En Python, el tipo de datos se establece cuando asigna un valor a una variable podemos ver ejemplos de cada tipo en la siguiente tabla:\n",
    "\n",
    "<table>\n",
    "<tr>\n",
    "<td>Ejemplo</td>\n",
    "<td>Tipo de dato</td>\n",
    "</tr>\n",
    "\n",
    "<tr>\n",
    "<td>x = \"Hello World\"</td> \n",
    "<td>str</td>\n",
    "</tr>\n",
    "\n",
    "<tr>\n",
    "<td>x = 20</td>\n",
    "<td>int</td>  \n",
    "</tr>\n",
    "\n",
    "<tr>  \n",
    "<td>x = 20.5</td>\n",
    "<td>float</td>\n",
    "</tr>\n",
    "\n",
    "<tr>\n",
    "<td>x = 1j</td> \n",
    "<td>complex</td>\n",
    "</tr>\n",
    "\n",
    "<tr>\n",
    "<td>x = [\"apple\", \"banana\", \"cherry\"]</td>\n",
    "<td>list</td>\n",
    "</tr>\n",
    "\n",
    "<tr>\n",
    "<td>x = (\"apple\", \"banana\", \"cherry\")</td>\n",
    "<td>tuple</td>\n",
    "</tr>\n",
    "\n",
    "<tr>\n",
    "<td>x = range(6)</td>\n",
    "<td>range</td>\n",
    "</tr>\n",
    "\n",
    "<tr>  \n",
    "<td>x = {\"name\" : \"John\", \"age\" : 36}</td>\n",
    "<td>dict</td>\n",
    "</tr>\n",
    "\n",
    "<tr>\n",
    "<td>x = {\"apple\", \"banana\", \"cherry\"}</td>\n",
    "<td>set</td> \n",
    "</tr>\n",
    "\n",
    "<tr>\n",
    "<td>x = True</td>\n",
    "<td>bool</td>\n",
    "</tr>\n",
    "\n",
    "<tr>\n",
    "<td>x = bytearray(5)</td>\n",
    "<td>bytearray</td>\n",
    "</tr>\n",
    "\n",
    "<tr>  \n",
    "<td>x = memoryview(bytes(5))</td>\n",
    "<td>memoryview</td>\n",
    "</tr>\n",
    "\n",
    "<tr>\n",
    "<td>x = None</td>\n",
    "<td>NoneType</td>\n",
    "</tr>\n",
    "\n",
    "</table>\n"
   ]
  },
  {
   "cell_type": "markdown",
   "id": "cdb77bce",
   "metadata": {},
   "source": [
    "\n",
    "\n",
    "### Obtener el tipo de datos\n",
    "\n",
    "Como vimos en la sesión anterior podemos conocer el tipo de dato de una variable con la función `type()` como en el ejercicio de a continuación: \n",
    "\n",
    "#### Imprime el tipo de datos de la variable x:"
   ]
  },
  {
   "cell_type": "code",
   "execution_count": 6,
   "id": "37b5810f",
   "metadata": {},
   "outputs": [
    {
     "name": "stdout",
     "output_type": "stream",
     "text": [
      "<class 'int'>\n"
     ]
    }
   ],
   "source": [
    "x = 5\n",
    "\n",
    "print(type(x))"
   ]
  },
  {
   "cell_type": "code",
   "execution_count": 8,
   "id": "9a9bb725",
   "metadata": {},
   "outputs": [
    {
     "name": "stdout",
     "output_type": "stream",
     "text": [
      "<class 'str'>\n"
     ]
    }
   ],
   "source": [
    "x = 'Hola '\n",
    "\n",
    "print(type(x))"
   ]
  },
  {
   "cell_type": "markdown",
   "id": "a50ce0e9",
   "metadata": {},
   "source": [
    "### <span style=\"color:darkred\">Tipos de datos en Python</span>\n",
    "\n",
    "#### <span style=\"color:darkred\">Números de Python</span>\n",
    "\n",
    "Hay tres tipos numéricos en Python:\n",
    "\n",
    "•\tint\n",
    "\n",
    "•\tfloat\n",
    "\n",
    "•\tcomplex\n",
    "\n",
    "Las variables de tipo numérico se crean cuando les asignas un valor:\n",
    "\n",
    "\n"
   ]
  },
  {
   "cell_type": "code",
   "execution_count": 9,
   "id": "5be830b4",
   "metadata": {},
   "outputs": [
    {
     "data": {
      "text/plain": [
       "(int, float, complex)"
      ]
     },
     "execution_count": 9,
     "metadata": {},
     "output_type": "execute_result"
    }
   ],
   "source": [
    "x = 1     # int \n",
    "\n",
    "y = 4.345 # float\n",
    "\n",
    "z = 3j    # complex\n",
    "\n",
    "type(x), type(y), type(z)  "
   ]
  },
  {
   "cell_type": "markdown",
   "id": "059c60d3",
   "metadata": {},
   "source": [
    "Para verificar el tipo de cualquier objeto en Python, use la función `type()`:"
   ]
  },
  {
   "cell_type": "markdown",
   "id": "76faa5e7",
   "metadata": {},
   "source": [
    "#### <span style=\"color:darkred\">Int o numeros enteros</span>\n",
    "\n",
    "Int, o entero, es un número entero, positivo o negativo, sin decimales, de longitud ilimitada.\n",
    "\n",
    "#### Ejemplos:"
   ]
  },
  {
   "cell_type": "code",
   "execution_count": 13,
   "id": "f004ccd4",
   "metadata": {},
   "outputs": [
    {
     "data": {
      "text/plain": [
       "(int, int, int, int)"
      ]
     },
     "execution_count": 13,
     "metadata": {},
     "output_type": "execute_result"
    }
   ],
   "source": [
    "int1 = 1347863\n",
    "int2 = -325347456\n",
    "int3 = 1\n",
    "int4 = 0\n",
    "\n",
    "type(int1), type(int2), type(int3), type(int4)"
   ]
  },
  {
   "cell_type": "markdown",
   "id": "9408d34f",
   "metadata": {},
   "source": [
    "#### <span style=\"color:darkred\">Float o Números Flotantes</span>\n",
    "\n",
    "Flotante, o \"número de punto flotante\" es un número, positivo o negativo, que contiene uno o más decimales.\n",
    "\n",
    "#### Ejemplos:"
   ]
  },
  {
   "cell_type": "code",
   "execution_count": 12,
   "id": "ef5df615",
   "metadata": {},
   "outputs": [
    {
     "data": {
      "text/plain": [
       "(float, float, float)"
      ]
     },
     "execution_count": 12,
     "metadata": {},
     "output_type": "execute_result"
    }
   ],
   "source": [
    "flt1 = 0.0\n",
    "\n",
    "flt2 = 1.0\n",
    "\n",
    "flt = 3.12546532\n",
    "\n",
    "type(flt1),type(flt2), type(flt)"
   ]
  },
  {
   "cell_type": "markdown",
   "id": "5aa8f8f6",
   "metadata": {},
   "source": [
    "_Note que el cero lo clasifica como un entero_\n",
    "\n",
    "El tipo flotante también puede ser un **número científico con una \"e\" para indicar la potencia de 10.**"
   ]
  },
  {
   "cell_type": "code",
   "execution_count": 17,
   "id": "d963c148",
   "metadata": {},
   "outputs": [
    {
     "name": "stdout",
     "output_type": "stream",
     "text": [
      "35000.0 100.0 1200.0\n",
      "<class 'float'> <class 'float'> <class 'float'>\n",
      "<class 'int'>\n"
     ]
    }
   ],
   "source": [
    "x = 35E3\n",
    "\n",
    "y = 1e2\n",
    "\n",
    "z = 1.2e3\n",
    "\n",
    "print(x, y, z)\n",
    "print(type(x), type(y), type(z))\n",
    "\n",
    "print(type(35*10**3))"
   ]
  },
  {
   "cell_type": "markdown",
   "id": "2bc4d310",
   "metadata": {},
   "source": [
    "#### <span style=\"color:darkred\">Números Complejo</span>\n",
    "\n",
    "Flotante, o \"número de punto flotante\" es un número, positivo o negativo, que contiene uno o más decimales.\n",
    "\n",
    "$$ complex = a+ bj$$\n",
    "#### Ejemplos:"
   ]
  },
  {
   "cell_type": "code",
   "execution_count": 19,
   "id": "bb225710",
   "metadata": {},
   "outputs": [
    {
     "data": {
      "text/plain": [
       "(complex, complex, complex)"
      ]
     },
     "execution_count": 19,
     "metadata": {},
     "output_type": "execute_result"
    }
   ],
   "source": [
    "x = 2 + 5j\n",
    "y = -5j\n",
    "z = -3 +0j\n",
    "\n",
    "type(x), type(y), type(z)  "
   ]
  },
  {
   "cell_type": "markdown",
   "id": "29ed0f2f",
   "metadata": {},
   "source": [
    "### Práctica en Clase (4 min)"
   ]
  },
  {
   "cell_type": "code",
   "execution_count": 33,
   "id": "002f12ba",
   "metadata": {},
   "outputs": [
    {
     "name": "stdout",
     "output_type": "stream",
     "text": [
      "<class 'int'>\n",
      "<class 'float'>\n",
      "<class 'complex'>\n",
      "<class 'str'>\n",
      "<class 'list'>\n",
      "<class 'dict'>\n",
      "<class 'set'>\n",
      "<class 'tuple'>\n"
     ]
    }
   ],
   "source": [
    "\"\"\"\n",
    "Test para saber los tipos de datos\n",
    "\"\"\"\n",
    "# Checking data types\n",
    "print(type(3)) # int\n",
    "print(type(3.14)) # float\n",
    "print(type(1 + 8j)) # complex\n",
    "print(type(\"Hello World!\")) # str\n",
    "print(type([1, 2, 3])) # list\n",
    "print(type({1: \"one\", 2: \"two\", 3: \"three\"})) # dictionary\n",
    "print(type({1, 2, 3})) # set\n",
    "print(type((1, 2, 3))) # tuple"
   ]
  },
  {
   "cell_type": "code",
   "execution_count": 20,
   "id": "bb2040f1",
   "metadata": {},
   "outputs": [
    {
     "name": "stdout",
     "output_type": "stream",
     "text": [
      "1230123012301230123012301230123012301230123012301230123012301230123012301230123012301230123012301230123012301230123012301230123012301230\n"
     ]
    }
   ],
   "source": [
    "valor = '1230'\n",
    "hora  = 34\n",
    "\n",
    "sueldo = valor*hora \n",
    "\n",
    "print(sueldo)"
   ]
  },
  {
   "cell_type": "code",
   "execution_count": 23,
   "id": "3cd9634a",
   "metadata": {},
   "outputs": [
    {
     "name": "stdout",
     "output_type": "stream",
     "text": [
      "El sueldo es $ 41820\n"
     ]
    }
   ],
   "source": [
    "valor = 1230\n",
    "hora  = 34\n",
    "\n",
    "sueldo = valor*hora \n",
    "\n",
    "print('El sueldo es : $',sueldo)"
   ]
  },
  {
   "cell_type": "code",
   "execution_count": 26,
   "id": "0d440a49",
   "metadata": {},
   "outputs": [
    {
     "name": "stdout",
     "output_type": "stream",
     "text": [
      "Valor del iterador it: 1\n",
      "Valor del total_contador: 1\n",
      "Valor del iterador it: 2\n",
      "Valor del total_contador: 3\n",
      "Valor del iterador it: 3\n",
      "Valor del total_contador: 6\n",
      "Valor del iterador it: 4\n",
      "Valor del total_contador: 10\n",
      "Valor del iterador it: 5\n",
      "Valor del total_contador: 15\n",
      "Valor del iterador it: 6\n",
      "Valor del total_contador: 21\n",
      "Valor del iterador it: 7\n",
      "Valor del total_contador: 28\n"
     ]
    }
   ],
   "source": [
    "# int -> par contador de un bucle\n",
    "\n",
    "total_contador = 0\n",
    "\n",
    "# ranga(incio  <  fin)\n",
    "\n",
    "for it in range(1,8):\n",
    "    total_contador = total_contador +it\n",
    "    print(f'Valor del iterador it: {it}')\n",
    "    print(f'Valor del total_contador: {total_contador}')"
   ]
  },
  {
   "cell_type": "code",
   "execution_count": 28,
   "id": "c67a8a78",
   "metadata": {},
   "outputs": [
    {
     "name": "stdout",
     "output_type": "stream",
     "text": [
      "El promedio es : 5.74\n"
     ]
    }
   ],
   "source": [
    "# float en un tipo lista\n",
    "# Calcular un promedio de notas de un estudiante \n",
    "\n",
    "notas = [ 7.0 , 6.5, 7.3, 6.9, 1.0]\n",
    "\n",
    "promedio = sum(notas)/len(notas)\n",
    "\n",
    "print('El promedio es : %.2f'%(promedio) )"
   ]
  },
  {
   "cell_type": "code",
   "execution_count": 30,
   "id": "e5783c47",
   "metadata": {},
   "outputs": [
    {
     "name": "stdout",
     "output_type": "stream",
     "text": [
      "El usuario no existe\n"
     ]
    }
   ],
   "source": [
    "# bool -> validar un campo\n",
    "\n",
    "usuarioRegistrado = False\n",
    "\n",
    "if usuarioRegistrado:\n",
    "    print('Bienvenido al Curso de Big Data')\n",
    "else:\n",
    "    print('El usuario no existe')"
   ]
  },
  {
   "cell_type": "code",
   "execution_count": 32,
   "id": "09cd413d",
   "metadata": {},
   "outputs": [
    {
     "data": {
      "text/plain": [
       "dict"
      ]
     },
     "execution_count": 32,
     "metadata": {},
     "output_type": "execute_result"
    }
   ],
   "source": [
    "# dict -> Clave : Valor\n",
    "#         Nombre : Telefono\n",
    "\n",
    "dict_contactos = {\n",
    "    'Juan': 7566443,\n",
    "    'Javier': 4765443  \n",
    "}\n",
    "\n",
    "type(dict_contactos)"
   ]
  },
  {
   "cell_type": "markdown",
   "id": "e71757ad",
   "metadata": {},
   "source": [
    "#### <span style=\"color:darkred\">Conversión de tipo</span>\n",
    "\n",
    "Puede convertir de un tipo a otro con los métodos `int()`, `float()` y `complex()`:\n",
    "\n",
    "#### Ejemplos:"
   ]
  },
  {
   "cell_type": "code",
   "execution_count": 34,
   "id": "4ccfd818",
   "metadata": {},
   "outputs": [
    {
     "name": "stdout",
     "output_type": "stream",
     "text": [
      "<class 'float'> <class 'int'> <class 'complex'>\n"
     ]
    }
   ],
   "source": [
    "x, y, z = 1.28, 5, 4j\n",
    "\n",
    "print(type(x), type(y), type(z))"
   ]
  },
  {
   "cell_type": "code",
   "execution_count": 36,
   "id": "ac0ffc8c",
   "metadata": {},
   "outputs": [
    {
     "data": {
      "text/plain": [
       "5.0"
      ]
     },
     "execution_count": 36,
     "metadata": {},
     "output_type": "execute_result"
    }
   ],
   "source": [
    "int2float = float(y)\n",
    "int2float"
   ]
  },
  {
   "cell_type": "code",
   "execution_count": 38,
   "id": "13981284",
   "metadata": {},
   "outputs": [
    {
     "data": {
      "text/plain": [
       "(1.28+0j)"
      ]
     },
     "execution_count": 38,
     "metadata": {},
     "output_type": "execute_result"
    }
   ],
   "source": [
    "float2complex = complex(x)\n",
    "float2complex"
   ]
  },
  {
   "cell_type": "code",
   "execution_count": 41,
   "id": "96194c0e",
   "metadata": {},
   "outputs": [
    {
     "ename": "TypeError",
     "evalue": "can't convert complex to float",
     "output_type": "error",
     "traceback": [
      "\u001b[0;31m---------------------------------------------------------------------------\u001b[0m",
      "\u001b[0;31mTypeError\u001b[0m                                 Traceback (most recent call last)",
      "Input \u001b[0;32mIn [41]\u001b[0m, in \u001b[0;36m<cell line: 1>\u001b[0;34m()\u001b[0m\n\u001b[0;32m----> 1\u001b[0m complex2float \u001b[38;5;241m=\u001b[39m \u001b[38;5;28;43mfloat\u001b[39;49m\u001b[43m(\u001b[49m\u001b[38;5;241;43m2\u001b[39;49m\u001b[43m \u001b[49m\u001b[38;5;241;43m+\u001b[39;49m\u001b[43m \u001b[49m\u001b[38;5;241;43m3\u001b[39;49m\u001b[43mj\u001b[49m\u001b[43m)\u001b[49m\n\u001b[1;32m      2\u001b[0m complex2float\n",
      "\u001b[0;31mTypeError\u001b[0m: can't convert complex to float"
     ]
    }
   ],
   "source": [
    "complex2float = float(2 + 3j)\n",
    "complex2float"
   ]
  },
  {
   "cell_type": "markdown",
   "id": "2792d010",
   "metadata": {},
   "source": [
    "#### <span style=\"color:darkred\">Conversión de tipo</span>\n",
    "\n",
    "Puede haber ocasiones en las que desee especificar un tipo en una variable.\n",
    "\n",
    "Python es un lenguaje orientado a objetos y, como tal, utiliza clases para definir tipos de datos, incluidos sus tipos primitivos.\n",
    "\n",
    "Por lo tanto, la conversión en python se realiza mediante funciones de constructor:\n",
    "\n",
    "•\t`int()`: construye un número entero a partir de un literal entero, un literal flotante (eliminando todos los decimales) o un literal de cadena (siempre que la cadena represente un número entero)\n",
    "\n",
    "•\t`float()`: construye un número flotante a partir de un literal entero, un literal flotante o un literal de cadena (siempre que la cadena represente un flotante o un entero)\n",
    "\n",
    "•\t`str()`: construye una cadena a partir de una amplia variedad de tipos de datos, incluidas cadenas, literales enteros y literales flotantes\n",
    "\n",
    "Convertir un tipo de datos es muy necesario cuando se está capturando información por parte del usuario, muchas veces se utiliza la función `input()` para poder capturar información que en su momento al se utilizada será de tipo Sting, si requerimos que estos valores cambien a enteros o flotantes es necesario realizar la conversión como a continuación: \n"
   ]
  },
  {
   "cell_type": "code",
   "execution_count": 44,
   "id": "6f918add",
   "metadata": {},
   "outputs": [
    {
     "name": "stdout",
     "output_type": "stream",
     "text": [
      "Digite la edad: 34\n",
      "<class 'str'>\n",
      "<class 'int'>\n"
     ]
    }
   ],
   "source": [
    "edad_usuario = input('Digite la edad: ')\n",
    "\n",
    "print(type(edad_usuario))\n",
    "\n",
    "edad_usuario = int(edad_usuario)\n",
    "\n",
    "print(type(edad_usuario))"
   ]
  },
  {
   "cell_type": "code",
   "execution_count": 45,
   "id": "4ead73d2",
   "metadata": {},
   "outputs": [
    {
     "name": "stdout",
     "output_type": "stream",
     "text": [
      "Digite la edad: 45\n",
      "<class 'int'>\n"
     ]
    }
   ],
   "source": [
    "edad_usuario = int(input('Digite la edad: '))\n",
    "\n",
    "print(type(edad_usuario))"
   ]
  },
  {
   "cell_type": "code",
   "execution_count": 48,
   "id": "ac93b637",
   "metadata": {},
   "outputs": [
    {
     "data": {
      "text/plain": [
       "int"
      ]
     },
     "execution_count": 48,
     "metadata": {},
     "output_type": "execute_result"
    }
   ],
   "source": [
    "# str -> int\n",
    "\n",
    "cadena = '30'\n",
    "\n",
    "cadena_int = int(cadena)\n",
    "type(cadena_int)"
   ]
  },
  {
   "cell_type": "code",
   "execution_count": 50,
   "id": "58409655",
   "metadata": {},
   "outputs": [
    {
     "data": {
      "text/plain": [
       "float"
      ]
     },
     "execution_count": 50,
     "metadata": {},
     "output_type": "execute_result"
    }
   ],
   "source": [
    "# str -> float\n",
    "\n",
    "cadena = '30.687'\n",
    "\n",
    "cadena_int = float(cadena)\n",
    "type(cadena_int)"
   ]
  },
  {
   "cell_type": "code",
   "execution_count": 52,
   "id": "649b306b",
   "metadata": {},
   "outputs": [
    {
     "name": "stdout",
     "output_type": "stream",
     "text": [
      "<class 'int'>\n",
      "<class 'str'>\n",
      "50\n"
     ]
    }
   ],
   "source": [
    "# int -> cadena\n",
    "\n",
    "entero = 50\n",
    "\n",
    "print(type(entero))\n",
    "\n",
    "cadena_int = str(entero)\n",
    "\n",
    "print(type(cadena_int))\n",
    "print(cadena_int)"
   ]
  },
  {
   "cell_type": "code",
   "execution_count": 56,
   "id": "ffdca723",
   "metadata": {},
   "outputs": [
    {
     "name": "stdout",
     "output_type": "stream",
     "text": [
      "[1, 3, 2, 4, 5]\n"
     ]
    },
    {
     "data": {
      "text/plain": [
       "(str, '[1, 3, 2, 4, 5]')"
      ]
     },
     "execution_count": 56,
     "metadata": {},
     "output_type": "execute_result"
    }
   ],
   "source": [
    "# list - > str\n",
    "\n",
    "lista = [1, 3, 2, 4, 5]\n",
    "\n",
    "cadena_lst = str(lista)\n",
    "\n",
    "print(cadena_lst)\n",
    "type(cadena_lst), cadena_lst"
   ]
  },
  {
   "cell_type": "code",
   "execution_count": 57,
   "id": "d465bf61",
   "metadata": {},
   "outputs": [
    {
     "name": "stdout",
     "output_type": "stream",
     "text": [
      "<class 'list'>\n"
     ]
    }
   ],
   "source": [
    "# str -> list\n",
    "\n",
    "cadena = '[1, 3, 2, 4, 5]'\n",
    "\n",
    "lista = eval(cadena)\n",
    "\n",
    "print(type(lista))"
   ]
  },
  {
   "cell_type": "markdown",
   "id": "adac37db",
   "metadata": {},
   "source": [
    "#### <span style=\"color:darkred\">Cadenas de Texto</span>\n",
    "\n",
    "Las cadenas en python están entre comillas simples o comillas dobles.\n",
    "\n",
    "    \"hola\" es lo mismo que 'hola' .\n",
    "\n",
    "Puede mostrar un literal de cadena con la función `print()`:\n"
   ]
  },
  {
   "cell_type": "code",
   "execution_count": 60,
   "id": "c2afa125",
   "metadata": {},
   "outputs": [
    {
     "name": "stdout",
     "output_type": "stream",
     "text": [
      "Hola, mundo!\n",
      "Hola, mundo!\n"
     ]
    }
   ],
   "source": [
    "print('Hola, mundo!')\n",
    "print(\"Hola, mundo!\")"
   ]
  },
  {
   "cell_type": "markdown",
   "id": "832fb1da",
   "metadata": {},
   "source": [
    "#### <span style=\"color:darkblue\">Asignar cadena a una variable</span>\n",
    "\n",
    "La asignación de una cadena a una variable se realiza con el nombre de la variable seguido de un signo igual y la cadena:"
   ]
  },
  {
   "cell_type": "code",
   "execution_count": 61,
   "id": "5a669d18",
   "metadata": {},
   "outputs": [
    {
     "name": "stdout",
     "output_type": "stream",
     "text": [
      "Hola, MUndo Hello, WOrld\n"
     ]
    }
   ],
   "source": [
    "a = 'Hola, MUndo'\n",
    "b = 'Hello, WOrld'\n",
    "\n",
    "print(a,b)"
   ]
  },
  {
   "cell_type": "markdown",
   "id": "5a95528e",
   "metadata": {},
   "source": [
    "#### <span style=\"color:darkblue\">Cadenas multilinea</span>\n",
    "\n",
    "Puede asignar una cadena de varias líneas a una variable usando tres comillas:"
   ]
  },
  {
   "cell_type": "code",
   "execution_count": 63,
   "id": "b47c08d5",
   "metadata": {},
   "outputs": [
    {
     "name": "stdout",
     "output_type": "stream",
     "text": [
      " Puede devolver un rango de \n",
      "caracteres utilizando la sintaxis de división, \n",
      "especifique el índice inicial y el índice final, \n",
      "separados \n",
      "por dos puntos, para devolver una parte de la cadena.\n",
      "\n",
      "            \n"
     ]
    }
   ],
   "source": [
    "str_multiline = \"\"\" Puede devolver un rango de \n",
    "caracteres utilizando la sintaxis de división, \n",
    "especifique el índice inicial y el índice final, \n",
    "separados \n",
    "por dos puntos, para devolver una parte de la cadena.\n",
    "\n",
    "            \"\"\"\n",
    "\n",
    "print(str_multiline)"
   ]
  },
  {
   "cell_type": "markdown",
   "id": "e708f603",
   "metadata": {},
   "source": [
    "#### <span style=\"color:darkblue\">Cortar cadenas</span>\n",
    "\n",
    "Puede devolver un rango de caracteres utilizando la sintaxis de división, especifique el índice inicial y el índice final, separados por dos puntos, para devolver una parte de la cadena.\n",
    "\n",
    "<span style=\"color:darkred\">Tomando en cuenta que la numeración de Python inician en **cero**.</span>"
   ]
  },
  {
   "cell_type": "code",
   "execution_count": 66,
   "id": "01c9d40f",
   "metadata": {},
   "outputs": [
    {
     "name": "stdout",
     "output_type": "stream",
     "text": [
      "13 24\n",
      "la,  \n",
      "aremos est\n",
      "Hola,  mun\n",
      "den\n"
     ]
    }
   ],
   "source": [
    "a = 'Hola,  mundo!'\n",
    "b = 'Cortaremos estas cadenas'\n",
    "\n",
    "print(len(a), len(b))\n",
    "\n",
    "print(a[2:7])\n",
    "print(b[4:14])\n",
    "\n",
    "print(a[0:10])\n",
    "print(b[19:22])\n"
   ]
  },
  {
   "cell_type": "markdown",
   "id": "a6c36b5d",
   "metadata": {},
   "source": [
    "#### <span style=\"color:darkblue\">Cortar desde el principio</span>\n",
    "\n",
    "Al omitir el índice de inicio, el rango comenzará en el primer carácter:"
   ]
  },
  {
   "cell_type": "code",
   "execution_count": 67,
   "id": "be0d924b",
   "metadata": {},
   "outputs": [
    {
     "data": {
      "text/plain": [
       "'Hola,  mu'"
      ]
     },
     "execution_count": 67,
     "metadata": {},
     "output_type": "execute_result"
    }
   ],
   "source": [
    "a[:9]"
   ]
  },
  {
   "cell_type": "markdown",
   "id": "7f83203a",
   "metadata": {},
   "source": [
    "#### <span style=\"color:darkblue\">Cortar hasta el final</span>\n",
    "\n",
    "Al omitir el índice final, el rango irá hasta el final:"
   ]
  },
  {
   "cell_type": "code",
   "execution_count": 68,
   "id": "cf38b621",
   "metadata": {},
   "outputs": [
    {
     "data": {
      "text/plain": [
       "'remos estas cadenas'"
      ]
     },
     "execution_count": 68,
     "metadata": {},
     "output_type": "execute_result"
    }
   ],
   "source": [
    "b[5:]"
   ]
  },
  {
   "cell_type": "markdown",
   "id": "e174d446",
   "metadata": {},
   "source": [
    "#### <span style=\"color:darkblue\">Indexación negativa</span>\n",
    "\n",
    "Utilice índices negativos para iniciar el segmento desde el final de la cadena:"
   ]
  },
  {
   "cell_type": "code",
   "execution_count": 69,
   "id": "216683dd",
   "metadata": {},
   "outputs": [
    {
     "name": "stdout",
     "output_type": "stream",
     "text": [
      "Hola,  mundo! Cortaremos estas cadenas\n",
      "und\n",
      " estas cadena\n"
     ]
    }
   ],
   "source": [
    "print(a,b)\n",
    "\n",
    "print(a[-5:-2])\n",
    "print(b[-14:-1])\n"
   ]
  },
  {
   "cell_type": "code",
   "execution_count": 71,
   "id": "b5d63e38",
   "metadata": {},
   "outputs": [
    {
     "data": {
      "text/plain": [
       "'aremo'"
      ]
     },
     "execution_count": 71,
     "metadata": {},
     "output_type": "execute_result"
    }
   ],
   "source": [
    "subcadena = b[4:9]\n",
    "subcadena"
   ]
  },
  {
   "cell_type": "code",
   "execution_count": 75,
   "id": "57c2208a",
   "metadata": {},
   "outputs": [
    {
     "name": "stdout",
     "output_type": "stream",
     "text": [
      "[1, 2, 3, 4, 5, 6, 7, 8, 9]\n",
      "1\n",
      "9\n",
      "7\n",
      "4\n",
      "2\n"
     ]
    }
   ],
   "source": [
    "lista = list(range(1,10))\n",
    "print(lista)\n",
    "\n",
    "print(lista[0])\n",
    "print(lista[-1])\n",
    "print(lista[6])\n",
    "print(lista[-6])\n",
    "print(lista[-8])"
   ]
  },
  {
   "cell_type": "markdown",
   "id": "065d6c15",
   "metadata": {},
   "source": [
    "### Ejercicios:\n",
    "<span style=\"color:darkgreen\">\n",
    "    \n",
    "1. Asigna la cadena \"Bienvenido a Python\" a una variable llamada mensaje y luego imprímela.\n",
    "\n",
    "2. Crea una cadena multilinea que represente un poema y asigna la cadena a una variable llamada poema. Luego, imprime el contenido de la variable.\n",
    "\n",
    "3. Dada la cadena \"Programación en Python\", asigna la subcadena \"Python\" a una variable llamada lenguaje utilizando el corte adecuado. Luego, imprime el contenido de la variable.\n",
    "\n",
    "4. Asigna la cadena \"abcdefghij\" a una variable llamada cadena. Luego, crea una nueva cadena que contenga solo los caracteres \"cdef\" utilizando el corte adecuado y asígnala a la variable subcadena. Finalmente, imprime el contenido de la variable subcadena.\n",
    "\n",
    "5. Dada la cadena \"Python es genial\", utiliza el corte adecuado para asignar la subcadena \"es genial\" a una variable llamada parte. Imprime el contenido de la variable.\n",
    "</span>\n",
    "\n",
    "    6. Asigna la cadena \"ABCDEFGHI\" a una variable llamada letras. Luego, crea una nueva cadena que contenga solo los últimos tres caracteres \"GHI\" utilizando la indexación negativa y asígnala a la variable ultimas_letras. Imprime el contenido de la variable.\n",
    "\n",
    "    7. Asigna la cadena \"Esto es un ejemplo de indexación negativa\" a una variable llamada texto. Utiliza la indexación negativa para asignar la subcadena \"negativa\" a una variable llamada subcadena. Imprime el contenido de la variable.\n",
    "\n",
    "    8. Asigna la cadena \"abcdefghij\" a una variable llamada cadena. Utiliza el corte adecuado y la indexación negativa para asignar la subcadena \"efgh\" a una variable llamada subcadena. Imprime el contenido de la variable."
   ]
  },
  {
   "cell_type": "markdown",
   "id": "d242ac26",
   "metadata": {},
   "source": [
    "###   <span style=\"color:darkred\">Funciones de Cadenas</span>\n",
    "\n",
    "Python tiene un conjunto de métodos integrados que puede usar en cadenas.\n",
    "\n",
    "#### <span style=\"color:darkblue\">Convertir todo a Mayúsculas</span>\n",
    "\n",
    "El método `upper()` devuelve la cadena en mayúsculas:"
   ]
  },
  {
   "cell_type": "code",
   "execution_count": 77,
   "id": "e6115fb7",
   "metadata": {},
   "outputs": [
    {
     "name": "stdout",
     "output_type": "stream",
     "text": [
      "HOLA, MUNDO: ESTA ES UNA PRUEBA\n"
     ]
    }
   ],
   "source": [
    "a = 'Hola, MUndo: esta es una prueba'\n",
    "print(a.upper())"
   ]
  },
  {
   "cell_type": "markdown",
   "id": "5a9020c0",
   "metadata": {},
   "source": [
    "#### <span style=\"color:darkblue\">Convertir todo a Minúsculas</span>\n",
    "\n",
    "El método `lower()` devuelve la cadena en minúsculas:"
   ]
  },
  {
   "cell_type": "code",
   "execution_count": 78,
   "id": "18645b91",
   "metadata": {},
   "outputs": [
    {
     "name": "stdout",
     "output_type": "stream",
     "text": [
      "hola, mundo: esta es una prueba\n"
     ]
    }
   ],
   "source": [
    "print(a.lower())"
   ]
  },
  {
   "cell_type": "markdown",
   "id": "80a1c5f3",
   "metadata": {},
   "source": [
    "#### <span style=\"color:darkblue\">Eliminar espacios en blanco</span>\n",
    "\n",
    "El espacio en blanco es el espacio antes y/o después del texto real, y muy a menudo desea eliminar este espacio.\n",
    "\n",
    "El método `strip()` elimina cualquier espacio en blanco desde el principio o el final:\n"
   ]
  },
  {
   "cell_type": "code",
   "execution_count": 80,
   "id": "0d48e0d3",
   "metadata": {},
   "outputs": [
    {
     "name": "stdout",
     "output_type": "stream",
     "text": [
      "   Hola, MUndo: esta es una prueba    Hola, MUndo: esta es una prueba\n"
     ]
    }
   ],
   "source": [
    "a = '   Hola, Mundo: esta es una prueba   '\n",
    "print(a, a.strip())"
   ]
  },
  {
   "cell_type": "markdown",
   "id": "fefee5e6",
   "metadata": {},
   "source": [
    "#### <span style=\"color:darkblue\">Reemplazar cadena</span>\n",
    "\n",
    "El método `replace()` reemplaza una cadena con otra cadena:"
   ]
  },
  {
   "cell_type": "code",
   "execution_count": 84,
   "id": "dfca14b6",
   "metadata": {},
   "outputs": [
    {
     "name": "stdout",
     "output_type": "stream",
     "text": [
      "Hola, Mundo: esta es una prueba, Jan Miguel\n",
      "Hola, Mundo: eXta eX una prueba, San Miguel\n",
      "Hola, Mundo: no es una prueba, San Miguel\n"
     ]
    }
   ],
   "source": [
    "a = 'Hola, Mundo: esta es una prueba, San Miguel'\n",
    "\n",
    "print(a.replace('S','J'))\n",
    "print(a.replace('s','X'))\n",
    "print(a.replace('esta','no'))"
   ]
  },
  {
   "cell_type": "markdown",
   "id": "1d98f19a",
   "metadata": {},
   "source": [
    "#### <span style=\"color:darkblue\">Cadena dividida</span>\n",
    "\n",
    "El método `split()` devuelve una lista donde el texto entre el separador especificado se convierte en los elementos de la lista. \n",
    "\n",
    "El `split( )` método divide la cadena en subcadenas si encuentra instancias del separador:"
   ]
  },
  {
   "cell_type": "code",
   "execution_count": 86,
   "id": "01dc66c5",
   "metadata": {},
   "outputs": [
    {
     "name": "stdout",
     "output_type": "stream",
     "text": [
      "['abc', 'efghijklmnopqrstuvwxyz']\n",
      "['abcdefghijkl', 'nopqrstuvwxyz']\n",
      "['abcdefghijklmnopqrstuvw', 'yz']\n"
     ]
    }
   ],
   "source": [
    "abecedario = 'abcdefghijklmnopqrstuvwxyz'\n",
    "\n",
    "print(abecedario.split('d'))\n",
    "print(abecedario.split('m'))\n",
    "print(abecedario.split('x'))"
   ]
  },
  {
   "cell_type": "markdown",
   "id": "32f0c20e",
   "metadata": {},
   "source": [
    "#### <span style=\"color:darkblue\">Concatenación de cadenas</span>\n",
    "\n",
    "Para concatenar o combinar dos cadenas, puede usar el **operador +**.\n"
   ]
  },
  {
   "cell_type": "code",
   "execution_count": 88,
   "id": "0c30b6a6",
   "metadata": {},
   "outputs": [
    {
     "name": "stdout",
     "output_type": "stream",
     "text": [
      "Hola, Mundo: esta es una prueba, San MiguelCortaremos estas cadenas\n",
      "Hola, Mundo: esta es una prueba, San Miguel Cortaremos estas cadenas\n"
     ]
    }
   ],
   "source": [
    "print(a + b)\n",
    "print(a + ' ' + b)"
   ]
  },
  {
   "cell_type": "markdown",
   "id": "51fc215e",
   "metadata": {},
   "source": [
    "Para agregar un espacio entre ellos, agregue un \" \":"
   ]
  },
  {
   "cell_type": "markdown",
   "id": "09a887b7",
   "metadata": {},
   "source": [
    "#### <span style=\"color:darkblue\">Formato de cadena</span>\n",
    "Como aprendimos en el capítulo Variables de Python, no podemos combinar cadenas y números como este:"
   ]
  },
  {
   "cell_type": "code",
   "execution_count": 89,
   "id": "f20cffd1",
   "metadata": {},
   "outputs": [
    {
     "ename": "TypeError",
     "evalue": "can only concatenate str (not \"int\") to str",
     "output_type": "error",
     "traceback": [
      "\u001b[0;31m---------------------------------------------------------------------------\u001b[0m",
      "\u001b[0;31mTypeError\u001b[0m                                 Traceback (most recent call last)",
      "Input \u001b[0;32mIn [89]\u001b[0m, in \u001b[0;36m<cell line: 2>\u001b[0;34m()\u001b[0m\n\u001b[1;32m      1\u001b[0m edad \u001b[38;5;241m=\u001b[39m \u001b[38;5;241m34\u001b[39m\n\u001b[0;32m----> 2\u001b[0m cadena \u001b[38;5;241m=\u001b[39m \u001b[38;5;124;43m'\u001b[39;49m\u001b[38;5;124;43mMi nombre es Blu , y tengo\u001b[39;49m\u001b[38;5;124;43m'\u001b[39;49m\u001b[43m \u001b[49m\u001b[38;5;241;43m+\u001b[39;49m\u001b[43m \u001b[49m\u001b[43medad\u001b[49m\n",
      "\u001b[0;31mTypeError\u001b[0m: can only concatenate str (not \"int\") to str"
     ]
    }
   ],
   "source": [
    "edad = 34\n",
    "cadena = 'Mi nombre es Blu , y tengo' + edad"
   ]
  },
  {
   "cell_type": "markdown",
   "id": "a43307da",
   "metadata": {},
   "source": [
    "No podemos concatenar un texto con un número debido a que Python no sabrá si lo que queremos es sumar o concatenar las variables por ello es necesario realizar un formato específico para ello.\n",
    "\n",
    "El método `format()` toma los argumentos pasados, les da formato y los coloca en la cadena donde están los marcadores de posición: {}\n"
   ]
  },
  {
   "cell_type": "code",
   "execution_count": 90,
   "id": "3394050a",
   "metadata": {},
   "outputs": [
    {
     "name": "stdout",
     "output_type": "stream",
     "text": [
      "Mi nombre es Blu , y tengo 34\n"
     ]
    }
   ],
   "source": [
    "edad = 34\n",
    "cadena = 'Mi nombre es Blu , y tengo {}'\n",
    "print(cadena.format(edad))"
   ]
  },
  {
   "cell_type": "markdown",
   "id": "dc836b62",
   "metadata": {},
   "source": [
    "El método `format()` toma un número ilimitado de argumentos y se colocan en los marcadores de posición respectivos:"
   ]
  },
  {
   "cell_type": "code",
   "execution_count": 93,
   "id": "86d8a5e4",
   "metadata": {},
   "outputs": [
    {
     "data": {
      "text/plain": [
       "'Fui a La Venta y compre 3 articulos, a un precio de  1.4 y en total gaste 4.20'"
      ]
     },
     "execution_count": 93,
     "metadata": {},
     "output_type": "execute_result"
    }
   ],
   "source": [
    "superMercado      = 'La Venta'\n",
    "cantidadArticulos = 3\n",
    "precioArticulo    = 1.40\n",
    "totalCompra       = precioArticulo*cantidadArticulos\n",
    "\n",
    "ordenCompra = 'Fui a {} y compre {} articulos, a un precio de  {} y en total gaste {:.2f}'\n",
    "\n",
    "ordenCompra.format(superMercado,cantidadArticulos,precioArticulo,totalCompra )"
   ]
  },
  {
   "cell_type": "markdown",
   "id": "2dc35d7d",
   "metadata": {},
   "source": [
    "Puede usar números de índice `{0}` para asegurarse de que los argumentos se colocan en los marcadores de posición correctos:"
   ]
  },
  {
   "cell_type": "code",
   "execution_count": 97,
   "id": "313b1851",
   "metadata": {},
   "outputs": [
    {
     "data": {
      "text/plain": [
       "'Fui a La Venta y compre 1.4 articulos, a un precio de  3 y en total gaste 4.20'"
      ]
     },
     "execution_count": 97,
     "metadata": {},
     "output_type": "execute_result"
    }
   ],
   "source": [
    "superMercado      = 'La Venta'\n",
    "cantidadArticulos = 3\n",
    "precioArticulo    = 1.40\n",
    "totalCompra       = precioArticulo*cantidadArticulos\n",
    "\n",
    "ordenCompra = 'Fui a {0} y compre {2} articulos, a un precio de  {1} y en total gaste {3:.2f}'\n",
    "\n",
    "ordenCompra.format(superMercado,cantidadArticulos,precioArticulo,totalCompra )\n",
    "#.                     0               1               2           3"
   ]
  },
  {
   "cell_type": "markdown",
   "id": "121486d2",
   "metadata": {},
   "source": [
    "### String Interpolation / f-Strings (Python 3.6+)\n",
    "\n",
    "Another new string formatting is string interpolation, f-strings. Strings start with f and we can inject the data in their corresponding positions."
   ]
  },
  {
   "cell_type": "markdown",
   "id": "4caf176d",
   "metadata": {},
   "source": [
    "count(): returns occurrences of substring in string, count(substring, start=.., end=..). The start is a starting indexing for counting and end is the last index to count."
   ]
  },
  {
   "cell_type": "code",
   "execution_count": null,
   "id": "d94081f2",
   "metadata": {},
   "outputs": [],
   "source": []
  },
  {
   "cell_type": "markdown",
   "id": "032d7cae",
   "metadata": {},
   "source": [
    "### <span style=\"color:darkred\">Caracteres de escape</span>\n",
    "\n",
    "Para insertar caracteres que no son válidos en una cadena, utilice un carácter de escape. Un carácter de escape es una barra invertida \\seguida del carácter que desea insertar. Un ejemplo de un carácter ilegal es una comilla doble dentro de una cadena que está entre comillas dobles:"
   ]
  },
  {
   "cell_type": "code",
   "execution_count": 148,
   "id": "21752939",
   "metadata": {},
   "outputs": [
    {
     "ename": "SyntaxError",
     "evalue": "invalid syntax (315027656.py, line 1)",
     "output_type": "error",
     "traceback": [
      "\u001b[0;36m  Input \u001b[0;32mIn [148]\u001b[0;36m\u001b[0m\n\u001b[0;31m    superMercado   = 'La Despensa de don 'Isaias''\u001b[0m\n\u001b[0m                                          ^\u001b[0m\n\u001b[0;31mSyntaxError\u001b[0m\u001b[0;31m:\u001b[0m invalid syntax\n"
     ]
    }
   ],
   "source": [
    "superMercado   = 'La Despensa de don 'Isaias''"
   ]
  },
  {
   "cell_type": "markdown",
   "id": "c652ea5a",
   "metadata": {},
   "source": [
    "Para solucionar este problema, utilice el carácter de escape “\\”, el carácter de escape le permite usar comillas dobles cuando normalmente no se le permitiría:"
   ]
  },
  {
   "cell_type": "code",
   "execution_count": 150,
   "id": "4adfd06f",
   "metadata": {},
   "outputs": [
    {
     "name": "stdout",
     "output_type": "stream",
     "text": [
      "La Despensa de don 'Isaias'\n"
     ]
    }
   ],
   "source": [
    "superMercado   = 'La Despensa de don \\'Isaias\\''\n",
    "print(superMercado)"
   ]
  },
  {
   "cell_type": "markdown",
   "id": "20d73e04",
   "metadata": {},
   "source": [
    "## Ejercicios:\n",
    "\n",
    "    1. Dada la cadena \"¡Hola, mundo!\", crea una variable que contenga solo la palabra \"Hola\" utilizando el corte adecuado.\n",
    "    \n",
    "    2.Crea una cadena multilinea que represente un poema y luego imprímela.\n",
    "    \n",
    "    3. Dada la cadena \"Programación Python\", obtén la subcadena \"Python\" utilizando el corte adecuado.\n",
    "    \n",
    "    4.Dada la cadena \"Bienvenidos al mundo de Python\", obtén la subcadena \"mundo de\" utilizando el corte adecuado.\n",
    "    \n",
    "    5. Dada la cadena \"ABCDE\", utiliza indexación negativa para obtener la subcadena \"BCD\".\n",
    "    \n",
    "     6.Elimina los espacios en blanco al principio y al final de la cadena \" Hola, mundo! \".\n",
    "     \n",
    "    7.Reemplaza todas las apariciones de \"bien\" por \"muy bien\" en la cadena \"Me siento bien hoy.\".\n",
    "    \n",
    "    8.Divide la cadena \"manzana,pera,durazno\", utilizando la coma como delimitador, y almacena los elementos en una lista.\n",
    "    \n",
    "    9.Divide la cadena \"Python es un lenguaje de programación\" en palabras individuales y almacénalas en una lista.\n",
    "    \n",
    "    10.Crea una cadena en mayúsculas y luego conviértela a minúsculas.\n",
    "    \n",
    "    11.Dada la cadena \"este es un ejemplo\", convierte la primera letra en mayúscula y el resto en minúsculas.\n",
    "    \n",
    "    12.Centra la cadena \"Python\" en una longitud total de 15 caracteres con el carácter \"-\".\n",
    "    \n",
    "    13.Divide la cadena \"Uno-Dos-Tres\" en tres partes utilizando el guión como delimitador y almacénalas en una lista.\n",
    "    \n",
    "    14. Reemplaza la palabra \"rápido\" por \"veloz\" en la cadena \"El zorro es muy rápido.\".\n",
    "    \n",
    "    15.Elimina todas las letras \"a\" de la cadena \"anaranjada\"."
   ]
  },
  {
   "cell_type": "markdown",
   "id": "a5ffaee7",
   "metadata": {},
   "source": [
    "### <span style=\"color:darkblue\">Aplicando Conocimientos</span>\n",
    "\n",
    "1.\tCrear un programa de Python que permita separar todas las palabras la siguiente frase de programación: \n",
    "\n",
    "“Programación es arte y ciencia, un lenguaje que crea la realidad, una forma de dar vida a la inteligencia, y al mundo digital una identidad.”\n"
   ]
  },
  {
   "cell_type": "code",
   "execution_count": null,
   "id": "ebbcf96c",
   "metadata": {},
   "outputs": [],
   "source": []
  },
  {
   "cell_type": "markdown",
   "id": "9d21cb2b",
   "metadata": {},
   "source": [
    "Este ejercicio además nos mostrará como podemos contar los elementos de una lista. \n",
    "\n",
    "2.\tUtilizando las letras del abecedario mostrar los siguientes valores:\n",
    "\n",
    "a.\tLas primeras 10 letras \n",
    "\n",
    "b.\tLas ultimas 10 letras \n",
    "\n",
    "c.\tEl abecedario al reves\n"
   ]
  },
  {
   "cell_type": "code",
   "execution_count": 5,
   "id": "a45aa080",
   "metadata": {},
   "outputs": [
    {
     "name": "stdout",
     "output_type": "stream",
     "text": [
      "26\n",
      "zyxwvutsrqponmlkjihgfedcba\n"
     ]
    }
   ],
   "source": [
    "abecedario = 'abcdefghijklmnopqrstuvwxyz'\n",
    "print(len(abecedario))\n",
    "print(abecedario[::-1])"
   ]
  },
  {
   "cell_type": "code",
   "execution_count": null,
   "id": "e2713c7a",
   "metadata": {},
   "outputs": [],
   "source": []
  }
 ],
 "metadata": {
  "kernelspec": {
   "display_name": "Python 3 (ipykernel)",
   "language": "python",
   "name": "python3"
  },
  "language_info": {
   "codemirror_mode": {
    "name": "ipython",
    "version": 3
   },
   "file_extension": ".py",
   "mimetype": "text/x-python",
   "name": "python",
   "nbconvert_exporter": "python",
   "pygments_lexer": "ipython3",
   "version": "3.9.12"
  }
 },
 "nbformat": 4,
 "nbformat_minor": 5
}
