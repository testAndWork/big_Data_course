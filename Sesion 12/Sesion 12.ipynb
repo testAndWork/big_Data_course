{
 "cells": [
  {
   "cell_type": "markdown",
   "id": "9c8c537c",
   "metadata": {},
   "source": [
    "# <span style=\"color:darkblue\">Módulo 1 - Introducción a la programación con Python </span>\n",
    "\n",
    "## <span style=\"color:darkblue\">Sesión 12 - Manejo de archivos en Python</span>\n",
    "\n",
    "### <span style=\"color:darkblue\">Duración estimada:\t3 horas</span>"
   ]
  },
  {
   "cell_type": "markdown",
   "id": "42a8be22",
   "metadata": {},
   "source": [
    "## <span style=\"color:darkblue\"> Tabla de contenidos:</span>\n",
    " \n",
    "    1- Bienvenida\n",
    "    \n",
    "    2- Asistencia\n",
    "    \n",
    "    3- Dudas de la Clase anterior\n",
    "    \n",
    "    4- Control de Lectura\n",
    "    \n",
    "    5- Objetivo\n",
    "    \n",
    "    6- Introducción\n",
    "    \n",
    "    7- Aprendamos\n",
    "\n",
    "    8- Manejo de archivos\t\n",
    "    \n",
    "    9- Sintaxis\t\n",
    "    \n",
    "    10- Abrir un archivo para lectura\t\n",
    "    \n",
    "    11- Solo lectura de partes del archivo\t\n",
    "\n",
    "    12- Leer líneas\t\n",
    "\n",
    "    13- Cerrar archivos\t\n",
    "   \n",
    "    14- Escritura de archivo de Python\t\n",
    "    \n",
    "    15- Crear un nuevo archivo\t\n",
    "    \n",
    "    16- Eliminar un archivo\t\n",
    "    \n",
    "    17- Compruebe si existe el archivo\t\n",
    "    \n",
    "    20- Eliminar carpeta\n",
    "    \n",
    "    21- Aplicando Conocimientos\t\n",
    "\n",
    "    22- Retroalimentación\n",
    "    \n",
    "    23- Asistencia\n"
   ]
  },
  {
   "cell_type": "markdown",
   "id": "51ae1b4d",
   "metadata": {},
   "source": [
    "## <span style=\"color:darkred\">Objetivo:</span>\n",
    "\n",
    "Aprender a manejar archivos en Python para poder leer, escribir y manipular datos almacenados en archivos en el sistema de archivos de la computadora.\n",
    "\n",
    "### <span style=\"color:darkred\">Recursos</span>\n",
    "\n",
    "•\tSesión 12 uso de archivos\n",
    "\n",
    "•\tComputadora con Python instalado\n",
    "\n",
    "•\tVisual Studio Code instalado\n",
    "\n",
    "\n",
    "\n",
    "\n",
    "### <span style=\"color:darkred\">Introducción:</span>\n",
    "\n",
    "Los archivos son una forma común de almacenar información, y aprender a manipularlos en Python es fundamental para muchos tipos de aplicaciones, como la lectura de datos de entrada, el procesamiento de archivos de texto, la escritura de archivos de salida, el acceso a bases de datos y mucho más.\n",
    "\n",
    "En Python, puedes manejar diferentes tipos de archivos, como archivos de texto, archivos binarios, archivos CSV (valores separados por comas), archivos JSON, archivos XML, y más. \n",
    "\n",
    "El manejo de archivos en Python también implica abrir y cerrar archivos, leer y escribir datos en los archivos, trabajar con diferentes modos de archivo y utilizar los diferentes métodos disponibles en Python para manipular archivos.\n",
    "\n",
    "\n",
    "\n",
    "### <span style=\"color:darkred\">Aprendamos </span>\n",
    "\n",
    "El manejo de archivos es una parte importante de cualquier aplicación de Python, este tiene varias funciones para crear, leer, actualizar y eliminar archivos.\n",
    "\n",
    "\n",
    "•\tLeer datos desde archivos de entrada y procesarlos: Puedes abrir y leer archivos de entrada para obtener información que luego puedes utilizar en tu programa.\n",
    "\n",
    "•\tEscribir datos en archivos de salida: Puedes crear archivos de salida y escribir información en ellos. Esto puede ser útil para generar informes o archivos que contengan datos de salida de tu programa.\n",
    "\n",
    "•\tManipular datos en archivos existentes: Puedes abrir un archivo existente y manipular su contenido, como buscar y reemplazar texto, agregar o eliminar contenido, y reorganizar información.\n",
    "\n",
    "•\tAcceder a datos en bases de datos: Puedes conectarte a bases de datos y leer o escribir datos en ellas.\n",
    "\n",
    "Esto es importante en muchos contextos empresariales.\n",
    "\n",
    "\n",
    "\n",
    "### <span style=\"color:darkred\">Manejo de Archivos </span>\n",
    "\n",
    "La función clave para trabajar con archivos en Python es la función `open( )`.\n",
    "\n",
    "La función `open( )` toma dos parámetros; nombre de archivo y modo .\n",
    "\n",
    "<table>\n",
    "    <tr>\n",
    "        <th>Modo</th>\n",
    "        <th>Descripción</th>\n",
    "    </tr>\n",
    "    <tr>\n",
    "        <td>'r'</td>\n",
    "        <td>Modo de lectura (por defecto). Abre un archivo para leerlo. Genera un error si el archivo no existe.</td>\n",
    "    </tr>\n",
    "    <tr>\n",
    "        <td>'w'</td>\n",
    "        <td>Modo de escritura. Abre un archivo para escribir en él. Si el archivo no existe, se crea. Si el archivo ya existe, se sobrescribe.</td>\n",
    "    </tr>\n",
    "    <tr>\n",
    "        <td>'a'</td>\n",
    "        <td>Modo de agregado. Abre un archivo para agregar datos al final del archivo. Si el archivo no existe, se crea.</td>\n",
    "    </tr>\n",
    "    <tr>\n",
    "        <td>'x'</td>\n",
    "        <td>Modo de creación exclusiva. Abre un archivo para escritura, pero solo si el archivo no existe.</td>\n",
    "    </tr>\n",
    "    <tr>\n",
    "        <td>'b'</td>\n",
    "        <td>Modo binario. Abre un archivo en modo binario.</td>\n",
    "    </tr>\n",
    "    <tr>\n",
    "        <td>'t'</td>\n",
    "        <td>Modo de texto (por defecto). Abre un archivo en modo de texto.</td>\n",
    "    </tr>\n",
    "    <tr>\n",
    "        <td>'+'</td>\n",
    "        <td>Modo de actualización. Abre un archivo para actualización (lectura y escritura).</td>\n",
    "    </tr>\n",
    "</table>\n",
    "\n",
    "\n",
    "En Python, estos modos se combinan entre sí para obtener diferentes opciones de apertura de archivos. \n",
    "\n",
    "Por ejemplo, el modo `\"rb\"` se utiliza para abrir un archivo en modo binario de solo lectura, mientras que el modo `\"w+\"` se utiliza para abrir un archivo en modo de escritura y lectura simultáneamente, creando el archivo si no existe.\n",
    "\n",
    "\n",
    "### <span style=\"color:darkred\">Sintaxis</span>\n",
    "    \n",
    "Para abrir un archivo para leerlo, basta con especificar el nombre del archivo:\n",
    "\n"
   ]
  },
  {
   "cell_type": "code",
   "execution_count": 1,
   "id": "fd895b99",
   "metadata": {},
   "outputs": [],
   "source": [
    "f = open('lorem.txt')"
   ]
  },
  {
   "cell_type": "markdown",
   "id": "c858c6b6",
   "metadata": {},
   "source": [
    "El código anterior es el mismo que:"
   ]
  },
  {
   "cell_type": "code",
   "execution_count": 58,
   "id": "cb180ed2",
   "metadata": {},
   "outputs": [],
   "source": [
    "f = open('lorem.txt', 'rt')"
   ]
  },
  {
   "cell_type": "markdown",
   "id": "ff03c0e8",
   "metadata": {},
   "source": [
    "Debido `\"r\"` a que para leer y `\"t\"` para texto son los valores predeterminados, no necesita especificarlos. \n",
    "\n",
    "#### Nota: \n",
    "asegúrese de que el archivo exista, de lo contrario obtendrá un error.\n",
    "\n",
    "### <span style=\"color:darkred\">Abrir un archivo para lectura</span>\n",
    "\n",
    "Supongamos que tenemos el siguiente archivo, ubicado en la misma carpeta que Python:\n",
    "`lorem.txt`\n",
    "\n",
    "Para abrir el archivo, use la función incorporada `open().`\n",
    "\n",
    "La función `open()` devuelve un objeto de archivo, que tiene un método `read()` para leer el contenido del archivo:\n"
   ]
  },
  {
   "cell_type": "markdown",
   "id": "81a2712c",
   "metadata": {},
   "source": [
    "Como puedes ver en el ejemplo anterior, imprimí el archivo abierto y proporcionó información sobre él. \n",
    "\n",
    "El archivo abierto tiene diferentes métodos de lectura:` read()`, readline y readlines. \n",
    "\n",
    "Un archivo abierto debe cerrarse con el método `close()`.\n",
    "\n",
    "`read()`: lee todo el texto como una cadena de caracteres. Si queremos limitar el número de caracteres que queremos leer, podemos hacerlo pasando un valor entero al método `read(numero)`."
   ]
  },
  {
   "cell_type": "code",
   "execution_count": 3,
   "id": "999e7ede",
   "metadata": {},
   "outputs": [
    {
     "name": "stdout",
     "output_type": "stream",
     "text": [
      "<_io.TextIOWrapper name='lorem.txt' mode='r' encoding='UTF-8'>\n"
     ]
    }
   ],
   "source": [
    "print(f)"
   ]
  },
  {
   "cell_type": "code",
   "execution_count": 4,
   "id": "20a29cde",
   "metadata": {},
   "outputs": [
    {
     "name": "stdout",
     "output_type": "stream",
     "text": [
      "\n",
      "Leer datos desde archivos de\n",
      "entrada y procesarlos: Puedes abrir y leer archivos de \n",
      "entrada para obtener informacion que luego puedes utilizar en tu programa.\n",
      "This text has to be appended at the end\n",
      "hola hola hola desde un archivo\n",
      "\n",
      " este texto debe ir al final de todo todo todito\n"
     ]
    }
   ],
   "source": [
    "print(f.read())"
   ]
  },
  {
   "cell_type": "markdown",
   "id": "e0415651",
   "metadata": {},
   "source": [
    "### <span style=\"color:darkred\">Solo lectura de partes del archivo</span>\n",
    "    \n",
    "De forma predeterminada, el método read() devuelve el texto completo, pero también puede especificar cuántos caracteres desea devolver:\n",
    "\n",
    "Ejemplo: Devuelve los 5 primeros caracteres del archivo:\n"
   ]
  },
  {
   "cell_type": "code",
   "execution_count": 11,
   "id": "d0d4846f",
   "metadata": {},
   "outputs": [
    {
     "name": "stdout",
     "output_type": "stream",
     "text": [
      "\n",
      "Leer datos desde archivos de\n",
      "entrada y procesarlos: Puedes abrir y leer archivos de \n",
      "entrada para obtener informacion que luego puedes utilizar en tu programa.\n",
      "This text has to be appended at the end\n",
      "hola hola hola desde un archivo\n",
      "\n",
      " este texto debe ir al final de todo todo todito\n",
      "\n"
     ]
    }
   ],
   "source": [
    "archivo = 'lorem.txt'\n",
    "\n",
    "f = open(archivo)\n",
    "\n",
    "text = f.read()\n",
    "\n",
    "print(text)\n",
    "f.close()"
   ]
  },
  {
   "cell_type": "code",
   "execution_count": 12,
   "id": "ea599dd2",
   "metadata": {},
   "outputs": [
    {
     "name": "stdout",
     "output_type": "stream",
     "text": [
      "\n",
      "Leer\n"
     ]
    }
   ],
   "source": [
    "archivo = 'lorem.txt'\n",
    "\n",
    "f = open(archivo)\n",
    "print(f.read(5))\n",
    "\n",
    "#Cerrando el archivo\n",
    "f.close()"
   ]
  },
  {
   "cell_type": "markdown",
   "id": "bd6078fb",
   "metadata": {},
   "source": [
    "En lugar de imprimir todo el texto, vamos a imprimir los primeros 10 caracteres del archivo de texto."
   ]
  },
  {
   "cell_type": "code",
   "execution_count": 16,
   "id": "b0510dc9",
   "metadata": {},
   "outputs": [
    {
     "name": "stdout",
     "output_type": "stream",
     "text": [
      "\n",
      "Leer dato\n",
      "s desde archivos de\n",
      "\n",
      "entrada y procesarlos: Puedes abrir y\n",
      " leer arc\n"
     ]
    }
   ],
   "source": [
    "archivo = 'lorem.txt'\n",
    "\n",
    "f = open(archivo)\n",
    "print(f.read(10))\n",
    "print(f.read(20))\n",
    "print(f.read(37))\n",
    "print(f.read(9))\n",
    "\n",
    "#Cerrando el archivo\n",
    "f.close()"
   ]
  },
  {
   "cell_type": "markdown",
   "id": "ef41f9e0",
   "metadata": {},
   "source": [
    "### <span style=\"color:darkred\">Leer Líneas</span>\n",
    "    \n",
    "Puede devolver una línea usando el método `readline()`:\n",
    "Ejemplo: Lea una línea del archivo:\n"
   ]
  },
  {
   "cell_type": "code",
   "execution_count": 24,
   "id": "b59aec45",
   "metadata": {},
   "outputs": [
    {
     "name": "stdout",
     "output_type": "stream",
     "text": [
      "<class 'str'>\n",
      "Leer datos desde archivos de\n",
      "\n"
     ]
    }
   ],
   "source": [
    "archivo = 'lorem.txt'\n",
    "\n",
    "f = open(archivo)\n",
    "\n",
    "r_line = f.readline()\n",
    "\n",
    "print(type(r_line))\n",
    "\n",
    "print(r_line)"
   ]
  },
  {
   "cell_type": "code",
   "execution_count": 25,
   "id": "fd8eab24",
   "metadata": {},
   "outputs": [
    {
     "name": "stdout",
     "output_type": "stream",
     "text": [
      "entrada y procesarlos: Puedes abrir y leer archivos de \n",
      "\n",
      "entrada para obtener informacion que luego puedes utilizar en tu programa.\n",
      "\n",
      "This text has to be appended at the end\n",
      "\n"
     ]
    }
   ],
   "source": [
    "print(f.readline())\n",
    "print(f.readline())\n",
    "print(f.readline())\n",
    "\n",
    "f.close()"
   ]
  },
  {
   "cell_type": "markdown",
   "id": "e22869ae",
   "metadata": {},
   "source": [
    "`readlines()`: Lee todo el texto línea por línea y devuelve una lista de líneas."
   ]
  },
  {
   "cell_type": "code",
   "execution_count": 26,
   "id": "0f7bc59c",
   "metadata": {},
   "outputs": [
    {
     "name": "stdout",
     "output_type": "stream",
     "text": [
      "['Leer datos desde archivos de\\n', 'entrada y procesarlos: Puedes abrir y leer archivos de \\n', 'entrada para obtener informacion que luego puedes utilizar en tu programa.\\n', 'This text has to be appended at the end\\n', 'hola hola hola desde un archivo\\n', '\\n', ' este texto debe ir al final de todo todo todito']\n"
     ]
    }
   ],
   "source": [
    "f = open(archivo)\n",
    "\n",
    "r_lines = f.readlines()\n",
    "print(r_lines)"
   ]
  },
  {
   "cell_type": "markdown",
   "id": "abb3551c",
   "metadata": {},
   "source": [
    "### <span style=\"color:darkred\">Cerrar archivos</span>\n",
    "    \n",
    "Puede devolver una línea usando el método `readline()`:\n",
    "Ejemplo: Lea una línea del archivo:"
   ]
  },
  {
   "cell_type": "code",
   "execution_count": 27,
   "id": "c2da890a",
   "metadata": {},
   "outputs": [],
   "source": [
    "f.close()"
   ]
  },
  {
   "cell_type": "markdown",
   "id": "1c5c8a2c",
   "metadata": {},
   "source": [
    "Otra forma de obtener todas las líneas como una lista es utilizando `splitlines()`:"
   ]
  },
  {
   "cell_type": "code",
   "execution_count": 29,
   "id": "690bf120",
   "metadata": {},
   "outputs": [
    {
     "name": "stdout",
     "output_type": "stream",
     "text": [
      "['Leer datos desde archivos de', 'entrada y procesarlos: Puedes abrir y leer archivos de ', 'entrada para obtener informacion que luego puedes utilizar en tu programa.', 'This text has to be appended at the end', 'hola hola hola desde un archivo', '', ' este texto debe ir al final de todo todo todito']\n"
     ]
    }
   ],
   "source": [
    "f = open(archivo)\n",
    "\n",
    "split_lines = f.read().splitlines()\n",
    "\n",
    "print(split_lines)\n",
    "\n",
    "f.close()"
   ]
  },
  {
   "cell_type": "markdown",
   "id": "7f6cb560",
   "metadata": {},
   "source": [
    "### <span style=\"color:darkred\">Escritura de archivo de Python</span>\n",
    "    \n",
    "Para escribir en un archivo existente, debe agregar un parámetro a la función open():\n",
    "\n",
    "•\t\"a\"- Agregar: se agregará al final del archivo\n",
    "\n",
    "\n",
    "•\t\"w\"- Escribir: sobrescribirá cualquier contenido existente\n"
   ]
  },
  {
   "cell_type": "code",
   "execution_count": 30,
   "id": "19ac4bc0",
   "metadata": {},
   "outputs": [],
   "source": [
    "with open (archivo,'a') as f:\n",
    "    f.write('\\n Esto es lo mejor para eescribir en archivo')"
   ]
  },
  {
   "cell_type": "code",
   "execution_count": 31,
   "id": "286fb0d4",
   "metadata": {},
   "outputs": [],
   "source": [
    "archivo_2 = 'lorem-Copy1.txt'\n",
    "\n",
    "with open(archivo_2,'w') as f:\n",
    "    f.write('sobreescribiendo en el archivo')"
   ]
  },
  {
   "cell_type": "markdown",
   "id": "b45fe361",
   "metadata": {},
   "source": [
    "### <span style=\"color:darkred\">Crear un nuevo archivo</span>\n",
    "\n",
    "Para crear un nuevo archivo en Python, use el método open(), con uno de los siguientes parámetros:\n",
    "\n",
    "•\t\"x\"- Create - creará un archivo, devuelve un error si el archivo existe\n",
    "\n",
    "•\t\"a\"- Agregar: creará un archivo si el archivo especificado no existe\n",
    "\n",
    "•\t\"w\"- Escribir: creará un archivo si el archivo especificado no existe\n",
    "\n",
    "\n",
    "Ejemplo: cree un archivo llamado \"myfile.txt\":\n"
   ]
  },
  {
   "cell_type": "code",
   "execution_count": 32,
   "id": "63a39f75",
   "metadata": {},
   "outputs": [
    {
     "ename": "FileExistsError",
     "evalue": "[Errno 17] File exists: 'lorem.txt'",
     "output_type": "error",
     "traceback": [
      "\u001b[0;31m---------------------------------------------------------------------------\u001b[0m",
      "\u001b[0;31mFileExistsError\u001b[0m                           Traceback (most recent call last)",
      "Input \u001b[0;32mIn [32]\u001b[0m, in \u001b[0;36m<cell line: 1>\u001b[0;34m()\u001b[0m\n\u001b[0;32m----> 1\u001b[0m \u001b[38;5;28;01mwith\u001b[39;00m \u001b[38;5;28;43mopen\u001b[39;49m\u001b[43m(\u001b[49m\u001b[43marchivo\u001b[49m\u001b[43m,\u001b[49m\u001b[43m \u001b[49m\u001b[38;5;124;43m'\u001b[39;49m\u001b[38;5;124;43mx\u001b[39;49m\u001b[38;5;124;43m'\u001b[39;49m\u001b[43m)\u001b[49m:\n\u001b[1;32m      2\u001b[0m     \u001b[38;5;28;01mpass\u001b[39;00m\n",
      "\u001b[0;31mFileExistsError\u001b[0m: [Errno 17] File exists: 'lorem.txt'"
     ]
    }
   ],
   "source": [
    "with open(archivo, 'x'):\n",
    "    pass"
   ]
  },
  {
   "cell_type": "code",
   "execution_count": 36,
   "id": "1002348c",
   "metadata": {},
   "outputs": [],
   "source": [
    "file = 'archivito.txt'\n",
    "\n",
    "with open(file, 'x'):\n",
    "    pass"
   ]
  },
  {
   "cell_type": "code",
   "execution_count": 37,
   "id": "7a268bcf",
   "metadata": {},
   "outputs": [
    {
     "name": "stdout",
     "output_type": "stream",
     "text": [
      "Sesion 12.ipynb  archivito.txt    lorem-Copy1.txt\r\n",
      "archivito        auto-mpg.csv     lorem.txt\r\n"
     ]
    }
   ],
   "source": [
    "ls"
   ]
  },
  {
   "cell_type": "code",
   "execution_count": 38,
   "id": "69ed2490",
   "metadata": {},
   "outputs": [],
   "source": [
    "rm archivito"
   ]
  },
  {
   "cell_type": "code",
   "execution_count": 39,
   "id": "b857e28f",
   "metadata": {},
   "outputs": [
    {
     "name": "stdout",
     "output_type": "stream",
     "text": [
      "Sesion 12.ipynb  auto-mpg.csv     lorem.txt\r\n",
      "archivito.txt    lorem-Copy1.txt\r\n"
     ]
    }
   ],
   "source": [
    "ls"
   ]
  },
  {
   "cell_type": "markdown",
   "id": "72fb98f6",
   "metadata": {},
   "source": [
    "Resultado: ¡se crea un nuevo archivo vacío!\n",
    "    \n",
    "Ejemplo: Cree un nuevo archivo si no existe:\n"
   ]
  },
  {
   "cell_type": "code",
   "execution_count": 50,
   "id": "f4a51c54",
   "metadata": {},
   "outputs": [],
   "source": [
    "with open('demofile.txt','x'):\n",
    "    pass"
   ]
  },
  {
   "cell_type": "code",
   "execution_count": 41,
   "id": "e283ecd4",
   "metadata": {},
   "outputs": [],
   "source": [
    "with open('demofile_2.txt','x'):\n",
    "    pass"
   ]
  },
  {
   "cell_type": "code",
   "execution_count": 42,
   "id": "86e96af7",
   "metadata": {},
   "outputs": [
    {
     "name": "stdout",
     "output_type": "stream",
     "text": [
      "Sesion 12.ipynb  auto-mpg.csv     demofile_2.txt   lorem.txt\r\n",
      "archivito.txt    demofile.txt     lorem-Copy1.txt\r\n"
     ]
    }
   ],
   "source": [
    "ls"
   ]
  },
  {
   "cell_type": "markdown",
   "id": "d6c8f3b1",
   "metadata": {},
   "source": [
    "### <span style=\"color:darkred\">Eliminar un archivo</span>\n",
    "\n",
    "Para eliminar un archivo, debe importar el módulo del sistema operativo y ejecutar su función `os.remove( )`:\n",
    "\n",
    "Ejemplo: Elimina el archivo` \"demofile.txt\"`:\n"
   ]
  },
  {
   "cell_type": "code",
   "execution_count": 43,
   "id": "3bdbb994",
   "metadata": {},
   "outputs": [],
   "source": [
    "import os\n",
    "\n",
    "os.remove('demofile.txt')"
   ]
  },
  {
   "cell_type": "code",
   "execution_count": 44,
   "id": "86dc0534",
   "metadata": {},
   "outputs": [
    {
     "name": "stdout",
     "output_type": "stream",
     "text": [
      "Sesion 12.ipynb  auto-mpg.csv     lorem-Copy1.txt\r\n",
      "archivito.txt    demofile_2.txt   lorem.txt\r\n"
     ]
    }
   ],
   "source": [
    "ls"
   ]
  },
  {
   "cell_type": "code",
   "execution_count": 45,
   "id": "f2e521ac",
   "metadata": {},
   "outputs": [],
   "source": [
    "from os import remove \n",
    "\n",
    "remove('demofile_2.txt')"
   ]
  },
  {
   "cell_type": "code",
   "execution_count": 46,
   "id": "4e2bc7d6",
   "metadata": {},
   "outputs": [
    {
     "name": "stdout",
     "output_type": "stream",
     "text": [
      "Sesion 12.ipynb  auto-mpg.csv     lorem.txt\r\n",
      "archivito.txt    lorem-Copy1.txt\r\n"
     ]
    }
   ],
   "source": [
    "ls"
   ]
  },
  {
   "cell_type": "markdown",
   "id": "3f39d49d",
   "metadata": {},
   "source": [
    "### <span style=\"color:darkred\">Compruebe si existe el archivos</span>\n",
    "Para evitar recibir un error, es posible que desee verificar si el archivo existe antes de intentar eliminarlo:\n",
    "\n",
    "Ejemplo: Verifique si el archivo existe, luego elimínelo:\n"
   ]
  },
  {
   "cell_type": "code",
   "execution_count": 47,
   "id": "f1d588ad",
   "metadata": {},
   "outputs": [
    {
     "name": "stdout",
     "output_type": "stream",
     "text": [
      "EL archivo no existe\n"
     ]
    }
   ],
   "source": [
    "if os.path.exists('lorem-Copy.txt'):\n",
    "    os.remove('lorem-Copy1.txt')\n",
    "else:\n",
    "    print('EL archivo no existe')"
   ]
  },
  {
   "cell_type": "code",
   "execution_count": 48,
   "id": "825ea5e0",
   "metadata": {},
   "outputs": [],
   "source": [
    "if os.path.exists('lorem-Copy1.txt'):\n",
    "    os.remove('lorem-Copy1.txt')\n",
    "else:\n",
    "    print('EL archivo no existe')"
   ]
  },
  {
   "cell_type": "code",
   "execution_count": 51,
   "id": "bf9507be",
   "metadata": {},
   "outputs": [
    {
     "name": "stdout",
     "output_type": "stream",
     "text": [
      "Sesion 12.ipynb  auto-mpg.csv     lorem.txt\r\n",
      "archivito.txt    demofile.txt\r\n"
     ]
    }
   ],
   "source": [
    "ls"
   ]
  },
  {
   "cell_type": "code",
   "execution_count": 53,
   "id": "4901ca9e",
   "metadata": {},
   "outputs": [
    {
     "name": "stdout",
     "output_type": "stream",
     "text": [
      "Archivo eliminado\n",
      "Fin del programa\n"
     ]
    }
   ],
   "source": [
    "try: \n",
    "    if os.path.exists('demofile.txt'):\n",
    "        os.remove('demofile.txt')\n",
    "        print('Archivo eliminado')\n",
    "    else:\n",
    "        raise FileNotFoundError('No existe el archivo')\n",
    "\n",
    "except FileNotFoundError as err:\n",
    "    print('Error',err)\n",
    "\n",
    "finally:\n",
    "    print('Fin del programa')"
   ]
  },
  {
   "cell_type": "code",
   "execution_count": 54,
   "id": "305e90d5",
   "metadata": {},
   "outputs": [
    {
     "name": "stdout",
     "output_type": "stream",
     "text": [
      "Sesion 12.ipynb  archivito.txt    auto-mpg.csv     lorem.txt\r\n"
     ]
    }
   ],
   "source": [
    "ls"
   ]
  },
  {
   "cell_type": "code",
   "execution_count": 57,
   "id": "3f815af9",
   "metadata": {},
   "outputs": [],
   "source": [
    "mkdir carpeta1 carpeta2"
   ]
  },
  {
   "cell_type": "code",
   "execution_count": 58,
   "id": "f0fb15e1",
   "metadata": {},
   "outputs": [
    {
     "name": "stdout",
     "output_type": "stream",
     "text": [
      "Sesion 12.ipynb  auto-mpg.csv     \u001b[1m\u001b[36mcarpeta1,\u001b[m\u001b[m/       lorem.txt\r\n",
      "archivito.txt    \u001b[1m\u001b[36mcarpeta1\u001b[m\u001b[m/        \u001b[1m\u001b[36mcarpeta2\u001b[m\u001b[m/\r\n"
     ]
    }
   ],
   "source": [
    "ls"
   ]
  },
  {
   "cell_type": "markdown",
   "id": "16d1f0fc",
   "metadata": {},
   "source": [
    "### <span style=\"color:darkred\">Eliminar carpeta</span>\n",
    "\n",
    "Para eliminar una carpeta completa, utilice el método `os.rmdir()`:\n",
    "\n",
    "Ejemplo: Eliminar la carpeta \"borrame\":\n"
   ]
  },
  {
   "cell_type": "code",
   "execution_count": 59,
   "id": "de14b501",
   "metadata": {},
   "outputs": [],
   "source": [
    "os.rmdir('carpeta1,/')"
   ]
  },
  {
   "cell_type": "code",
   "execution_count": 60,
   "id": "078f5c50",
   "metadata": {},
   "outputs": [
    {
     "name": "stdout",
     "output_type": "stream",
     "text": [
      "Sesion 12.ipynb  auto-mpg.csv     \u001b[1m\u001b[36mcarpeta2\u001b[m\u001b[m/\r\n",
      "archivito.txt    \u001b[1m\u001b[36mcarpeta1\u001b[m\u001b[m/        lorem.txt\r\n"
     ]
    }
   ],
   "source": [
    "ls"
   ]
  },
  {
   "cell_type": "code",
   "execution_count": 62,
   "id": "fa9671f7",
   "metadata": {},
   "outputs": [
    {
     "ename": "FileNotFoundError",
     "evalue": "[Errno 2] No such file or directory: 'carpeta1/'",
     "output_type": "error",
     "traceback": [
      "\u001b[0;31m---------------------------------------------------------------------------\u001b[0m",
      "\u001b[0;31mFileNotFoundError\u001b[0m                         Traceback (most recent call last)",
      "Input \u001b[0;32mIn [62]\u001b[0m, in \u001b[0;36m<cell line: 1>\u001b[0;34m()\u001b[0m\n\u001b[0;32m----> 1\u001b[0m \u001b[43mos\u001b[49m\u001b[38;5;241;43m.\u001b[39;49m\u001b[43mrmdir\u001b[49m\u001b[43m(\u001b[49m\u001b[38;5;124;43m'\u001b[39;49m\u001b[38;5;124;43mcarpeta1/\u001b[39;49m\u001b[38;5;124;43m'\u001b[39;49m\u001b[43m)\u001b[49m\n",
      "\u001b[0;31mFileNotFoundError\u001b[0m: [Errno 2] No such file or directory: 'carpeta1/'"
     ]
    }
   ],
   "source": [
    "os.rmdir('carpeta1/')"
   ]
  },
  {
   "cell_type": "code",
   "execution_count": 63,
   "id": "d424bef2",
   "metadata": {},
   "outputs": [
    {
     "name": "stdout",
     "output_type": "stream",
     "text": [
      "Sesion 12.ipynb  auto-mpg.csv     lorem.txt\r\n",
      "archivito.txt    \u001b[1m\u001b[36mcarpeta2\u001b[m\u001b[m/\r\n"
     ]
    }
   ],
   "source": [
    "ls"
   ]
  },
  {
   "cell_type": "markdown",
   "id": "2ef05e9c",
   "metadata": {},
   "source": [
    "### Tipos de Archivos\n",
    "### Archivo con extensión txt\n",
    "\n",
    "El archivo con extensión txt es una forma muy común de datos y lo hemos mencionado en la sección anterior. Ahora pasemos al archivo JSON.\n",
    "Archivo con extensión json\n",
    "\n",
    "`JSON` significa JavaScript Object Notation (Notación de Objetos de JavaScript). En realidad, es un objeto JavaScript o un diccionario de Python convertido en una cadena de caracteres.\n",
    "\n",
    "Ejemplo:"
   ]
  },
  {
   "cell_type": "code",
   "execution_count": 72,
   "id": "ce8d4da6",
   "metadata": {},
   "outputs": [],
   "source": [
    "datos_dct = {\n",
    "    'nombre': 'john Doe',\n",
    "    'pais': 'Australia',\n",
    "    'ciudad': 'Sidney',\n",
    "    'Habilidades': ['JavaScript', 'React', 'Python']\n",
    "}\n",
    "\n",
    "\n",
    "datos_json =  \"\"\"{\n",
    "    \"nombre\": \"John dane\",\n",
    "    \"pais\": \"Australia\",\n",
    "    \"ciudad\": \"Sidney\",\n",
    "    \"habilidades\": [\"Javascript\", \"React\", \"Python\"]\n",
    "}\"\"\"\n"
   ]
  },
  {
   "cell_type": "code",
   "execution_count": 67,
   "id": "ebdd53d4",
   "metadata": {},
   "outputs": [
    {
     "data": {
      "text/plain": [
       "(dict, str)"
      ]
     },
     "execution_count": 67,
     "metadata": {},
     "output_type": "execute_result"
    }
   ],
   "source": [
    "type(datos_dct), type(datos_json)"
   ]
  },
  {
   "cell_type": "markdown",
   "id": "4a508e90",
   "metadata": {},
   "source": [
    "### Convirtiendo un JSON a un diccionario\n",
    "\n",
    "Para convertir un JSON en un diccionario, primero importamos el módulo json y luego utilizamos el método loads."
   ]
  },
  {
   "cell_type": "markdown",
   "id": "7509ef0a",
   "metadata": {},
   "source": [
    "### Convertir un JSON a Diccionario"
   ]
  },
  {
   "cell_type": "code",
   "execution_count": 74,
   "id": "cdfb4f31",
   "metadata": {},
   "outputs": [
    {
     "name": "stdout",
     "output_type": "stream",
     "text": [
      "<class 'dict'>\n"
     ]
    },
    {
     "data": {
      "text/plain": [
       "{'nombre': 'john Doe',\n",
       " 'pais': 'Australia',\n",
       " 'ciudad': 'Sidney',\n",
       " 'Habilidades': ['JavaScript', 'React', 'Python']}"
      ]
     },
     "execution_count": 74,
     "metadata": {},
     "output_type": "execute_result"
    }
   ],
   "source": [
    "import json\n",
    "\n",
    "datos_convert = json.loads(datos_json)\n",
    "\n",
    "print(type(datos_convert))\n",
    "\n",
    "datos_dct"
   ]
  },
  {
   "cell_type": "markdown",
   "id": "4cd81b27",
   "metadata": {},
   "source": [
    "### Guardar un archivo JSON\n",
    "\n",
    "También podemos guardar nuestros datos como un archivo JSON. Vamos a guardarlo como un archivo JSON siguiendo los siguientes pasos. Para escribir un archivo JSON, utilizamos el método json.dump(). Este método puede recibir como argumentos un diccionario, el archivo de salida, ensure_ascii e indent.\n",
    "\n",
    "Aquí tienes un ejemplo de cómo guardar datos como un archivo JSON:"
   ]
  },
  {
   "cell_type": "code",
   "execution_count": 75,
   "id": "3c8ae2b6",
   "metadata": {},
   "outputs": [
    {
     "name": "stdout",
     "output_type": "stream",
     "text": [
      "<class 'str'>\n"
     ]
    },
    {
     "data": {
      "text/plain": [
       "'{\"nombre\": \"john Doe\", \"pais\": \"Australia\", \"ciudad\": \"Sidney\", \"Habilidades\": [\"JavaScript\", \"React\", \"Python\"]}'"
      ]
     },
     "execution_count": 75,
     "metadata": {},
     "output_type": "execute_result"
    }
   ],
   "source": [
    "datos_json = {\n",
    "    'nombre': 'john Doe',\n",
    "    'pais': 'Australia',\n",
    "    'ciudad': 'Sidney',\n",
    "    'Habilidades': ['JavaScript', 'React', 'Python']\n",
    "}\n",
    "\n",
    "\n",
    "datos_str = json.dumps(datos_json)\n",
    "\n",
    "print(type(datos_str))\n",
    "\n",
    "datos_str"
   ]
  },
  {
   "cell_type": "markdown",
   "id": "e9d724e1",
   "metadata": {},
   "source": [
    "### Archivo con extensión csv\n",
    "\n",
    "CSV significa valores separados por comas (Comma Separated Values). CSV es un formato de archivo simple utilizado para almacenar datos tabulares, como una hoja de cálculo o una base de datos. CSV es un formato de datos muy común en ciencia de datos.\n",
    "\n",
    "Ejemplo:"
   ]
  },
  {
   "cell_type": "code",
   "execution_count": 76,
   "id": "9a823a2d",
   "metadata": {},
   "outputs": [],
   "source": [
    "import csv"
   ]
  },
  {
   "cell_type": "code",
   "execution_count": 79,
   "id": "259a6a4d",
   "metadata": {},
   "outputs": [
    {
     "name": "stdout",
     "output_type": "stream",
     "text": [
      "El nombre de la columna es: mpg,cylinders,displacement,horsepower,weight,acceleration,model year,origin,car name\n",
      "chevrolet chevelle malibu\n",
      "buick skylark 320\n",
      "plymouth satellite\n",
      "amc rebel sst\n",
      "ford torino\n",
      "ford galaxie 500\n",
      "chevrolet impala\n",
      "plymouth fury iii\n",
      "pontiac catalina\n",
      "amc ambassador dpl\n",
      "citroen ds-21 pallas\n",
      "chevrolet chevelle concours (sw)\n",
      "ford torino (sw)\n",
      "plymouth satellite (sw)\n",
      "amc rebel sst (sw)\n",
      "dodge challenger se\n",
      "plymouth 'cuda 340\n",
      "ford mustang boss 302\n",
      "chevrolet monte carlo\n",
      "buick estate wagon (sw)\n",
      "toyota corona mark ii\n",
      "plymouth duster\n",
      "amc hornet\n",
      "ford maverick\n",
      "datsun pl510\n",
      "volkswagen 1131 deluxe sedan\n",
      "peugeot 504\n",
      "audi 100 ls\n",
      "saab 99e\n",
      "bmw 2002\n",
      "amc gremlin\n",
      "ford f250\n",
      "chevy c20\n",
      "dodge d200\n",
      "hi 1200d\n",
      "datsun pl510\n",
      "chevrolet vega 2300\n",
      "toyota corona\n",
      "ford pinto\n",
      "volkswagen super beetle 117\n",
      "amc gremlin\n",
      "plymouth satellite custom\n",
      "chevrolet chevelle malibu\n",
      "ford torino 500\n",
      "amc matador\n",
      "chevrolet impala\n",
      "pontiac catalina brougham\n",
      "ford galaxie 500\n",
      "plymouth fury iii\n",
      "dodge monaco (sw)\n",
      "ford country squire (sw)\n",
      "pontiac safari (sw)\n",
      "amc hornet sportabout (sw)\n",
      "chevrolet vega (sw)\n",
      "pontiac firebird\n",
      "ford mustang\n",
      "mercury capri 2000\n",
      "opel 1900\n",
      "peugeot 304\n",
      "fiat 124b\n",
      "toyota corolla 1200\n",
      "datsun 1200\n",
      "volkswagen model 111\n",
      "plymouth cricket\n",
      "toyota corona hardtop\n",
      "dodge colt hardtop\n",
      "volkswagen type 3\n",
      "chevrolet vega\n",
      "ford pinto runabout\n",
      "chevrolet impala\n",
      "pontiac catalina\n",
      "plymouth fury iii\n",
      "ford galaxie 500\n",
      "amc ambassador sst\n",
      "mercury marquis\n",
      "buick lesabre custom\n",
      "oldsmobile delta 88 royale\n",
      "chrysler newport royal\n",
      "mazda rx2 coupe\n",
      "amc matador (sw)\n",
      "chevrolet chevelle concours (sw)\n",
      "ford gran torino (sw)\n",
      "plymouth satellite custom (sw)\n",
      "volvo 145e (sw)\n",
      "volkswagen 411 (sw)\n",
      "peugeot 504 (sw)\n",
      "renault 12 (sw)\n",
      "ford pinto (sw)\n",
      "datsun 510 (sw)\n",
      "toyouta corona mark ii (sw)\n",
      "dodge colt (sw)\n",
      "toyota corolla 1600 (sw)\n",
      "buick century 350\n",
      "amc matador\n",
      "chevrolet malibu\n",
      "ford gran torino\n",
      "dodge coronet custom\n",
      "mercury marquis brougham\n",
      "chevrolet caprice classic\n",
      "ford ltd\n",
      "plymouth fury gran sedan\n",
      "chrysler new yorker brougham\n",
      "buick electra 225 custom\n",
      "amc ambassador brougham\n",
      "plymouth valiant\n",
      "chevrolet nova custom\n",
      "amc hornet\n",
      "ford maverick\n",
      "plymouth duster\n",
      "volkswagen super beetle\n",
      "chevrolet impala\n",
      "ford country\n",
      "plymouth custom suburb\n",
      "oldsmobile vista cruiser\n",
      "amc gremlin\n",
      "toyota carina\n",
      "chevrolet vega\n",
      "datsun 610\n",
      "maxda rx3\n",
      "ford pinto\n",
      "mercury capri v6\n",
      "fiat 124 sport coupe\n",
      "chevrolet monte carlo s\n",
      "pontiac grand prix\n",
      "fiat 128\n",
      "opel manta\n",
      "audi 100ls\n",
      "volvo 144ea\n",
      "dodge dart custom\n",
      "saab 99le\n",
      "toyota mark ii\n",
      "oldsmobile omega\n",
      "plymouth duster\n",
      "ford maverick\n",
      "amc hornet\n",
      "chevrolet nova\n",
      "datsun b210\n",
      "ford pinto\n",
      "toyota corolla 1200\n",
      "chevrolet vega\n",
      "chevrolet chevelle malibu classic\n",
      "amc matador\n",
      "plymouth satellite sebring\n",
      "ford gran torino\n",
      "buick century luxus (sw)\n",
      "dodge coronet custom (sw)\n",
      "ford gran torino (sw)\n",
      "amc matador (sw)\n",
      "audi fox\n",
      "volkswagen dasher\n",
      "opel manta\n",
      "toyota corona\n",
      "datsun 710\n",
      "dodge colt\n",
      "fiat 128\n",
      "fiat 124 tc\n",
      "honda civic\n",
      "subaru\n",
      "fiat x1.9\n",
      "plymouth valiant custom\n",
      "chevrolet nova\n",
      "mercury monarch\n",
      "ford maverick\n",
      "pontiac catalina\n",
      "chevrolet bel air\n",
      "plymouth grand fury\n",
      "ford ltd\n",
      "buick century\n",
      "chevroelt chevelle malibu\n",
      "amc matador\n",
      "plymouth fury\n",
      "buick skyhawk\n",
      "chevrolet monza 2+2\n",
      "ford mustang ii\n",
      "toyota corolla\n",
      "ford pinto\n",
      "amc gremlin\n",
      "pontiac astro\n",
      "toyota corona\n",
      "volkswagen dasher\n",
      "datsun 710\n",
      "ford pinto\n",
      "volkswagen rabbit\n",
      "amc pacer\n",
      "audi 100ls\n",
      "peugeot 504\n",
      "volvo 244dl\n",
      "saab 99le\n",
      "honda civic cvcc\n",
      "fiat 131\n",
      "opel 1900\n",
      "capri ii\n",
      "dodge colt\n",
      "renault 12tl\n",
      "chevrolet chevelle malibu classic\n",
      "dodge coronet brougham\n",
      "amc matador\n",
      "ford gran torino\n",
      "plymouth valiant\n",
      "chevrolet nova\n",
      "ford maverick\n",
      "amc hornet\n",
      "chevrolet chevette\n",
      "chevrolet woody\n",
      "vw rabbit\n",
      "honda civic\n",
      "dodge aspen se\n",
      "ford granada ghia\n",
      "pontiac ventura sj\n",
      "amc pacer d/l\n",
      "volkswagen rabbit\n",
      "datsun b-210\n",
      "toyota corolla\n",
      "ford pinto\n",
      "volvo 245\n",
      "plymouth volare premier v8\n",
      "peugeot 504\n",
      "toyota mark ii\n",
      "mercedes-benz 280s\n",
      "cadillac seville\n",
      "chevy c10\n",
      "ford f108\n",
      "dodge d100\n",
      "honda accord cvcc\n",
      "buick opel isuzu deluxe\n",
      "renault 5 gtl\n",
      "plymouth arrow gs\n",
      "datsun f-10 hatchback\n",
      "chevrolet caprice classic\n",
      "oldsmobile cutlass supreme\n",
      "dodge monaco brougham\n",
      "mercury cougar brougham\n",
      "chevrolet concours\n",
      "buick skylark\n",
      "plymouth volare custom\n",
      "ford granada\n",
      "pontiac grand prix lj\n",
      "chevrolet monte carlo landau\n",
      "chrysler cordoba\n",
      "ford thunderbird\n",
      "volkswagen rabbit custom\n",
      "pontiac sunbird coupe\n",
      "toyota corolla liftback\n",
      "ford mustang ii 2+2\n",
      "chevrolet chevette\n",
      "dodge colt m/m\n",
      "subaru dl\n",
      "volkswagen dasher\n",
      "datsun 810\n",
      "bmw 320i\n",
      "mazda rx-4\n",
      "volkswagen rabbit custom diesel\n",
      "ford fiesta\n",
      "mazda glc deluxe\n",
      "datsun b210 gx\n",
      "honda civic cvcc\n",
      "oldsmobile cutlass salon brougham\n",
      "dodge diplomat\n",
      "mercury monarch ghia\n",
      "pontiac phoenix lj\n",
      "chevrolet malibu\n",
      "ford fairmont (auto)\n",
      "ford fairmont (man)\n",
      "plymouth volare\n",
      "amc concord\n",
      "buick century special\n",
      "mercury zephyr\n",
      "dodge aspen\n",
      "amc concord d/l\n",
      "chevrolet monte carlo landau\n",
      "buick regal sport coupe (turbo)\n",
      "ford futura\n",
      "dodge magnum xe\n",
      "chevrolet chevette\n",
      "toyota corona\n",
      "datsun 510\n",
      "dodge omni\n",
      "toyota celica gt liftback\n",
      "plymouth sapporo\n",
      "oldsmobile starfire sx\n",
      "datsun 200-sx\n",
      "audi 5000\n",
      "volvo 264gl\n",
      "saab 99gle\n",
      "peugeot 604sl\n",
      "volkswagen scirocco\n",
      "honda accord lx\n",
      "pontiac lemans v6\n",
      "mercury zephyr 6\n",
      "ford fairmont 4\n",
      "amc concord dl 6\n",
      "dodge aspen 6\n",
      "chevrolet caprice classic\n",
      "ford ltd landau\n",
      "mercury grand marquis\n",
      "dodge st. regis\n",
      "buick estate wagon (sw)\n",
      "ford country squire (sw)\n",
      "chevrolet malibu classic (sw)\n",
      "chrysler lebaron town @ country (sw)\n",
      "vw rabbit custom\n",
      "maxda glc deluxe\n",
      "dodge colt hatchback custom\n",
      "amc spirit dl\n",
      "mercedes benz 300d\n",
      "cadillac eldorado\n",
      "peugeot 504\n",
      "oldsmobile cutlass salon brougham\n",
      "plymouth horizon\n",
      "plymouth horizon tc3\n",
      "datsun 210\n",
      "fiat strada custom\n",
      "buick skylark limited\n",
      "chevrolet citation\n",
      "oldsmobile omega brougham\n",
      "pontiac phoenix\n",
      "vw rabbit\n",
      "toyota corolla tercel\n",
      "chevrolet chevette\n",
      "datsun 310\n",
      "chevrolet citation\n",
      "ford fairmont\n",
      "amc concord\n",
      "dodge aspen\n",
      "audi 4000\n",
      "toyota corona liftback\n",
      "mazda 626\n",
      "datsun 510 hatchback\n",
      "toyota corolla\n",
      "mazda glc\n",
      "dodge colt\n",
      "datsun 210\n",
      "vw rabbit c (diesel)\n",
      "vw dasher (diesel)\n",
      "audi 5000s (diesel)\n",
      "mercedes-benz 240d\n",
      "honda civic 1500 gl\n",
      "renault lecar deluxe\n",
      "subaru dl\n",
      "vokswagen rabbit\n",
      "datsun 280-zx\n",
      "mazda rx-7 gs\n",
      "triumph tr7 coupe\n",
      "ford mustang cobra\n",
      "honda accord\n",
      "plymouth reliant\n",
      "buick skylark\n",
      "dodge aries wagon (sw)\n",
      "chevrolet citation\n",
      "plymouth reliant\n",
      "toyota starlet\n",
      "plymouth champ\n",
      "honda civic 1300\n",
      "subaru\n",
      "datsun 210 mpg\n",
      "toyota tercel\n",
      "mazda glc 4\n",
      "plymouth horizon 4\n",
      "ford escort 4w\n",
      "ford escort 2h\n",
      "volkswagen jetta\n",
      "renault 18i\n",
      "honda prelude\n",
      "toyota corolla\n",
      "datsun 200sx\n",
      "mazda 626\n",
      "peugeot 505s turbo diesel\n",
      "saab 900s\n",
      "volvo diesel\n",
      "toyota cressida\n",
      "datsun 810 maxima\n",
      "buick century\n",
      "oldsmobile cutlass ls\n",
      "ford granada gl\n",
      "chrysler lebaron salon\n",
      "chevrolet cavalier\n",
      "chevrolet cavalier wagon\n",
      "chevrolet cavalier 2-door\n",
      "pontiac j2000 se hatchback\n",
      "dodge aries se\n",
      "pontiac phoenix\n",
      "ford fairmont futura\n",
      "amc concord dl\n",
      "volkswagen rabbit l\n",
      "mazda glc custom l\n",
      "mazda glc custom\n",
      "plymouth horizon miser\n",
      "mercury lynx l\n",
      "nissan stanza xe\n",
      "honda accord\n",
      "toyota corolla\n",
      "honda civic\n",
      "honda civic (auto)\n",
      "datsun 310 gx\n",
      "buick century limited\n",
      "oldsmobile cutlass ciera (diesel)\n",
      "chrysler lebaron medallion\n",
      "ford granada l\n",
      "toyota celica gt\n",
      "dodge charger 2.2\n",
      "chevrolet camaro\n",
      "ford mustang gl\n",
      "vw pickup\n",
      "dodge rampage\n",
      "ford ranger\n",
      "chevy s-10\n"
     ]
    }
   ],
   "source": [
    "with open('auto-mpg.csv') as file:\n",
    "    csv_file = csv.reader(file, delimiter = ',')\n",
    "    line_count = 0\n",
    "    for fila in  csv_file:\n",
    "        if line_count == 0:\n",
    "            print(f'El nombre de la columna es: {\",\".join(fila)}')\n",
    "            line_count += 1\n",
    "        else:\n",
    "            print(f'{fila[8]}')\n",
    "            line_count += 1\n",
    "    \n",
    "    "
   ]
  },
  {
   "cell_type": "markdown",
   "id": "9ed5ba7a",
   "metadata": {},
   "source": [
    "### Ejemplo : Leer y crear un archivo CSV"
   ]
  },
  {
   "cell_type": "code",
   "execution_count": 80,
   "id": "37a8a7f9",
   "metadata": {},
   "outputs": [],
   "source": [
    "import pandas as pd\n",
    "\n",
    "data_frame = pd.read_csv('auto-mpg.csv')"
   ]
  },
  {
   "cell_type": "code",
   "execution_count": 81,
   "id": "0b9e4477",
   "metadata": {},
   "outputs": [
    {
     "data": {
      "text/html": [
       "<div>\n",
       "<style scoped>\n",
       "    .dataframe tbody tr th:only-of-type {\n",
       "        vertical-align: middle;\n",
       "    }\n",
       "\n",
       "    .dataframe tbody tr th {\n",
       "        vertical-align: top;\n",
       "    }\n",
       "\n",
       "    .dataframe thead th {\n",
       "        text-align: right;\n",
       "    }\n",
       "</style>\n",
       "<table border=\"1\" class=\"dataframe\">\n",
       "  <thead>\n",
       "    <tr style=\"text-align: right;\">\n",
       "      <th></th>\n",
       "      <th>mpg</th>\n",
       "      <th>cylinders</th>\n",
       "      <th>displacement</th>\n",
       "      <th>horsepower</th>\n",
       "      <th>weight</th>\n",
       "      <th>acceleration</th>\n",
       "      <th>model year</th>\n",
       "      <th>origin</th>\n",
       "      <th>car name</th>\n",
       "    </tr>\n",
       "  </thead>\n",
       "  <tbody>\n",
       "    <tr>\n",
       "      <th>0</th>\n",
       "      <td>18.0</td>\n",
       "      <td>8</td>\n",
       "      <td>307.0</td>\n",
       "      <td>130.0</td>\n",
       "      <td>3504</td>\n",
       "      <td>12.0</td>\n",
       "      <td>70</td>\n",
       "      <td>1</td>\n",
       "      <td>chevrolet chevelle malibu</td>\n",
       "    </tr>\n",
       "    <tr>\n",
       "      <th>1</th>\n",
       "      <td>15.0</td>\n",
       "      <td>8</td>\n",
       "      <td>350.0</td>\n",
       "      <td>165.0</td>\n",
       "      <td>3693</td>\n",
       "      <td>11.5</td>\n",
       "      <td>70</td>\n",
       "      <td>1</td>\n",
       "      <td>buick skylark 320</td>\n",
       "    </tr>\n",
       "    <tr>\n",
       "      <th>2</th>\n",
       "      <td>18.0</td>\n",
       "      <td>8</td>\n",
       "      <td>318.0</td>\n",
       "      <td>150.0</td>\n",
       "      <td>3436</td>\n",
       "      <td>11.0</td>\n",
       "      <td>70</td>\n",
       "      <td>1</td>\n",
       "      <td>plymouth satellite</td>\n",
       "    </tr>\n",
       "    <tr>\n",
       "      <th>3</th>\n",
       "      <td>16.0</td>\n",
       "      <td>8</td>\n",
       "      <td>304.0</td>\n",
       "      <td>150.0</td>\n",
       "      <td>3433</td>\n",
       "      <td>12.0</td>\n",
       "      <td>70</td>\n",
       "      <td>1</td>\n",
       "      <td>amc rebel sst</td>\n",
       "    </tr>\n",
       "    <tr>\n",
       "      <th>4</th>\n",
       "      <td>17.0</td>\n",
       "      <td>8</td>\n",
       "      <td>302.0</td>\n",
       "      <td>140.0</td>\n",
       "      <td>3449</td>\n",
       "      <td>10.5</td>\n",
       "      <td>70</td>\n",
       "      <td>1</td>\n",
       "      <td>ford torino</td>\n",
       "    </tr>\n",
       "    <tr>\n",
       "      <th>...</th>\n",
       "      <td>...</td>\n",
       "      <td>...</td>\n",
       "      <td>...</td>\n",
       "      <td>...</td>\n",
       "      <td>...</td>\n",
       "      <td>...</td>\n",
       "      <td>...</td>\n",
       "      <td>...</td>\n",
       "      <td>...</td>\n",
       "    </tr>\n",
       "    <tr>\n",
       "      <th>401</th>\n",
       "      <td>27.0</td>\n",
       "      <td>4</td>\n",
       "      <td>140.0</td>\n",
       "      <td>86.0</td>\n",
       "      <td>2790</td>\n",
       "      <td>15.6</td>\n",
       "      <td>82</td>\n",
       "      <td>1</td>\n",
       "      <td>ford mustang gl</td>\n",
       "    </tr>\n",
       "    <tr>\n",
       "      <th>402</th>\n",
       "      <td>44.0</td>\n",
       "      <td>4</td>\n",
       "      <td>97.0</td>\n",
       "      <td>52.0</td>\n",
       "      <td>2130</td>\n",
       "      <td>24.6</td>\n",
       "      <td>82</td>\n",
       "      <td>2</td>\n",
       "      <td>vw pickup</td>\n",
       "    </tr>\n",
       "    <tr>\n",
       "      <th>403</th>\n",
       "      <td>32.0</td>\n",
       "      <td>4</td>\n",
       "      <td>135.0</td>\n",
       "      <td>84.0</td>\n",
       "      <td>2295</td>\n",
       "      <td>11.6</td>\n",
       "      <td>82</td>\n",
       "      <td>1</td>\n",
       "      <td>dodge rampage</td>\n",
       "    </tr>\n",
       "    <tr>\n",
       "      <th>404</th>\n",
       "      <td>28.0</td>\n",
       "      <td>4</td>\n",
       "      <td>120.0</td>\n",
       "      <td>79.0</td>\n",
       "      <td>2625</td>\n",
       "      <td>18.6</td>\n",
       "      <td>82</td>\n",
       "      <td>1</td>\n",
       "      <td>ford ranger</td>\n",
       "    </tr>\n",
       "    <tr>\n",
       "      <th>405</th>\n",
       "      <td>31.0</td>\n",
       "      <td>4</td>\n",
       "      <td>119.0</td>\n",
       "      <td>82.0</td>\n",
       "      <td>2720</td>\n",
       "      <td>19.4</td>\n",
       "      <td>82</td>\n",
       "      <td>1</td>\n",
       "      <td>chevy s-10</td>\n",
       "    </tr>\n",
       "  </tbody>\n",
       "</table>\n",
       "<p>406 rows × 9 columns</p>\n",
       "</div>"
      ],
      "text/plain": [
       "      mpg  cylinders  displacement  horsepower  weight  acceleration  \\\n",
       "0    18.0          8         307.0       130.0    3504          12.0   \n",
       "1    15.0          8         350.0       165.0    3693          11.5   \n",
       "2    18.0          8         318.0       150.0    3436          11.0   \n",
       "3    16.0          8         304.0       150.0    3433          12.0   \n",
       "4    17.0          8         302.0       140.0    3449          10.5   \n",
       "..    ...        ...           ...         ...     ...           ...   \n",
       "401  27.0          4         140.0        86.0    2790          15.6   \n",
       "402  44.0          4          97.0        52.0    2130          24.6   \n",
       "403  32.0          4         135.0        84.0    2295          11.6   \n",
       "404  28.0          4         120.0        79.0    2625          18.6   \n",
       "405  31.0          4         119.0        82.0    2720          19.4   \n",
       "\n",
       "     model year  origin                   car name  \n",
       "0            70       1  chevrolet chevelle malibu  \n",
       "1            70       1          buick skylark 320  \n",
       "2            70       1         plymouth satellite  \n",
       "3            70       1              amc rebel sst  \n",
       "4            70       1                ford torino  \n",
       "..          ...     ...                        ...  \n",
       "401          82       1            ford mustang gl  \n",
       "402          82       2                  vw pickup  \n",
       "403          82       1              dodge rampage  \n",
       "404          82       1                ford ranger  \n",
       "405          82       1                 chevy s-10  \n",
       "\n",
       "[406 rows x 9 columns]"
      ]
     },
     "execution_count": 81,
     "metadata": {},
     "output_type": "execute_result"
    }
   ],
   "source": [
    "data_frame"
   ]
  },
  {
   "cell_type": "code",
   "execution_count": 82,
   "id": "b3617cd2",
   "metadata": {},
   "outputs": [
    {
     "data": {
      "text/plain": [
       "0      chevrolet chevelle malibu\n",
       "1              buick skylark 320\n",
       "2             plymouth satellite\n",
       "3                  amc rebel sst\n",
       "4                    ford torino\n",
       "                 ...            \n",
       "401              ford mustang gl\n",
       "402                    vw pickup\n",
       "403                dodge rampage\n",
       "404                  ford ranger\n",
       "405                   chevy s-10\n",
       "Name: car name, Length: 406, dtype: object"
      ]
     },
     "execution_count": 82,
     "metadata": {},
     "output_type": "execute_result"
    }
   ],
   "source": [
    "data_frame['car name']"
   ]
  },
  {
   "cell_type": "code",
   "execution_count": 83,
   "id": "f232af81",
   "metadata": {},
   "outputs": [
    {
     "data": {
      "text/html": [
       "<div>\n",
       "<style scoped>\n",
       "    .dataframe tbody tr th:only-of-type {\n",
       "        vertical-align: middle;\n",
       "    }\n",
       "\n",
       "    .dataframe tbody tr th {\n",
       "        vertical-align: top;\n",
       "    }\n",
       "\n",
       "    .dataframe thead th {\n",
       "        text-align: right;\n",
       "    }\n",
       "</style>\n",
       "<table border=\"1\" class=\"dataframe\">\n",
       "  <thead>\n",
       "    <tr style=\"text-align: right;\">\n",
       "      <th></th>\n",
       "      <th>mpg</th>\n",
       "      <th>cylinders</th>\n",
       "      <th>displacement</th>\n",
       "      <th>horsepower</th>\n",
       "      <th>weight</th>\n",
       "      <th>acceleration</th>\n",
       "      <th>model year</th>\n",
       "      <th>origin</th>\n",
       "      <th>car name</th>\n",
       "    </tr>\n",
       "  </thead>\n",
       "  <tbody>\n",
       "    <tr>\n",
       "      <th>0</th>\n",
       "      <td>18.0</td>\n",
       "      <td>8</td>\n",
       "      <td>307.0</td>\n",
       "      <td>130.0</td>\n",
       "      <td>3504</td>\n",
       "      <td>12.0</td>\n",
       "      <td>70</td>\n",
       "      <td>1</td>\n",
       "      <td>chevrolet chevelle malibu</td>\n",
       "    </tr>\n",
       "    <tr>\n",
       "      <th>1</th>\n",
       "      <td>15.0</td>\n",
       "      <td>8</td>\n",
       "      <td>350.0</td>\n",
       "      <td>165.0</td>\n",
       "      <td>3693</td>\n",
       "      <td>11.5</td>\n",
       "      <td>70</td>\n",
       "      <td>1</td>\n",
       "      <td>buick skylark 320</td>\n",
       "    </tr>\n",
       "    <tr>\n",
       "      <th>2</th>\n",
       "      <td>18.0</td>\n",
       "      <td>8</td>\n",
       "      <td>318.0</td>\n",
       "      <td>150.0</td>\n",
       "      <td>3436</td>\n",
       "      <td>11.0</td>\n",
       "      <td>70</td>\n",
       "      <td>1</td>\n",
       "      <td>plymouth satellite</td>\n",
       "    </tr>\n",
       "    <tr>\n",
       "      <th>3</th>\n",
       "      <td>16.0</td>\n",
       "      <td>8</td>\n",
       "      <td>304.0</td>\n",
       "      <td>150.0</td>\n",
       "      <td>3433</td>\n",
       "      <td>12.0</td>\n",
       "      <td>70</td>\n",
       "      <td>1</td>\n",
       "      <td>amc rebel sst</td>\n",
       "    </tr>\n",
       "    <tr>\n",
       "      <th>4</th>\n",
       "      <td>17.0</td>\n",
       "      <td>8</td>\n",
       "      <td>302.0</td>\n",
       "      <td>140.0</td>\n",
       "      <td>3449</td>\n",
       "      <td>10.5</td>\n",
       "      <td>70</td>\n",
       "      <td>1</td>\n",
       "      <td>ford torino</td>\n",
       "    </tr>\n",
       "  </tbody>\n",
       "</table>\n",
       "</div>"
      ],
      "text/plain": [
       "    mpg  cylinders  displacement  horsepower  weight  acceleration  \\\n",
       "0  18.0          8         307.0       130.0    3504          12.0   \n",
       "1  15.0          8         350.0       165.0    3693          11.5   \n",
       "2  18.0          8         318.0       150.0    3436          11.0   \n",
       "3  16.0          8         304.0       150.0    3433          12.0   \n",
       "4  17.0          8         302.0       140.0    3449          10.5   \n",
       "\n",
       "   model year  origin                   car name  \n",
       "0          70       1  chevrolet chevelle malibu  \n",
       "1          70       1          buick skylark 320  \n",
       "2          70       1         plymouth satellite  \n",
       "3          70       1              amc rebel sst  \n",
       "4          70       1                ford torino  "
      ]
     },
     "execution_count": 83,
     "metadata": {},
     "output_type": "execute_result"
    }
   ],
   "source": [
    "data_frame.head()"
   ]
  },
  {
   "cell_type": "code",
   "execution_count": 84,
   "id": "1c40efab",
   "metadata": {},
   "outputs": [
    {
     "data": {
      "text/html": [
       "<div>\n",
       "<style scoped>\n",
       "    .dataframe tbody tr th:only-of-type {\n",
       "        vertical-align: middle;\n",
       "    }\n",
       "\n",
       "    .dataframe tbody tr th {\n",
       "        vertical-align: top;\n",
       "    }\n",
       "\n",
       "    .dataframe thead th {\n",
       "        text-align: right;\n",
       "    }\n",
       "</style>\n",
       "<table border=\"1\" class=\"dataframe\">\n",
       "  <thead>\n",
       "    <tr style=\"text-align: right;\">\n",
       "      <th></th>\n",
       "      <th>mpg</th>\n",
       "      <th>cylinders</th>\n",
       "      <th>displacement</th>\n",
       "      <th>horsepower</th>\n",
       "      <th>weight</th>\n",
       "      <th>acceleration</th>\n",
       "      <th>model year</th>\n",
       "      <th>origin</th>\n",
       "      <th>car name</th>\n",
       "    </tr>\n",
       "  </thead>\n",
       "  <tbody>\n",
       "    <tr>\n",
       "      <th>401</th>\n",
       "      <td>27.0</td>\n",
       "      <td>4</td>\n",
       "      <td>140.0</td>\n",
       "      <td>86.0</td>\n",
       "      <td>2790</td>\n",
       "      <td>15.6</td>\n",
       "      <td>82</td>\n",
       "      <td>1</td>\n",
       "      <td>ford mustang gl</td>\n",
       "    </tr>\n",
       "    <tr>\n",
       "      <th>402</th>\n",
       "      <td>44.0</td>\n",
       "      <td>4</td>\n",
       "      <td>97.0</td>\n",
       "      <td>52.0</td>\n",
       "      <td>2130</td>\n",
       "      <td>24.6</td>\n",
       "      <td>82</td>\n",
       "      <td>2</td>\n",
       "      <td>vw pickup</td>\n",
       "    </tr>\n",
       "    <tr>\n",
       "      <th>403</th>\n",
       "      <td>32.0</td>\n",
       "      <td>4</td>\n",
       "      <td>135.0</td>\n",
       "      <td>84.0</td>\n",
       "      <td>2295</td>\n",
       "      <td>11.6</td>\n",
       "      <td>82</td>\n",
       "      <td>1</td>\n",
       "      <td>dodge rampage</td>\n",
       "    </tr>\n",
       "    <tr>\n",
       "      <th>404</th>\n",
       "      <td>28.0</td>\n",
       "      <td>4</td>\n",
       "      <td>120.0</td>\n",
       "      <td>79.0</td>\n",
       "      <td>2625</td>\n",
       "      <td>18.6</td>\n",
       "      <td>82</td>\n",
       "      <td>1</td>\n",
       "      <td>ford ranger</td>\n",
       "    </tr>\n",
       "    <tr>\n",
       "      <th>405</th>\n",
       "      <td>31.0</td>\n",
       "      <td>4</td>\n",
       "      <td>119.0</td>\n",
       "      <td>82.0</td>\n",
       "      <td>2720</td>\n",
       "      <td>19.4</td>\n",
       "      <td>82</td>\n",
       "      <td>1</td>\n",
       "      <td>chevy s-10</td>\n",
       "    </tr>\n",
       "  </tbody>\n",
       "</table>\n",
       "</div>"
      ],
      "text/plain": [
       "      mpg  cylinders  displacement  horsepower  weight  acceleration  \\\n",
       "401  27.0          4         140.0        86.0    2790          15.6   \n",
       "402  44.0          4          97.0        52.0    2130          24.6   \n",
       "403  32.0          4         135.0        84.0    2295          11.6   \n",
       "404  28.0          4         120.0        79.0    2625          18.6   \n",
       "405  31.0          4         119.0        82.0    2720          19.4   \n",
       "\n",
       "     model year  origin         car name  \n",
       "401          82       1  ford mustang gl  \n",
       "402          82       2        vw pickup  \n",
       "403          82       1    dodge rampage  \n",
       "404          82       1      ford ranger  \n",
       "405          82       1       chevy s-10  "
      ]
     },
     "execution_count": 84,
     "metadata": {},
     "output_type": "execute_result"
    }
   ],
   "source": [
    "data_frame.tail()"
   ]
  },
  {
   "cell_type": "code",
   "execution_count": 86,
   "id": "d7e628c5",
   "metadata": {},
   "outputs": [
    {
     "data": {
      "text/html": [
       "<div>\n",
       "<style scoped>\n",
       "    .dataframe tbody tr th:only-of-type {\n",
       "        vertical-align: middle;\n",
       "    }\n",
       "\n",
       "    .dataframe tbody tr th {\n",
       "        vertical-align: top;\n",
       "    }\n",
       "\n",
       "    .dataframe thead th {\n",
       "        text-align: right;\n",
       "    }\n",
       "</style>\n",
       "<table border=\"1\" class=\"dataframe\">\n",
       "  <thead>\n",
       "    <tr style=\"text-align: right;\">\n",
       "      <th></th>\n",
       "      <th>mpg</th>\n",
       "      <th>cylinders</th>\n",
       "      <th>displacement</th>\n",
       "      <th>horsepower</th>\n",
       "      <th>weight</th>\n",
       "      <th>acceleration</th>\n",
       "      <th>model year</th>\n",
       "      <th>origin</th>\n",
       "    </tr>\n",
       "  </thead>\n",
       "  <tbody>\n",
       "    <tr>\n",
       "      <th>count</th>\n",
       "      <td>398.000000</td>\n",
       "      <td>406.000000</td>\n",
       "      <td>406.000000</td>\n",
       "      <td>400.000000</td>\n",
       "      <td>406.000000</td>\n",
       "      <td>406.000000</td>\n",
       "      <td>406.000000</td>\n",
       "      <td>406.000000</td>\n",
       "    </tr>\n",
       "    <tr>\n",
       "      <th>mean</th>\n",
       "      <td>23.514573</td>\n",
       "      <td>5.475369</td>\n",
       "      <td>194.779557</td>\n",
       "      <td>105.082500</td>\n",
       "      <td>2979.413793</td>\n",
       "      <td>15.519704</td>\n",
       "      <td>75.921182</td>\n",
       "      <td>1.568966</td>\n",
       "    </tr>\n",
       "    <tr>\n",
       "      <th>std</th>\n",
       "      <td>7.815984</td>\n",
       "      <td>1.712160</td>\n",
       "      <td>104.922458</td>\n",
       "      <td>38.768779</td>\n",
       "      <td>847.004328</td>\n",
       "      <td>2.803359</td>\n",
       "      <td>3.748737</td>\n",
       "      <td>0.797479</td>\n",
       "    </tr>\n",
       "    <tr>\n",
       "      <th>min</th>\n",
       "      <td>9.000000</td>\n",
       "      <td>3.000000</td>\n",
       "      <td>68.000000</td>\n",
       "      <td>46.000000</td>\n",
       "      <td>1613.000000</td>\n",
       "      <td>8.000000</td>\n",
       "      <td>70.000000</td>\n",
       "      <td>1.000000</td>\n",
       "    </tr>\n",
       "    <tr>\n",
       "      <th>25%</th>\n",
       "      <td>17.500000</td>\n",
       "      <td>4.000000</td>\n",
       "      <td>105.000000</td>\n",
       "      <td>75.750000</td>\n",
       "      <td>2226.500000</td>\n",
       "      <td>13.700000</td>\n",
       "      <td>73.000000</td>\n",
       "      <td>1.000000</td>\n",
       "    </tr>\n",
       "    <tr>\n",
       "      <th>50%</th>\n",
       "      <td>23.000000</td>\n",
       "      <td>4.000000</td>\n",
       "      <td>151.000000</td>\n",
       "      <td>95.000000</td>\n",
       "      <td>2822.500000</td>\n",
       "      <td>15.500000</td>\n",
       "      <td>76.000000</td>\n",
       "      <td>1.000000</td>\n",
       "    </tr>\n",
       "    <tr>\n",
       "      <th>75%</th>\n",
       "      <td>29.000000</td>\n",
       "      <td>8.000000</td>\n",
       "      <td>302.000000</td>\n",
       "      <td>130.000000</td>\n",
       "      <td>3618.250000</td>\n",
       "      <td>17.175000</td>\n",
       "      <td>79.000000</td>\n",
       "      <td>2.000000</td>\n",
       "    </tr>\n",
       "    <tr>\n",
       "      <th>max</th>\n",
       "      <td>46.600000</td>\n",
       "      <td>8.000000</td>\n",
       "      <td>455.000000</td>\n",
       "      <td>230.000000</td>\n",
       "      <td>5140.000000</td>\n",
       "      <td>24.800000</td>\n",
       "      <td>82.000000</td>\n",
       "      <td>3.000000</td>\n",
       "    </tr>\n",
       "  </tbody>\n",
       "</table>\n",
       "</div>"
      ],
      "text/plain": [
       "              mpg   cylinders  displacement  horsepower       weight  \\\n",
       "count  398.000000  406.000000    406.000000  400.000000   406.000000   \n",
       "mean    23.514573    5.475369    194.779557  105.082500  2979.413793   \n",
       "std      7.815984    1.712160    104.922458   38.768779   847.004328   \n",
       "min      9.000000    3.000000     68.000000   46.000000  1613.000000   \n",
       "25%     17.500000    4.000000    105.000000   75.750000  2226.500000   \n",
       "50%     23.000000    4.000000    151.000000   95.000000  2822.500000   \n",
       "75%     29.000000    8.000000    302.000000  130.000000  3618.250000   \n",
       "max     46.600000    8.000000    455.000000  230.000000  5140.000000   \n",
       "\n",
       "       acceleration  model year      origin  \n",
       "count    406.000000  406.000000  406.000000  \n",
       "mean      15.519704   75.921182    1.568966  \n",
       "std        2.803359    3.748737    0.797479  \n",
       "min        8.000000   70.000000    1.000000  \n",
       "25%       13.700000   73.000000    1.000000  \n",
       "50%       15.500000   76.000000    1.000000  \n",
       "75%       17.175000   79.000000    2.000000  \n",
       "max       24.800000   82.000000    3.000000  "
      ]
     },
     "execution_count": 86,
     "metadata": {},
     "output_type": "execute_result"
    }
   ],
   "source": [
    "data_frame.describe()"
   ]
  },
  {
   "cell_type": "code",
   "execution_count": 87,
   "id": "e83dde00",
   "metadata": {},
   "outputs": [
    {
     "name": "stderr",
     "output_type": "stream",
     "text": [
      "/var/folders/nq/l0_9gxxj3hv1_wwwd11kyscc0000gn/T/ipykernel_2364/2597474180.py:1: FutureWarning: Dropping of nuisance columns in DataFrame reductions (with 'numeric_only=None') is deprecated; in a future version this will raise TypeError.  Select only valid columns before calling the reduction.\n",
      "  data_frame.mean()\n"
     ]
    },
    {
     "data": {
      "text/plain": [
       "mpg               23.514573\n",
       "cylinders          5.475369\n",
       "displacement     194.779557\n",
       "horsepower       105.082500\n",
       "weight          2979.413793\n",
       "acceleration      15.519704\n",
       "model year        75.921182\n",
       "origin             1.568966\n",
       "dtype: float64"
      ]
     },
     "execution_count": 87,
     "metadata": {},
     "output_type": "execute_result"
    }
   ],
   "source": [
    "data_frame.mean()"
   ]
  },
  {
   "cell_type": "code",
   "execution_count": 92,
   "id": "14fb5f5b",
   "metadata": {},
   "outputs": [
    {
     "data": {
      "text/plain": [
       "23.5"
      ]
     },
     "execution_count": 92,
     "metadata": {},
     "output_type": "execute_result"
    }
   ],
   "source": [
    "round(data_frame['mpg'].mean(),1)"
   ]
  },
  {
   "cell_type": "code",
   "execution_count": 94,
   "id": "f2177710",
   "metadata": {},
   "outputs": [
    {
     "data": {
      "text/plain": [
       "9358.8"
      ]
     },
     "execution_count": 94,
     "metadata": {},
     "output_type": "execute_result"
    }
   ],
   "source": [
    "data_frame['mpg'].sum()"
   ]
  },
  {
   "cell_type": "code",
   "execution_count": 95,
   "id": "eb5c7b7d",
   "metadata": {},
   "outputs": [
    {
     "data": {
      "text/plain": [
       "(array([13., 78., 73., 61., 54., 48., 38., 22.,  5.,  6.]),\n",
       " array([ 9.  , 12.76, 16.52, 20.28, 24.04, 27.8 , 31.56, 35.32, 39.08,\n",
       "        42.84, 46.6 ]),\n",
       " <BarContainer object of 10 artists>)"
      ]
     },
     "execution_count": 95,
     "metadata": {},
     "output_type": "execute_result"
    },
    {
     "data": {
      "image/png": "[encoded data removed]",
      "text/plain": [
       "<Figure size 432x288 with 1 Axes>"
      ]
     },
     "metadata": {
      "needs_background": "light"
     },
     "output_type": "display_data"
    }
   ],
   "source": [
    "import matplotlib.pyplot as plt\n",
    "\n",
    "plt.hist(data_frame['mpg'])"
   ]
  },
  {
   "cell_type": "markdown",
   "id": "2c06428b",
   "metadata": {},
   "source": [
    "## Ejemplo: Archivos Pickle\n",
    "\n"
   ]
  },
  {
   "cell_type": "code",
   "execution_count": 97,
   "id": "4a570dce",
   "metadata": {},
   "outputs": [],
   "source": [
    "import pickle \n",
    "\n",
    "datos_dict = {'nombre': 'Doe', 'edad': 30}"
   ]
  },
  {
   "cell_type": "code",
   "execution_count": 98,
   "id": "71e7228c",
   "metadata": {},
   "outputs": [],
   "source": [
    "\n",
    "with open('archivo.pkl','wb') as file:\n",
    "    pickle.dump(datos_dict, file)\n",
    "    "
   ]
  },
  {
   "cell_type": "code",
   "execution_count": 99,
   "id": "e7fc5319",
   "metadata": {},
   "outputs": [
    {
     "name": "stdout",
     "output_type": "stream",
     "text": [
      "Los datos:  {'nombre': 'Doe', 'edad': 30}\n"
     ]
    }
   ],
   "source": [
    "with open('archivo.pkl','rb') as file:\n",
    "    datos_info = pickle.load(file)\n",
    "    print('Los datos: ', datos_info)"
   ]
  },
  {
   "cell_type": "code",
   "execution_count": null,
   "id": "6bd0b3a8",
   "metadata": {},
   "outputs": [],
   "source": []
  }
 ],
 "metadata": {
  "kernelspec": {
   "display_name": "Python 3 (ipykernel)",
   "language": "python",
   "name": "python3"
  },
  "language_info": {
   "codemirror_mode": {
    "name": "ipython",
    "version": 3
   },
   "file_extension": ".py",
   "mimetype": "text/x-python",
   "name": "python",
   "nbconvert_exporter": "python",
   "pygments_lexer": "ipython3",
   "version": "3.9.12"
  }
 },
 "nbformat": 4,
 "nbformat_minor": 5
}
