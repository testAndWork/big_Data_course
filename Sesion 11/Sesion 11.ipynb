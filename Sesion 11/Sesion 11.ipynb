{
 "cells": [
  {
   "cell_type": "markdown",
   "id": "9c8c537c",
   "metadata": {},
   "source": [
    "# <span style=\"color:darkblue\">Módulo 1 - Introducción a la programación con Python </span>\n",
    "\n",
    "## <span style=\"color:darkblue\">Sesión 11 - Excepciones en Python</span>\n",
    "\n",
    "### <span style=\"color:darkblue\">Duración estimada:\t3 horas</span>\n"
   ]
  },
  {
   "cell_type": "markdown",
   "id": "42a8be22",
   "metadata": {},
   "source": [
    "## <span style=\"color:darkblue\"> Tabla de contenidos:</span>\n",
    " \n",
    "    1- Bienvenida\n",
    "    \n",
    "    2- Asistencia\n",
    "    \n",
    "    3- Dudas de la Clase anterior\n",
    "    \n",
    "    4- Control de Lectura\n",
    "    \n",
    "    5- Objetivo\n",
    "    \n",
    "    6- Introducción\n",
    "    \n",
    "    7- Aprendamos\n",
    "\n",
    "    \n",
    "    \n",
    "    \n",
    "    8- Aplicando Conocimientos\t\n",
    "\n",
    "    9- Retroalimentación\n",
    "    \n",
    "    10- Asistencia\n"
   ]
  },
  {
   "cell_type": "markdown",
   "id": "51ae1b4d",
   "metadata": {},
   "source": [
    "## <span style=\"color:darkred\">Objetivo:</span>\n",
    "\n",
    "Aprender el manejo de excepciones en Python para ser capaz de identificar y manejar errores en el código, lo que permitirá desarrollar programas más robustos y fiables. Al finalizar el aprendizaje, podrás escribir código que maneje excepciones de manera eficiente, y evitar que los errores causen la terminación inesperada del programa. También podrás entender los tipos de excepciones que pueden ocurrir en Python, y cómo manejarlos para mejorar la calidad y seguridad de tus programas.\n",
    "\n",
    "### <span style=\"color:darkred\">Recursos</span>\n",
    "\n",
    "•\tSesión 11 excepciones\n",
    "\n",
    "•\tComputadora con Python instalado\n",
    "\n",
    "•\tVisual Studio Code instalado\n",
    "\n",
    "\n",
    "\n",
    "\n",
    "### <span style=\"color:darkred\">Introducción:</span>\n",
    "\n",
    "La programación es una tarea compleja que implica la creación y el mantenimiento de software para realizar tareas específicas. A menudo, los programas deben interactuar con fuentes de datos externas o dispositivos, lo que puede dar lugar a situaciones inesperadas o errores. El manejo de excepciones es una técnica fundamental en la programación para manejar estos casos y garantizar que el programa continúe funcionando de manera adecuada.\n",
    "\n",
    "En términos simples, una excepción es un evento que ocurre durante la ejecución del programa que interrumpe su flujo normal. Puede ser causada por diversos factores, como entradas de datos incorrectas, fallos en la conexión de red o problemas de memoria insuficiente. Si no se manejan adecuadamente, estas excepciones pueden hacer que el programa falle o genere resultados incorrectos.\n",
    "\n",
    "El manejo de excepciones es un mecanismo que permite a los programadores anticipar y manejar las excepciones que puedan ocurrir durante la ejecución del programa. Al hacerlo, pueden asegurarse de que el programa siga funcionando correctamente y eviten la interrupción del flujo normal del programa.\n",
    "\n",
    "El bloque **try** le permite probar un bloque de código en busca de errores.\n",
    "\n",
    "El bloque **except** le permite manejar el error.\n",
    "\n",
    "El bloque **else** te permite ejecutar código cuando no hay ningún error.\n",
    "\n",
    "El bloque **finally** le permite ejecutar código, independientemente del resultado de los bloques de prueba y excepción.\n",
    "\n",
    "\n",
    "### <span style=\"color:darkred\">Aprendamos </span>\n"
   ]
  },
  {
   "cell_type": "code",
   "execution_count": 3,
   "id": "209bfc27",
   "metadata": {},
   "outputs": [
    {
     "name": "stdout",
     "output_type": "stream",
     "text": [
      "Digite numerador: 1\n",
      "Digite denominador: 0\n"
     ]
    },
    {
     "ename": "ZeroDivisionError",
     "evalue": "division by zero",
     "output_type": "error",
     "traceback": [
      "\u001b[0;31m---------------------------------------------------------------------------\u001b[0m",
      "\u001b[0;31mZeroDivisionError\u001b[0m                         Traceback (most recent call last)",
      "Input \u001b[0;32mIn [3]\u001b[0m, in \u001b[0;36m<cell line: 5>\u001b[0;34m()\u001b[0m\n\u001b[1;32m      1\u001b[0m x \u001b[38;5;241m=\u001b[39m \u001b[38;5;28mint\u001b[39m(\u001b[38;5;28minput\u001b[39m(\u001b[38;5;124m'\u001b[39m\u001b[38;5;124mDigite numerador: \u001b[39m\u001b[38;5;124m'\u001b[39m))\n\u001b[1;32m      2\u001b[0m y \u001b[38;5;241m=\u001b[39m \u001b[38;5;28mint\u001b[39m(\u001b[38;5;28minput\u001b[39m(\u001b[38;5;124m'\u001b[39m\u001b[38;5;124mDigite denominador: \u001b[39m\u001b[38;5;124m'\u001b[39m))\n\u001b[0;32m----> 5\u001b[0m \u001b[38;5;28mprint\u001b[39m(\u001b[38;5;124m'\u001b[39m\u001b[38;5;124mEl resultado es: \u001b[39m\u001b[38;5;124m'\u001b[39m,\u001b[43mx\u001b[49m\u001b[38;5;241;43m/\u001b[39;49m\u001b[43my\u001b[49m)\n",
      "\u001b[0;31mZeroDivisionError\u001b[0m: division by zero"
     ]
    }
   ],
   "source": [
    "x = int(input('Digite numerador: '))\n",
    "y = int(input('Digite denominador: '))\n",
    "\n",
    "\n",
    "print('El resultado es: ',x/y)"
   ]
  },
  {
   "cell_type": "markdown",
   "id": "0460e94a",
   "metadata": {},
   "source": [
    "### Manejo de Excepciones\n",
    "\n",
    "Cuando ocurre un error, o una excepción como lo llamamos, Python normalmente se detendrá y generará un mensaje de error. Estas excepciones se pueden manejar usando la declaración `try`:\n"
   ]
  },
  {
   "cell_type": "code",
   "execution_count": 4,
   "id": "5e778bbf",
   "metadata": {},
   "outputs": [
    {
     "name": "stdout",
     "output_type": "stream",
     "text": [
      "1\n"
     ]
    }
   ],
   "source": [
    "try: \n",
    "    print(x) # Generador o donde ocurre el error\n",
    "except:\n",
    "    print('An exception occurred') # Nos dice que tipo fue el error"
   ]
  },
  {
   "cell_type": "markdown",
   "id": "677b46cf",
   "metadata": {},
   "source": [
    "### Muchas excepciones \n",
    "\n",
    "Podemos definicuantos bloques de excepciones necesitemos."
   ]
  },
  {
   "cell_type": "code",
   "execution_count": 12,
   "id": "f10aab09",
   "metadata": {},
   "outputs": [
    {
     "name": "stdout",
     "output_type": "stream",
     "text": [
      "1\n"
     ]
    }
   ],
   "source": [
    "try:\n",
    "    print(x)\n",
    "except NameError:\n",
    "    print('Variable is not defined')\n",
    "except:\n",
    "    print('Anything else')"
   ]
  },
  {
   "cell_type": "markdown",
   "id": "ee03b2e5",
   "metadata": {},
   "source": [
    "\n",
    "<html>\n",
    "\n",
    "\n",
    "<body>\n",
    "\n",
    "<h2>Excepciones y Descripciones de Manejo de Errores</h2>\n",
    "\n",
    "<table>\n",
    "    <tr>\n",
    "        <th>Excepción</th>\n",
    "        <th>Descripción sobre el manejo del Error</th>\n",
    "    </tr>\n",
    "    <tr>\n",
    "        <td>Exception</td>\n",
    "        <td>La excepción base de la que heredan todas las demás excepciones</td>\n",
    "    </tr>\n",
    "    <tr>\n",
    "        <td>TypeError</td>\n",
    "        <td>Se produce cuando se intenta realizar una operación con un tipo de datos no compatible</td>\n",
    "    </tr>\n",
    "    <tr>\n",
    "        <td>ValueError</td>\n",
    "        <td>Se produce cuando se intenta realizar una operación con un valor no válido</td>\n",
    "    </tr>\n",
    "    <tr>\n",
    "        <td>IndexError</td>\n",
    "        <td>Se produce cuando se intenta acceder a un índice fuera de los límites de una secuencia</td>\n",
    "    </tr>\n",
    "    <tr>\n",
    "        <td>KeyError</td>\n",
    "        <td>Se produce cuando se intenta acceder a una clave inexistente en un diccionario</td>\n",
    "    </tr>\n",
    "    <tr>\n",
    "        <td>AttributeError</td>\n",
    "        <td>Se produce cuando se intenta acceder a un atributo inexistente en un objeto</td>\n",
    "    </tr>\n",
    "    <tr>\n",
    "        <td>NameError</td>\n",
    "        <td>Se produce cuando se intenta acceder a una variable no definida</td>\n",
    "    </tr>\n",
    "    <tr>\n",
    "        <td>IOError</td>\n",
    "        <td>Se produce cuando se produce un error de entrada/salida</td>\n",
    "    </tr>\n",
    "    <tr>\n",
    "        <td>ZeroDivisionError</td>\n",
    "        <td>Se produce cuando se intenta dividir un número por cero</td>\n",
    "    </tr>\n",
    "    <tr>\n",
    "        <td>SyntaxError</td>\n",
    "        <td>Se produce cuando se encuentra un error de sintaxis en el código fuente</td>\n",
    "    </tr>\n",
    "    <tr>\n",
    "        <td>IndentationError</td>\n",
    "        <td>Se produce cuando se encuentra un error de indentación en el código fuente</td>\n",
    "    </tr>\n",
    "    <tr>\n",
    "        <td>FileNotFoundError</td>\n",
    "        <td>Se produce cuando se intenta abrir un archivo que no existe</td>\n",
    "    </tr>\n",
    "    <tr>\n",
    "        <td>ModuleNotFoundError</td>\n",
    "        <td>Se produce cuando se intenta importar un módulo que no existe</td>\n",
    "    </tr>\n",
    "    <tr>\n",
    "        <td>KeyboardInterrupt</td>\n",
    "        <td>Se produce cuando se interrumpe la ejecución con la combinación de teclas Ctrl+C</td>\n",
    "    </tr>\n",
    "    <tr>\n",
    "        <td>SystemExit</td>\n",
    "        <td>Se produce cuando se llama a la función sys.exit() para salir del programa</td>\n",
    "    </tr>\n",
    "</table>\n",
    "\n",
    "</body>"
   ]
  },
  {
   "cell_type": "markdown",
   "id": "db7d1341",
   "metadata": {},
   "source": [
    "### Ejercicio 1: División Segura\n",
    "\n",
    "**Objetivo:** Crear una función que divida dos números de manera segura, manejando excepciones si es necesario."
   ]
  },
  {
   "cell_type": "code",
   "execution_count": 6,
   "id": "b95a2aa7",
   "metadata": {},
   "outputs": [
    {
     "name": "stdout",
     "output_type": "stream",
     "text": [
      "Error: No se puede dividir por cero , revisa tu denominador\n"
     ]
    }
   ],
   "source": [
    "def division_segura(numerador, denominador):\n",
    "    \n",
    "    try:\n",
    "        resultado = numerador/denominador\n",
    "        return resultado\n",
    "    \n",
    "    except ZeroDivisionError:\n",
    "        print('Error: No se puede dividir por cero , revisa tu denominador')\n",
    "    \n",
    "    except ValueError:\n",
    "        print('Error: Problema de valores ingresados')\n",
    "\n",
    "        \n",
    "x = 1\n",
    "y = 0\n",
    "\n",
    "division_segura(x,y)\n",
    "        "
   ]
  },
  {
   "cell_type": "markdown",
   "id": "e2d359b0",
   "metadata": {},
   "source": [
    "### Ejercicio 2: Conversión de Número Entero\n",
    "\n",
    "### Objetivo: \n",
    "Crear una función que convierta una cadena en un número entero, manejando excepciones si la conversión falla."
   ]
  },
  {
   "cell_type": "code",
   "execution_count": 9,
   "id": "54c0b0f1",
   "metadata": {},
   "outputs": [],
   "source": [
    "def str_2_int(cadena):\n",
    "    \n",
    "    try:\n",
    "        entero = int(cadena)\n",
    "        return entero\n",
    "    \n",
    "    except ValueError:\n",
    "        print('Error: La cadena no es valida')"
   ]
  },
  {
   "cell_type": "code",
   "execution_count": 11,
   "id": "3ba0c375",
   "metadata": {},
   "outputs": [
    {
     "name": "stdout",
     "output_type": "stream",
     "text": [
      "12345\n"
     ]
    },
    {
     "data": {
      "text/plain": [
       "int"
      ]
     },
     "execution_count": 11,
     "metadata": {},
     "output_type": "execute_result"
    }
   ],
   "source": [
    "cadena = '12345'\n",
    "int_cadena = str_2_int(cadena)\n",
    "print(int_cadena)\n",
    "type(int_cadena)"
   ]
  },
  {
   "cell_type": "code",
   "execution_count": 12,
   "id": "4190b622",
   "metadata": {},
   "outputs": [
    {
     "name": "stdout",
     "output_type": "stream",
     "text": [
      "Error: La cadena no es valida\n",
      "None\n"
     ]
    },
    {
     "data": {
      "text/plain": [
       "NoneType"
      ]
     },
     "execution_count": 12,
     "metadata": {},
     "output_type": "execute_result"
    }
   ],
   "source": [
    "cadena = '1fgh'\n",
    "int_cadena = str_2_int(cadena)\n",
    "print(int_cadena)\n",
    "type(int_cadena)"
   ]
  },
  {
   "cell_type": "markdown",
   "id": "5181617b",
   "metadata": {},
   "source": [
    "### Else en el manejo de excepciones"
   ]
  },
  {
   "cell_type": "code",
   "execution_count": null,
   "id": "7896771a",
   "metadata": {},
   "outputs": [],
   "source": [
    "try:\n",
    "    print(x)\n",
    "except:\n",
    "    print('Error message')\n",
    "else:\n",
    "    print('Error Message 2')"
   ]
  },
  {
   "cell_type": "markdown",
   "id": "742a1682",
   "metadata": {},
   "source": [
    "### Ejercicio 3: Validación de Entrada (5 min)\n",
    "\n",
    "#### Objetivo: \n",
    "Crear un programa que solicite al usuario ingresar un número positivo y maneje excepciones en caso de entrada inválida."
   ]
  },
  {
   "cell_type": "code",
   "execution_count": 23,
   "id": "8feec00f",
   "metadata": {},
   "outputs": [],
   "source": [
    "def validar_num(numero):\n",
    "    try:\n",
    "        if numero > 0:\n",
    "            print('El numero es positivo')\n",
    "            return numero\n",
    "        elif numero == 0:\n",
    "            print('El numero es cero')\n",
    "    \n",
    "    except ValueError:\n",
    "        print('Error: El número es negativo')\n",
    "    \n",
    "    except TypeError:\n",
    "        print('Error: ha ocurrido un problema')\n",
    "    \n",
    "    else: \n",
    "        print('Numero no valido')"
   ]
  },
  {
   "cell_type": "code",
   "execution_count": 24,
   "id": "4ee64267",
   "metadata": {},
   "outputs": [
    {
     "name": "stdout",
     "output_type": "stream",
     "text": [
      "Numero no valido\n"
     ]
    }
   ],
   "source": [
    "n = -3\n",
    "validar_num(n)"
   ]
  },
  {
   "cell_type": "markdown",
   "id": "41cc8618",
   "metadata": {},
   "source": [
    "### Ejemplo: Conversión de Entrada\n",
    "\n",
    "En este ejemplo, se intenta convertir una entrada del usuario a un número entero. Si la conversión es exitosa, se muestra un mensaje indicando que la conversión fue exitosa. Si ocurre un error debido a que la entrada no es un número válido, se maneja la excepción y se imprime un mensaje de error."
   ]
  },
  {
   "cell_type": "code",
   "execution_count": 40,
   "id": "2c45d957",
   "metadata": {},
   "outputs": [],
   "source": [
    "def str_2_int(cadena):\n",
    "    \n",
    "    try:\n",
    "        entero = int(cadena)\n",
    "        #return entero\n",
    "        print(entero)\n",
    "    \n",
    "    except ValueError:\n",
    "        print('Error: La cadena no es valida')\n",
    "    \n",
    "    else:\n",
    "        print('Conversion exitosa')"
   ]
  },
  {
   "cell_type": "code",
   "execution_count": 41,
   "id": "de646ae3",
   "metadata": {},
   "outputs": [
    {
     "name": "stdout",
     "output_type": "stream",
     "text": [
      "1234\n",
      "Conversion exitosa\n"
     ]
    }
   ],
   "source": [
    "cadena = '1234'\n",
    "str_2_int(cadena)"
   ]
  },
  {
   "cell_type": "markdown",
   "id": "83601c0f",
   "metadata": {},
   "source": [
    "### Finally en el manejo de Excepciones"
   ]
  },
  {
   "cell_type": "code",
   "execution_count": 63,
   "id": "14ac0218",
   "metadata": {},
   "outputs": [
    {
     "name": "stdout",
     "output_type": "stream",
     "text": [
      "1\n",
      "El bloque try except finalizo\n"
     ]
    }
   ],
   "source": [
    "try:\n",
    "    print(x)\n",
    "except:\n",
    "    print('Error 1')\n",
    "finally:\n",
    "    print('El bloque try except finalizo')"
   ]
  },
  {
   "cell_type": "code",
   "execution_count": 59,
   "id": "a31ff3de",
   "metadata": {},
   "outputs": [],
   "source": [
    "def div_finally(numerador, denominador):\n",
    "    \n",
    "    try:\n",
    "        resultado = numerador /denominador\n",
    "        return resultado\n",
    "\n",
    "    except ZeroDivisionError:\n",
    "        print('Error: No esta permitida la division por cero.')\n",
    "\n",
    "    except ValueError:\n",
    "        print('Error: Valor no permitido.')\n",
    "    \n",
    "\n",
    "    finally:\n",
    "        print('Código ejecutado con exito')\n"
   ]
  },
  {
   "cell_type": "code",
   "execution_count": 60,
   "id": "68a63f85",
   "metadata": {},
   "outputs": [
    {
     "name": "stdout",
     "output_type": "stream",
     "text": [
      "Código ejecutado con exito\n",
      "0.5\n"
     ]
    }
   ],
   "source": [
    "numerador, denominador = 1, 2\n",
    "\n",
    "result = div_finally(numerador, denominador)\n",
    "print(result)"
   ]
  },
  {
   "cell_type": "code",
   "execution_count": 61,
   "id": "f6fdf5c9",
   "metadata": {},
   "outputs": [],
   "source": [
    "def div_finally_2(numerador, denominador):\n",
    "    \n",
    "    try:\n",
    "        resultado = numerador /denominador\n",
    "\n",
    "    except ZeroDivisionError:\n",
    "        print('Error: No esta permitida la division por cero.')\n",
    "\n",
    "    except ValueError:\n",
    "        print('Error: Valor no permitido.')\n",
    "    \n",
    "    else:\n",
    "        print('Resultado',resultado)\n",
    "\n",
    "    finally:\n",
    "        print('Código ejecutado con exito')\n"
   ]
  },
  {
   "cell_type": "code",
   "execution_count": 74,
   "id": "8516e537",
   "metadata": {},
   "outputs": [
    {
     "name": "stdout",
     "output_type": "stream",
     "text": [
      "Error: No esta permitida la division por cero.\n",
      "Código ejecutado con exito\n"
     ]
    }
   ],
   "source": [
    "numerador, denominador = 1, 0\n",
    "\n",
    "result = div_finally_2(numerador, denominador)"
   ]
  },
  {
   "cell_type": "markdown",
   "id": "9cdf3422",
   "metadata": {},
   "source": [
    "#### Finally para cerrar conexion a una BD"
   ]
  },
  {
   "cell_type": "code",
   "execution_count": 64,
   "id": "d41100c3",
   "metadata": {},
   "outputs": [
    {
     "name": "stdout",
     "output_type": "stream",
     "text": [
      "Cerrando la conexión ...\n"
     ]
    }
   ],
   "source": [
    "conexion_bd = None\n",
    "\n",
    "try:\n",
    "    conexion_bd = 'Conexión abierta'\n",
    "    # aca realiza operaciones de bases de datos\n",
    "\n",
    "except Exception as err:\n",
    "    print(\"Error:\", err)\n",
    "\n",
    "finally:\n",
    "    if conexion_bd:\n",
    "        print('Cerrando la conexión ...')\n",
    "        conexion_bd = None"
   ]
  },
  {
   "cell_type": "markdown",
   "id": "57e6a4fe",
   "metadata": {},
   "source": [
    "### Levantar una excepcion con `raise`"
   ]
  },
  {
   "cell_type": "code",
   "execution_count": 66,
   "id": "da11ee92",
   "metadata": {},
   "outputs": [
    {
     "ename": "Exception",
     "evalue": "No, números negativos",
     "output_type": "error",
     "traceback": [
      "\u001b[0;31m---------------------------------------------------------------------------\u001b[0m",
      "\u001b[0;31mException\u001b[0m                                 Traceback (most recent call last)",
      "Input \u001b[0;32mIn [66]\u001b[0m, in \u001b[0;36m<cell line: 3>\u001b[0;34m()\u001b[0m\n\u001b[1;32m      1\u001b[0m x \u001b[38;5;241m=\u001b[39m\u001b[38;5;241m-\u001b[39m\u001b[38;5;241m1\u001b[39m\n\u001b[1;32m      3\u001b[0m \u001b[38;5;28;01mif\u001b[39;00m x \u001b[38;5;241m<\u001b[39m \u001b[38;5;241m0\u001b[39m:\n\u001b[0;32m----> 4\u001b[0m     \u001b[38;5;28;01mraise\u001b[39;00m \u001b[38;5;167;01mException\u001b[39;00m(\u001b[38;5;124m'\u001b[39m\u001b[38;5;124mNo, números negativos\u001b[39m\u001b[38;5;124m'\u001b[39m)\n",
      "\u001b[0;31mException\u001b[0m: No, números negativos"
     ]
    }
   ],
   "source": [
    "x =-1\n",
    "\n",
    "if x < 0:\n",
    "    raise Exception('No, números negativos')"
   ]
  },
  {
   "cell_type": "code",
   "execution_count": 73,
   "id": "e8de917c",
   "metadata": {},
   "outputs": [
    {
     "ename": "TypeError",
     "evalue": "Solo numeros enteros",
     "output_type": "error",
     "traceback": [
      "\u001b[0;31m---------------------------------------------------------------------------\u001b[0m",
      "\u001b[0;31mTypeError\u001b[0m                                 Traceback (most recent call last)",
      "Input \u001b[0;32mIn [73]\u001b[0m, in \u001b[0;36m<cell line: 3>\u001b[0;34m()\u001b[0m\n\u001b[1;32m      1\u001b[0m string \u001b[38;5;241m=\u001b[39m \u001b[38;5;124m'\u001b[39m\u001b[38;5;124mHola\u001b[39m\u001b[38;5;124m'\u001b[39m\n\u001b[1;32m      3\u001b[0m \u001b[38;5;28;01mif\u001b[39;00m \u001b[38;5;129;01mnot\u001b[39;00m \u001b[38;5;28mtype\u001b[39m(string) \u001b[38;5;129;01mis\u001b[39;00m \u001b[38;5;28mint\u001b[39m:\n\u001b[0;32m----> 4\u001b[0m     \u001b[38;5;28;01mraise\u001b[39;00m \u001b[38;5;167;01mTypeError\u001b[39;00m(\u001b[38;5;124m'\u001b[39m\u001b[38;5;124mSolo numeros enteros\u001b[39m\u001b[38;5;124m'\u001b[39m)\n",
      "\u001b[0;31mTypeError\u001b[0m: Solo numeros enteros"
     ]
    }
   ],
   "source": [
    "string = 'Hola'\n",
    "\n",
    "if not type(string) is int:\n",
    "    raise TypeError('Solo numeros enteros')"
   ]
  },
  {
   "cell_type": "code",
   "execution_count": 77,
   "id": "c2a2ef86",
   "metadata": {},
   "outputs": [
    {
     "name": "stdout",
     "output_type": "stream",
     "text": [
      "Codigo ejecutado con exito\n"
     ]
    },
    {
     "ename": "Exception",
     "evalue": "Division por cero no permitida",
     "output_type": "error",
     "traceback": [
      "\u001b[0;31m---------------------------------------------------------------------------\u001b[0m",
      "\u001b[0;31mException\u001b[0m                                 Traceback (most recent call last)",
      "Input \u001b[0;32mIn [77]\u001b[0m, in \u001b[0;36m<cell line: 3>\u001b[0;34m()\u001b[0m\n\u001b[1;32m      3\u001b[0m \u001b[38;5;28;01mtry\u001b[39;00m:\n\u001b[1;32m      4\u001b[0m     \u001b[38;5;28;01mif\u001b[39;00m denominador \u001b[38;5;241m==\u001b[39m \u001b[38;5;241m0\u001b[39m:\n\u001b[0;32m----> 5\u001b[0m         \u001b[38;5;28;01mraise\u001b[39;00m \u001b[38;5;167;01mException\u001b[39;00m(\u001b[38;5;124m'\u001b[39m\u001b[38;5;124mDivision por cero no permitida\u001b[39m\u001b[38;5;124m'\u001b[39m)\n\u001b[1;32m      7\u001b[0m     resultado \u001b[38;5;241m=\u001b[39m numerador \u001b[38;5;241m/\u001b[39m denominador\n\u001b[1;32m      9\u001b[0m \u001b[38;5;28;01mexcept\u001b[39;00m \u001b[38;5;167;01mZeroDivisionError\u001b[39;00m:\n",
      "\u001b[0;31mException\u001b[0m: Division por cero no permitida"
     ]
    }
   ],
   "source": [
    "numerador, denominador = 1,0\n",
    "\n",
    "try:\n",
    "    if denominador == 0:\n",
    "        raise Exception('Division por cero no permitida')\n",
    "    \n",
    "    resultado = numerador / denominador\n",
    "\n",
    "except ZeroDivisionError:\n",
    "    print('Error: No se puede dividir por cero')\n",
    "    \n",
    "else:\n",
    "    print('El resultado es: ', resultado)\n",
    "    \n",
    "finally: \n",
    "    print('Codigo ejecutado con exito')\n",
    "    "
   ]
  },
  {
   "cell_type": "markdown",
   "id": "88c2df18",
   "metadata": {},
   "source": [
    "### Validación de Edad (10 min)\n",
    "\n",
    "Se pide al usuario que ingrese su edad. Luego, se verifica si la edad ingresada es menor de 18 años. Si es menor, se genera la excepción personalizada `MenorDeEdadError` utilizando `raise`. En el bloque `except`, se maneja esta excepción y se imprime un mensaje de error indicando que el usuario debe ser mayor de edad. Si la edad es igual o mayor a 18, se imprime un mensaje indicando que el usuario es mayor de edad.\n",
    "\n",
    "`class MenorDeEdadError(Exception):\n",
    "    pass`"
   ]
  },
  {
   "cell_type": "code",
   "execution_count": 86,
   "id": "8dea6653",
   "metadata": {},
   "outputs": [
    {
     "name": "stdout",
     "output_type": "stream",
     "text": [
      "Digite la edad:89\n",
      "Eres mayor de edad\n",
      "Terminado\n"
     ]
    }
   ],
   "source": [
    "class MenorDeEdadError(Exception):\n",
    "    pass\n",
    "\n",
    "try:\n",
    "    edad = int(input('Digite la edad:'))\n",
    "    if edad < 18:\n",
    "        raise MenorDeEdadError('Error: No tienes la mayoria de edad')\n",
    "\n",
    "except MenorDeEdadError as err:\n",
    "    print('Error:', err)\n",
    "\n",
    "else:\n",
    "    print('Eres mayor de edad')\n",
    "    \n",
    "finally:\n",
    "    print('Terminado')\n",
    "    "
   ]
  },
  {
   "cell_type": "markdown",
   "id": "9439f5ec",
   "metadata": {},
   "source": [
    "### Tarea: Cálculo de Raíz Cuadrada con Manejo de Excepciones\n",
    "\n",
    "#### Instrucciones:\n",
    "\n",
    "1. Los estudiantes deben crear un programa en Python que permita calcular la raíz cuadrada de un número ingresado por el usuario.\n",
    "\n",
    "\n",
    "2. El programa debe manejar posibles excepciones que puedan ocurrir al calcular la raíz cuadrada de un número negativo o al ingresar un valor no numérico.\n",
    "\n",
    "\n",
    "3. Si se ingresa un número negativo, el programa debe generar una excepción personalizada llamada `RaizNegativaError` y mostrar un mensaje de error.\n",
    "\n",
    "\n",
    "4. Si se ingresa un valor no numérico, el programa debe generar una excepción personalizada llamada `ValorNoNumericoError` y mostrar un mensaje de error.\n",
    "\n",
    "\n",
    "5. Si no se generaron excepciones, el programa debe mostrar el resultado de la raíz cuadrada calculada."
   ]
  },
  {
   "cell_type": "code",
   "execution_count": 83,
   "id": "6fd49e88",
   "metadata": {},
   "outputs": [
    {
     "name": "stdout",
     "output_type": "stream",
     "text": [
      "Ingresa el numero para calcular su raiz: -2\n",
      "Error !!!: NO se permiten raices cuadradas de Números negativos\n",
      "Ejecucion finalizada\n"
     ]
    }
   ],
   "source": [
    "import math \n",
    "\n",
    "class RaizNegativaError(Exception):\n",
    "    pass\n",
    "\n",
    "class ValorNumericoError(Exception):\n",
    "    pass\n",
    "\n",
    "def raiz_sqrt(numero):\n",
    "    if numero < 0:\n",
    "        raise RaizNegativaError('NO se permiten raices cuadradas de Números negativos')\n",
    "    return math.sqrt(numero)\n",
    "\n",
    "try:\n",
    "    numero = float(input('Ingresa el numero para calcular su raiz: '))\n",
    "    resultado = raiz_sqrt(numero)\n",
    "\n",
    "except RaizNegativaError as err:\n",
    "    print('Error !!!:', err)\n",
    "\n",
    "except ValorNumericoError as er:\n",
    "    print('Error!!', er)\n",
    "    \n",
    "else:\n",
    "    print('La raiz cuadrada es: %.2f ' %(resultado))\n",
    "\n",
    "finally:\n",
    "    print('Ejecucion finalizada')\n",
    "    "
   ]
  },
  {
   "cell_type": "code",
   "execution_count": null,
   "id": "c7cd3058",
   "metadata": {},
   "outputs": [],
   "source": []
  },
  {
   "cell_type": "code",
   "execution_count": null,
   "id": "e5b78406",
   "metadata": {},
   "outputs": [],
   "source": []
  },
  {
   "cell_type": "markdown",
   "id": "205dfac2",
   "metadata": {},
   "source": [
    "#### POrque CLases y no funciones???"
   ]
  },
  {
   "cell_type": "code",
   "execution_count": null,
   "id": "aa7931cf",
   "metadata": {},
   "outputs": [],
   "source": []
  }
 ],
 "metadata": {
  "kernelspec": {
   "display_name": "Python 3 (ipykernel)",
   "language": "python",
   "name": "python3"
  },
  "language_info": {
   "codemirror_mode": {
    "name": "ipython",
    "version": 3
   },
   "file_extension": ".py",
   "mimetype": "text/x-python",
   "name": "python",
   "nbconvert_exporter": "python",
   "pygments_lexer": "ipython3",
   "version": "3.9.12"
  }
 },
 "nbformat": 4,
 "nbformat_minor": 5
}
