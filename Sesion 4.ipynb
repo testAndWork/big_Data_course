{
 "cells": [
  {
   "cell_type": "markdown",
   "id": "9c8c537c",
   "metadata": {},
   "source": [
    "\n",
    "\n",
    "# <span style=\"color:darkblue\">Módulo 1 - Introducción a la programación con Python </span>\n",
    "\n",
    "## <span style=\"color:darkblue\">Sesión 4 - Operaciones generales con Python  </span>\n",
    "\n",
    "### <span style=\"color:darkblue\">Duración estimada:\t3 horas</span>"
   ]
  },
  {
   "cell_type": "markdown",
   "id": "42a8be22",
   "metadata": {},
   "source": [
    "## <span style=\"color:darkblue\"> Tabla de contenidos:</span>\n",
    " \n",
    "    1- Bienvenida\n",
    "    \n",
    "    2- Asistencia\n",
    "    \n",
    "    3- Dudas de la Clase anterior\n",
    "    \n",
    "    4- Control de Lectura\n",
    "    \n",
    "    5- Objetivo\n",
    "    \n",
    "    6- Introducción\n",
    "    \n",
    "    7- Operadores aritméticos de Python\n",
    "    \n",
    "    8- Operadores de asignación de Python\n",
    "    \n",
    "    9- Operadores de comparación de Python\n",
    "    \n",
    "    10- Operadores lógicos de Python\n",
    "    \n",
    "    12- Operadores de identidad de Python\n",
    "    \n",
    "    13- Operadores de membresía de Python\n",
    "    \n",
    "    14- Precedencia de operadores\n",
    "    \n",
    "    15- Retroalimentación\n",
    "    \n",
    "    16- Asistencia\n"
   ]
  },
  {
   "cell_type": "markdown",
   "id": "ebeabaa1",
   "metadata": {},
   "source": [
    "### Control de lectura de la clase anterior:\n",
    "\n",
    "    https://docs.google.com/forms/d/e/1FAIpQLSeHN3WDuYLyT-3mI-di_JcfC19w4m7pzC0089jcsJPic_vuZQ/viewform?usp=sf_link"
   ]
  },
  {
   "cell_type": "code",
   "execution_count": 2,
   "id": "07a764c1",
   "metadata": {},
   "outputs": [
    {
     "name": "stdout",
     "output_type": "stream",
     "text": [
      "zyxwvutsrqponmlkjihgfedcba\n"
     ]
    }
   ],
   "source": [
    "abecedario = 'abcdefghijklmnopqrstuvwxyz'\n",
    "\n",
    "print(abecedario[::-1 ])\n"
   ]
  },
  {
   "cell_type": "markdown",
   "id": "51ae1b4d",
   "metadata": {},
   "source": [
    "## Objetivo:\n",
    "Aprender operaciones con Python puede abrir muchas posibilidades en diferentes campos de trabajo y puede ser una habilidad valiosa para cualquier persona interesada en la programación y la automatización\n",
    "\n",
    "### Recursos\n",
    "\n",
    "•\tSesión 4 de Curso de Python\n",
    "\n",
    "•\tAcceso a internet\n",
    "\n",
    "•\tPython Instalado en computadora\n",
    "\n",
    "•\tVisual Studio Code\n",
    "\n",
    "### Introducción:\n",
    "\n",
    "En programación, los operadores son símbolos especiales que realizan operaciones específicas en uno o más valores. En Python, hay varios tipos de operadores, incluyendo operadores aritméticos, operadores de asignación, operadores de comparación y operadores lógicos.\n",
    "\n",
    "Los operadores aritméticos se utilizan para realizar operaciones matemáticas básicas, como la suma, la resta, la multiplicación y la división. Los operadores de asignación se utilizan para asignar un valor a una variable. \n",
    "\n",
    "Los operadores de comparación se utilizan para comparar dos valores y devuelven un valor booleano (verdadero o falso) según la condición. Los operadores lógicos se utilizan para combinar expresiones booleanas y devolver un valor booleano.\n",
    "\n",
    "Exploraremos en detalle cada tipo de operador en Python, con ejemplos prácticos para ayudar a comprender mejor su uso. Además, discutiremos cómo se pueden utilizar los operadores en combinación con variables y condicionales para crear programas más complejos.\n",
    "\n",
    "\n",
    "### Aprendamos\n",
    "\n",
    "Los operadores se utilizan para realizar operaciones en variables y valores. En el siguiente ejemplo, usamos el operador + para sumar dos valores:"
   ]
  },
  {
   "cell_type": "code",
   "execution_count": 3,
   "id": "b08f3d43",
   "metadata": {},
   "outputs": [
    {
     "name": "stdout",
     "output_type": "stream",
     "text": [
      "15\n"
     ]
    }
   ],
   "source": [
    "print(10 + 5)"
   ]
  },
  {
   "cell_type": "code",
   "execution_count": 4,
   "id": "d829e32d",
   "metadata": {},
   "outputs": [
    {
     "data": {
      "text/plain": [
       "46"
      ]
     },
     "execution_count": 4,
     "metadata": {},
     "output_type": "execute_result"
    }
   ],
   "source": [
    "45 + 9 - 8"
   ]
  },
  {
   "cell_type": "markdown",
   "id": "0b7d03f8",
   "metadata": {},
   "source": [
    "Python divide a los operadores en los siguientes grupos:\n",
    "\n",
    "<ul> <li>Operadores aritméticos</li> <li>Operadores de Asignación</li> <li>Operadores de comparación</li> <li>Operadores lógicos</li> <li>Operadores de identidad</li> </ul>\n",
    "\n",
    "### <span style=\"color:darkred\">Operadores aritméticos de Python</span>\n",
    "\n",
    "Los operadores aritméticos se utilizan con valores numéricos para realizar operaciones matemáticas comunes:\n",
    "\n",
    "<table> <tr> <th>Operador</th> <th>Nombre</th> <th>Ejemplo de Uso</th> </tr> <tr> <td>+</td> <td>Adición</td> <td>x + y</td> </tr> <tr> <td>-</td> <td>Sustracción</td> <td>x - y</td> </tr> <tr> <td>*</td> <td>Multiplicación</td> <td>x * y</td> </tr> <tr> <td>/</td> <td>División</td> <td>x / y</td> </tr> <tr> <td>%</td> <td>Modulo</td> <td>x % y</td> </tr> <tr> <td>**</td> <td>Exponentes</td> <td>x ** y</td> </tr> <tr> <td>//</td> <td>División de Piso</td> <td>x // y</td> </tr> </table>\n",
    "\n",
    "Estos son los operadores son los que utilizamos en nuestra vida cotidiana y son una herramienta importante en programación para realizar cálculos matemáticos y manipular datos numéricos. \n",
    "\n",
    "**Ejemplo utilizando todos los operadores aritméticos: **\n",
    "\n",
    "En este ejemplo, creamos dos variables `a` y `b` con valores de 5 y 3, respectivamente. \n",
    "\n",
    "Luego, usamos diferentes operadores aritméticos para realizar operaciones matemáticas en estas variables y almacenar el resultado en la variable `c`. \n",
    "\n",
    "Finalmente, usamos la función `print()` para imprimir el valor de `c` en la consola.\n",
    "\n"
   ]
  },
  {
   "cell_type": "markdown",
   "id": "d9989023",
   "metadata": {},
   "source": [
    "### COmbinaciones de operadores Aritméticos \n",
    "\n",
    "#### Práctica:"
   ]
  },
  {
   "cell_type": "code",
   "execution_count": 17,
   "id": "c6f76aca",
   "metadata": {},
   "outputs": [],
   "source": [
    "a, b, c, d = 10, 3, 2, 9"
   ]
  },
  {
   "cell_type": "code",
   "execution_count": 12,
   "id": "fa0de10c",
   "metadata": {},
   "outputs": [
    {
     "name": "stdout",
     "output_type": "stream",
     "text": [
      "13\n"
     ]
    }
   ],
   "source": [
    "# Operador suma +\n",
    "\n",
    "suma = a + b\n",
    "\n",
    "print(c)\n",
    "\n"
   ]
  },
  {
   "cell_type": "code",
   "execution_count": 11,
   "id": "7fe1288e",
   "metadata": {},
   "outputs": [
    {
     "name": "stdout",
     "output_type": "stream",
     "text": [
      "-3\n"
     ]
    }
   ],
   "source": [
    "#Operador Resta\n",
    "\n",
    "resta = a - c\n",
    "print(resta)"
   ]
  },
  {
   "cell_type": "code",
   "execution_count": 14,
   "id": "4d32a230",
   "metadata": {},
   "outputs": [
    {
     "name": "stdout",
     "output_type": "stream",
     "text": [
      "390\n"
     ]
    }
   ],
   "source": [
    "#multiplicación *\n",
    "\n",
    "multi = a*b*c\n",
    "print(multi)"
   ]
  },
  {
   "cell_type": "code",
   "execution_count": 19,
   "id": "713dc249",
   "metadata": {
    "scrolled": true
   },
   "outputs": [
    {
     "name": "stdout",
     "output_type": "stream",
     "text": [
      "5.0\n"
     ]
    },
    {
     "data": {
      "text/plain": [
       "float"
      ]
     },
     "execution_count": 19,
     "metadata": {},
     "output_type": "execute_result"
    }
   ],
   "source": [
    "# división /\n",
    "\n",
    "div = a / c\n",
    "# 10 / 2 = 5\n",
    "print(div)\n",
    "\n",
    "type(div)"
   ]
  },
  {
   "cell_type": "code",
   "execution_count": 22,
   "id": "1c90d8ef",
   "metadata": {},
   "outputs": [
    {
     "name": "stdout",
     "output_type": "stream",
     "text": [
      "3\n"
     ]
    }
   ],
   "source": [
    "#división entera \n",
    "\n",
    "cociente = a // b\n",
    "\n",
    "print(cociente)"
   ]
  },
  {
   "cell_type": "code",
   "execution_count": 23,
   "id": "1fc41803",
   "metadata": {},
   "outputs": [
    {
     "name": "stdout",
     "output_type": "stream",
     "text": [
      "1\n"
     ]
    }
   ],
   "source": [
    "# Módulo\n",
    "\n",
    "residuo = a % b\n",
    "\n",
    "print(residuo)"
   ]
  },
  {
   "cell_type": "code",
   "execution_count": 25,
   "id": "e2733e50",
   "metadata": {},
   "outputs": [
    {
     "name": "stdout",
     "output_type": "stream",
     "text": [
      "100\n"
     ]
    },
    {
     "data": {
      "text/plain": [
       "16"
      ]
     },
     "execution_count": 25,
     "metadata": {},
     "output_type": "execute_result"
    }
   ],
   "source": [
    "# Potenciación\n",
    "\n",
    "potencia = a**2\n",
    "\n",
    "print(potencia)\n",
    "\n",
    "\n",
    "4**2"
   ]
  },
  {
   "cell_type": "markdown",
   "id": "4dc211e0",
   "metadata": {},
   "source": [
    "### Combinación de Operadores Aritméticos"
   ]
  },
  {
   "cell_type": "code",
   "execution_count": 26,
   "id": "50669102",
   "metadata": {},
   "outputs": [
    {
     "data": {
      "text/plain": [
       "20"
      ]
     },
     "execution_count": 26,
     "metadata": {},
     "output_type": "execute_result"
    }
   ],
   "source": [
    "# 1.\n",
    "\n",
    "(4 + 6 ) * 2"
   ]
  },
  {
   "cell_type": "code",
   "execution_count": 27,
   "id": "a98e28b9",
   "metadata": {},
   "outputs": [
    {
     "data": {
      "text/plain": [
       "16"
      ]
     },
     "execution_count": 27,
     "metadata": {},
     "output_type": "execute_result"
    }
   ],
   "source": [
    "4 + 6 * 2"
   ]
  },
  {
   "cell_type": "markdown",
   "id": "85e7d9db",
   "metadata": {},
   "source": [
    "$$\\frac{10^2}{5}$$"
   ]
  },
  {
   "cell_type": "code",
   "execution_count": 28,
   "id": "70980f77",
   "metadata": {},
   "outputs": [
    {
     "data": {
      "text/plain": [
       "20.0"
      ]
     },
     "execution_count": 28,
     "metadata": {},
     "output_type": "execute_result"
    }
   ],
   "source": [
    "10**2/5"
   ]
  },
  {
   "cell_type": "code",
   "execution_count": 29,
   "id": "6a551f0f",
   "metadata": {},
   "outputs": [
    {
     "data": {
      "text/plain": [
       "24.0"
      ]
     },
     "execution_count": 29,
     "metadata": {},
     "output_type": "execute_result"
    }
   ],
   "source": [
    "(15 - 3) * 4 / 2"
   ]
  },
  {
   "cell_type": "code",
   "execution_count": 32,
   "id": "64712b17",
   "metadata": {},
   "outputs": [
    {
     "data": {
      "text/plain": [
       "2"
      ]
     },
     "execution_count": 32,
     "metadata": {},
     "output_type": "execute_result"
    }
   ],
   "source": [
    "(27 % 5)**3 // 3"
   ]
  },
  {
   "cell_type": "code",
   "execution_count": 34,
   "id": "0c962e6e",
   "metadata": {},
   "outputs": [
    {
     "data": {
      "text/plain": [
       "445.0"
      ]
     },
     "execution_count": 34,
     "metadata": {},
     "output_type": "execute_result"
    }
   ],
   "source": [
    "((5 + 2) *3 ) **2 / (10 % 3) + 4"
   ]
  },
  {
   "cell_type": "markdown",
   "id": "5b876b9f",
   "metadata": {},
   "source": [
    "Evaluar la funcion en  $f(2)$, si \n",
    "$$f(x) = 2x+3x -\\frac{5}{x}$$"
   ]
  },
  {
   "cell_type": "code",
   "execution_count": 42,
   "id": "39570480",
   "metadata": {},
   "outputs": [
    {
     "data": {
      "text/plain": [
       "24.0"
      ]
     },
     "execution_count": 42,
     "metadata": {},
     "output_type": "execute_result"
    }
   ],
   "source": [
    "x = 5\n",
    "2 * x + 3*x + - (5 / x )"
   ]
  },
  {
   "cell_type": "markdown",
   "id": "70af8401",
   "metadata": {},
   "source": [
    "## Ecuación Cuadrática\n",
    "\n",
    "$$6x^2 + 9x - 8 =0$$\n",
    "\n",
    "Se resuelbe con la fórmula cuadrática:\n",
    "\n",
    "$$ x = \\frac{-b \\pm  \\sqrt{b^2 - 4ac}}{2a}$$"
   ]
  },
  {
   "cell_type": "code",
   "execution_count": 50,
   "id": "45a4f5b5",
   "metadata": {},
   "outputs": [
    {
     "name": "stdout",
     "output_type": "stream",
     "text": [
      "22.568134925574913 -76.56813492557491\n"
     ]
    }
   ],
   "source": [
    "import math\n",
    "\n",
    "a = 6\n",
    "b = 9\n",
    "c = -8\n",
    "\n",
    "discriminante = b**2 - 4*a*c\n",
    "\n",
    "x_1 = (-b + math.sqrt(discriminante))/ 2* a\n",
    "\n",
    "x_2 = (-b - math.sqrt(discriminante))/ 2* a\n",
    "\n",
    "print(x_1, x_2)\n"
   ]
  },
  {
   "cell_type": "markdown",
   "id": "a50ce0e9",
   "metadata": {},
   "source": [
    "### <span style=\"color:darkred\">Operadores de asignación de Python</span>\n",
    "\n",
    "Los operadores de asignación se utilizan comúnmente en la programación para asignar un valor a una variable. Estos operadores permiten actualizar el valor de una variable en función de una operación aritmética o lógica. Por ejemplo, el operador de asignación \"=\".\n",
    "\n",
    "\n",
    "Aquí hay algunos ejemplos de lugares comunes donde se utilizan los operadores de asignación:\n",
    "\n",
    "En la inicialización de variables: Los operadores de asignación se utilizan para inicializar el valor de una variable al principio del programa. Por ejemplo, int a = 10; asigna el valor 10 a la variable \"a\".\n",
    "\n",
    "En las expresiones aritméticas: Los operadores de asignación se pueden utilizar en combinación con operadores aritméticos, como +, -, *, /, para actualizar el valor de una variable. Por ejemplo, a += 5; suma 5 al valor actual de \"a\".\n",
    "\n",
    "En las expresiones booleanas: Los operadores de asignación también se utilizan en las expresiones booleanas para asignar valores booleanos a variables. Por ejemplo, bool b = (a > 5); asigna el valor booleano verdadero o falso a la variable \"b\" en función de la evaluación de la expresión a > 5.\n",
    "\n",
    "#### Tabla de Operadores de asignación\n",
    "\n",
    "<p style=\"font-size: 30px;\">\n",
    "<table> <tr> <th>Operador</th> <th>Ejemplo</th> <th>Equivalente</th> </tr> <tr> <td>=</td> <td>x = 5</td> <td>x = 5</td> </tr> <tr> <td>+=</td> <td>x += 3</td> <td>x = x + 3</td> </tr> <tr> <td>-=</td> <td>x -= 3</td> <td>x = x - 3</td> </tr> <tr> <td>*=</td> <td>x *= 3</td> <td>x = x * 3</td> </tr> <tr> <td>/=</td> <td>x /= 3</td> <td>x = x / 3</td> </tr> <tr> <td>%=</td> <td>x %= 3</td> <td>x = x % 3</td> </tr> <tr> <td>//=</td> <td>x //= 3</td> <td>x = x // 3</td> </tr> <tr> <td>**=</td> <td>x **= 3</td> <td>x = x ** 3</td> </tr> <tr> <td>&=</td> <td>x &= 3</td> <td>x = x & 3</td> </tr> <tr> <td>|=</td> <td>x |= 3</td> <td>x = x | 3</td> </tr> <tr> <td>^=</td> <td>x ^= 3</td> <td>x = x ^ 3</td> </tr> <tr> <td>>=</td> <td>x >>= 3</td> <td>x = x >> 3</td> </tr> <tr> <td><<=</td> <td>x <<= 3</td> <td>x = x << 3</td> </tr> </table>\n",
    "</p>\n",
    "\n",
    "### <span style=\"color:darkred\">Operadores de comparación de Python</span>\n",
    "\n",
    "Los operadores de comparación se utilizan para comparar dos valores y devolver un valor booleano (verdadero o falso) según el resultado de la comparación. \n",
    "\n",
    "A continuación, se muestran los operadores de comparación en Python:\n",
    "\n",
    "<table> <tr> <th>Operador</th> <th>Nombre</th> <th>Ejemplo</th> </tr> <tr> <td>==</td> <td>Comprueba si dos valores son iguales</td> <td>x == y</td> </tr> <tr> <td>!=</td> <td>Comprueba si dos valores son diferentes</td> <td>x != y</td> </tr> <tr> <td>></td> <td>Comprueba si el valor de la izquierda es mayor que el de la derecha</td> <td>x > y</td> </tr> <tr> <td><</td> <td>Comprueba si el valor de la izquierda es menor que el de la derecha</td> <td>x < y</td> </tr> <tr> <td>>=</td> <td>Comprueba si el valor de la izquierda es mayor o igual que el de la derecha</td> <td>x >= y</td> </tr> <tr> <td><=</td> <td>Comprueba si el valor de la izquierda es menor o igual que el de la derecha</td> <td>x <= y</td> </tr> </table>\n",
    "\n",
    "Por ejemplo, si se quisiera verificar si dos variables a y b son iguales, se puede utilizar el operador de comparación `==`:"
   ]
  },
  {
   "cell_type": "markdown",
   "id": "03716872",
   "metadata": {},
   "source": [
    "### Ejemplo de operadores de Asignación"
   ]
  },
  {
   "cell_type": "code",
   "execution_count": 95,
   "id": "c65c4bc8",
   "metadata": {},
   "outputs": [
    {
     "data": {
      "text/plain": [
       "5"
      ]
     },
     "execution_count": 95,
     "metadata": {},
     "output_type": "execute_result"
    }
   ],
   "source": [
    "x = 5\n",
    "x"
   ]
  },
  {
   "cell_type": "code",
   "execution_count": 98,
   "id": "2da8e35c",
   "metadata": {},
   "outputs": [
    {
     "name": "stdout",
     "output_type": "stream",
     "text": [
      "6\n",
      "6\n"
     ]
    }
   ],
   "source": [
    "x = 3\n",
    "x = x + 3\n",
    "print(x)\n",
    "\n",
    "x = 3\n",
    "x += 3\n",
    "print(x)"
   ]
  },
  {
   "cell_type": "code",
   "execution_count": 101,
   "id": "403aea75",
   "metadata": {},
   "outputs": [
    {
     "name": "stdout",
     "output_type": "stream",
     "text": [
      "1\n",
      "1\n"
     ]
    }
   ],
   "source": [
    "x = 5\n",
    "x = x - 4\n",
    "print(x)\n",
    "\n",
    "x = 5\n",
    "x -= 4\n",
    "print(x)"
   ]
  },
  {
   "cell_type": "code",
   "execution_count": 103,
   "id": "b0fc7963",
   "metadata": {},
   "outputs": [
    {
     "name": "stdout",
     "output_type": "stream",
     "text": [
      "12\n",
      "12\n"
     ]
    }
   ],
   "source": [
    "x = 3\n",
    "x = x * 4\n",
    "print(x)\n",
    "\n",
    "x = 3\n",
    "x *= 4\n",
    "print(x)"
   ]
  },
  {
   "cell_type": "code",
   "execution_count": 104,
   "id": "f7b33f7a",
   "metadata": {},
   "outputs": [
    {
     "name": "stdout",
     "output_type": "stream",
     "text": [
      "1.0\n",
      "1.0\n"
     ]
    }
   ],
   "source": [
    "x = 3\n",
    "x = x / 3\n",
    "print(x)\n",
    "\n",
    "x = 3\n",
    "x /= 3\n",
    "print(x)"
   ]
  },
  {
   "cell_type": "code",
   "execution_count": 105,
   "id": "8504257a",
   "metadata": {},
   "outputs": [
    {
     "name": "stdout",
     "output_type": "stream",
     "text": [
      "2\n",
      "2\n"
     ]
    }
   ],
   "source": [
    "x = 5\n",
    "x = x % 3\n",
    "print(x)\n",
    "\n",
    "x = 5\n",
    "x %= 3\n",
    "print(x)"
   ]
  },
  {
   "cell_type": "markdown",
   "id": "065d6c15",
   "metadata": {},
   "source": [
    "### <span style=\"color:darkorange\"> Práctica: (8 minutos)</span>\n",
    "1. Cálculo de Descuento:\n",
    "Escribe un programa que calcule el precio final de un producto después de aplicar un descuento. Solicita al usuario el precio original del producto y el porcentaje de descuento. Luego, muestra el precio final después del descuento.\n",
    "\n",
    "\n",
    "2. Calculadora de IMC:\n",
    "Escribe un programa que calcule el Índice de Masa Corporal (IMC) de una persona. Pide al usuario su peso en kilogramos y su altura en metros, luego calcula y muestra su IMC.\n",
    "\n",
    "\n",
    "3. Conversión de Horas y Minutos a Segundos:\n",
    "Escribe un programa que tome una cantidad de horas y minutos ingresados por el usuario y los convierta a segundos.\n",
    "\n",
    "\n",
    "4. Calculadora de Propina:\n",
    "Escribe un programa que calcule el monto total a pagar en un restaurante, incluyendo una propina. Pide al usuario el monto de la comida y el porcentaje de propina deseado. Luego, muestra el total a pagar.\n",
    "\n",
    "\n",
    "5. temperatura_celsius = float(input(\"Ingrese la temperatura en grados Celsius: \"))\n",
    "temperatura_fahrenheit = (temperatura_celsius * 9/5) + 32\n",
    "print(\"La temperatura en grados Fahrenheit es:\", temperatura_fahrenheit)\n",
    "\n",
    "6. Calculadora de División con Resto:\n",
    "Escribe un programa que tome dos números enteros ingresados por el usuario y muestre el cociente y el resto de la división entre los dos números."
   ]
  },
  {
   "cell_type": "markdown",
   "id": "b32cd6b9",
   "metadata": {},
   "source": [
    "### 1- Cálculo de Descuento: \n",
    "Escribe un programa que calcule el precio final de un producto después de aplicar un descuento.\n",
    "\n",
    "Solicita al usuario el precio original del producto y el porcentaje \n",
    "de descuento. Luego, muestra el precio final después del descuento.\n",
    "\n",
    "#### Solución:\n",
    "\n",
    "#### Variables de entrada:\n",
    "\n",
    "1. Precio Original       - `precioOriginal`\n",
    "2. Procentaje Descuento  - `porcentajeDescuento`\n",
    "\n",
    "##### Variables de Salida:\n",
    "\n",
    "1. Precio FInal  - `precioFinal`\n",
    " \n",
    "#### Variables de proceso y condiciones:\n",
    "\n",
    "**Variables de proceso:**\n",
    "\n",
    "1. Descuento = Precio Original * (Porcentaje de Descuento)/100\n",
    "\n",
    "2. precioFinal = precioOriginal - descuento\n",
    "\n",
    "**Condiciones:**\n",
    "\n",
    "Precio Original > 0\n",
    "Procentaje Descuento > 0\n"
   ]
  },
  {
   "cell_type": "code",
   "execution_count": 54,
   "id": "7ffe388d",
   "metadata": {},
   "outputs": [
    {
     "name": "stdout",
     "output_type": "stream",
     "text": [
      "Elprecio precio Final es : 140.0 y con el 30% de descuento que equivale a 60.0\n",
      "Elprecio precio Final es :  140.0 y con el 30% de descuento que equivale a: 60.0\n"
     ]
    }
   ],
   "source": [
    "#VAriables de entrada\n",
    "\n",
    "precioOriginal      = 200\n",
    "porcentajeDescuento = 30\n",
    "\n",
    "#VAriables de Proceso\n",
    "\n",
    "descuento   = precioOriginal * porcentajeDescuento / 100\n",
    "precioFinal = precioOriginal - descuento\n",
    "\n",
    "#VAriable de salido \n",
    "print(f'Elprecio precio Final es : {precioFinal} y con el 30% de descuento que equivale a {descuento}')\n",
    "\n",
    "\n",
    "print('Elprecio precio Final es : ',precioFinal, 'y con el 30% de descuento que equivale a:' ,descuento)"
   ]
  },
  {
   "cell_type": "markdown",
   "id": "ed9b6162",
   "metadata": {},
   "source": [
    "### <span style=\"color:darkred\">Operadores lógicos de Python</span>\n",
    "\n",
    "Los operadores lógicos se utilizan para combinar expresiones lógicas y producir un resultado lógico. \n",
    "\n",
    "Los operadores lógicos disponibles en Python son los siguientes:\n",
    "\n",
    "<table cellpadding=\"10\" align=\"center\"> <tr> <th align=\"center\">Operador</th> <th align=\"center\">Descripción</th> <th align=\"center\">Ejemplo</th> </tr> <tr> <td align=\"center\">and</td> <td align=\"center\">Devuelve True si ambas afirmaciones son verdaderas</td> <td align=\"center\">x < 5 and x < 10</td> </tr> <tr> <td align=\"center\">or</td> <td align=\"center\">Devuelve True si una de las afirmaciones es verdadera</td> <td align=\"center\">x < 5 or x < 4</td> </tr> <tr> <td align=\"center\">not</td> <td align=\"center\">Invierte el resultado, devuelve False si el resultado es verdadero</td> <td align=\"center\">not(x < 5 and x < 10)</td> </tr> </table>"
   ]
  },
  {
   "cell_type": "code",
   "execution_count": 57,
   "id": "53bdfd76",
   "metadata": {},
   "outputs": [
    {
     "name": "stdout",
     "output_type": "stream",
     "text": [
      "True\n",
      "True\n",
      "True\n"
     ]
    }
   ],
   "source": [
    "x, y , z = 10 , 17 , 40\n",
    "\n",
    "# 10 < 17 and 10 < 40\n",
    "\n",
    "print( x < y)\n",
    "print( x < z)\n",
    "\n",
    "print(x < y and x < z)"
   ]
  },
  {
   "cell_type": "code",
   "execution_count": 58,
   "id": "bef35d8f",
   "metadata": {},
   "outputs": [
    {
     "name": "stdout",
     "output_type": "stream",
     "text": [
      "False\n",
      "True\n",
      "False\n"
     ]
    }
   ],
   "source": [
    "x, y , z = 10 , 17 , 40\n",
    "\n",
    "# 10 < 17 and 10 < 40\n",
    "\n",
    "print( x > y)\n",
    "print( x < z)\n",
    "\n",
    "print(x > y and x < z)"
   ]
  },
  {
   "cell_type": "code",
   "execution_count": 59,
   "id": "512cfc89",
   "metadata": {},
   "outputs": [
    {
     "name": "stdout",
     "output_type": "stream",
     "text": [
      "True\n",
      "True\n",
      "True\n"
     ]
    }
   ],
   "source": [
    "print( x < y)\n",
    "print( x < z)\n",
    "\n",
    "print(x < y or x < z)"
   ]
  },
  {
   "cell_type": "code",
   "execution_count": 62,
   "id": "206ca7ca",
   "metadata": {},
   "outputs": [
    {
     "name": "stdout",
     "output_type": "stream",
     "text": [
      "False\n",
      "True\n",
      "False\n"
     ]
    }
   ],
   "source": [
    "\n",
    "print( x > y)\n",
    "print( x < z)\n",
    "\n",
    "print(x > y or x < z)"
   ]
  },
  {
   "cell_type": "code",
   "execution_count": 64,
   "id": "5d9d9eac",
   "metadata": {},
   "outputs": [
    {
     "name": "stdout",
     "output_type": "stream",
     "text": [
      "False\n",
      "True\n",
      "True\n",
      "False\n"
     ]
    }
   ],
   "source": [
    "print( x > y)\n",
    "print( not x > y)\n",
    "\n",
    "print( x < y)\n",
    "print( not x < y)"
   ]
  },
  {
   "cell_type": "markdown",
   "id": "9f2753ab",
   "metadata": {},
   "source": [
    "Además, se pueden utilizar paréntesis para agrupar expresiones lógicas y especificar el orden de evaluación. Por ejemplo:"
   ]
  },
  {
   "cell_type": "code",
   "execution_count": 68,
   "id": "a4fb5199",
   "metadata": {},
   "outputs": [
    {
     "name": "stdout",
     "output_type": "stream",
     "text": [
      "False\n",
      "True\n",
      "True\n"
     ]
    }
   ],
   "source": [
    "print( not (x < y) and y > z)\n",
    "print( not (x < y and y > z))\n",
    "print( x < y and not(y > z))"
   ]
  },
  {
   "cell_type": "markdown",
   "id": "d242ac26",
   "metadata": {},
   "source": [
    "###   <span style=\"color:darkred\">Operadores de identidad de Python</span>\n",
    "\n",
    "En Python, los operadores de identidad se utilizan para comparar si dos objetos son idénticos, es decir, si se refieren al mismo objeto en memoria. Los operadores de identidad son los siguientes:\n",
    "\n",
    "**El operador \"is\":** \n",
    "\n",
    "devuelve True si dos objetos son el mismo objeto en memoria, es decir, si tienen la misma dirección de memoria.\n",
    "\n",
    "**El operador \"is not\":** \n",
    "\n",
    "devuelve True si dos objetos no son el mismo objeto en memoria, es decir, si tienen diferentes direcciones de memoria.\n",
    "\n",
    "\n",
    "A continuación, te muestro un ejemplo sencillo:\n",
    "\n",
    "### <span style=\"color:darkblue\">Comentarios por línea</span>\n",
    "\n",
    "En este ejemplo, la variable `\"x\"` y \"y\" apuntan al mismo objeto en memoria, mientras que `\"z\"` es un objeto diferente.\n",
    "\n"
   ]
  },
  {
   "cell_type": "code",
   "execution_count": 74,
   "id": "5b0f4262",
   "metadata": {},
   "outputs": [
    {
     "name": "stdout",
     "output_type": "stream",
     "text": [
      "True\n",
      "False\n",
      "False\n",
      "True\n"
     ]
    }
   ],
   "source": [
    "x = [1, 2, 3, 4]\n",
    "\n",
    "y = x\n",
    "\n",
    "z = [1, 2, 3, 4]\n",
    "\n",
    "print(x is y)\n",
    "print(x is z)\n",
    "\n",
    "print(x is not y)\n",
    "print(x is not z)"
   ]
  },
  {
   "cell_type": "code",
   "execution_count": 76,
   "id": "1aaebd5b",
   "metadata": {},
   "outputs": [
    {
     "data": {
      "text/plain": [
       "True"
      ]
     },
     "execution_count": 76,
     "metadata": {},
     "output_type": "execute_result"
    }
   ],
   "source": [
    "str1 = 'Hello' \n",
    "str2 = 'Hello'\n",
    "\n",
    "str1 is str2\n",
    "\n",
    "str3 = str2\n",
    "\n",
    "str3 is str2"
   ]
  },
  {
   "cell_type": "code",
   "execution_count": 78,
   "id": "8e8e834e",
   "metadata": {},
   "outputs": [
    {
     "data": {
      "text/plain": [
       "True"
      ]
     },
     "execution_count": 78,
     "metadata": {},
     "output_type": "execute_result"
    }
   ],
   "source": [
    "int1 = 4\n",
    "int2 = 4\n",
    "\n",
    "int1 is int2\n"
   ]
  },
  {
   "cell_type": "code",
   "execution_count": 81,
   "id": "30c5b26c",
   "metadata": {},
   "outputs": [
    {
     "data": {
      "text/plain": [
       "True"
      ]
     },
     "execution_count": 81,
     "metadata": {},
     "output_type": "execute_result"
    }
   ],
   "source": [
    "class Persona:\n",
    "    def __init__(self, nombre):\n",
    "        self.nombre = nombre\n",
    "\n",
    "persona1 = Persona(\"Juan\")\n",
    "persona2 = Persona(\"Juan\")\n",
    "persona3 = persona1\n",
    "\n",
    "persona1 is persona2\n",
    "persona3 is persona1"
   ]
  },
  {
   "cell_type": "markdown",
   "id": "5a9020c0",
   "metadata": {},
   "source": [
    "\n",
    "### <span style=\"color:darkblue\">Comentarios por línea</span>\n",
    "\n",
    "los operadores de membresía se utilizan para comprobar si un valor se encuentra en una secuencia, como una lista, una tupla o un conjunto. \n",
    "\n",
    "Hay dos operadores de membresía en Python: **in** y **not in**.\n",
    "\n",
    "**in:** devuelve True si el valor se encuentra en la secuencia.\n",
    "**not in:** devuelve True si el valor no se encuentra en la secuencia.\n",
    "\n",
    "A continuación, te muestro un ejemplo sencillo:\n"
   ]
  },
  {
   "cell_type": "code",
   "execution_count": 84,
   "id": "a66b66ad",
   "metadata": {},
   "outputs": [
    {
     "data": {
      "text/plain": [
       "False"
      ]
     },
     "execution_count": 84,
     "metadata": {},
     "output_type": "execute_result"
    }
   ],
   "source": [
    "lista = [1, 2, 3 ,4 , 5]\n",
    "\n",
    "3 in lista\n",
    "5 not in lista\n",
    "\n",
    "7 in lista"
   ]
  },
  {
   "cell_type": "code",
   "execution_count": 91,
   "id": "e7af1b6b",
   "metadata": {},
   "outputs": [
    {
     "data": {
      "text/plain": [
       "True"
      ]
     },
     "execution_count": 91,
     "metadata": {},
     "output_type": "execute_result"
    }
   ],
   "source": [
    "estudiantes = ['Juan', 'Jose', 'Ana', 'Marría' ,'Dina', 'Diana']\n",
    "\n",
    "'Juan' in estudiantes\n",
    "\n",
    "'alfred' not in estudiantes"
   ]
  },
  {
   "cell_type": "markdown",
   "id": "c3d04b1b",
   "metadata": {},
   "source": [
    "### <span style=\"color:darkblue\">Precedencia de operadores</span>\n",
    "\n",
    "La precedencia de operadores describe el orden en que se realizan las operaciones.\n",
    "los operadores tienen una precedencia definida, lo que significa que algunos operadores se evalúan antes que otros. \n",
    "\n",
    "En caso de que haya más de un operador en una expresión, los operadores con mayor precedencia se evalúan primero.\n",
    "\n",
    "A continuación, se muestra una lista de los operadores de mayor a menor precedencia:\n",
    "\n",
    "<table align=\"center\"> <tr> <th align=\"center\">Operaciones</th> </tr> <tr> <td align=\"center\">Paréntesis:    ()</td> </tr> <tr> <td align=\"center\">Potencia:     **</td> </tr> <tr> <td align=\"center\">Negación:       - (unario)</td> </tr> <tr> <td align=\"center\">Multiplicación, División y Módulo:      *, /, %</td> </tr> <tr> <td align=\"center\">Suma y Resta:    +, -</td> </tr> <tr> <td align=\"center\">Comparación:      ==, !=, >, <, >=, <=</td> </tr> <tr> <td align=\"center\">Operadores Lógicos:      and, or, not</td> </tr> </table>\n",
    "\n",
    "    \n",
    "Es importante tener en cuenta que, en caso de que haya operadores con la misma precedencia, se evalúan de izquierda a derecha. Por ejemplo, en la expresión 8 / 4 * 2, la división y la multiplicación tienen la misma precedencia, pero la división se evalúa primero debido a la regla de evaluación de izquierda a derecha, lo que resulta en un valor de 4.\n",
    "    \n",
    "Es recomendable utilizar paréntesis en expresiones complejas para asegurar que se evalúen en el orden correcto y evitar confusiones.\n",
    "    \n",
    "**Ejemplos sobre precedencia**\n",
    "    \n",
    "A continuación, presentaré algunos ejemplos de cómo se aplica la precedencia de operadores en Python:\n",
    "    \n",
    "**Ejemplo con paréntesis:**\n",
    "    \n",
    "\n",
    "\n"
   ]
  },
  {
   "cell_type": "markdown",
   "id": "32f0c20e",
   "metadata": {},
   "source": [
    "Ejemplo con potencia y multiplicación:"
   ]
  },
  {
   "cell_type": "code",
   "execution_count": 93,
   "id": "3a929eac",
   "metadata": {},
   "outputs": [
    {
     "data": {
      "text/plain": [
       "6"
      ]
     },
     "execution_count": 93,
     "metadata": {},
     "output_type": "execute_result"
    }
   ],
   "source": [
    "x = 6\n",
    "y = 2\n",
    "\n",
    "z = (x + y) - 2\n",
    "z"
   ]
  },
  {
   "cell_type": "code",
   "execution_count": 94,
   "id": "c5f5573b",
   "metadata": {},
   "outputs": [
    {
     "data": {
      "text/plain": [
       "128"
      ]
     },
     "execution_count": 94,
     "metadata": {},
     "output_type": "execute_result"
    }
   ],
   "source": [
    "8*16"
   ]
  },
  {
   "cell_type": "markdown",
   "id": "61a5f2fb",
   "metadata": {},
   "source": [
    "Ejemplo con multiplicación, división y suma:"
   ]
  },
  {
   "cell_type": "markdown",
   "id": "1d98f19a",
   "metadata": {},
   "source": [
    "## <span style=\"color:darkblue\">Aplicando Conocimientos</span>\n",
    "\n",
    "Escriba un programa en Python que defina tres variables a, b y c con valores enteros y realice las siguientes operaciones aritméticas con ellas, teniendo en cuenta la precedencia de operadores:\n",
    "\n",
    "1. Asigne a la variable resultado1 el resultado de sumar a y multiplicar b por c.\n",
    "\n",
    "2. Asigne a la variable resultado2 el resultado de sumar a y b, y luego multiplicar el resultado por c.\n",
    "\n",
    "3. Asigne a la variable resultado3 el resultado de dividir a entre b y luego multiplicar el resultado por c.\n",
    "\n",
    "4. Asigne a la variable resultado4 el resultado de dividir a entre el producto de b y c.\n",
    "\n",
    "Asigne a la variable resultado5 el resultado de elevar a a la potencia b y luego sumar c.\n",
    "\n",
    "Asigne a la variable resultado6 el resultado de elevar a a la potencia de la suma de b y c.\n",
    "\n",
    "Luego, muestre por pantalla los valores de las variables resultado1, resultado2, resultado3, resultado4, resultado5 y resultado6.\n"
   ]
  },
  {
   "cell_type": "code",
   "execution_count": null,
   "id": "e95266b8",
   "metadata": {},
   "outputs": [],
   "source": []
  }
 ],
 "metadata": {
  "kernelspec": {
   "display_name": "Python 3 (ipykernel)",
   "language": "python",
   "name": "python3"
  },
  "language_info": {
   "codemirror_mode": {
    "name": "ipython",
    "version": 3
   },
   "file_extension": ".py",
   "mimetype": "text/x-python",
   "name": "python",
   "nbconvert_exporter": "python",
   "pygments_lexer": "ipython3",
   "version": "3.9.12"
  }
 },
 "nbformat": 4,
 "nbformat_minor": 5
}
